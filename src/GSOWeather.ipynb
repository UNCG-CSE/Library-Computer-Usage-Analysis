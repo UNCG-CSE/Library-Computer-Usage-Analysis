{
 "cells": [
  {
   "cell_type": "markdown",
   "metadata": {},
   "source": [
    "# GSOWeather\n",
    "\n",
    "## Objectives:\n",
    "### Plot any hourly weather condition over time\n",
    "\n",
    "    \n"
   ]
  },
  {
   "cell_type": "code",
   "execution_count": null,
   "metadata": {
    "collapsed": false
   },
   "outputs": [],
   "source": [
    "import numpy as np\n",
    "import pandas as pd\n",
    "import utils"
   ]
  },
  {
   "cell_type": "code",
   "execution_count": null,
   "metadata": {
    "collapsed": true
   },
   "outputs": [],
   "source": [
    "#Defining variables. hourlyColumns may be altered later, but this is what we are using for now"
   ]
  },
  {
   "cell_type": "code",
   "execution_count": null,
   "metadata": {
    "collapsed": true
   },
   "outputs": [],
   "source": [
    "hourlyColumns = ['DATE',\n",
    "'REPORTTPYE',\n",
    "'HOURLYSKYCONDITIONS',\n",
    "'HOURLYVISIBILITY',\n",
    "'HOURLYPRSENTWEATHERTYPE',\n",
    "'HOURLYWETBULBTEMPF',\n",
    "'HOURLYDRYBULBTEMPF',\n",
    "'HOURLYDewPointTempF',\n",
    "'HOURLYRelativeHumidity',\n",
    "'HOURLYWindSpeed',\n",
    "'HOURLYWindDirection',\n",
    "'HOURLYWindGustSpeed',\n",
    "'HOURLYStationPressure',\n",
    "'HOURLYPressureTendency',\n",
    "'HOURLYPressureChange',\n",
    "'HOURLYSeaLevelPressure',\n",
    "'HOURLYPrecip',\n",
    "'HOURLYAltimeterSetting']"
   ]
  },
  {
   "cell_type": "code",
   "execution_count": null,
   "metadata": {
    "collapsed": true
   },
   "outputs": [],
   "source": [
    "#Defining functions - all together so we can see them and know what we have to work with\n",
    "# without scrolling through entire program"
   ]
  },
  {
   "cell_type": "code",
   "execution_count": null,
   "metadata": {
    "collapsed": true
   },
   "outputs": [],
   "source": [
    "def getAllWeatherData():\n",
    "    return pd.read_csv(r'../data/1052640.csv',low_memory=False)"
   ]
  },
  {
   "cell_type": "code",
   "execution_count": null,
   "metadata": {
    "collapsed": true
   },
   "outputs": [],
   "source": [
    "def getHourlyWeatherData():\n",
    "    return pd.read_csv(r'../data/1052640.csv',usecols = hourlyColumns, low_memory = False)\n"
   ]
  },
  {
   "cell_type": "code",
   "execution_count": null,
   "metadata": {
    "collapsed": true
   },
   "outputs": [],
   "source": [
    "def displayWeatherData(array):\n",
    "    print array.columns.values\n"
   ]
  },
  {
   "cell_type": "code",
   "execution_count": null,
   "metadata": {
    "collapsed": true
   },
   "outputs": [],
   "source": [
    "#delaring variables from the functions - don't need to know exactly what is in them to use them\n",
    "gsoDataAll = getAllWeatherData()\n",
    "gsoDataHours = getHourlyWeatherData()"
   ]
  },
  {
   "cell_type": "code",
   "execution_count": null,
   "metadata": {
    "collapsed": false
   },
   "outputs": [],
   "source": [
    "#How to use the display method\n",
    "displayWeatherData(gsoDataAll)\n",
    "displayWeatherData(gsoDataHours)"
   ]
  },
  {
   "cell_type": "markdown",
   "metadata": {},
   "source": [
    "This is just a smaller subset of the columns. Daily and Monthly rollups were ignored. Fahrenheit temps used instead of Celcius."
   ]
  },
  {
   "cell_type": "code",
   "execution_count": null,
   "metadata": {
    "collapsed": true
   },
   "outputs": [],
   "source": [
    "\n",
    "gsoData = getHourlyWeatherData()"
   ]
  },
  {
   "cell_type": "markdown",
   "metadata": {},
   "source": [
    "Verifying the columns."
   ]
  },
  {
   "cell_type": "code",
   "execution_count": null,
   "metadata": {
    "collapsed": false
   },
   "outputs": [],
   "source": [
    "\n",
    "gsoData.info()"
   ]
  },
  {
   "cell_type": "markdown",
   "metadata": {},
   "source": [
    "The spelling here is frustrating."
   ]
  },
  {
   "cell_type": "code",
   "execution_count": null,
   "metadata": {
    "collapsed": true,
    "scrolled": false
   },
   "outputs": [],
   "source": [
    "\n",
    "gsoData.rename(columns = {'REPORTTPYE':'REPORTTYPE'}, inplace=True)"
   ]
  },
  {
   "cell_type": "markdown",
   "metadata": {},
   "source": [
    "These seem to be start of day values:"
   ]
  },
  {
   "cell_type": "code",
   "execution_count": null,
   "metadata": {
    "collapsed": false
   },
   "outputs": [],
   "source": [
    "\n",
    "gsoData[gsoData.REPORTTYPE == 'SOD']\n",
    "    "
   ]
  },
  {
   "cell_type": "markdown",
   "metadata": {},
   "source": [
    "Dropping **S**tart **O**f **D**ay"
   ]
  },
  {
   "cell_type": "code",
   "execution_count": null,
   "metadata": {
    "collapsed": true
   },
   "outputs": [],
   "source": [
    "gsoDataHourly = gsoData[gsoData.REPORTTYPE != 'SOD']"
   ]
  },
  {
   "cell_type": "code",
   "execution_count": null,
   "metadata": {
    "collapsed": false
   },
   "outputs": [],
   "source": [
    "gsoDataHourly.REPORTTYPE.unique()"
   ]
  },
  {
   "cell_type": "code",
   "execution_count": null,
   "metadata": {
    "collapsed": true
   },
   "outputs": [],
   "source": [
    "gsoDataHourly.set_index(gsoDataHourly['DATE'].apply(pd.to_datetime),inplace=True)"
   ]
  },
  {
   "cell_type": "code",
   "execution_count": null,
   "metadata": {
    "collapsed": true
   },
   "outputs": [],
   "source": [
    "gsoDataHourly = gsoDataHourly.drop('DATE',axis=1)"
   ]
  },
  {
   "cell_type": "code",
   "execution_count": null,
   "metadata": {
    "collapsed": false
   },
   "outputs": [],
   "source": [
    "gsoDataHourly.info()"
   ]
  },
  {
   "cell_type": "markdown",
   "metadata": {},
   "source": [
    "ehhh... just for the heck of it..."
   ]
  },
  {
   "cell_type": "code",
   "execution_count": null,
   "metadata": {
    "collapsed": true
   },
   "outputs": [],
   "source": [
    "import matplotlib.pyplot as plt\n",
    "%matplotlib inline"
   ]
  },
  {
   "cell_type": "code",
   "execution_count": null,
   "metadata": {
    "collapsed": false
   },
   "outputs": [],
   "source": [
    "dateTime = gsoDataHourly.index.values\n",
    "tempWetBulbInF = gsoDataHourly.loc[:,'HOURLYWETBULBTEMPF'].values\n",
    "tempDryBulbInF = pd.to_numeric(gsoDataHourly.loc[:,'HOURLYDRYBULBTEMPF'].values,errors='coerce')\n",
    "\n",
    "plot_these = [ (tempWetBulbInF, 'Wet Bulb (F)')\n",
    "             , (tempDryBulbInF, 'Dry Bulb (F)') ]\n",
    "\n",
    "temp_chart = utils.pretty_plot(dateTime, *plot_these, figsize=(16,8), title='HourlyBulbTemp in degrees F')"
   ]
  }
 ],
 "metadata": {
  "kernelspec": {
   "display_name": "Python 2",
   "language": "python",
   "name": "python2"
  },
  "language_info": {
   "codemirror_mode": {
    "name": "ipython",
    "version": 2
   },
   "file_extension": ".py",
   "mimetype": "text/x-python",
   "name": "python",
   "nbconvert_exporter": "python",
   "pygments_lexer": "ipython2",
   "version": "2.7.13"
  }
 },
 "nbformat": 4,
 "nbformat_minor": 2
}
