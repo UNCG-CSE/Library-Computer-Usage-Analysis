{
 "cells": [
  {
   "cell_type": "code",
   "execution_count": 1,
   "metadata": {
    "collapsed": true
   },
   "outputs": [],
   "source": [
    "import numpy as np\n",
    "import pandas as pd\n",
    "import matplotlib as mpl\n",
    "import matplotlib.pyplot as plt\n",
    "import gzip\n",
    "import pickle"
   ]
  },
  {
   "cell_type": "code",
   "execution_count": 2,
   "metadata": {
    "collapsed": true
   },
   "outputs": [],
   "source": [
    "import scipy as sp\n"
   ]
  },
  {
   "cell_type": "code",
   "execution_count": 3,
   "metadata": {
    "collapsed": true
   },
   "outputs": [],
   "source": [
    "with gzip.open(r'../data/LibData.pkl.gz') as f:\n",
    "    utilization = pickle.load(f)"
   ]
  },
  {
   "cell_type": "code",
   "execution_count": 4,
   "metadata": {
    "collapsed": true
   },
   "outputs": [],
   "source": [
    "attData = pd.read_csv(r'../data/computerAttributes.csv',header=0)"
   ]
  },
  {
   "cell_type": "code",
   "execution_count": 5,
   "metadata": {},
   "outputs": [
    {
     "data": {
      "text/html": [
       "<div>\n",
       "<style scoped>\n",
       "    .dataframe tbody tr th:only-of-type {\n",
       "        vertical-align: middle;\n",
       "    }\n",
       "\n",
       "    .dataframe tbody tr th {\n",
       "        vertical-align: top;\n",
       "    }\n",
       "\n",
       "    .dataframe thead th {\n",
       "        text-align: right;\n",
       "    }\n",
       "</style>\n",
       "<table border=\"1\" class=\"dataframe\">\n",
       "  <thead>\n",
       "    <tr style=\"text-align: right;\">\n",
       "      <th></th>\n",
       "      <th>dbID</th>\n",
       "      <th>computerName</th>\n",
       "      <th>requiresLogon</th>\n",
       "      <th>isDesktop</th>\n",
       "      <th>inJackson</th>\n",
       "      <th>location</th>\n",
       "      <th>is245</th>\n",
       "      <th>floor</th>\n",
       "      <th>numMonitors</th>\n",
       "      <th>largeMonitor</th>\n",
       "      <th>adjacentWindow</th>\n",
       "      <th>collaborativeSpace</th>\n",
       "      <th>roomIsolated</th>\n",
       "      <th>inQuietArea</th>\n",
       "    </tr>\n",
       "  </thead>\n",
       "  <tbody>\n",
       "    <tr>\n",
       "      <th>0</th>\n",
       "      <td>187</td>\n",
       "      <td>BL001</td>\n",
       "      <td>1</td>\n",
       "      <td>1</td>\n",
       "      <td>1</td>\n",
       "      <td>Tower</td>\n",
       "      <td>1</td>\n",
       "      <td>0</td>\n",
       "      <td>1.0</td>\n",
       "      <td>0.0</td>\n",
       "      <td>0.0</td>\n",
       "      <td>0.0</td>\n",
       "      <td>0.0</td>\n",
       "      <td>0.0</td>\n",
       "    </tr>\n",
       "    <tr>\n",
       "      <th>1</th>\n",
       "      <td>188</td>\n",
       "      <td>BL002</td>\n",
       "      <td>1</td>\n",
       "      <td>1</td>\n",
       "      <td>1</td>\n",
       "      <td>Tower</td>\n",
       "      <td>1</td>\n",
       "      <td>0</td>\n",
       "      <td>1.0</td>\n",
       "      <td>0.0</td>\n",
       "      <td>0.0</td>\n",
       "      <td>0.0</td>\n",
       "      <td>0.0</td>\n",
       "      <td>0.0</td>\n",
       "    </tr>\n",
       "    <tr>\n",
       "      <th>2</th>\n",
       "      <td>105</td>\n",
       "      <td>CITI001</td>\n",
       "      <td>1</td>\n",
       "      <td>1</td>\n",
       "      <td>1</td>\n",
       "      <td>CITI Lab</td>\n",
       "      <td>1</td>\n",
       "      <td>1</td>\n",
       "      <td>1.0</td>\n",
       "      <td>0.0</td>\n",
       "      <td>1.0</td>\n",
       "      <td>0.0</td>\n",
       "      <td>0.0</td>\n",
       "      <td>0.0</td>\n",
       "    </tr>\n",
       "    <tr>\n",
       "      <th>3</th>\n",
       "      <td>106</td>\n",
       "      <td>CITI002</td>\n",
       "      <td>1</td>\n",
       "      <td>1</td>\n",
       "      <td>1</td>\n",
       "      <td>CITI Lab</td>\n",
       "      <td>1</td>\n",
       "      <td>1</td>\n",
       "      <td>1.0</td>\n",
       "      <td>0.0</td>\n",
       "      <td>0.0</td>\n",
       "      <td>0.0</td>\n",
       "      <td>0.0</td>\n",
       "      <td>0.0</td>\n",
       "    </tr>\n",
       "    <tr>\n",
       "      <th>4</th>\n",
       "      <td>107</td>\n",
       "      <td>CITI003</td>\n",
       "      <td>1</td>\n",
       "      <td>1</td>\n",
       "      <td>1</td>\n",
       "      <td>CITI Lab</td>\n",
       "      <td>1</td>\n",
       "      <td>1</td>\n",
       "      <td>1.0</td>\n",
       "      <td>0.0</td>\n",
       "      <td>0.0</td>\n",
       "      <td>0.0</td>\n",
       "      <td>0.0</td>\n",
       "      <td>0.0</td>\n",
       "    </tr>\n",
       "  </tbody>\n",
       "</table>\n",
       "</div>"
      ],
      "text/plain": [
       "   dbID computerName  requiresLogon  isDesktop  inJackson  location  is245  \\\n",
       "0   187        BL001              1          1          1     Tower      1   \n",
       "1   188        BL002              1          1          1     Tower      1   \n",
       "2   105      CITI001              1          1          1  CITI Lab      1   \n",
       "3   106      CITI002              1          1          1  CITI Lab      1   \n",
       "4   107      CITI003              1          1          1  CITI Lab      1   \n",
       "\n",
       "  floor  numMonitors  largeMonitor  adjacentWindow  collaborativeSpace  \\\n",
       "0     0          1.0           0.0             0.0                 0.0   \n",
       "1     0          1.0           0.0             0.0                 0.0   \n",
       "2     1          1.0           0.0             1.0                 0.0   \n",
       "3     1          1.0           0.0             0.0                 0.0   \n",
       "4     1          1.0           0.0             0.0                 0.0   \n",
       "\n",
       "   roomIsolated  inQuietArea  \n",
       "0           0.0          0.0  \n",
       "1           0.0          0.0  \n",
       "2           0.0          0.0  \n",
       "3           0.0          0.0  \n",
       "4           0.0          0.0  "
      ]
     },
     "execution_count": 5,
     "metadata": {},
     "output_type": "execute_result"
    }
   ],
   "source": [
    "attData.head()"
   ]
  },
  {
   "cell_type": "code",
   "execution_count": 6,
   "metadata": {},
   "outputs": [
    {
     "data": {
      "text/html": [
       "<div>\n",
       "<style scoped>\n",
       "    .dataframe tbody tr th:only-of-type {\n",
       "        vertical-align: middle;\n",
       "    }\n",
       "\n",
       "    .dataframe tbody tr th {\n",
       "        vertical-align: top;\n",
       "    }\n",
       "\n",
       "    .dataframe thead th {\n",
       "        text-align: right;\n",
       "    }\n",
       "</style>\n",
       "<table border=\"1\" class=\"dataframe\">\n",
       "  <thead>\n",
       "    <tr style=\"text-align: right;\">\n",
       "      <th></th>\n",
       "      <th>dbID</th>\n",
       "      <th>computerName</th>\n",
       "      <th>requiresLogon</th>\n",
       "      <th>isDesktop</th>\n",
       "      <th>inJackson</th>\n",
       "      <th>location</th>\n",
       "      <th>is245</th>\n",
       "      <th>floor</th>\n",
       "      <th>numMonitors</th>\n",
       "      <th>largeMonitor</th>\n",
       "      <th>adjacentWindow</th>\n",
       "      <th>collaborativeSpace</th>\n",
       "      <th>roomIsolated</th>\n",
       "      <th>inQuietArea</th>\n",
       "    </tr>\n",
       "    <tr>\n",
       "      <th>computerName</th>\n",
       "      <th></th>\n",
       "      <th></th>\n",
       "      <th></th>\n",
       "      <th></th>\n",
       "      <th></th>\n",
       "      <th></th>\n",
       "      <th></th>\n",
       "      <th></th>\n",
       "      <th></th>\n",
       "      <th></th>\n",
       "      <th></th>\n",
       "      <th></th>\n",
       "      <th></th>\n",
       "      <th></th>\n",
       "    </tr>\n",
       "  </thead>\n",
       "  <tbody>\n",
       "    <tr>\n",
       "      <th>BL001</th>\n",
       "      <td>187</td>\n",
       "      <td>BL001</td>\n",
       "      <td>1</td>\n",
       "      <td>1</td>\n",
       "      <td>1</td>\n",
       "      <td>Tower</td>\n",
       "      <td>1</td>\n",
       "      <td>0</td>\n",
       "      <td>1.0</td>\n",
       "      <td>0.0</td>\n",
       "      <td>0.0</td>\n",
       "      <td>0.0</td>\n",
       "      <td>0.0</td>\n",
       "      <td>0.0</td>\n",
       "    </tr>\n",
       "    <tr>\n",
       "      <th>BL002</th>\n",
       "      <td>188</td>\n",
       "      <td>BL002</td>\n",
       "      <td>1</td>\n",
       "      <td>1</td>\n",
       "      <td>1</td>\n",
       "      <td>Tower</td>\n",
       "      <td>1</td>\n",
       "      <td>0</td>\n",
       "      <td>1.0</td>\n",
       "      <td>0.0</td>\n",
       "      <td>0.0</td>\n",
       "      <td>0.0</td>\n",
       "      <td>0.0</td>\n",
       "      <td>0.0</td>\n",
       "    </tr>\n",
       "    <tr>\n",
       "      <th>CITI001</th>\n",
       "      <td>105</td>\n",
       "      <td>CITI001</td>\n",
       "      <td>1</td>\n",
       "      <td>1</td>\n",
       "      <td>1</td>\n",
       "      <td>CITI Lab</td>\n",
       "      <td>1</td>\n",
       "      <td>1</td>\n",
       "      <td>1.0</td>\n",
       "      <td>0.0</td>\n",
       "      <td>1.0</td>\n",
       "      <td>0.0</td>\n",
       "      <td>0.0</td>\n",
       "      <td>0.0</td>\n",
       "    </tr>\n",
       "    <tr>\n",
       "      <th>CITI002</th>\n",
       "      <td>106</td>\n",
       "      <td>CITI002</td>\n",
       "      <td>1</td>\n",
       "      <td>1</td>\n",
       "      <td>1</td>\n",
       "      <td>CITI Lab</td>\n",
       "      <td>1</td>\n",
       "      <td>1</td>\n",
       "      <td>1.0</td>\n",
       "      <td>0.0</td>\n",
       "      <td>0.0</td>\n",
       "      <td>0.0</td>\n",
       "      <td>0.0</td>\n",
       "      <td>0.0</td>\n",
       "    </tr>\n",
       "    <tr>\n",
       "      <th>CITI003</th>\n",
       "      <td>107</td>\n",
       "      <td>CITI003</td>\n",
       "      <td>1</td>\n",
       "      <td>1</td>\n",
       "      <td>1</td>\n",
       "      <td>CITI Lab</td>\n",
       "      <td>1</td>\n",
       "      <td>1</td>\n",
       "      <td>1.0</td>\n",
       "      <td>0.0</td>\n",
       "      <td>0.0</td>\n",
       "      <td>0.0</td>\n",
       "      <td>0.0</td>\n",
       "      <td>0.0</td>\n",
       "    </tr>\n",
       "  </tbody>\n",
       "</table>\n",
       "</div>"
      ],
      "text/plain": [
       "              dbID computerName  requiresLogon  isDesktop  inJackson  \\\n",
       "computerName                                                           \n",
       "BL001          187        BL001              1          1          1   \n",
       "BL002          188        BL002              1          1          1   \n",
       "CITI001        105      CITI001              1          1          1   \n",
       "CITI002        106      CITI002              1          1          1   \n",
       "CITI003        107      CITI003              1          1          1   \n",
       "\n",
       "              location  is245 floor  numMonitors  largeMonitor  \\\n",
       "computerName                                                     \n",
       "BL001            Tower      1     0          1.0           0.0   \n",
       "BL002            Tower      1     0          1.0           0.0   \n",
       "CITI001       CITI Lab      1     1          1.0           0.0   \n",
       "CITI002       CITI Lab      1     1          1.0           0.0   \n",
       "CITI003       CITI Lab      1     1          1.0           0.0   \n",
       "\n",
       "              adjacentWindow  collaborativeSpace  roomIsolated  inQuietArea  \n",
       "computerName                                                                 \n",
       "BL001                    0.0                 0.0           0.0          0.0  \n",
       "BL002                    0.0                 0.0           0.0          0.0  \n",
       "CITI001                  1.0                 0.0           0.0          0.0  \n",
       "CITI002                  0.0                 0.0           0.0          0.0  \n",
       "CITI003                  0.0                 0.0           0.0          0.0  "
      ]
     },
     "execution_count": 6,
     "metadata": {},
     "output_type": "execute_result"
    }
   ],
   "source": [
    "attData.index = attData['computerName']\n",
    "attData.head()"
   ]
  },
  {
   "cell_type": "code",
   "execution_count": 7,
   "metadata": {},
   "outputs": [
    {
     "data": {
      "text/html": [
       "<div>\n",
       "<style scoped>\n",
       "    .dataframe tbody tr th:only-of-type {\n",
       "        vertical-align: middle;\n",
       "    }\n",
       "\n",
       "    .dataframe tbody tr th {\n",
       "        vertical-align: top;\n",
       "    }\n",
       "\n",
       "    .dataframe thead th {\n",
       "        text-align: right;\n",
       "    }\n",
       "</style>\n",
       "<table border=\"1\" class=\"dataframe\">\n",
       "  <thead>\n",
       "    <tr style=\"text-align: right;\">\n",
       "      <th></th>\n",
       "      <th>BL001</th>\n",
       "      <th>BL002</th>\n",
       "      <th>CITI001</th>\n",
       "      <th>CITI002</th>\n",
       "      <th>CITI003</th>\n",
       "      <th>CITI004</th>\n",
       "      <th>CITI005</th>\n",
       "      <th>CITI006</th>\n",
       "      <th>CITI007</th>\n",
       "      <th>CITI008</th>\n",
       "      <th>...</th>\n",
       "      <th>TL5002</th>\n",
       "      <th>TL6001</th>\n",
       "      <th>TL6002</th>\n",
       "      <th>TL7001</th>\n",
       "      <th>TL702</th>\n",
       "      <th>TL801</th>\n",
       "      <th>TL802</th>\n",
       "      <th>TL90003</th>\n",
       "      <th>TL901</th>\n",
       "      <th>TL902</th>\n",
       "    </tr>\n",
       "  </thead>\n",
       "  <tbody>\n",
       "    <tr>\n",
       "      <th>2010-03-24 12:00:00</th>\n",
       "      <td>0.0</td>\n",
       "      <td>0.0</td>\n",
       "      <td>0.0</td>\n",
       "      <td>0.0</td>\n",
       "      <td>0.0</td>\n",
       "      <td>0.0</td>\n",
       "      <td>0.0</td>\n",
       "      <td>0.0</td>\n",
       "      <td>0.0</td>\n",
       "      <td>0.0</td>\n",
       "      <td>...</td>\n",
       "      <td>0.0</td>\n",
       "      <td>0.0</td>\n",
       "      <td>0.0</td>\n",
       "      <td>0.0</td>\n",
       "      <td>0.0</td>\n",
       "      <td>0.0</td>\n",
       "      <td>0.0</td>\n",
       "      <td>0.0</td>\n",
       "      <td>0.0</td>\n",
       "      <td>0.0</td>\n",
       "    </tr>\n",
       "    <tr>\n",
       "      <th>2010-03-24 13:00:00</th>\n",
       "      <td>0.0</td>\n",
       "      <td>0.0</td>\n",
       "      <td>0.0</td>\n",
       "      <td>0.0</td>\n",
       "      <td>0.0</td>\n",
       "      <td>0.0</td>\n",
       "      <td>0.0</td>\n",
       "      <td>0.0</td>\n",
       "      <td>0.0</td>\n",
       "      <td>0.0</td>\n",
       "      <td>...</td>\n",
       "      <td>0.0</td>\n",
       "      <td>0.0</td>\n",
       "      <td>0.0</td>\n",
       "      <td>0.0</td>\n",
       "      <td>0.0</td>\n",
       "      <td>0.0</td>\n",
       "      <td>0.0</td>\n",
       "      <td>0.0</td>\n",
       "      <td>0.0</td>\n",
       "      <td>0.0</td>\n",
       "    </tr>\n",
       "    <tr>\n",
       "      <th>2010-03-24 14:00:00</th>\n",
       "      <td>0.0</td>\n",
       "      <td>0.0</td>\n",
       "      <td>0.0</td>\n",
       "      <td>0.0</td>\n",
       "      <td>0.0</td>\n",
       "      <td>0.0</td>\n",
       "      <td>0.0</td>\n",
       "      <td>0.0</td>\n",
       "      <td>0.0</td>\n",
       "      <td>0.0</td>\n",
       "      <td>...</td>\n",
       "      <td>0.0</td>\n",
       "      <td>0.0</td>\n",
       "      <td>0.0</td>\n",
       "      <td>0.0</td>\n",
       "      <td>0.0</td>\n",
       "      <td>0.0</td>\n",
       "      <td>0.0</td>\n",
       "      <td>0.0</td>\n",
       "      <td>0.0</td>\n",
       "      <td>0.0</td>\n",
       "    </tr>\n",
       "    <tr>\n",
       "      <th>2010-03-24 15:00:00</th>\n",
       "      <td>0.0</td>\n",
       "      <td>0.0</td>\n",
       "      <td>0.0</td>\n",
       "      <td>0.0</td>\n",
       "      <td>0.0</td>\n",
       "      <td>0.0</td>\n",
       "      <td>0.0</td>\n",
       "      <td>0.0</td>\n",
       "      <td>0.0</td>\n",
       "      <td>0.0</td>\n",
       "      <td>...</td>\n",
       "      <td>0.0</td>\n",
       "      <td>0.0</td>\n",
       "      <td>0.0</td>\n",
       "      <td>0.0</td>\n",
       "      <td>0.0</td>\n",
       "      <td>0.0</td>\n",
       "      <td>0.0</td>\n",
       "      <td>0.0</td>\n",
       "      <td>0.0</td>\n",
       "      <td>0.0</td>\n",
       "    </tr>\n",
       "    <tr>\n",
       "      <th>2010-03-24 16:00:00</th>\n",
       "      <td>0.0</td>\n",
       "      <td>0.0</td>\n",
       "      <td>0.0</td>\n",
       "      <td>0.0</td>\n",
       "      <td>0.0</td>\n",
       "      <td>0.0</td>\n",
       "      <td>0.0</td>\n",
       "      <td>0.0</td>\n",
       "      <td>0.0</td>\n",
       "      <td>0.0</td>\n",
       "      <td>...</td>\n",
       "      <td>0.0</td>\n",
       "      <td>0.0</td>\n",
       "      <td>0.0</td>\n",
       "      <td>0.0</td>\n",
       "      <td>0.0</td>\n",
       "      <td>0.0</td>\n",
       "      <td>0.0</td>\n",
       "      <td>0.0</td>\n",
       "      <td>0.0</td>\n",
       "      <td>0.0</td>\n",
       "    </tr>\n",
       "  </tbody>\n",
       "</table>\n",
       "<p>5 rows × 312 columns</p>\n",
       "</div>"
      ],
      "text/plain": [
       "                     BL001  BL002  CITI001  CITI002  CITI003  CITI004  \\\n",
       "2010-03-24 12:00:00    0.0    0.0      0.0      0.0      0.0      0.0   \n",
       "2010-03-24 13:00:00    0.0    0.0      0.0      0.0      0.0      0.0   \n",
       "2010-03-24 14:00:00    0.0    0.0      0.0      0.0      0.0      0.0   \n",
       "2010-03-24 15:00:00    0.0    0.0      0.0      0.0      0.0      0.0   \n",
       "2010-03-24 16:00:00    0.0    0.0      0.0      0.0      0.0      0.0   \n",
       "\n",
       "                     CITI005  CITI006  CITI007  CITI008  ...    TL5002  \\\n",
       "2010-03-24 12:00:00      0.0      0.0      0.0      0.0  ...       0.0   \n",
       "2010-03-24 13:00:00      0.0      0.0      0.0      0.0  ...       0.0   \n",
       "2010-03-24 14:00:00      0.0      0.0      0.0      0.0  ...       0.0   \n",
       "2010-03-24 15:00:00      0.0      0.0      0.0      0.0  ...       0.0   \n",
       "2010-03-24 16:00:00      0.0      0.0      0.0      0.0  ...       0.0   \n",
       "\n",
       "                     TL6001  TL6002  TL7001  TL702  TL801  TL802  TL90003  \\\n",
       "2010-03-24 12:00:00     0.0     0.0     0.0    0.0    0.0    0.0      0.0   \n",
       "2010-03-24 13:00:00     0.0     0.0     0.0    0.0    0.0    0.0      0.0   \n",
       "2010-03-24 14:00:00     0.0     0.0     0.0    0.0    0.0    0.0      0.0   \n",
       "2010-03-24 15:00:00     0.0     0.0     0.0    0.0    0.0    0.0      0.0   \n",
       "2010-03-24 16:00:00     0.0     0.0     0.0    0.0    0.0    0.0      0.0   \n",
       "\n",
       "                     TL901  TL902  \n",
       "2010-03-24 12:00:00    0.0    0.0  \n",
       "2010-03-24 13:00:00    0.0    0.0  \n",
       "2010-03-24 14:00:00    0.0    0.0  \n",
       "2010-03-24 15:00:00    0.0    0.0  \n",
       "2010-03-24 16:00:00    0.0    0.0  \n",
       "\n",
       "[5 rows x 312 columns]"
      ]
     },
     "execution_count": 7,
     "metadata": {},
     "output_type": "execute_result"
    }
   ],
   "source": [
    "# Looking at the data with just the sum of the usages\n",
    "\n",
    "utilization.head()"
   ]
  },
  {
   "cell_type": "markdown",
   "metadata": {},
   "source": [
    "# Testing the last 3 years (Fall 14 - Spring 17)"
   ]
  },
  {
   "cell_type": "code",
   "execution_count": 8,
   "metadata": {
    "collapsed": true
   },
   "outputs": [],
   "source": [
    "#Split into semesters\n",
    "\n",
    "#spring2010 = utilization[(utilization.index >= '2010-01-19') & (utilization.index < '2010-05-12')]\n",
    "#summer2010 = utilization[(utilization.index >= '2010-05-17') & (utilization.index < '2010-08-09')]\n",
    "#fall2010 = utilization[(utilization.index >= '2010-08-23') & (utilization.index < '2010-12-15')]\n",
    "\n",
    "#spring2011 = utilization[(utilization.index >= '2011-01-10') & (utilization.index < '2011-05-04')]\n",
    "#summer2011 = utilization[(utilization.index >= '2011-05-12') & (utilization.index < '2011-08-08')]\n",
    "#fall2011 = utilization[(utilization.index >= '2011-08-22') & (utilization.index < '2011-12-13')]\n",
    "\n",
    "#spring2012 = utilization[(utilization.index >= '2012-01-09') & (utilization.index < '2012-05-02')]\n",
    "#summer2012 = utilization[(utilization.index >= '2012-05-14') & (utilization.index < '2012-08-06')]\n",
    "#fall2012 = utilization[(utilization.index >= '2012-08-20') & (utilization.index < '2012-12-14')]\n",
    "\n",
    "#spring2013 = utilization[(utilization.index >= '2013-01-14') & (utilization.index < '2013-05-08')]\n",
    "#summer2013 = utilization[(utilization.index >= '2013-05-13') & (utilization.index < '2013-08-05')]\n",
    "#fall2013 = utilization[(utilization.index >= '2013-08-19') & (utilization.index < '2013-12-12')]\n",
    "\n",
    "#spring14 = utilization[(utilization.index >= '2014-01-13') & (utilization.index < '2014-05-07')]\n",
    "#summer14 = utilization[(utilization.index >= '2014-05-12') & (utilization.index < '2014-08-05')]\n",
    "\n",
    "fall14 = utilization[(utilization.index >= '2014-08-18') & (utilization.index < '2014-12-12')]\n",
    "spring15 = utilization[(utilization.index >= '2015-01-12') & (utilization.index < '2015-05-06')]\n",
    "summer15 = utilization[(utilization.index >= '2015-05-11') & (utilization.index < '2015-08-03')]\n",
    "fall15 = utilization[(utilization.index >= '2015-08-17') & (utilization.index < '2015-12-11')]\n",
    "spring16 = utilization[(utilization.index >= '2016-01-11') & (utilization.index < '2016-05-04')]\n",
    "summer16 = utilization[(utilization.index >= '2016-05-09') & (utilization.index < '2016-08-05')]\n",
    "fall16 = utilization[(utilization.index >= '2016-08-22') & (utilization.index < '2016-12-16')]\n",
    "spring17 = utilization[(utilization.index >= '2017-01-17') & (utilization.index < '2017-05-10')]\n",
    "summer17 = utilization[(utilization.index >= '2017-05-15') & (utilization.index < '2017-08-07')]"
   ]
  },
  {
   "cell_type": "code",
   "execution_count": 9,
   "metadata": {
    "collapsed": true
   },
   "outputs": [],
   "source": [
    "#semesters = [fall2011, spring2012, summer2012, fall2012, spring2013, summer2013, fall2013, spring14, summer14, fall14, spring15, summer15, fall15, spring16, summer16, fall16, spring17, summer17]\n",
    "semesters3 = [fall14, spring15, summer15, fall15, spring16, summer16, fall16, spring17, summer17]\n",
    "semesters1 = [spring16, summer16, fall16, spring17, summer17]"
   ]
  },
  {
   "cell_type": "code",
   "execution_count": 10,
   "metadata": {
    "collapsed": true
   },
   "outputs": [],
   "source": [
    "#utilization2 = pd.concat(semesters)\n",
    "\n",
    "utilization2 = pd.concat(semesters3)\n",
    "utilization4 = utilization2.mean()\n",
    "\n",
    "attData['utilizationMean'] = utilization4.values"
   ]
  },
  {
   "cell_type": "code",
   "execution_count": 11,
   "metadata": {},
   "outputs": [
    {
     "data": {
      "text/html": [
       "<div>\n",
       "<style scoped>\n",
       "    .dataframe tbody tr th:only-of-type {\n",
       "        vertical-align: middle;\n",
       "    }\n",
       "\n",
       "    .dataframe tbody tr th {\n",
       "        vertical-align: top;\n",
       "    }\n",
       "\n",
       "    .dataframe thead th {\n",
       "        text-align: right;\n",
       "    }\n",
       "</style>\n",
       "<table border=\"1\" class=\"dataframe\">\n",
       "  <thead>\n",
       "    <tr style=\"text-align: right;\">\n",
       "      <th></th>\n",
       "      <th>dbID</th>\n",
       "      <th>computerName</th>\n",
       "      <th>requiresLogon</th>\n",
       "      <th>isDesktop</th>\n",
       "      <th>inJackson</th>\n",
       "      <th>location</th>\n",
       "      <th>is245</th>\n",
       "      <th>floor</th>\n",
       "      <th>numMonitors</th>\n",
       "      <th>largeMonitor</th>\n",
       "      <th>adjacentWindow</th>\n",
       "      <th>collaborativeSpace</th>\n",
       "      <th>roomIsolated</th>\n",
       "      <th>inQuietArea</th>\n",
       "      <th>utilizationMean</th>\n",
       "    </tr>\n",
       "    <tr>\n",
       "      <th>computerName</th>\n",
       "      <th></th>\n",
       "      <th></th>\n",
       "      <th></th>\n",
       "      <th></th>\n",
       "      <th></th>\n",
       "      <th></th>\n",
       "      <th></th>\n",
       "      <th></th>\n",
       "      <th></th>\n",
       "      <th></th>\n",
       "      <th></th>\n",
       "      <th></th>\n",
       "      <th></th>\n",
       "      <th></th>\n",
       "      <th></th>\n",
       "    </tr>\n",
       "  </thead>\n",
       "  <tbody>\n",
       "    <tr>\n",
       "      <th>BL001</th>\n",
       "      <td>187</td>\n",
       "      <td>BL001</td>\n",
       "      <td>1</td>\n",
       "      <td>1</td>\n",
       "      <td>1</td>\n",
       "      <td>Tower</td>\n",
       "      <td>1</td>\n",
       "      <td>0</td>\n",
       "      <td>1.0</td>\n",
       "      <td>0.0</td>\n",
       "      <td>0.0</td>\n",
       "      <td>0.0</td>\n",
       "      <td>0.0</td>\n",
       "      <td>0.0</td>\n",
       "      <td>0.113052</td>\n",
       "    </tr>\n",
       "    <tr>\n",
       "      <th>BL002</th>\n",
       "      <td>188</td>\n",
       "      <td>BL002</td>\n",
       "      <td>1</td>\n",
       "      <td>1</td>\n",
       "      <td>1</td>\n",
       "      <td>Tower</td>\n",
       "      <td>1</td>\n",
       "      <td>0</td>\n",
       "      <td>1.0</td>\n",
       "      <td>0.0</td>\n",
       "      <td>0.0</td>\n",
       "      <td>0.0</td>\n",
       "      <td>0.0</td>\n",
       "      <td>0.0</td>\n",
       "      <td>0.101211</td>\n",
       "    </tr>\n",
       "    <tr>\n",
       "      <th>CITI001</th>\n",
       "      <td>105</td>\n",
       "      <td>CITI001</td>\n",
       "      <td>1</td>\n",
       "      <td>1</td>\n",
       "      <td>1</td>\n",
       "      <td>CITI Lab</td>\n",
       "      <td>1</td>\n",
       "      <td>1</td>\n",
       "      <td>1.0</td>\n",
       "      <td>0.0</td>\n",
       "      <td>1.0</td>\n",
       "      <td>0.0</td>\n",
       "      <td>0.0</td>\n",
       "      <td>0.0</td>\n",
       "      <td>0.081628</td>\n",
       "    </tr>\n",
       "    <tr>\n",
       "      <th>CITI002</th>\n",
       "      <td>106</td>\n",
       "      <td>CITI002</td>\n",
       "      <td>1</td>\n",
       "      <td>1</td>\n",
       "      <td>1</td>\n",
       "      <td>CITI Lab</td>\n",
       "      <td>1</td>\n",
       "      <td>1</td>\n",
       "      <td>1.0</td>\n",
       "      <td>0.0</td>\n",
       "      <td>0.0</td>\n",
       "      <td>0.0</td>\n",
       "      <td>0.0</td>\n",
       "      <td>0.0</td>\n",
       "      <td>0.088443</td>\n",
       "    </tr>\n",
       "    <tr>\n",
       "      <th>CITI003</th>\n",
       "      <td>107</td>\n",
       "      <td>CITI003</td>\n",
       "      <td>1</td>\n",
       "      <td>1</td>\n",
       "      <td>1</td>\n",
       "      <td>CITI Lab</td>\n",
       "      <td>1</td>\n",
       "      <td>1</td>\n",
       "      <td>1.0</td>\n",
       "      <td>0.0</td>\n",
       "      <td>0.0</td>\n",
       "      <td>0.0</td>\n",
       "      <td>0.0</td>\n",
       "      <td>0.0</td>\n",
       "      <td>0.077042</td>\n",
       "    </tr>\n",
       "  </tbody>\n",
       "</table>\n",
       "</div>"
      ],
      "text/plain": [
       "              dbID computerName  requiresLogon  isDesktop  inJackson  \\\n",
       "computerName                                                           \n",
       "BL001          187        BL001              1          1          1   \n",
       "BL002          188        BL002              1          1          1   \n",
       "CITI001        105      CITI001              1          1          1   \n",
       "CITI002        106      CITI002              1          1          1   \n",
       "CITI003        107      CITI003              1          1          1   \n",
       "\n",
       "              location  is245 floor  numMonitors  largeMonitor  \\\n",
       "computerName                                                     \n",
       "BL001            Tower      1     0          1.0           0.0   \n",
       "BL002            Tower      1     0          1.0           0.0   \n",
       "CITI001       CITI Lab      1     1          1.0           0.0   \n",
       "CITI002       CITI Lab      1     1          1.0           0.0   \n",
       "CITI003       CITI Lab      1     1          1.0           0.0   \n",
       "\n",
       "              adjacentWindow  collaborativeSpace  roomIsolated  inQuietArea  \\\n",
       "computerName                                                                  \n",
       "BL001                    0.0                 0.0           0.0          0.0   \n",
       "BL002                    0.0                 0.0           0.0          0.0   \n",
       "CITI001                  1.0                 0.0           0.0          0.0   \n",
       "CITI002                  0.0                 0.0           0.0          0.0   \n",
       "CITI003                  0.0                 0.0           0.0          0.0   \n",
       "\n",
       "              utilizationMean  \n",
       "computerName                   \n",
       "BL001                0.113052  \n",
       "BL002                0.101211  \n",
       "CITI001              0.081628  \n",
       "CITI002              0.088443  \n",
       "CITI003              0.077042  "
      ]
     },
     "execution_count": 11,
     "metadata": {},
     "output_type": "execute_result"
    }
   ],
   "source": [
    "attData.head()"
   ]
  },
  {
   "cell_type": "code",
   "execution_count": 12,
   "metadata": {},
   "outputs": [
    {
     "data": {
      "text/plain": [
       "(312, 15)"
      ]
     },
     "execution_count": 12,
     "metadata": {},
     "output_type": "execute_result"
    }
   ],
   "source": [
    "attData.shape"
   ]
  },
  {
   "cell_type": "code",
   "execution_count": 13,
   "metadata": {
    "collapsed": true
   },
   "outputs": [],
   "source": [
    "# Only want the machines that require a logon\n",
    "attData1 = attData[attData['requiresLogon'] != 0]"
   ]
  },
  {
   "cell_type": "code",
   "execution_count": 14,
   "metadata": {},
   "outputs": [
    {
     "data": {
      "text/html": [
       "<div>\n",
       "<style scoped>\n",
       "    .dataframe tbody tr th:only-of-type {\n",
       "        vertical-align: middle;\n",
       "    }\n",
       "\n",
       "    .dataframe tbody tr th {\n",
       "        vertical-align: top;\n",
       "    }\n",
       "\n",
       "    .dataframe thead th {\n",
       "        text-align: right;\n",
       "    }\n",
       "</style>\n",
       "<table border=\"1\" class=\"dataframe\">\n",
       "  <thead>\n",
       "    <tr style=\"text-align: right;\">\n",
       "      <th></th>\n",
       "      <th>dbID</th>\n",
       "      <th>computerName</th>\n",
       "      <th>requiresLogon</th>\n",
       "      <th>isDesktop</th>\n",
       "      <th>inJackson</th>\n",
       "      <th>location</th>\n",
       "      <th>is245</th>\n",
       "      <th>floor</th>\n",
       "      <th>numMonitors</th>\n",
       "      <th>largeMonitor</th>\n",
       "      <th>adjacentWindow</th>\n",
       "      <th>collaborativeSpace</th>\n",
       "      <th>roomIsolated</th>\n",
       "      <th>inQuietArea</th>\n",
       "      <th>utilizationMean</th>\n",
       "    </tr>\n",
       "    <tr>\n",
       "      <th>computerName</th>\n",
       "      <th></th>\n",
       "      <th></th>\n",
       "      <th></th>\n",
       "      <th></th>\n",
       "      <th></th>\n",
       "      <th></th>\n",
       "      <th></th>\n",
       "      <th></th>\n",
       "      <th></th>\n",
       "      <th></th>\n",
       "      <th></th>\n",
       "      <th></th>\n",
       "      <th></th>\n",
       "      <th></th>\n",
       "      <th></th>\n",
       "    </tr>\n",
       "  </thead>\n",
       "  <tbody>\n",
       "    <tr>\n",
       "      <th>LIBFALL17</th>\n",
       "      <td>377</td>\n",
       "      <td>LIBFALL17</td>\n",
       "      <td>1</td>\n",
       "      <td>1</td>\n",
       "      <td>1</td>\n",
       "      <td>na</td>\n",
       "      <td>0</td>\n",
       "      <td>na</td>\n",
       "      <td>0.0</td>\n",
       "      <td>0.0</td>\n",
       "      <td>0.0</td>\n",
       "      <td>0.0</td>\n",
       "      <td>0.0</td>\n",
       "      <td>0.0</td>\n",
       "      <td>0.00422</td>\n",
       "    </tr>\n",
       "  </tbody>\n",
       "</table>\n",
       "</div>"
      ],
      "text/plain": [
       "              dbID computerName  requiresLogon  isDesktop  inJackson location  \\\n",
       "computerName                                                                    \n",
       "LIBFALL17      377    LIBFALL17              1          1          1       na   \n",
       "\n",
       "              is245 floor  numMonitors  largeMonitor  adjacentWindow  \\\n",
       "computerName                                                           \n",
       "LIBFALL17         0    na          0.0           0.0             0.0   \n",
       "\n",
       "              collaborativeSpace  roomIsolated  inQuietArea  utilizationMean  \n",
       "computerName                                                                  \n",
       "LIBFALL17                    0.0           0.0          0.0          0.00422  "
      ]
     },
     "execution_count": 14,
     "metadata": {},
     "output_type": "execute_result"
    }
   ],
   "source": [
    "attData1[attData1['location'] == 'na']"
   ]
  },
  {
   "cell_type": "code",
   "execution_count": 15,
   "metadata": {
    "collapsed": true
   },
   "outputs": [],
   "source": [
    "attData1 = attData1[attData1['computerName'] != 'LIBFALL17']"
   ]
  },
  {
   "cell_type": "code",
   "execution_count": 17,
   "metadata": {},
   "outputs": [
    {
     "data": {
      "text/plain": [
       "(290, 15)"
      ]
     },
     "execution_count": 17,
     "metadata": {},
     "output_type": "execute_result"
    }
   ],
   "source": [
    "attData1.shape"
   ]
  },
  {
   "cell_type": "code",
   "execution_count": 19,
   "metadata": {},
   "outputs": [],
   "source": [
    "#attData1.loc[attData1['utilizationMean'].idxmin()]"
   ]
  },
  {
   "cell_type": "code",
   "execution_count": 20,
   "metadata": {},
   "outputs": [
    {
     "data": {
      "text/plain": [
       "[0.0,\n",
       " 0.08493502441884679,\n",
       " 0.1404871901087596,\n",
       " 0.20230540246239964,\n",
       " 0.5225797298647847]"
      ]
     },
     "execution_count": 20,
     "metadata": {},
     "output_type": "execute_result"
    }
   ],
   "source": [
    "dataM = attData1['utilizationMean']\n",
    "\n",
    "five_num = [dataM.quantile(0),   \n",
    "            dataM.quantile(0.25),\n",
    "            dataM.quantile(0.50),\n",
    "            dataM.quantile(0.75),\n",
    "            dataM.quantile(1)]\n",
    "\n",
    "High = dataM.quantile(0.75)\n",
    "\n",
    "five_num"
   ]
  },
  {
   "cell_type": "code",
   "execution_count": 21,
   "metadata": {},
   "outputs": [
    {
     "data": {
      "text/html": [
       "<div>\n",
       "<style scoped>\n",
       "    .dataframe tbody tr th:only-of-type {\n",
       "        vertical-align: middle;\n",
       "    }\n",
       "\n",
       "    .dataframe tbody tr th {\n",
       "        vertical-align: top;\n",
       "    }\n",
       "\n",
       "    .dataframe thead th {\n",
       "        text-align: right;\n",
       "    }\n",
       "</style>\n",
       "<table border=\"1\" class=\"dataframe\">\n",
       "  <thead>\n",
       "    <tr style=\"text-align: right;\">\n",
       "      <th></th>\n",
       "      <th>dbID</th>\n",
       "      <th>computerName</th>\n",
       "      <th>requiresLogon</th>\n",
       "      <th>isDesktop</th>\n",
       "      <th>inJackson</th>\n",
       "      <th>location</th>\n",
       "      <th>is245</th>\n",
       "      <th>floor</th>\n",
       "      <th>numMonitors</th>\n",
       "      <th>largeMonitor</th>\n",
       "      <th>adjacentWindow</th>\n",
       "      <th>collaborativeSpace</th>\n",
       "      <th>roomIsolated</th>\n",
       "      <th>inQuietArea</th>\n",
       "      <th>utilizationMean</th>\n",
       "      <th>Label</th>\n",
       "    </tr>\n",
       "    <tr>\n",
       "      <th>computerName</th>\n",
       "      <th></th>\n",
       "      <th></th>\n",
       "      <th></th>\n",
       "      <th></th>\n",
       "      <th></th>\n",
       "      <th></th>\n",
       "      <th></th>\n",
       "      <th></th>\n",
       "      <th></th>\n",
       "      <th></th>\n",
       "      <th></th>\n",
       "      <th></th>\n",
       "      <th></th>\n",
       "      <th></th>\n",
       "      <th></th>\n",
       "      <th></th>\n",
       "    </tr>\n",
       "  </thead>\n",
       "  <tbody>\n",
       "    <tr>\n",
       "      <th>BL001</th>\n",
       "      <td>187</td>\n",
       "      <td>BL001</td>\n",
       "      <td>1</td>\n",
       "      <td>1</td>\n",
       "      <td>1</td>\n",
       "      <td>Tower</td>\n",
       "      <td>1</td>\n",
       "      <td>0</td>\n",
       "      <td>1.0</td>\n",
       "      <td>0.0</td>\n",
       "      <td>0.0</td>\n",
       "      <td>0.0</td>\n",
       "      <td>0.0</td>\n",
       "      <td>0.0</td>\n",
       "      <td>0.113052</td>\n",
       "      <td>Low</td>\n",
       "    </tr>\n",
       "    <tr>\n",
       "      <th>BL002</th>\n",
       "      <td>188</td>\n",
       "      <td>BL002</td>\n",
       "      <td>1</td>\n",
       "      <td>1</td>\n",
       "      <td>1</td>\n",
       "      <td>Tower</td>\n",
       "      <td>1</td>\n",
       "      <td>0</td>\n",
       "      <td>1.0</td>\n",
       "      <td>0.0</td>\n",
       "      <td>0.0</td>\n",
       "      <td>0.0</td>\n",
       "      <td>0.0</td>\n",
       "      <td>0.0</td>\n",
       "      <td>0.101211</td>\n",
       "      <td>Low</td>\n",
       "    </tr>\n",
       "    <tr>\n",
       "      <th>CITI001</th>\n",
       "      <td>105</td>\n",
       "      <td>CITI001</td>\n",
       "      <td>1</td>\n",
       "      <td>1</td>\n",
       "      <td>1</td>\n",
       "      <td>CITI Lab</td>\n",
       "      <td>1</td>\n",
       "      <td>1</td>\n",
       "      <td>1.0</td>\n",
       "      <td>0.0</td>\n",
       "      <td>1.0</td>\n",
       "      <td>0.0</td>\n",
       "      <td>0.0</td>\n",
       "      <td>0.0</td>\n",
       "      <td>0.081628</td>\n",
       "      <td>Low</td>\n",
       "    </tr>\n",
       "    <tr>\n",
       "      <th>CITI002</th>\n",
       "      <td>106</td>\n",
       "      <td>CITI002</td>\n",
       "      <td>1</td>\n",
       "      <td>1</td>\n",
       "      <td>1</td>\n",
       "      <td>CITI Lab</td>\n",
       "      <td>1</td>\n",
       "      <td>1</td>\n",
       "      <td>1.0</td>\n",
       "      <td>0.0</td>\n",
       "      <td>0.0</td>\n",
       "      <td>0.0</td>\n",
       "      <td>0.0</td>\n",
       "      <td>0.0</td>\n",
       "      <td>0.088443</td>\n",
       "      <td>Low</td>\n",
       "    </tr>\n",
       "    <tr>\n",
       "      <th>CITI003</th>\n",
       "      <td>107</td>\n",
       "      <td>CITI003</td>\n",
       "      <td>1</td>\n",
       "      <td>1</td>\n",
       "      <td>1</td>\n",
       "      <td>CITI Lab</td>\n",
       "      <td>1</td>\n",
       "      <td>1</td>\n",
       "      <td>1.0</td>\n",
       "      <td>0.0</td>\n",
       "      <td>0.0</td>\n",
       "      <td>0.0</td>\n",
       "      <td>0.0</td>\n",
       "      <td>0.0</td>\n",
       "      <td>0.077042</td>\n",
       "      <td>Low</td>\n",
       "    </tr>\n",
       "  </tbody>\n",
       "</table>\n",
       "</div>"
      ],
      "text/plain": [
       "              dbID computerName  requiresLogon  isDesktop  inJackson  \\\n",
       "computerName                                                           \n",
       "BL001          187        BL001              1          1          1   \n",
       "BL002          188        BL002              1          1          1   \n",
       "CITI001        105      CITI001              1          1          1   \n",
       "CITI002        106      CITI002              1          1          1   \n",
       "CITI003        107      CITI003              1          1          1   \n",
       "\n",
       "              location  is245 floor  numMonitors  largeMonitor  \\\n",
       "computerName                                                     \n",
       "BL001            Tower      1     0          1.0           0.0   \n",
       "BL002            Tower      1     0          1.0           0.0   \n",
       "CITI001       CITI Lab      1     1          1.0           0.0   \n",
       "CITI002       CITI Lab      1     1          1.0           0.0   \n",
       "CITI003       CITI Lab      1     1          1.0           0.0   \n",
       "\n",
       "              adjacentWindow  collaborativeSpace  roomIsolated  inQuietArea  \\\n",
       "computerName                                                                  \n",
       "BL001                    0.0                 0.0           0.0          0.0   \n",
       "BL002                    0.0                 0.0           0.0          0.0   \n",
       "CITI001                  1.0                 0.0           0.0          0.0   \n",
       "CITI002                  0.0                 0.0           0.0          0.0   \n",
       "CITI003                  0.0                 0.0           0.0          0.0   \n",
       "\n",
       "              utilizationMean Label  \n",
       "computerName                         \n",
       "BL001                0.113052   Low  \n",
       "BL002                0.101211   Low  \n",
       "CITI001              0.081628   Low  \n",
       "CITI002              0.088443   Low  \n",
       "CITI003              0.077042   Low  "
      ]
     },
     "execution_count": 21,
     "metadata": {},
     "output_type": "execute_result"
    }
   ],
   "source": [
    "# .25 - .3 gives Accuracy Score of 88% - 90% !!!!!!\n",
    "#attData1['Label'] = attData1['utilizationMean'].map(lambda x: \"Low\" if x < .28 else \"High\")\n",
    "\n",
    "# gives Accuracy Score of 71% - 72%\n",
    "attData1['Label'] = attData1['utilizationMean'].map(lambda x: \"Low\" if x < High else \"High\")\n",
    "attData1.head()"
   ]
  },
  {
   "cell_type": "code",
   "execution_count": 22,
   "metadata": {
    "collapsed": true
   },
   "outputs": [],
   "source": [
    "attData1 = attData1.dropna() "
   ]
  },
  {
   "cell_type": "code",
   "execution_count": 23,
   "metadata": {},
   "outputs": [
    {
     "data": {
      "text/html": [
       "<div>\n",
       "<style scoped>\n",
       "    .dataframe tbody tr th:only-of-type {\n",
       "        vertical-align: middle;\n",
       "    }\n",
       "\n",
       "    .dataframe tbody tr th {\n",
       "        vertical-align: top;\n",
       "    }\n",
       "\n",
       "    .dataframe thead th {\n",
       "        text-align: right;\n",
       "    }\n",
       "</style>\n",
       "<table border=\"1\" class=\"dataframe\">\n",
       "  <thead>\n",
       "    <tr style=\"text-align: right;\">\n",
       "      <th></th>\n",
       "      <th>isDesktop</th>\n",
       "      <th>inJackson</th>\n",
       "      <th>location</th>\n",
       "      <th>is245</th>\n",
       "      <th>floor</th>\n",
       "      <th>numMonitors</th>\n",
       "      <th>largeMonitor</th>\n",
       "      <th>adjacentWindow</th>\n",
       "      <th>collaborativeSpace</th>\n",
       "      <th>roomIsolated</th>\n",
       "      <th>inQuietArea</th>\n",
       "    </tr>\n",
       "    <tr>\n",
       "      <th>computerName</th>\n",
       "      <th></th>\n",
       "      <th></th>\n",
       "      <th></th>\n",
       "      <th></th>\n",
       "      <th></th>\n",
       "      <th></th>\n",
       "      <th></th>\n",
       "      <th></th>\n",
       "      <th></th>\n",
       "      <th></th>\n",
       "      <th></th>\n",
       "    </tr>\n",
       "  </thead>\n",
       "  <tbody>\n",
       "    <tr>\n",
       "      <th>BL001</th>\n",
       "      <td>1</td>\n",
       "      <td>1</td>\n",
       "      <td>Tower</td>\n",
       "      <td>1</td>\n",
       "      <td>0</td>\n",
       "      <td>1.0</td>\n",
       "      <td>0.0</td>\n",
       "      <td>0.0</td>\n",
       "      <td>0.0</td>\n",
       "      <td>0.0</td>\n",
       "      <td>0.0</td>\n",
       "    </tr>\n",
       "    <tr>\n",
       "      <th>BL002</th>\n",
       "      <td>1</td>\n",
       "      <td>1</td>\n",
       "      <td>Tower</td>\n",
       "      <td>1</td>\n",
       "      <td>0</td>\n",
       "      <td>1.0</td>\n",
       "      <td>0.0</td>\n",
       "      <td>0.0</td>\n",
       "      <td>0.0</td>\n",
       "      <td>0.0</td>\n",
       "      <td>0.0</td>\n",
       "    </tr>\n",
       "    <tr>\n",
       "      <th>CITI001</th>\n",
       "      <td>1</td>\n",
       "      <td>1</td>\n",
       "      <td>CITI Lab</td>\n",
       "      <td>1</td>\n",
       "      <td>1</td>\n",
       "      <td>1.0</td>\n",
       "      <td>0.0</td>\n",
       "      <td>1.0</td>\n",
       "      <td>0.0</td>\n",
       "      <td>0.0</td>\n",
       "      <td>0.0</td>\n",
       "    </tr>\n",
       "    <tr>\n",
       "      <th>CITI002</th>\n",
       "      <td>1</td>\n",
       "      <td>1</td>\n",
       "      <td>CITI Lab</td>\n",
       "      <td>1</td>\n",
       "      <td>1</td>\n",
       "      <td>1.0</td>\n",
       "      <td>0.0</td>\n",
       "      <td>0.0</td>\n",
       "      <td>0.0</td>\n",
       "      <td>0.0</td>\n",
       "      <td>0.0</td>\n",
       "    </tr>\n",
       "    <tr>\n",
       "      <th>CITI003</th>\n",
       "      <td>1</td>\n",
       "      <td>1</td>\n",
       "      <td>CITI Lab</td>\n",
       "      <td>1</td>\n",
       "      <td>1</td>\n",
       "      <td>1.0</td>\n",
       "      <td>0.0</td>\n",
       "      <td>0.0</td>\n",
       "      <td>0.0</td>\n",
       "      <td>0.0</td>\n",
       "      <td>0.0</td>\n",
       "    </tr>\n",
       "  </tbody>\n",
       "</table>\n",
       "</div>"
      ],
      "text/plain": [
       "              isDesktop  inJackson  location  is245 floor  numMonitors  \\\n",
       "computerName                                                             \n",
       "BL001                 1          1     Tower      1     0          1.0   \n",
       "BL002                 1          1     Tower      1     0          1.0   \n",
       "CITI001               1          1  CITI Lab      1     1          1.0   \n",
       "CITI002               1          1  CITI Lab      1     1          1.0   \n",
       "CITI003               1          1  CITI Lab      1     1          1.0   \n",
       "\n",
       "              largeMonitor  adjacentWindow  collaborativeSpace  roomIsolated  \\\n",
       "computerName                                                                   \n",
       "BL001                  0.0             0.0                 0.0           0.0   \n",
       "BL002                  0.0             0.0                 0.0           0.0   \n",
       "CITI001                0.0             1.0                 0.0           0.0   \n",
       "CITI002                0.0             0.0                 0.0           0.0   \n",
       "CITI003                0.0             0.0                 0.0           0.0   \n",
       "\n",
       "              inQuietArea  \n",
       "computerName               \n",
       "BL001                 0.0  \n",
       "BL002                 0.0  \n",
       "CITI001               0.0  \n",
       "CITI002               0.0  \n",
       "CITI003               0.0  "
      ]
     },
     "execution_count": 23,
     "metadata": {},
     "output_type": "execute_result"
    }
   ],
   "source": [
    "attData1.iloc[:, [3,4,5,6,7,8,9,10,11,12,13]].head()"
   ]
  },
  {
   "cell_type": "code",
   "execution_count": 24,
   "metadata": {
    "scrolled": true
   },
   "outputs": [
    {
     "data": {
      "text/html": [
       "<div>\n",
       "<style scoped>\n",
       "    .dataframe tbody tr th:only-of-type {\n",
       "        vertical-align: middle;\n",
       "    }\n",
       "\n",
       "    .dataframe tbody tr th {\n",
       "        vertical-align: top;\n",
       "    }\n",
       "\n",
       "    .dataframe thead th {\n",
       "        text-align: right;\n",
       "    }\n",
       "</style>\n",
       "<table border=\"1\" class=\"dataframe\">\n",
       "  <thead>\n",
       "    <tr style=\"text-align: right;\">\n",
       "      <th></th>\n",
       "      <th>Label</th>\n",
       "    </tr>\n",
       "    <tr>\n",
       "      <th>computerName</th>\n",
       "      <th></th>\n",
       "    </tr>\n",
       "  </thead>\n",
       "  <tbody>\n",
       "    <tr>\n",
       "      <th>BL001</th>\n",
       "      <td>Low</td>\n",
       "    </tr>\n",
       "    <tr>\n",
       "      <th>BL002</th>\n",
       "      <td>Low</td>\n",
       "    </tr>\n",
       "    <tr>\n",
       "      <th>CITI001</th>\n",
       "      <td>Low</td>\n",
       "    </tr>\n",
       "    <tr>\n",
       "      <th>CITI002</th>\n",
       "      <td>Low</td>\n",
       "    </tr>\n",
       "    <tr>\n",
       "      <th>CITI003</th>\n",
       "      <td>Low</td>\n",
       "    </tr>\n",
       "  </tbody>\n",
       "</table>\n",
       "</div>"
      ],
      "text/plain": [
       "             Label\n",
       "computerName      \n",
       "BL001          Low\n",
       "BL002          Low\n",
       "CITI001        Low\n",
       "CITI002        Low\n",
       "CITI003        Low"
      ]
     },
     "execution_count": 24,
     "metadata": {},
     "output_type": "execute_result"
    }
   ],
   "source": [
    "attData1.iloc[:, [15]].head()"
   ]
  },
  {
   "cell_type": "code",
   "execution_count": 73,
   "metadata": {},
   "outputs": [],
   "source": [
    "#attData1[attData1['floor'] == 'na']"
   ]
  },
  {
   "cell_type": "code",
   "execution_count": 26,
   "metadata": {},
   "outputs": [
    {
     "data": {
      "text/plain": [
       "dbID                    int64\n",
       "computerName           object\n",
       "requiresLogon           int64\n",
       "isDesktop               int64\n",
       "inJackson               int64\n",
       "location               object\n",
       "is245                   int64\n",
       "floor                  object\n",
       "numMonitors           float64\n",
       "largeMonitor          float64\n",
       "adjacentWindow        float64\n",
       "collaborativeSpace    float64\n",
       "roomIsolated          float64\n",
       "inQuietArea           float64\n",
       "utilizationMean       float64\n",
       "Label                  object\n",
       "dtype: object"
      ]
     },
     "execution_count": 26,
     "metadata": {},
     "output_type": "execute_result"
    }
   ],
   "source": [
    "attData1.dtypes"
   ]
  },
  {
   "cell_type": "code",
   "execution_count": 27,
   "metadata": {},
   "outputs": [
    {
     "data": {
      "text/plain": [
       "array(['Tower', 'CITI Lab', 'Reading Room', 'DMC', 'Info Commons',\n",
       "       'Checkout Desk', 'Music Library', 'RIS'], dtype=object)"
      ]
     },
     "execution_count": 27,
     "metadata": {},
     "output_type": "execute_result"
    }
   ],
   "source": [
    "attData1.location.unique()"
   ]
  },
  {
   "cell_type": "code",
   "execution_count": 28,
   "metadata": {
    "collapsed": true
   },
   "outputs": [],
   "source": [
    "# Map Location to int\n",
    "\n",
    "locationMap = {'Tower':1, 'CITI Lab':2, 'Reading Room':3, 'DMC':4, 'Info Commons':5, 'Checkout Desk':6, 'Music Library':7, 'RIS':8}\n",
    "\n",
    "attData1['location'] = attData1['location'].map(lambda x: locationMap.get(x) if x in locationMap else x)"
   ]
  },
  {
   "cell_type": "code",
   "execution_count": 29,
   "metadata": {},
   "outputs": [
    {
     "data": {
      "text/html": [
       "<div>\n",
       "<style scoped>\n",
       "    .dataframe tbody tr th:only-of-type {\n",
       "        vertical-align: middle;\n",
       "    }\n",
       "\n",
       "    .dataframe tbody tr th {\n",
       "        vertical-align: top;\n",
       "    }\n",
       "\n",
       "    .dataframe thead th {\n",
       "        text-align: right;\n",
       "    }\n",
       "</style>\n",
       "<table border=\"1\" class=\"dataframe\">\n",
       "  <thead>\n",
       "    <tr style=\"text-align: right;\">\n",
       "      <th></th>\n",
       "      <th>dbID</th>\n",
       "      <th>computerName</th>\n",
       "      <th>requiresLogon</th>\n",
       "      <th>isDesktop</th>\n",
       "      <th>inJackson</th>\n",
       "      <th>location</th>\n",
       "      <th>is245</th>\n",
       "      <th>floor</th>\n",
       "      <th>numMonitors</th>\n",
       "      <th>largeMonitor</th>\n",
       "      <th>adjacentWindow</th>\n",
       "      <th>collaborativeSpace</th>\n",
       "      <th>roomIsolated</th>\n",
       "      <th>inQuietArea</th>\n",
       "      <th>utilizationMean</th>\n",
       "      <th>Label</th>\n",
       "    </tr>\n",
       "    <tr>\n",
       "      <th>computerName</th>\n",
       "      <th></th>\n",
       "      <th></th>\n",
       "      <th></th>\n",
       "      <th></th>\n",
       "      <th></th>\n",
       "      <th></th>\n",
       "      <th></th>\n",
       "      <th></th>\n",
       "      <th></th>\n",
       "      <th></th>\n",
       "      <th></th>\n",
       "      <th></th>\n",
       "      <th></th>\n",
       "      <th></th>\n",
       "      <th></th>\n",
       "      <th></th>\n",
       "    </tr>\n",
       "  </thead>\n",
       "  <tbody>\n",
       "    <tr>\n",
       "      <th>BL001</th>\n",
       "      <td>187</td>\n",
       "      <td>BL001</td>\n",
       "      <td>1</td>\n",
       "      <td>1</td>\n",
       "      <td>1</td>\n",
       "      <td>1</td>\n",
       "      <td>1</td>\n",
       "      <td>0</td>\n",
       "      <td>1.0</td>\n",
       "      <td>0.0</td>\n",
       "      <td>0.0</td>\n",
       "      <td>0.0</td>\n",
       "      <td>0.0</td>\n",
       "      <td>0.0</td>\n",
       "      <td>0.113052</td>\n",
       "      <td>Low</td>\n",
       "    </tr>\n",
       "    <tr>\n",
       "      <th>BL002</th>\n",
       "      <td>188</td>\n",
       "      <td>BL002</td>\n",
       "      <td>1</td>\n",
       "      <td>1</td>\n",
       "      <td>1</td>\n",
       "      <td>1</td>\n",
       "      <td>1</td>\n",
       "      <td>0</td>\n",
       "      <td>1.0</td>\n",
       "      <td>0.0</td>\n",
       "      <td>0.0</td>\n",
       "      <td>0.0</td>\n",
       "      <td>0.0</td>\n",
       "      <td>0.0</td>\n",
       "      <td>0.101211</td>\n",
       "      <td>Low</td>\n",
       "    </tr>\n",
       "    <tr>\n",
       "      <th>CITI001</th>\n",
       "      <td>105</td>\n",
       "      <td>CITI001</td>\n",
       "      <td>1</td>\n",
       "      <td>1</td>\n",
       "      <td>1</td>\n",
       "      <td>2</td>\n",
       "      <td>1</td>\n",
       "      <td>1</td>\n",
       "      <td>1.0</td>\n",
       "      <td>0.0</td>\n",
       "      <td>1.0</td>\n",
       "      <td>0.0</td>\n",
       "      <td>0.0</td>\n",
       "      <td>0.0</td>\n",
       "      <td>0.081628</td>\n",
       "      <td>Low</td>\n",
       "    </tr>\n",
       "    <tr>\n",
       "      <th>CITI002</th>\n",
       "      <td>106</td>\n",
       "      <td>CITI002</td>\n",
       "      <td>1</td>\n",
       "      <td>1</td>\n",
       "      <td>1</td>\n",
       "      <td>2</td>\n",
       "      <td>1</td>\n",
       "      <td>1</td>\n",
       "      <td>1.0</td>\n",
       "      <td>0.0</td>\n",
       "      <td>0.0</td>\n",
       "      <td>0.0</td>\n",
       "      <td>0.0</td>\n",
       "      <td>0.0</td>\n",
       "      <td>0.088443</td>\n",
       "      <td>Low</td>\n",
       "    </tr>\n",
       "    <tr>\n",
       "      <th>CITI003</th>\n",
       "      <td>107</td>\n",
       "      <td>CITI003</td>\n",
       "      <td>1</td>\n",
       "      <td>1</td>\n",
       "      <td>1</td>\n",
       "      <td>2</td>\n",
       "      <td>1</td>\n",
       "      <td>1</td>\n",
       "      <td>1.0</td>\n",
       "      <td>0.0</td>\n",
       "      <td>0.0</td>\n",
       "      <td>0.0</td>\n",
       "      <td>0.0</td>\n",
       "      <td>0.0</td>\n",
       "      <td>0.077042</td>\n",
       "      <td>Low</td>\n",
       "    </tr>\n",
       "  </tbody>\n",
       "</table>\n",
       "</div>"
      ],
      "text/plain": [
       "              dbID computerName  requiresLogon  isDesktop  inJackson  \\\n",
       "computerName                                                           \n",
       "BL001          187        BL001              1          1          1   \n",
       "BL002          188        BL002              1          1          1   \n",
       "CITI001        105      CITI001              1          1          1   \n",
       "CITI002        106      CITI002              1          1          1   \n",
       "CITI003        107      CITI003              1          1          1   \n",
       "\n",
       "              location  is245 floor  numMonitors  largeMonitor  \\\n",
       "computerName                                                     \n",
       "BL001                1      1     0          1.0           0.0   \n",
       "BL002                1      1     0          1.0           0.0   \n",
       "CITI001              2      1     1          1.0           0.0   \n",
       "CITI002              2      1     1          1.0           0.0   \n",
       "CITI003              2      1     1          1.0           0.0   \n",
       "\n",
       "              adjacentWindow  collaborativeSpace  roomIsolated  inQuietArea  \\\n",
       "computerName                                                                  \n",
       "BL001                    0.0                 0.0           0.0          0.0   \n",
       "BL002                    0.0                 0.0           0.0          0.0   \n",
       "CITI001                  1.0                 0.0           0.0          0.0   \n",
       "CITI002                  0.0                 0.0           0.0          0.0   \n",
       "CITI003                  0.0                 0.0           0.0          0.0   \n",
       "\n",
       "              utilizationMean Label  \n",
       "computerName                         \n",
       "BL001                0.113052   Low  \n",
       "BL002                0.101211   Low  \n",
       "CITI001              0.081628   Low  \n",
       "CITI002              0.088443   Low  \n",
       "CITI003              0.077042   Low  "
      ]
     },
     "execution_count": 29,
     "metadata": {},
     "output_type": "execute_result"
    }
   ],
   "source": [
    "attData1.head()"
   ]
  },
  {
   "cell_type": "code",
   "execution_count": 30,
   "metadata": {},
   "outputs": [
    {
     "data": {
      "text/plain": [
       "False"
      ]
     },
     "execution_count": 30,
     "metadata": {},
     "output_type": "execute_result"
    }
   ],
   "source": [
    "from pandas.api.types import is_numeric_dtype\n",
    "is_numeric_dtype(attData1['floor'])"
   ]
  },
  {
   "cell_type": "code",
   "execution_count": 31,
   "metadata": {},
   "outputs": [
    {
     "data": {
      "text/plain": [
       "array(['0', '1', 'na', '2', '3', '4', '5', '6', '7', '8', '9'], dtype=object)"
      ]
     },
     "execution_count": 31,
     "metadata": {},
     "output_type": "execute_result"
    }
   ],
   "source": [
    "attData1.floor.unique()"
   ]
  },
  {
   "cell_type": "code",
   "execution_count": 32,
   "metadata": {},
   "outputs": [
    {
     "data": {
      "text/plain": [
       "(66, 16)"
      ]
     },
     "execution_count": 32,
     "metadata": {},
     "output_type": "execute_result"
    }
   ],
   "source": [
    "attData1[attData1['floor'] == 'na'].shape"
   ]
  },
  {
   "cell_type": "code",
   "execution_count": 33,
   "metadata": {
    "collapsed": true
   },
   "outputs": [],
   "source": [
    "# Give 'na' a value of 20 \n",
    "# Convert column to int\n",
    "\n",
    "attData1['floor'] = attData1['floor'].replace('na', 20)\n"
   ]
  },
  {
   "cell_type": "code",
   "execution_count": 34,
   "metadata": {
    "collapsed": true
   },
   "outputs": [],
   "source": [
    "attData1['floor'] = attData1['floor'].astype(int)"
   ]
  },
  {
   "cell_type": "code",
   "execution_count": 35,
   "metadata": {},
   "outputs": [
    {
     "data": {
      "text/plain": [
       "array([ 0,  1, 20,  2,  3,  4,  5,  6,  7,  8,  9])"
      ]
     },
     "execution_count": 35,
     "metadata": {},
     "output_type": "execute_result"
    }
   ],
   "source": [
    "attData1.floor.unique()"
   ]
  },
  {
   "cell_type": "code",
   "execution_count": 36,
   "metadata": {},
   "outputs": [
    {
     "data": {
      "text/plain": [
       "True"
      ]
     },
     "execution_count": 36,
     "metadata": {},
     "output_type": "execute_result"
    }
   ],
   "source": [
    "from pandas.api.types import is_numeric_dtype\n",
    "is_numeric_dtype(attData1['floor'])"
   ]
  },
  {
   "cell_type": "code",
   "execution_count": 37,
   "metadata": {},
   "outputs": [
    {
     "data": {
      "text/plain": [
       "dbID                    int64\n",
       "computerName           object\n",
       "requiresLogon           int64\n",
       "isDesktop               int64\n",
       "inJackson               int64\n",
       "location                int64\n",
       "is245                   int64\n",
       "floor                   int64\n",
       "numMonitors           float64\n",
       "largeMonitor          float64\n",
       "adjacentWindow        float64\n",
       "collaborativeSpace    float64\n",
       "roomIsolated          float64\n",
       "inQuietArea           float64\n",
       "utilizationMean       float64\n",
       "Label                  object\n",
       "dtype: object"
      ]
     },
     "execution_count": 37,
     "metadata": {},
     "output_type": "execute_result"
    }
   ],
   "source": [
    "attData1.dtypes"
   ]
  },
  {
   "cell_type": "code",
   "execution_count": 38,
   "metadata": {},
   "outputs": [
    {
     "data": {
      "image/png": "[encoded data removed]",
      "text/plain": [
       "<matplotlib.figure.Figure at 0x1029d2ed0>"
      ]
     },
     "metadata": {},
     "output_type": "display_data"
    }
   ],
   "source": [
    "attData1.utilizationMean.hist(bins=20)\n",
    "plt.show()"
   ]
  },
  {
   "cell_type": "code",
   "execution_count": 39,
   "metadata": {},
   "outputs": [
    {
     "data": {
      "text/plain": [
       "0.093894502194372842"
      ]
     },
     "execution_count": 39,
     "metadata": {},
     "output_type": "execute_result"
    }
   ],
   "source": [
    "attData1.utilizationMean.std()"
   ]
  },
  {
   "cell_type": "code",
   "execution_count": 40,
   "metadata": {},
   "outputs": [
    {
     "data": {
      "text/plain": [
       "(209, 16)"
      ]
     },
     "execution_count": 40,
     "metadata": {},
     "output_type": "execute_result"
    }
   ],
   "source": [
    "attData1[attData1['Label'] == 'Low'].shape"
   ]
  },
  {
   "cell_type": "code",
   "execution_count": 41,
   "metadata": {},
   "outputs": [
    {
     "data": {
      "text/plain": [
       "array([1, 2, 3, 4, 5, 6, 7, 8])"
      ]
     },
     "execution_count": 41,
     "metadata": {},
     "output_type": "execute_result"
    }
   ],
   "source": [
    "attData1.location.unique()"
   ]
  },
  {
   "cell_type": "code",
   "execution_count": 55,
   "metadata": {},
   "outputs": [],
   "source": [
    "from sklearn.cross_validation import train_test_split\n",
    "from sklearn.tree import DecisionTreeClassifier\n",
    "from sklearn.metrics import accuracy_score\n",
    "from sklearn import tree"
   ]
  },
  {
   "cell_type": "code",
   "execution_count": 56,
   "metadata": {
    "collapsed": true
   },
   "outputs": [],
   "source": [
    "# X is the computer attributes\n",
    "# Y is the outcome variable, Setting this as High or Low \n",
    "\n",
    "X = attData1.values[:, [3,4,5,6,7,8,9,10,11,12,13]]\n",
    "#X = attData.values[:, [3,4,6,7,8,9,10,11,12,13]]\n",
    "Y = attData1.values[:, [15]]"
   ]
  },
  {
   "cell_type": "code",
   "execution_count": 57,
   "metadata": {
    "collapsed": true
   },
   "outputs": [],
   "source": [
    "# split data into training and test sets 70/30\n",
    "\n",
    "X_train, X_test, y_train, y_test = train_test_split( X, Y, test_size = 0.3, random_state = 100)"
   ]
  },
  {
   "cell_type": "code",
   "execution_count": 58,
   "metadata": {},
   "outputs": [
    {
     "data": {
      "text/plain": [
       "DecisionTreeClassifier(class_weight=None, criterion='gini', max_depth=3,\n",
       "            max_features=None, max_leaf_nodes=None,\n",
       "            min_impurity_decrease=0.0, min_impurity_split=None,\n",
       "            min_samples_leaf=5, min_samples_split=2,\n",
       "            min_weight_fraction_leaf=0.0, presort=False, random_state=100,\n",
       "            splitter='best')"
      ]
     },
     "execution_count": 58,
     "metadata": {},
     "output_type": "execute_result"
    }
   ],
   "source": [
    "# Decision tree classifier with criterion gini index\n",
    "\n",
    "clf_gini = DecisionTreeClassifier(criterion = \"gini\", random_state = 100,\n",
    "                               max_depth=3, min_samples_leaf=5)\n",
    "clf_gini.fit(X_train, y_train)"
   ]
  },
  {
   "cell_type": "code",
   "execution_count": 59,
   "metadata": {},
   "outputs": [
    {
     "data": {
      "text/plain": [
       "DecisionTreeClassifier(class_weight=None, criterion='entropy', max_depth=3,\n",
       "            max_features=None, max_leaf_nodes=None,\n",
       "            min_impurity_decrease=0.0, min_impurity_split=None,\n",
       "            min_samples_leaf=5, min_samples_split=2,\n",
       "            min_weight_fraction_leaf=0.0, presort=False, random_state=100,\n",
       "            splitter='best')"
      ]
     },
     "execution_count": 59,
     "metadata": {},
     "output_type": "execute_result"
    }
   ],
   "source": [
    "# Decision tree classifier with criterion information gain\n",
    "\n",
    "clf_entropy = DecisionTreeClassifier(criterion = \"entropy\", random_state = 100,\n",
    " max_depth=3, min_samples_leaf=5)\n",
    "clf_entropy.fit(X_train, y_train)"
   ]
  },
  {
   "cell_type": "code",
   "execution_count": 60,
   "metadata": {},
   "outputs": [],
   "source": [
    "#X_test[0]"
   ]
  },
  {
   "cell_type": "code",
   "execution_count": 61,
   "metadata": {},
   "outputs": [],
   "source": [
    "# Try to predict using test set first record\n",
    "\n",
    "#clf_gini.predict([[1, 1, 3, 0, 1, 1.0, 0.0, 1.0, 0.0, 0.0, 0.0]])"
   ]
  },
  {
   "cell_type": "code",
   "execution_count": 62,
   "metadata": {},
   "outputs": [
    {
     "data": {
      "text/plain": [
       "array(['Low', 'Low', 'High', 'Low', 'Low', 'Low', 'Low', 'Low', 'Low',\n",
       "       'Low', 'Low', 'High', 'Low', 'Low', 'Low', 'Low', 'Low', 'Low',\n",
       "       'Low', 'Low', 'Low', 'Low', 'Low', 'Low', 'Low', 'Low', 'Low',\n",
       "       'Low', 'Low', 'Low', 'Low', 'Low', 'Low', 'Low', 'Low', 'Low',\n",
       "       'Low', 'Low', 'Low', 'Low', 'Low', 'Low', 'Low', 'Low', 'Low',\n",
       "       'Low', 'Low', 'High', 'Low', 'Low', 'Low', 'Low', 'Low', 'Low',\n",
       "       'Low', 'Low', 'Low', 'Low', 'Low', 'High', 'Low', 'Low', 'Low',\n",
       "       'Low', 'Low', 'Low', 'Low', 'Low', 'Low', 'Low', 'Low', 'High',\n",
       "       'Low', 'Low', 'Low', 'Low', 'Low', 'High', 'Low', 'Low', 'Low',\n",
       "       'Low', 'Low', 'Low'], dtype=object)"
      ]
     },
     "execution_count": 62,
     "metadata": {},
     "output_type": "execute_result"
    }
   ],
   "source": [
    "#Prediction for Decision Tree classifier with criterion gini index\n",
    "\n",
    "y_pred = clf_gini.predict(X_test)\n",
    "y_pred"
   ]
  },
  {
   "cell_type": "code",
   "execution_count": 63,
   "metadata": {},
   "outputs": [
    {
     "data": {
      "text/plain": [
       "array(['Low', 'Low', 'High', 'Low', 'Low', 'Low', 'Low', 'Low', 'Low',\n",
       "       'Low', 'Low', 'High', 'Low', 'Low', 'Low', 'Low', 'Low', 'Low',\n",
       "       'Low', 'Low', 'Low', 'Low', 'Low', 'Low', 'Low', 'Low', 'Low',\n",
       "       'Low', 'Low', 'Low', 'Low', 'Low', 'Low', 'Low', 'Low', 'Low',\n",
       "       'Low', 'Low', 'Low', 'Low', 'Low', 'Low', 'Low', 'Low', 'Low',\n",
       "       'Low', 'Low', 'High', 'Low', 'Low', 'Low', 'Low', 'Low', 'Low',\n",
       "       'Low', 'Low', 'Low', 'Low', 'Low', 'High', 'Low', 'Low', 'Low',\n",
       "       'Low', 'Low', 'Low', 'Low', 'Low', 'Low', 'Low', 'Low', 'Low',\n",
       "       'Low', 'Low', 'Low', 'Low', 'Low', 'High', 'Low', 'Low', 'Low',\n",
       "       'Low', 'Low', 'Low'], dtype=object)"
      ]
     },
     "execution_count": 63,
     "metadata": {},
     "output_type": "execute_result"
    }
   ],
   "source": [
    "#Prediction for Decision Tree classifier with criterion as information gain\n",
    "\n",
    "y_pred_en = clf_entropy.predict(X_test)\n",
    "y_pred_en"
   ]
  },
  {
   "cell_type": "code",
   "execution_count": 64,
   "metadata": {},
   "outputs": [
    {
     "name": "stdout",
     "output_type": "stream",
     "text": [
      "Accuracy is  71.4285714286\n"
     ]
    }
   ],
   "source": [
    "# Accuracy Score for the Decision Tree classifier with criterion as gini index\n",
    "\n",
    "print \"Accuracy is \", accuracy_score(y_test,y_pred)*100"
   ]
  },
  {
   "cell_type": "code",
   "execution_count": 65,
   "metadata": {},
   "outputs": [
    {
     "name": "stdout",
     "output_type": "stream",
     "text": [
      "Accuracy is  72.619047619\n"
     ]
    }
   ],
   "source": [
    "# Accuracy Score for the Decision Tree classifier with criterion as information gain\n",
    "\n",
    "print \"Accuracy is \", accuracy_score(y_test,y_pred_en)*100"
   ]
  },
  {
   "cell_type": "code",
   "execution_count": null,
   "metadata": {
    "collapsed": true
   },
   "outputs": [],
   "source": []
  },
  {
   "cell_type": "code",
   "execution_count": 66,
   "metadata": {
    "collapsed": true
   },
   "outputs": [],
   "source": [
    "from sklearn.model_selection import train_test_split\n",
    "from sklearn.ensemble import RandomForestClassifier\n",
    "from sklearn.metrics import accuracy_score\n",
    "from sklearn.metrics import confusion_matrix"
   ]
  },
  {
   "cell_type": "code",
   "execution_count": 67,
   "metadata": {},
   "outputs": [
    {
     "name": "stdout",
     "output_type": "stream",
     "text": [
      "Trained model :  RandomForestClassifier(bootstrap=True, class_weight=None, criterion='gini',\n",
      "            max_depth=None, max_features='auto', max_leaf_nodes=None,\n",
      "            min_impurity_decrease=0.0, min_impurity_split=None,\n",
      "            min_samples_leaf=1, min_samples_split=2,\n",
      "            min_weight_fraction_leaf=0.0, n_estimators=10, n_jobs=1,\n",
      "            oob_score=False, random_state=None, verbose=0,\n",
      "            warm_start=False)\n",
      "Actual outcome :: ['Low'] and Predicted outcome :: Low\n",
      "Actual outcome :: ['High'] and Predicted outcome :: Low\n",
      "Actual outcome :: ['High'] and Predicted outcome :: High\n",
      "Actual outcome :: ['Low'] and Predicted outcome :: Low\n",
      "Actual outcome :: ['Low'] and Predicted outcome :: Low\n"
     ]
    },
    {
     "name": "stderr",
     "output_type": "stream",
     "text": [
      "/Users/moyockmike/Envs/CSC693/lib/python2.7/site-packages/ipykernel_launcher.py:2: DataConversionWarning: A column-vector y was passed when a 1d array was expected. Please change the shape of y to (n_samples,), for example using ravel().\n",
      "  \n"
     ]
    }
   ],
   "source": [
    "clf = RandomForestClassifier()\n",
    "trained_model = clf.fit(X_train, y_train)\n",
    "print \"Trained model : \", trained_model\n",
    "\n",
    "predictions = trained_model.predict(X_test)\n",
    " \n",
    "for i in xrange(0, 5):\n",
    "    print \"Actual outcome :: {} and Predicted outcome :: {}\".format(list(y_test)[i], predictions[i])"
   ]
  },
  {
   "cell_type": "code",
   "execution_count": 71,
   "metadata": {},
   "outputs": [
    {
     "name": "stdout",
     "output_type": "stream",
     "text": [
      "Train Accuracy ::  85.0515463918\n",
      "Test Accuracy  ::  73.8095238095\n"
     ]
    }
   ],
   "source": [
    "print \"Train Accuracy :: \", accuracy_score(y_train, trained_model.predict(X_train))*100\n",
    "print \"Test Accuracy  :: \", accuracy_score(y_test, predictions)*100\n",
    " "
   ]
  },
  {
   "cell_type": "code",
   "execution_count": 69,
   "metadata": {},
   "outputs": [
    {
     "name": "stdout",
     "output_type": "stream",
     "text": [
      " Confusion matrix  [[10 18]\n",
      " [ 4 52]]\n"
     ]
    }
   ],
   "source": [
    "print \" Confusion matrix \", confusion_matrix(y_test, predictions)"
   ]
  },
  {
   "cell_type": "code",
   "execution_count": null,
   "metadata": {
    "collapsed": true
   },
   "outputs": [],
   "source": []
  }
 ],
 "metadata": {
  "kernelspec": {
   "display_name": "Python 2",
   "language": "python",
   "name": "python2"
  },
  "language_info": {
   "codemirror_mode": {
    "name": "ipython",
    "version": 2
   },
   "file_extension": ".py",
   "mimetype": "text/x-python",
   "name": "python",
   "nbconvert_exporter": "python",
   "pygments_lexer": "ipython2",
   "version": "2.7.9"
  }
 },
 "nbformat": 4,
 "nbformat_minor": 2
}
