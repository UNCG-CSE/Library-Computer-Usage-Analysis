{
 "cells": [
  {
   "cell_type": "markdown",
   "metadata": {},
   "source": [
    "### Usage Histogram Interactive Plot"
   ]
  },
  {
   "cell_type": "markdown",
   "metadata": {},
   "source": [
    "similar in usage to: https://github.com/bokeh/bokeh/blob/master/examples/app/selection_histogram.py"
   ]
  },
  {
   "cell_type": "code",
   "execution_count": 1,
   "metadata": {
    "collapsed": true
   },
   "outputs": [],
   "source": [
    "import pandas as pd\n",
    "import numpy as np"
   ]
  },
  {
   "cell_type": "code",
   "execution_count": 2,
   "metadata": {
    "collapsed": true
   },
   "outputs": [],
   "source": [
    "import gzip\n",
    "import pickle"
   ]
  },
  {
   "cell_type": "markdown",
   "metadata": {},
   "source": [
    "This is the library data processed in the percent usage per hour."
   ]
  },
  {
   "cell_type": "code",
   "execution_count": 3,
   "metadata": {
    "collapsed": true
   },
   "outputs": [],
   "source": [
    "with gzip.open(r'../data/LibData.pkl.gz') as f:\n",
    "    libraryData = pickle.load(f)"
   ]
  },
  {
   "cell_type": "markdown",
   "metadata": {},
   "source": [
    "The dates here show the data from 3/24/10 - 10/19/17"
   ]
  },
  {
   "cell_type": "code",
   "execution_count": 4,
   "metadata": {},
   "outputs": [
    {
     "name": "stdout",
     "output_type": "stream",
     "text": [
      "<class 'pandas.core.frame.DataFrame'>\n",
      "DatetimeIndex: 66381 entries, 2010-03-24 12:00:00 to 2017-10-19 08:00:00\n",
      "Freq: H\n",
      "Columns: 312 entries, BL001 to TL902\n",
      "dtypes: float64(312)\n",
      "memory usage: 158.5 MB\n"
     ]
    }
   ],
   "source": [
    "libraryData.info()"
   ]
  },
  {
   "cell_type": "markdown",
   "metadata": {},
   "source": [
    "This is a grouping of the library data by average per hour using arbitrary endpoints."
   ]
  },
  {
   "cell_type": "code",
   "execution_count": 5,
   "metadata": {
    "collapsed": true
   },
   "outputs": [],
   "source": [
    "startDate = pd.to_datetime(\"2014-01-01\")\n",
    "endDate = pd.to_datetime(\"2017-12-31\")\n",
    "dateMask = (libraryData.index > startDate) & (libraryData.index < endDate)"
   ]
  },
  {
   "cell_type": "markdown",
   "metadata": {},
   "source": [
    "The computer attributes need to be loaded into a separate dataframe:"
   ]
  },
  {
   "cell_type": "code",
   "execution_count": 6,
   "metadata": {
    "collapsed": true
   },
   "outputs": [],
   "source": [
    "compAttrs = pd.read_csv(r'../data/computerAttributes.csv',header=0)"
   ]
  },
  {
   "cell_type": "code",
   "execution_count": 7,
   "metadata": {},
   "outputs": [
    {
     "name": "stdout",
     "output_type": "stream",
     "text": [
      "<class 'pandas.core.frame.DataFrame'>\n",
      "RangeIndex: 312 entries, 0 to 311\n",
      "Data columns (total 14 columns):\n",
      "dbID                  312 non-null int64\n",
      "computerName          312 non-null object\n",
      "requiresLogon         311 non-null float64\n",
      "isDesktop             311 non-null float64\n",
      "inJackson             311 non-null float64\n",
      "location              306 non-null object\n",
      "is245                 311 non-null float64\n",
      "floor                 245 non-null object\n",
      "numMonitors           304 non-null float64\n",
      "largeMonitor          238 non-null float64\n",
      "adjacentWindow        238 non-null float64\n",
      "collaborativeSpace    238 non-null float64\n",
      "roomIsolated          238 non-null float64\n",
      "inQuietArea           238 non-null float64\n",
      "dtypes: float64(10), int64(1), object(3)\n",
      "memory usage: 34.2+ KB\n"
     ]
    }
   ],
   "source": [
    "compAttrs.info()"
   ]
  },
  {
   "cell_type": "code",
   "execution_count": 8,
   "metadata": {
    "collapsed": true
   },
   "outputs": [],
   "source": [
    "booleanCols = [\"requiresLogon\",\n",
    "               \"isDesktop\",\n",
    "               \"inJackson\",\n",
    "               \"is245\",\n",
    "               \"largeMonitor\",\n",
    "               \"adjacentWindow\",\n",
    "               \"collaborativeSpace\",\n",
    "               \"roomIsolated\",\n",
    "               \"inQuietArea\"]"
   ]
  },
  {
   "cell_type": "markdown",
   "metadata": {},
   "source": [
    "Using the attributes from above as booleans, create a mask for the `compAttrs` dataframe, and return the names. Testing various attributes in the following array."
   ]
  },
  {
   "cell_type": "code",
   "execution_count": 9,
   "metadata": {
    "collapsed": true,
    "scrolled": true
   },
   "outputs": [],
   "source": [
    "attrsNamesMask = compAttrs[(compAttrs.requiresLogon       == True)\n",
    "                         & (compAttrs.isDesktop           == True)\n",
    "                         & (compAttrs.inJackson           == True)\n",
    "#                          & (compAttrs.is245               == True)\n",
    "#                          & (compAttrs.floor               == 2)  #this one doesn't work yet.\n",
    "#                          & (compAttrs.largeMonitor        == True)\n",
    "#                          & (compAttrs.adjacentWindow      == True)\n",
    "#                          & (compAttrs.collaborativeSpace  == True)\n",
    "#                          & (compAttrs.roomIsolated        == True)\n",
    "#                          & (compAttrs.inQuietArea         == True)\n",
    "                           ].computerName"
   ]
  },
  {
   "cell_type": "code",
   "execution_count": 10,
   "metadata": {
    "collapsed": true
   },
   "outputs": [],
   "source": [
    "libraryMeans = libraryData[dateMask].groupby(libraryData[dateMask].index.hour).mean()*100"
   ]
  },
  {
   "cell_type": "code",
   "execution_count": 11,
   "metadata": {
    "collapsed": true
   },
   "outputs": [],
   "source": [
    "libraryMeansNameMask = libraryMeans.loc[:,attrsNamesMask.values]"
   ]
  },
  {
   "cell_type": "code",
   "execution_count": 12,
   "metadata": {},
   "outputs": [
    {
     "data": {
      "text/html": [
       "<div>\n",
       "<style>\n",
       "    .dataframe thead tr:only-child th {\n",
       "        text-align: right;\n",
       "    }\n",
       "\n",
       "    .dataframe thead th {\n",
       "        text-align: left;\n",
       "    }\n",
       "\n",
       "    .dataframe tbody tr th {\n",
       "        vertical-align: top;\n",
       "    }\n",
       "</style>\n",
       "<table border=\"1\" class=\"dataframe\">\n",
       "  <thead>\n",
       "    <tr style=\"text-align: right;\">\n",
       "      <th></th>\n",
       "      <th>BL001</th>\n",
       "      <th>BL002</th>\n",
       "      <th>CITI001</th>\n",
       "      <th>CITI002</th>\n",
       "      <th>CITI003</th>\n",
       "      <th>CITI004</th>\n",
       "      <th>CITI005</th>\n",
       "      <th>CITI006</th>\n",
       "      <th>CITI007</th>\n",
       "      <th>CITI008</th>\n",
       "      <th>...</th>\n",
       "      <th>TC701</th>\n",
       "      <th>TL7001</th>\n",
       "      <th>TL702</th>\n",
       "      <th>TC8001</th>\n",
       "      <th>TL801</th>\n",
       "      <th>TL802</th>\n",
       "      <th>TC901</th>\n",
       "      <th>TL90003</th>\n",
       "      <th>TL901</th>\n",
       "      <th>TL902</th>\n",
       "    </tr>\n",
       "  </thead>\n",
       "  <tbody>\n",
       "    <tr>\n",
       "      <th>0</th>\n",
       "      <td>7.919358</td>\n",
       "      <td>6.505413</td>\n",
       "      <td>5.917757</td>\n",
       "      <td>6.831236</td>\n",
       "      <td>5.105177</td>\n",
       "      <td>3.904129</td>\n",
       "      <td>3.654862</td>\n",
       "      <td>8.502025</td>\n",
       "      <td>6.317602</td>\n",
       "      <td>3.532474</td>\n",
       "      <td>...</td>\n",
       "      <td>16.227139</td>\n",
       "      <td>15.863417</td>\n",
       "      <td>11.035971</td>\n",
       "      <td>9.245541</td>\n",
       "      <td>10.583019</td>\n",
       "      <td>11.146817</td>\n",
       "      <td>1.551217</td>\n",
       "      <td>3.073335</td>\n",
       "      <td>7.792467</td>\n",
       "      <td>16.559259</td>\n",
       "    </tr>\n",
       "    <tr>\n",
       "      <th>1</th>\n",
       "      <td>6.605202</td>\n",
       "      <td>5.206064</td>\n",
       "      <td>4.936570</td>\n",
       "      <td>6.107377</td>\n",
       "      <td>4.726449</td>\n",
       "      <td>3.135932</td>\n",
       "      <td>2.630313</td>\n",
       "      <td>7.107740</td>\n",
       "      <td>5.628477</td>\n",
       "      <td>2.575806</td>\n",
       "      <td>...</td>\n",
       "      <td>13.969767</td>\n",
       "      <td>14.172160</td>\n",
       "      <td>8.988107</td>\n",
       "      <td>8.316830</td>\n",
       "      <td>9.040848</td>\n",
       "      <td>8.691397</td>\n",
       "      <td>1.504919</td>\n",
       "      <td>3.014281</td>\n",
       "      <td>6.582077</td>\n",
       "      <td>14.132584</td>\n",
       "    </tr>\n",
       "    <tr>\n",
       "      <th>2</th>\n",
       "      <td>6.038368</td>\n",
       "      <td>4.303542</td>\n",
       "      <td>4.245557</td>\n",
       "      <td>5.409049</td>\n",
       "      <td>4.498580</td>\n",
       "      <td>2.756343</td>\n",
       "      <td>2.230482</td>\n",
       "      <td>6.218136</td>\n",
       "      <td>5.068355</td>\n",
       "      <td>2.099745</td>\n",
       "      <td>...</td>\n",
       "      <td>11.922185</td>\n",
       "      <td>12.570467</td>\n",
       "      <td>7.620449</td>\n",
       "      <td>7.478736</td>\n",
       "      <td>7.902697</td>\n",
       "      <td>7.833987</td>\n",
       "      <td>1.581627</td>\n",
       "      <td>2.789690</td>\n",
       "      <td>5.466827</td>\n",
       "      <td>13.144690</td>\n",
       "    </tr>\n",
       "    <tr>\n",
       "      <th>3</th>\n",
       "      <td>6.212687</td>\n",
       "      <td>3.667400</td>\n",
       "      <td>3.857458</td>\n",
       "      <td>5.278202</td>\n",
       "      <td>4.444149</td>\n",
       "      <td>2.503476</td>\n",
       "      <td>2.082033</td>\n",
       "      <td>5.516838</td>\n",
       "      <td>4.785545</td>\n",
       "      <td>1.908431</td>\n",
       "      <td>...</td>\n",
       "      <td>11.182654</td>\n",
       "      <td>12.317397</td>\n",
       "      <td>7.481264</td>\n",
       "      <td>7.057692</td>\n",
       "      <td>7.457800</td>\n",
       "      <td>7.580582</td>\n",
       "      <td>1.524965</td>\n",
       "      <td>2.782180</td>\n",
       "      <td>5.492212</td>\n",
       "      <td>13.481826</td>\n",
       "    </tr>\n",
       "    <tr>\n",
       "      <th>4</th>\n",
       "      <td>5.909924</td>\n",
       "      <td>3.158767</td>\n",
       "      <td>3.693379</td>\n",
       "      <td>5.227368</td>\n",
       "      <td>4.469294</td>\n",
       "      <td>2.499625</td>\n",
       "      <td>2.159071</td>\n",
       "      <td>5.260092</td>\n",
       "      <td>4.699053</td>\n",
       "      <td>1.780873</td>\n",
       "      <td>...</td>\n",
       "      <td>10.742113</td>\n",
       "      <td>11.770430</td>\n",
       "      <td>7.120327</td>\n",
       "      <td>6.483670</td>\n",
       "      <td>7.140074</td>\n",
       "      <td>7.428920</td>\n",
       "      <td>1.595684</td>\n",
       "      <td>2.529056</td>\n",
       "      <td>4.931993</td>\n",
       "      <td>12.957592</td>\n",
       "    </tr>\n",
       "  </tbody>\n",
       "</table>\n",
       "<p>5 rows × 201 columns</p>\n",
       "</div>"
      ],
      "text/plain": [
       "      BL001     BL002   CITI001   CITI002   CITI003   CITI004   CITI005  \\\n",
       "0  7.919358  6.505413  5.917757  6.831236  5.105177  3.904129  3.654862   \n",
       "1  6.605202  5.206064  4.936570  6.107377  4.726449  3.135932  2.630313   \n",
       "2  6.038368  4.303542  4.245557  5.409049  4.498580  2.756343  2.230482   \n",
       "3  6.212687  3.667400  3.857458  5.278202  4.444149  2.503476  2.082033   \n",
       "4  5.909924  3.158767  3.693379  5.227368  4.469294  2.499625  2.159071   \n",
       "\n",
       "    CITI006   CITI007   CITI008    ...          TC701     TL7001      TL702  \\\n",
       "0  8.502025  6.317602  3.532474    ...      16.227139  15.863417  11.035971   \n",
       "1  7.107740  5.628477  2.575806    ...      13.969767  14.172160   8.988107   \n",
       "2  6.218136  5.068355  2.099745    ...      11.922185  12.570467   7.620449   \n",
       "3  5.516838  4.785545  1.908431    ...      11.182654  12.317397   7.481264   \n",
       "4  5.260092  4.699053  1.780873    ...      10.742113  11.770430   7.120327   \n",
       "\n",
       "     TC8001      TL801      TL802     TC901   TL90003     TL901      TL902  \n",
       "0  9.245541  10.583019  11.146817  1.551217  3.073335  7.792467  16.559259  \n",
       "1  8.316830   9.040848   8.691397  1.504919  3.014281  6.582077  14.132584  \n",
       "2  7.478736   7.902697   7.833987  1.581627  2.789690  5.466827  13.144690  \n",
       "3  7.057692   7.457800   7.580582  1.524965  2.782180  5.492212  13.481826  \n",
       "4  6.483670   7.140074   7.428920  1.595684  2.529056  4.931993  12.957592  \n",
       "\n",
       "[5 rows x 201 columns]"
      ]
     },
     "execution_count": 12,
     "metadata": {},
     "output_type": "execute_result"
    }
   ],
   "source": [
    "libraryMeansNameMask.head()"
   ]
  },
  {
   "cell_type": "code",
   "execution_count": 13,
   "metadata": {
    "scrolled": false
   },
   "outputs": [
    {
     "name": "stdout",
     "output_type": "stream",
     "text": [
      "<class 'pandas.core.frame.DataFrame'>\n",
      "Int64Index: 24 entries, 0 to 23\n",
      "Columns: 201 entries, BL001 to TL902\n",
      "dtypes: float64(201)\n",
      "memory usage: 37.9 KB\n"
     ]
    }
   ],
   "source": [
    "libraryMeansNameMask.info()"
   ]
  },
  {
   "cell_type": "markdown",
   "metadata": {},
   "source": [
    "Since the format is a 24 (hours) x 312 (computers) matrix, and the scatter plot is looking for single-dimension arrays, the data needs to be unstacked into these arrays."
   ]
  },
  {
   "cell_type": "code",
   "execution_count": 14,
   "metadata": {
    "collapsed": true
   },
   "outputs": [],
   "source": [
    "meansUnstacked = libraryMeansNameMask.unstack().reset_index()\n",
    "meansUnstacked.columns = [\"comps\",\"hour\",\"means\"]"
   ]
  },
  {
   "cell_type": "markdown",
   "metadata": {},
   "source": [
    "Having an issue where the incrementing of the index is causing the scatter plot to shift over one. Experimenting with getting the index values in a merge."
   ]
  },
  {
   "cell_type": "code",
   "execution_count": 15,
   "metadata": {},
   "outputs": [
    {
     "data": {
      "text/html": [
       "<div>\n",
       "<style>\n",
       "    .dataframe thead tr:only-child th {\n",
       "        text-align: right;\n",
       "    }\n",
       "\n",
       "    .dataframe thead th {\n",
       "        text-align: left;\n",
       "    }\n",
       "\n",
       "    .dataframe tbody tr th {\n",
       "        vertical-align: top;\n",
       "    }\n",
       "</style>\n",
       "<table border=\"1\" class=\"dataframe\">\n",
       "  <thead>\n",
       "    <tr style=\"text-align: right;\">\n",
       "      <th></th>\n",
       "      <th>computerName</th>\n",
       "      <th>x_vals</th>\n",
       "    </tr>\n",
       "  </thead>\n",
       "  <tbody>\n",
       "    <tr>\n",
       "      <th>0</th>\n",
       "      <td>BL001</td>\n",
       "      <td>0</td>\n",
       "    </tr>\n",
       "    <tr>\n",
       "      <th>1</th>\n",
       "      <td>BL002</td>\n",
       "      <td>24</td>\n",
       "    </tr>\n",
       "    <tr>\n",
       "      <th>2</th>\n",
       "      <td>CITI001</td>\n",
       "      <td>48</td>\n",
       "    </tr>\n",
       "    <tr>\n",
       "      <th>3</th>\n",
       "      <td>CITI002</td>\n",
       "      <td>72</td>\n",
       "    </tr>\n",
       "    <tr>\n",
       "      <th>4</th>\n",
       "      <td>CITI003</td>\n",
       "      <td>96</td>\n",
       "    </tr>\n",
       "  </tbody>\n",
       "</table>\n",
       "</div>"
      ],
      "text/plain": [
       "  computerName  x_vals\n",
       "0        BL001       0\n",
       "1        BL002      24\n",
       "2      CITI001      48\n",
       "3      CITI002      72\n",
       "4      CITI003      96"
      ]
     },
     "execution_count": 15,
     "metadata": {},
     "output_type": "execute_result"
    }
   ],
   "source": [
    "attrsNamesMask = attrsNamesMask.reset_index().drop('index',axis=1)\n",
    "attrsNamesMask['x_vals'] = attrsNamesMask.index*24\n",
    "attrsNamesMask.head()"
   ]
  },
  {
   "cell_type": "code",
   "execution_count": 16,
   "metadata": {},
   "outputs": [
    {
     "data": {
      "text/html": [
       "<div>\n",
       "<style>\n",
       "    .dataframe thead tr:only-child th {\n",
       "        text-align: right;\n",
       "    }\n",
       "\n",
       "    .dataframe thead th {\n",
       "        text-align: left;\n",
       "    }\n",
       "\n",
       "    .dataframe tbody tr th {\n",
       "        vertical-align: top;\n",
       "    }\n",
       "</style>\n",
       "<table border=\"1\" class=\"dataframe\">\n",
       "  <thead>\n",
       "    <tr style=\"text-align: right;\">\n",
       "      <th></th>\n",
       "      <th>comps</th>\n",
       "      <th>hour</th>\n",
       "      <th>means</th>\n",
       "      <th>x_vals</th>\n",
       "    </tr>\n",
       "  </thead>\n",
       "  <tbody>\n",
       "    <tr>\n",
       "      <th>0</th>\n",
       "      <td>BL001</td>\n",
       "      <td>0</td>\n",
       "      <td>7.919358</td>\n",
       "      <td>0</td>\n",
       "    </tr>\n",
       "    <tr>\n",
       "      <th>1</th>\n",
       "      <td>BL001</td>\n",
       "      <td>1</td>\n",
       "      <td>6.605202</td>\n",
       "      <td>0</td>\n",
       "    </tr>\n",
       "    <tr>\n",
       "      <th>2</th>\n",
       "      <td>BL001</td>\n",
       "      <td>2</td>\n",
       "      <td>6.038368</td>\n",
       "      <td>0</td>\n",
       "    </tr>\n",
       "    <tr>\n",
       "      <th>3</th>\n",
       "      <td>BL001</td>\n",
       "      <td>3</td>\n",
       "      <td>6.212687</td>\n",
       "      <td>0</td>\n",
       "    </tr>\n",
       "    <tr>\n",
       "      <th>4</th>\n",
       "      <td>BL001</td>\n",
       "      <td>4</td>\n",
       "      <td>5.909924</td>\n",
       "      <td>0</td>\n",
       "    </tr>\n",
       "  </tbody>\n",
       "</table>\n",
       "</div>"
      ],
      "text/plain": [
       "   comps  hour     means  x_vals\n",
       "0  BL001     0  7.919358       0\n",
       "1  BL001     1  6.605202       0\n",
       "2  BL001     2  6.038368       0\n",
       "3  BL001     3  6.212687       0\n",
       "4  BL001     4  5.909924       0"
      ]
     },
     "execution_count": 16,
     "metadata": {},
     "output_type": "execute_result"
    }
   ],
   "source": [
    "meansUnstackedMerged = meansUnstacked.merge(attrsNamesMask, left_on='comps',right_on='computerName').drop('computerName',axis=1)\n",
    "meansUnstackedMerged.head()"
   ]
  },
  {
   "cell_type": "markdown",
   "metadata": {},
   "source": [
    "Since the number of machines in the later graph might change, going ahead here and setting variables based on the count of machines returned in the dataframe above:"
   ]
  },
  {
   "cell_type": "code",
   "execution_count": 17,
   "metadata": {},
   "outputs": [
    {
     "name": "stdout",
     "output_type": "stream",
     "text": [
      "4824\n",
      "4824\n"
     ]
    }
   ],
   "source": [
    "machineCount = meansUnstackedMerged.comps.unique().size\n",
    "recordCount = meansUnstackedMerged.index.size\n",
    "hourCount = 24\n",
    "print machineCount * hourCount\n",
    "print recordCount"
   ]
  },
  {
   "cell_type": "markdown",
   "metadata": {},
   "source": [
    "The Bokeh libraries necessary for this graph:"
   ]
  },
  {
   "cell_type": "code",
   "execution_count": 18,
   "metadata": {},
   "outputs": [
    {
     "data": {
      "text/html": [
       "\n",
       "    <div class=\"bk-root\">\n",
       "        <a href=\"https://bokeh.pydata.org\" target=\"_blank\" class=\"bk-logo bk-logo-small bk-logo-notebook\"></a>\n",
       "        <span id=\"b45fbfa5-cedd-4e4a-95de-ef690aa37043\">Loading BokehJS ...</span>\n",
       "    </div>"
      ]
     },
     "metadata": {},
     "output_type": "display_data"
    },
    {
     "data": {
      "application/javascript": [
       "\n",
       "(function(root) {\n",
       "  function now() {\n",
       "    return new Date();\n",
       "  }\n",
       "\n",
       "  var force = true;\n",
       "\n",
       "  if (typeof (root._bokeh_onload_callbacks) === \"undefined\" || force === true) {\n",
       "    root._bokeh_onload_callbacks = [];\n",
       "    root._bokeh_is_loading = undefined;\n",
       "  }\n",
       "\n",
       "  var JS_MIME_TYPE = 'application/javascript';\n",
       "  var HTML_MIME_TYPE = 'text/html';\n",
       "  var EXEC_MIME_TYPE = 'application/vnd.bokehjs_exec.v0+json';\n",
       "  var CLASS_NAME = 'output_bokeh rendered_html';\n",
       "\n",
       "  /**\n",
       "   * Render data to the DOM node\n",
       "   */\n",
       "  function render(props, node) {\n",
       "    var script = document.createElement(\"script\");\n",
       "    node.appendChild(script);\n",
       "  }\n",
       "\n",
       "  /**\n",
       "   * Handle when an output is cleared or removed\n",
       "   */\n",
       "  function handleClearOutput(event, handle) {\n",
       "    var cell = handle.cell;\n",
       "\n",
       "    var id = cell.output_area._bokeh_element_id;\n",
       "    var server_id = cell.output_area._bokeh_server_id;\n",
       "    // Clean up Bokeh references\n",
       "    if (id !== undefined) {\n",
       "      Bokeh.index[id].model.document.clear();\n",
       "      delete Bokeh.index[id];\n",
       "    }\n",
       "\n",
       "    if (server_id !== undefined) {\n",
       "      // Clean up Bokeh references\n",
       "      var cmd = \"from bokeh.io.state import curstate; print(curstate().uuid_to_server['\" + server_id + \"'].get_sessions()[0].document.roots[0]._id)\";\n",
       "      cell.notebook.kernel.execute(cmd, {\n",
       "        iopub: {\n",
       "          output: function(msg) {\n",
       "            var element_id = msg.content.text.trim();\n",
       "            Bokeh.index[element_id].model.document.clear();\n",
       "            delete Bokeh.index[element_id];\n",
       "          }\n",
       "        }\n",
       "      });\n",
       "      // Destroy server and session\n",
       "      var cmd = \"import bokeh.io.notebook as ion; ion.destroy_server('\" + server_id + \"')\";\n",
       "      cell.notebook.kernel.execute(cmd);\n",
       "    }\n",
       "  }\n",
       "\n",
       "  /**\n",
       "   * Handle when a new output is added\n",
       "   */\n",
       "  function handleAddOutput(event, handle) {\n",
       "    var output_area = handle.output_area;\n",
       "    var output = handle.output;\n",
       "\n",
       "    // limit handleAddOutput to display_data with EXEC_MIME_TYPE content only\n",
       "    if ((output.output_type != \"display_data\") || (!output.data.hasOwnProperty(EXEC_MIME_TYPE))) {\n",
       "      return\n",
       "    }\n",
       "\n",
       "    var toinsert = output_area.element.find(`.${CLASS_NAME.split(' ')[0]}`);\n",
       "\n",
       "    if (output.metadata[EXEC_MIME_TYPE][\"id\"] !== undefined) {\n",
       "      toinsert[0].firstChild.textContent = output.data[JS_MIME_TYPE];\n",
       "      // store reference to embed id on output_area\n",
       "      output_area._bokeh_element_id = output.metadata[EXEC_MIME_TYPE][\"id\"];\n",
       "    }\n",
       "    if (output.metadata[EXEC_MIME_TYPE][\"server_id\"] !== undefined) {\n",
       "      var bk_div = document.createElement(\"div\");\n",
       "      bk_div.innerHTML = output.data[HTML_MIME_TYPE];\n",
       "      var script_attrs = bk_div.children[0].attributes;\n",
       "      for (var i = 0; i < script_attrs.length; i++) {\n",
       "        toinsert[0].firstChild.setAttribute(script_attrs[i].name, script_attrs[i].value);\n",
       "      }\n",
       "      // store reference to server id on output_area\n",
       "      output_area._bokeh_server_id = output.metadata[EXEC_MIME_TYPE][\"server_id\"];\n",
       "    }\n",
       "  }\n",
       "\n",
       "  function register_renderer(events, OutputArea) {\n",
       "\n",
       "    function append_mime(data, metadata, element) {\n",
       "      // create a DOM node to render to\n",
       "      var toinsert = this.create_output_subarea(\n",
       "        metadata,\n",
       "        CLASS_NAME,\n",
       "        EXEC_MIME_TYPE\n",
       "      );\n",
       "      this.keyboard_manager.register_events(toinsert);\n",
       "      // Render to node\n",
       "      var props = {data: data, metadata: metadata[EXEC_MIME_TYPE]};\n",
       "      render(props, toinsert[0]);\n",
       "      element.append(toinsert);\n",
       "      return toinsert\n",
       "    }\n",
       "\n",
       "    /* Handle when an output is cleared or removed */\n",
       "    events.on('clear_output.CodeCell', handleClearOutput);\n",
       "    events.on('delete.Cell', handleClearOutput);\n",
       "\n",
       "    /* Handle when a new output is added */\n",
       "    events.on('output_added.OutputArea', handleAddOutput);\n",
       "\n",
       "    /**\n",
       "     * Register the mime type and append_mime function with output_area\n",
       "     */\n",
       "    OutputArea.prototype.register_mime_type(EXEC_MIME_TYPE, append_mime, {\n",
       "      /* Is output safe? */\n",
       "      safe: true,\n",
       "      /* Index of renderer in `output_area.display_order` */\n",
       "      index: 0\n",
       "    });\n",
       "  }\n",
       "\n",
       "  // register the mime type if in Jupyter Notebook environment and previously unregistered\n",
       "  if (root.Jupyter !== undefined) {\n",
       "    var events = require('base/js/events');\n",
       "    var OutputArea = require('notebook/js/outputarea').OutputArea;\n",
       "\n",
       "    if (OutputArea.prototype.mime_types().indexOf(EXEC_MIME_TYPE) == -1) {\n",
       "      register_renderer(events, OutputArea);\n",
       "    }\n",
       "  }\n",
       "\n",
       "  \n",
       "  if (typeof (root._bokeh_timeout) === \"undefined\" || force === true) {\n",
       "    root._bokeh_timeout = Date.now() + 5000;\n",
       "    root._bokeh_failed_load = false;\n",
       "  }\n",
       "\n",
       "  var NB_LOAD_WARNING = {'data': {'text/html':\n",
       "     \"<div style='background-color: #fdd'>\\n\"+\n",
       "     \"<p>\\n\"+\n",
       "     \"BokehJS does not appear to have successfully loaded. If loading BokehJS from CDN, this \\n\"+\n",
       "     \"may be due to a slow or bad network connection. Possible fixes:\\n\"+\n",
       "     \"</p>\\n\"+\n",
       "     \"<ul>\\n\"+\n",
       "     \"<li>re-rerun `output_notebook()` to attempt to load from CDN again, or</li>\\n\"+\n",
       "     \"<li>use INLINE resources instead, as so:</li>\\n\"+\n",
       "     \"</ul>\\n\"+\n",
       "     \"<code>\\n\"+\n",
       "     \"from bokeh.resources import INLINE\\n\"+\n",
       "     \"output_notebook(resources=INLINE)\\n\"+\n",
       "     \"</code>\\n\"+\n",
       "     \"</div>\"}};\n",
       "\n",
       "  function display_loaded() {\n",
       "    var el = document.getElementById(\"b45fbfa5-cedd-4e4a-95de-ef690aa37043\");\n",
       "    if (el != null) {\n",
       "      el.textContent = \"BokehJS is loading...\";\n",
       "    }\n",
       "    if (root.Bokeh !== undefined) {\n",
       "      if (el != null) {\n",
       "        el.textContent = \"BokehJS \" + root.Bokeh.version + \" successfully loaded.\";\n",
       "      }\n",
       "    } else if (Date.now() < root._bokeh_timeout) {\n",
       "      setTimeout(display_loaded, 100)\n",
       "    }\n",
       "  }\n",
       "\n",
       "\n",
       "  function run_callbacks() {\n",
       "    try {\n",
       "      root._bokeh_onload_callbacks.forEach(function(callback) { callback() });\n",
       "    }\n",
       "    finally {\n",
       "      delete root._bokeh_onload_callbacks\n",
       "    }\n",
       "    console.info(\"Bokeh: all callbacks have finished\");\n",
       "  }\n",
       "\n",
       "  function load_libs(js_urls, callback) {\n",
       "    root._bokeh_onload_callbacks.push(callback);\n",
       "    if (root._bokeh_is_loading > 0) {\n",
       "      console.log(\"Bokeh: BokehJS is being loaded, scheduling callback at\", now());\n",
       "      return null;\n",
       "    }\n",
       "    if (js_urls == null || js_urls.length === 0) {\n",
       "      run_callbacks();\n",
       "      return null;\n",
       "    }\n",
       "    console.log(\"Bokeh: BokehJS not loaded, scheduling load and callback at\", now());\n",
       "    root._bokeh_is_loading = js_urls.length;\n",
       "    for (var i = 0; i < js_urls.length; i++) {\n",
       "      var url = js_urls[i];\n",
       "      var s = document.createElement('script');\n",
       "      s.src = url;\n",
       "      s.async = false;\n",
       "      s.onreadystatechange = s.onload = function() {\n",
       "        root._bokeh_is_loading--;\n",
       "        if (root._bokeh_is_loading === 0) {\n",
       "          console.log(\"Bokeh: all BokehJS libraries loaded\");\n",
       "          run_callbacks()\n",
       "        }\n",
       "      };\n",
       "      s.onerror = function() {\n",
       "        console.warn(\"failed to load library \" + url);\n",
       "      };\n",
       "      console.log(\"Bokeh: injecting script tag for BokehJS library: \", url);\n",
       "      document.getElementsByTagName(\"head\")[0].appendChild(s);\n",
       "    }\n",
       "  };var element = document.getElementById(\"b45fbfa5-cedd-4e4a-95de-ef690aa37043\");\n",
       "  if (element == null) {\n",
       "    console.log(\"Bokeh: ERROR: autoload.js configured with elementid 'b45fbfa5-cedd-4e4a-95de-ef690aa37043' but no matching script tag was found. \")\n",
       "    return false;\n",
       "  }\n",
       "\n",
       "  var js_urls = [\"https://cdn.pydata.org/bokeh/release/bokeh-0.12.10.min.js\", \"https://cdn.pydata.org/bokeh/release/bokeh-widgets-0.12.10.min.js\", \"https://cdn.pydata.org/bokeh/release/bokeh-tables-0.12.10.min.js\", \"https://cdn.pydata.org/bokeh/release/bokeh-gl-0.12.10.min.js\"];\n",
       "\n",
       "  var inline_js = [\n",
       "    function(Bokeh) {\n",
       "      Bokeh.set_log_level(\"info\");\n",
       "    },\n",
       "    \n",
       "    function(Bokeh) {\n",
       "      \n",
       "    },\n",
       "    function(Bokeh) {\n",
       "      console.log(\"Bokeh: injecting CSS: https://cdn.pydata.org/bokeh/release/bokeh-0.12.10.min.css\");\n",
       "      Bokeh.embed.inject_css(\"https://cdn.pydata.org/bokeh/release/bokeh-0.12.10.min.css\");\n",
       "      console.log(\"Bokeh: injecting CSS: https://cdn.pydata.org/bokeh/release/bokeh-widgets-0.12.10.min.css\");\n",
       "      Bokeh.embed.inject_css(\"https://cdn.pydata.org/bokeh/release/bokeh-widgets-0.12.10.min.css\");\n",
       "      console.log(\"Bokeh: injecting CSS: https://cdn.pydata.org/bokeh/release/bokeh-tables-0.12.10.min.css\");\n",
       "      Bokeh.embed.inject_css(\"https://cdn.pydata.org/bokeh/release/bokeh-tables-0.12.10.min.css\");\n",
       "    }\n",
       "  ];\n",
       "\n",
       "  function run_inline_js() {\n",
       "    \n",
       "    if ((root.Bokeh !== undefined) || (force === true)) {\n",
       "      for (var i = 0; i < inline_js.length; i++) {\n",
       "        inline_js[i].call(root, root.Bokeh);\n",
       "      }if (force === true) {\n",
       "        display_loaded();\n",
       "      }} else if (Date.now() < root._bokeh_timeout) {\n",
       "      setTimeout(run_inline_js, 100);\n",
       "    } else if (!root._bokeh_failed_load) {\n",
       "      console.log(\"Bokeh: BokehJS failed to load within specified timeout.\");\n",
       "      root._bokeh_failed_load = true;\n",
       "    } else if (force !== true) {\n",
       "      var cell = $(document.getElementById(\"b45fbfa5-cedd-4e4a-95de-ef690aa37043\")).parents('.cell').data().cell;\n",
       "      cell.output_area.append_execute_result(NB_LOAD_WARNING)\n",
       "    }\n",
       "\n",
       "  }\n",
       "\n",
       "  if (root._bokeh_is_loading === 0) {\n",
       "    console.log(\"Bokeh: BokehJS loaded, going straight to plotting\");\n",
       "    run_inline_js();\n",
       "  } else {\n",
       "    load_libs(js_urls, function() {\n",
       "      console.log(\"Bokeh: BokehJS plotting callback run at\", now());\n",
       "      run_inline_js();\n",
       "    });\n",
       "  }\n",
       "}(window));"
      ],
      "application/vnd.bokehjs_load.v0+json": "\n(function(root) {\n  function now() {\n    return new Date();\n  }\n\n  var force = true;\n\n  if (typeof (root._bokeh_onload_callbacks) === \"undefined\" || force === true) {\n    root._bokeh_onload_callbacks = [];\n    root._bokeh_is_loading = undefined;\n  }\n\n  \n\n  \n  if (typeof (root._bokeh_timeout) === \"undefined\" || force === true) {\n    root._bokeh_timeout = Date.now() + 5000;\n    root._bokeh_failed_load = false;\n  }\n\n  var NB_LOAD_WARNING = {'data': {'text/html':\n     \"<div style='background-color: #fdd'>\\n\"+\n     \"<p>\\n\"+\n     \"BokehJS does not appear to have successfully loaded. If loading BokehJS from CDN, this \\n\"+\n     \"may be due to a slow or bad network connection. Possible fixes:\\n\"+\n     \"</p>\\n\"+\n     \"<ul>\\n\"+\n     \"<li>re-rerun `output_notebook()` to attempt to load from CDN again, or</li>\\n\"+\n     \"<li>use INLINE resources instead, as so:</li>\\n\"+\n     \"</ul>\\n\"+\n     \"<code>\\n\"+\n     \"from bokeh.resources import INLINE\\n\"+\n     \"output_notebook(resources=INLINE)\\n\"+\n     \"</code>\\n\"+\n     \"</div>\"}};\n\n  function display_loaded() {\n    var el = document.getElementById(\"b45fbfa5-cedd-4e4a-95de-ef690aa37043\");\n    if (el != null) {\n      el.textContent = \"BokehJS is loading...\";\n    }\n    if (root.Bokeh !== undefined) {\n      if (el != null) {\n        el.textContent = \"BokehJS \" + root.Bokeh.version + \" successfully loaded.\";\n      }\n    } else if (Date.now() < root._bokeh_timeout) {\n      setTimeout(display_loaded, 100)\n    }\n  }\n\n\n  function run_callbacks() {\n    try {\n      root._bokeh_onload_callbacks.forEach(function(callback) { callback() });\n    }\n    finally {\n      delete root._bokeh_onload_callbacks\n    }\n    console.info(\"Bokeh: all callbacks have finished\");\n  }\n\n  function load_libs(js_urls, callback) {\n    root._bokeh_onload_callbacks.push(callback);\n    if (root._bokeh_is_loading > 0) {\n      console.log(\"Bokeh: BokehJS is being loaded, scheduling callback at\", now());\n      return null;\n    }\n    if (js_urls == null || js_urls.length === 0) {\n      run_callbacks();\n      return null;\n    }\n    console.log(\"Bokeh: BokehJS not loaded, scheduling load and callback at\", now());\n    root._bokeh_is_loading = js_urls.length;\n    for (var i = 0; i < js_urls.length; i++) {\n      var url = js_urls[i];\n      var s = document.createElement('script');\n      s.src = url;\n      s.async = false;\n      s.onreadystatechange = s.onload = function() {\n        root._bokeh_is_loading--;\n        if (root._bokeh_is_loading === 0) {\n          console.log(\"Bokeh: all BokehJS libraries loaded\");\n          run_callbacks()\n        }\n      };\n      s.onerror = function() {\n        console.warn(\"failed to load library \" + url);\n      };\n      console.log(\"Bokeh: injecting script tag for BokehJS library: \", url);\n      document.getElementsByTagName(\"head\")[0].appendChild(s);\n    }\n  };var element = document.getElementById(\"b45fbfa5-cedd-4e4a-95de-ef690aa37043\");\n  if (element == null) {\n    console.log(\"Bokeh: ERROR: autoload.js configured with elementid 'b45fbfa5-cedd-4e4a-95de-ef690aa37043' but no matching script tag was found. \")\n    return false;\n  }\n\n  var js_urls = [\"https://cdn.pydata.org/bokeh/release/bokeh-0.12.10.min.js\", \"https://cdn.pydata.org/bokeh/release/bokeh-widgets-0.12.10.min.js\", \"https://cdn.pydata.org/bokeh/release/bokeh-tables-0.12.10.min.js\", \"https://cdn.pydata.org/bokeh/release/bokeh-gl-0.12.10.min.js\"];\n\n  var inline_js = [\n    function(Bokeh) {\n      Bokeh.set_log_level(\"info\");\n    },\n    \n    function(Bokeh) {\n      \n    },\n    function(Bokeh) {\n      console.log(\"Bokeh: injecting CSS: https://cdn.pydata.org/bokeh/release/bokeh-0.12.10.min.css\");\n      Bokeh.embed.inject_css(\"https://cdn.pydata.org/bokeh/release/bokeh-0.12.10.min.css\");\n      console.log(\"Bokeh: injecting CSS: https://cdn.pydata.org/bokeh/release/bokeh-widgets-0.12.10.min.css\");\n      Bokeh.embed.inject_css(\"https://cdn.pydata.org/bokeh/release/bokeh-widgets-0.12.10.min.css\");\n      console.log(\"Bokeh: injecting CSS: https://cdn.pydata.org/bokeh/release/bokeh-tables-0.12.10.min.css\");\n      Bokeh.embed.inject_css(\"https://cdn.pydata.org/bokeh/release/bokeh-tables-0.12.10.min.css\");\n    }\n  ];\n\n  function run_inline_js() {\n    \n    if ((root.Bokeh !== undefined) || (force === true)) {\n      for (var i = 0; i < inline_js.length; i++) {\n        inline_js[i].call(root, root.Bokeh);\n      }if (force === true) {\n        display_loaded();\n      }} else if (Date.now() < root._bokeh_timeout) {\n      setTimeout(run_inline_js, 100);\n    } else if (!root._bokeh_failed_load) {\n      console.log(\"Bokeh: BokehJS failed to load within specified timeout.\");\n      root._bokeh_failed_load = true;\n    } else if (force !== true) {\n      var cell = $(document.getElementById(\"b45fbfa5-cedd-4e4a-95de-ef690aa37043\")).parents('.cell').data().cell;\n      cell.output_area.append_execute_result(NB_LOAD_WARNING)\n    }\n\n  }\n\n  if (root._bokeh_is_loading === 0) {\n    console.log(\"Bokeh: BokehJS loaded, going straight to plotting\");\n    run_inline_js();\n  } else {\n    load_libs(js_urls, function() {\n      console.log(\"Bokeh: BokehJS plotting callback run at\", now());\n      run_inline_js();\n    });\n  }\n}(window));"
     },
     "metadata": {},
     "output_type": "display_data"
    }
   ],
   "source": [
    "from bokeh.layouts import row, column\n",
    "from bokeh.models import(\n",
    "                BoxSelectTool, \n",
    "                LassoSelectTool, \n",
    "                Spacer, \n",
    "                FuncTickFormatter, \n",
    "                FixedTicker, \n",
    "                HoverTool, \n",
    "                ColumnDataSource, \n",
    "                LinearColorMapper,\n",
    "                ColorBar, \n",
    "                BasicTicker, PrintfTickFormatter)\n",
    "from bokeh.plotting import figure, output_file, output_notebook, show, save\n",
    "output_notebook()"
   ]
  },
  {
   "cell_type": "markdown",
   "metadata": {},
   "source": [
    "Bokeh allows a number of tools included in the tool bar adjacent to the graph. Testing the tools available and configurations for each. Hover, in this case, uses the data from the ColumnDataSource to populate the tooltips."
   ]
  },
  {
   "cell_type": "code",
   "execution_count": 19,
   "metadata": {
    "collapsed": true
   },
   "outputs": [],
   "source": [
    "hover = HoverTool(\n",
    "    tooltips=[\n",
    "        (\"Computer\", \"@comps\"),\n",
    "        (\"Hour\", \"$y{0}:00\"),\n",
    "        (\"Pct Use\",\"@means\")\n",
    "    ],\n",
    "    formatters={\"Hour\":\"datetime\"}\n",
    ")\n",
    "#TOOLS=[hover,\"crosshair,pan,wheel_zoom,zoom_in,zoom_out,box_zoom,undo,redo,reset,tap,save,box_select,poly_select,lasso_select\"]\n",
    "TOOLS=[hover,\"crosshair,pan,wheel_zoom,box_zoom,reset,tap,save,box_select,poly_select,lasso_select\"]"
   ]
  },
  {
   "cell_type": "markdown",
   "metadata": {},
   "source": [
    "This ColumnDataSource is necessary to pass the dataframe values to the scatter plot later."
   ]
  },
  {
   "cell_type": "code",
   "execution_count": 20,
   "metadata": {
    "collapsed": true
   },
   "outputs": [],
   "source": [
    "source = ColumnDataSource.from_df(meansUnstackedMerged)"
   ]
  },
  {
   "cell_type": "code",
   "execution_count": 21,
   "metadata": {
    "collapsed": true
   },
   "outputs": [],
   "source": [
    "colors = [\"#1c204e\",\"#232863\",\"#2a3079\",\"#30388e\",\"#3740a4\",\"#7c7c7c\",\"#8a8a8a\",\"#989898\",\"#a6a6a6\"][::-1]\n",
    "mapper = LinearColorMapper(palette=colors, low=meansUnstackedMerged.means.min(), high=meansUnstackedMerged.means.max())"
   ]
  },
  {
   "cell_type": "markdown",
   "metadata": {},
   "source": [
    "These are the basic commands to create the graph known as `mainGraph`. The `select()` commands are perceived to improve performance on large datasets"
   ]
  },
  {
   "cell_type": "code",
   "execution_count": 22,
   "metadata": {
    "collapsed": true
   },
   "outputs": [],
   "source": [
    "mainGraph = figure(tools=TOOLS, plot_width=900, plot_height=600,\n",
    "                     min_border=10, min_border_left=50,\n",
    "                     toolbar_location=\"above\",\n",
    "                     x_axis_location=None, # this is left in, as the x-axis ticks are hard to read zoomed out.\n",
    "                     #y_axis_location=None, \n",
    "                     title=\"Library Usage: Average Percent Utilization per Hour\")\n",
    "mainGraph.background_fill_color = \"#fafafa\"\n",
    "mainGraph.select(BoxSelectTool).select_every_mousemove = False\n",
    "mainGraph.select(LassoSelectTool).select_every_mousemove = False"
   ]
  },
  {
   "cell_type": "markdown",
   "metadata": {},
   "source": [
    "Formatting the tickers requires some finesse. This first example uses some JavaScript to format the tick values to a 24-hour clock, and then constrain it to integers."
   ]
  },
  {
   "cell_type": "code",
   "execution_count": 23,
   "metadata": {
    "collapsed": true
   },
   "outputs": [],
   "source": [
    "mainGraph.yaxis.formatter = FuncTickFormatter(code=\"\"\"return Math.floor(tick)+':00'\"\"\")\n",
    "mainGraph.yaxis.ticker = FixedTicker(ticks = range(0,24))"
   ]
  },
  {
   "cell_type": "markdown",
   "metadata": {},
   "source": [
    "Formatting the xaxis requires aligning the computernames to the values within the unstacked dataframe. This is omitted for now. "
   ]
  },
  {
   "cell_type": "code",
   "execution_count": 24,
   "metadata": {
    "collapsed": true
   },
   "outputs": [],
   "source": [
    "# keys=range(0,recordCount,hourCount)\n",
    "# values=list(meansUnstacked.comps.unique())\n",
    "# graphCompIndex = dict(zip(keys,values))\n",
    "# mainGraph.xaxis.ticker = FixedTicker(ticks = range(0,recordCount,hourCount))\n",
    "# mainGraph.xaxis.major_label_overrides = graphCompIndex"
   ]
  },
  {
   "cell_type": "code",
   "execution_count": 25,
   "metadata": {},
   "outputs": [
    {
     "data": {
      "text/html": [
       "\n",
       "<div class=\"bk-root\">\n",
       "    <div class=\"bk-plotdiv\" id=\"beb5d261-7bae-4a67-9323-cbe30b582ad0\"></div>\n",
       "</div>"
      ]
     },
     "metadata": {},
     "output_type": "display_data"
    },
    {
     "data": {
      "application/javascript": [
       "(function(root) {\n",
       "  function embed_document(root) {\n",
       "    var docs_json = {\"574cbe07-a8c1-4a78-ad41-0a899fc21a70\":{\"roots\":{\"references\":[{\"attributes\":{\"fill_alpha\":{\"value\":0.5},\"fill_color\":{\"value\":\"lightgrey\"},\"level\":\"overlay\",\"line_alpha\":{\"value\":1.0},\"line_color\":{\"value\":\"black\"},\"line_dash\":[4,4],\"line_width\":{\"value\":2},\"plot\":null,\"xs_units\":\"screen\",\"ys_units\":\"screen\"},\"id\":\"7463cc97-ee22-49c1-8b0c-313c6bad385e\",\"type\":\"PolyAnnotation\"},{\"attributes\":{\"callback\":null},\"id\":\"b5a27e38-eb2d-4ba1-9d91-b91719568b1e\",\"type\":\"DataRange1d\"},{\"attributes\":{\"fill_alpha\":{\"value\":0.5},\"fill_color\":{\"value\":\"lightgrey\"},\"level\":\"overlay\",\"line_alpha\":{\"value\":1.0},\"line_color\":{\"value\":\"black\"},\"line_dash\":[4,4],\"line_width\":{\"value\":2},\"plot\":null,\"xs_units\":\"screen\",\"ys_units\":\"screen\"},\"id\":\"e3d725e5-23f0-4e60-b368-0efe3bdf103f\",\"type\":\"PolyAnnotation\"},{\"attributes\":{\"plot\":null,\"text\":\"Library Usage: Average Percent Utilization per Hour\"},\"id\":\"480f37b1-2af8-488f-8481-b8682631aa24\",\"type\":\"Title\"},{\"attributes\":{\"ticks\":[0,1,2,3,4,5,6,7,8,9,10,11,12,13,14,15,16,17,18,19,20,21,22,23]},\"id\":\"31baad53-1420-4308-8f93-03be8021203c\",\"type\":\"FixedTicker\"},{\"attributes\":{\"desired_num_ticks\":9},\"id\":\"3c270cc8-41f4-4a24-ace6-99e32fcd8088\",\"type\":\"BasicTicker\"},{\"attributes\":{},\"id\":\"81a57fc9-1a6e-4b40-b0a1-12767fe519c5\",\"type\":\"ResetTool\"},{\"attributes\":{},\"id\":\"60d522f3-4962-482e-8aaf-784ce1613c78\",\"type\":\"SaveTool\"},{\"attributes\":{\"callback\":null},\"id\":\"09745199-f601-456b-9828-ba6dc0bc78ab\",\"type\":\"DataRange1d\"},{\"attributes\":{\"dimension\":1,\"plot\":{\"id\":\"f684b2d0-7465-4224-8762-2dc800d94043\",\"subtype\":\"Figure\",\"type\":\"Plot\"},\"ticker\":{\"id\":\"b54901ff-fe10-49cd-98c1-b28a0be094d3\",\"type\":\"BasicTicker\"}},\"id\":\"35558352-0c52-411b-9560-504101e826e6\",\"type\":\"Grid\"},{\"attributes\":{},\"id\":\"7bfedef0-0e70-4015-a237-2d752101f301\",\"type\":\"BasicTicker\"},{\"attributes\":{\"source\":{\"id\":\"bb3d6be3-8471-4a4e-a015-5f9692dd74de\",\"type\":\"ColumnDataSource\"}},\"id\":\"e1354fa2-0300-4bca-9286-4884a8915f6f\",\"type\":\"CDSView\"},{\"attributes\":{\"plot\":{\"id\":\"f684b2d0-7465-4224-8762-2dc800d94043\",\"subtype\":\"Figure\",\"type\":\"Plot\"},\"ticker\":{\"id\":\"7bfedef0-0e70-4015-a237-2d752101f301\",\"type\":\"BasicTicker\"}},\"id\":\"6ccd57db-04d8-4d07-85be-521fc4c682f7\",\"type\":\"Grid\"},{\"attributes\":{},\"id\":\"ae0de937-1afe-4fb8-9cec-02ade3812dd8\",\"type\":\"LinearScale\"},{\"attributes\":{},\"id\":\"b54901ff-fe10-49cd-98c1-b28a0be094d3\",\"type\":\"BasicTicker\"},{\"attributes\":{\"fill_alpha\":{\"value\":0.1},\"fill_color\":{\"value\":\"#1f77b4\"},\"height\":{\"units\":\"data\",\"value\":1},\"line_alpha\":{\"value\":0.1},\"line_color\":{\"value\":\"#1f77b4\"},\"width\":{\"units\":\"data\",\"value\":24},\"x\":{\"field\":\"x_vals\"},\"y\":{\"field\":\"hour\"}},\"id\":\"ff56c615-51f5-4186-919b-e40ea615ba05\",\"type\":\"Rect\"},{\"attributes\":{\"callback\":null,\"overlay\":{\"id\":\"7463cc97-ee22-49c1-8b0c-313c6bad385e\",\"type\":\"PolyAnnotation\"},\"select_every_mousemove\":false},\"id\":\"4032862b-f510-4c56-9ee9-6f45afbddd41\",\"type\":\"LassoSelectTool\"},{\"attributes\":{\"color_mapper\":{\"id\":\"24bd8063-7ea3-44aa-9057-ee194a625fd5\",\"type\":\"LinearColorMapper\"},\"formatter\":{\"id\":\"3d422d2e-17e2-44f5-a15a-a17bb14986f0\",\"type\":\"PrintfTickFormatter\"},\"label_standoff\":10,\"location\":[0,0],\"major_label_text_font_size\":{\"value\":\"10pt\"},\"plot\":{\"id\":\"f684b2d0-7465-4224-8762-2dc800d94043\",\"subtype\":\"Figure\",\"type\":\"Plot\"},\"ticker\":{\"id\":\"3c270cc8-41f4-4a24-ace6-99e32fcd8088\",\"type\":\"BasicTicker\"}},\"id\":\"5c4758c4-83d8-4b05-b89c-6148bbda4275\",\"type\":\"ColorBar\"},{\"attributes\":{\"callback\":null},\"id\":\"97a6d4b4-73ac-4920-9a6f-0b335ae9025f\",\"type\":\"TapTool\"},{\"attributes\":{\"high\":64.12592523832413,\"low\":0.0,\"palette\":[\"#a6a6a6\",\"#989898\",\"#8a8a8a\",\"#7c7c7c\",\"#3740a4\",\"#30388e\",\"#2a3079\",\"#232863\",\"#1c204e\"]},\"id\":\"24bd8063-7ea3-44aa-9057-ee194a625fd5\",\"type\":\"LinearColorMapper\"},{\"attributes\":{},\"id\":\"f71ef978-e0d0-4848-827f-e98dfa2c737b\",\"type\":\"LinearScale\"},{\"attributes\":{},\"id\":\"4ea6a2fc-5041-4501-8524-a9298e312153\",\"type\":\"CrosshairTool\"},{\"attributes\":{},\"id\":\"52dec131-7f82-495a-b440-2a09d0be5912\",\"type\":\"WheelZoomTool\"},{\"attributes\":{\"active_drag\":\"auto\",\"active_inspect\":\"auto\",\"active_scroll\":\"auto\",\"active_tap\":\"auto\",\"tools\":[{\"id\":\"4db67203-5a73-4e1f-86e4-9c0931bc53b3\",\"type\":\"HoverTool\"},{\"id\":\"4ea6a2fc-5041-4501-8524-a9298e312153\",\"type\":\"CrosshairTool\"},{\"id\":\"6745c54f-b6f5-4f79-ab1f-4da8d5c3c65f\",\"type\":\"PanTool\"},{\"id\":\"52dec131-7f82-495a-b440-2a09d0be5912\",\"type\":\"WheelZoomTool\"},{\"id\":\"6687429f-871c-4654-bf29-05f049e11f43\",\"type\":\"BoxZoomTool\"},{\"id\":\"81a57fc9-1a6e-4b40-b0a1-12767fe519c5\",\"type\":\"ResetTool\"},{\"id\":\"97a6d4b4-73ac-4920-9a6f-0b335ae9025f\",\"type\":\"TapTool\"},{\"id\":\"60d522f3-4962-482e-8aaf-784ce1613c78\",\"type\":\"SaveTool\"},{\"id\":\"b408067a-7168-49a1-b13a-9a1414fdf64d\",\"type\":\"BoxSelectTool\"},{\"id\":\"e6529e10-7cef-4e1b-a6af-997f4f77094e\",\"type\":\"PolySelectTool\"},{\"id\":\"4032862b-f510-4c56-9ee9-6f45afbddd41\",\"type\":\"LassoSelectTool\"}]},\"id\":\"6bd05721-0d61-4962-a4b7-a68cd53ad351\",\"type\":\"Toolbar\"},{\"attributes\":{\"bottom_units\":\"screen\",\"fill_alpha\":{\"value\":0.5},\"fill_color\":{\"value\":\"lightgrey\"},\"left_units\":\"screen\",\"level\":\"overlay\",\"line_alpha\":{\"value\":1.0},\"line_color\":{\"value\":\"black\"},\"line_dash\":[4,4],\"line_width\":{\"value\":2},\"plot\":null,\"render_mode\":\"css\",\"right_units\":\"screen\",\"top_units\":\"screen\"},\"id\":\"15c71778-a529-4217-b2fe-d246d82376c2\",\"type\":\"BoxAnnotation\"},{\"attributes\":{\"code\":\"return Math.floor(tick)+':00'\"},\"id\":\"60fdb5e8-e53d-4361-8e3e-219e67da30ed\",\"type\":\"FuncTickFormatter\"},{\"attributes\":{\"callback\":null,\"formatters\":{\"Hour\":\"datetime\"},\"tooltips\":[[\"Computer\",\"@comps\"],[\"Hour\",\"$y{0}:00\"],[\"Pct Use\",\"@means\"]]},\"id\":\"4db67203-5a73-4e1f-86e4-9c0931bc53b3\",\"type\":\"HoverTool\"},{\"attributes\":{\"format\":\"%d%%\"},\"id\":\"3d422d2e-17e2-44f5-a15a-a17bb14986f0\",\"type\":\"PrintfTickFormatter\"},{\"attributes\":{\"callback\":null,\"overlay\":{\"id\":\"e3d725e5-23f0-4e60-b368-0efe3bdf103f\",\"type\":\"PolyAnnotation\"}},\"id\":\"e6529e10-7cef-4e1b-a6af-997f4f77094e\",\"type\":\"PolySelectTool\"},{\"attributes\":{\"background_fill_color\":{\"value\":\"#fafafa\"},\"left\":[{\"id\":\"40133b86-182d-449d-b5dc-5b8d3767266f\",\"type\":\"LinearAxis\"}],\"min_border\":10,\"min_border_left\":50,\"plot_width\":900,\"renderers\":[{\"id\":\"6ccd57db-04d8-4d07-85be-521fc4c682f7\",\"type\":\"Grid\"},{\"id\":\"40133b86-182d-449d-b5dc-5b8d3767266f\",\"type\":\"LinearAxis\"},{\"id\":\"35558352-0c52-411b-9560-504101e826e6\",\"type\":\"Grid\"},{\"id\":\"15c71778-a529-4217-b2fe-d246d82376c2\",\"type\":\"BoxAnnotation\"},{\"id\":\"bcabcfa4-b52e-4ae5-b765-9451027fe07d\",\"type\":\"BoxAnnotation\"},{\"id\":\"e3d725e5-23f0-4e60-b368-0efe3bdf103f\",\"type\":\"PolyAnnotation\"},{\"id\":\"7463cc97-ee22-49c1-8b0c-313c6bad385e\",\"type\":\"PolyAnnotation\"},{\"id\":\"cdc5cbdc-41a9-43ee-a459-d0c0a06230da\",\"type\":\"GlyphRenderer\"},{\"id\":\"5c4758c4-83d8-4b05-b89c-6148bbda4275\",\"type\":\"ColorBar\"}],\"right\":[{\"id\":\"5c4758c4-83d8-4b05-b89c-6148bbda4275\",\"type\":\"ColorBar\"}],\"title\":{\"id\":\"480f37b1-2af8-488f-8481-b8682631aa24\",\"type\":\"Title\"},\"toolbar\":{\"id\":\"6bd05721-0d61-4962-a4b7-a68cd53ad351\",\"type\":\"Toolbar\"},\"toolbar_location\":\"above\",\"x_range\":{\"id\":\"09745199-f601-456b-9828-ba6dc0bc78ab\",\"type\":\"DataRange1d\"},\"x_scale\":{\"id\":\"ae0de937-1afe-4fb8-9cec-02ade3812dd8\",\"type\":\"LinearScale\"},\"y_range\":{\"id\":\"b5a27e38-eb2d-4ba1-9d91-b91719568b1e\",\"type\":\"DataRange1d\"},\"y_scale\":{\"id\":\"f71ef978-e0d0-4848-827f-e98dfa2c737b\",\"type\":\"LinearScale\"}},\"id\":\"f684b2d0-7465-4224-8762-2dc800d94043\",\"subtype\":\"Figure\",\"type\":\"Plot\"},{\"attributes\":{\"formatter\":{\"id\":\"60fdb5e8-e53d-4361-8e3e-219e67da30ed\",\"type\":\"FuncTickFormatter\"},\"plot\":{\"id\":\"f684b2d0-7465-4224-8762-2dc800d94043\",\"subtype\":\"Figure\",\"type\":\"Plot\"},\"ticker\":{\"id\":\"31baad53-1420-4308-8f93-03be8021203c\",\"type\":\"FixedTicker\"}},\"id\":\"40133b86-182d-449d-b5dc-5b8d3767266f\",\"type\":\"LinearAxis\"},{\"attributes\":{\"fill_color\":{\"field\":\"means\",\"transform\":{\"id\":\"24bd8063-7ea3-44aa-9057-ee194a625fd5\",\"type\":\"LinearColorMapper\"}},\"height\":{\"units\":\"data\",\"value\":1},\"line_color\":{\"value\":null},\"width\":{\"units\":\"data\",\"value\":24},\"x\":{\"field\":\"x_vals\"},\"y\":{\"field\":\"hour\"}},\"id\":\"8bb5069c-5e89-4e46-912b-4834499c7f75\",\"type\":\"Rect\"},{\"attributes\":{\"callback\":null,\"column_names\":[\"x_vals\",\"means\",\"index\",\"hour\",\"comps\"],\"data\":{\"comps\":[\"BL001\",\"BL001\",\"BL001\",\"BL001\",\"BL001\",\"BL001\",\"BL001\",\"BL001\",\"BL001\",\"BL001\",\"BL001\",\"BL001\",\"BL001\",\"BL001\",\"BL001\",\"BL001\",\"BL001\",\"BL001\",\"BL001\",\"BL001\",\"BL001\",\"BL001\",\"BL001\",\"BL001\",\"BL002\",\"BL002\",\"BL002\",\"BL002\",\"BL002\",\"BL002\",\"BL002\",\"BL002\",\"BL002\",\"BL002\",\"BL002\",\"BL002\",\"BL002\",\"BL002\",\"BL002\",\"BL002\",\"BL002\",\"BL002\",\"BL002\",\"BL002\",\"BL002\",\"BL002\",\"BL002\",\"BL002\",\"CITI001\",\"CITI001\",\"CITI001\",\"CITI001\",\"CITI001\",\"CITI001\",\"CITI001\",\"CITI001\",\"CITI001\",\"CITI001\",\"CITI001\",\"CITI001\",\"CITI001\",\"CITI001\",\"CITI001\",\"CITI001\",\"CITI001\",\"CITI001\",\"CITI001\",\"CITI001\",\"CITI001\",\"CITI001\",\"CITI001\",\"CITI001\",\"CITI002\",\"CITI002\",\"CITI002\",\"CITI002\",\"CITI002\",\"CITI002\",\"CITI002\",\"CITI002\",\"CITI002\",\"CITI002\",\"CITI002\",\"CITI002\",\"CITI002\",\"CITI002\",\"CITI002\",\"CITI002\",\"CITI002\",\"CITI002\",\"CITI002\",\"CITI002\",\"CITI002\",\"CITI002\",\"CITI002\",\"CITI002\",\"CITI003\",\"CITI003\",\"CITI003\",\"CITI003\",\"CITI003\",\"CITI003\",\"CITI003\",\"CITI003\",\"CITI003\",\"CITI003\",\"CITI003\",\"CITI003\",\"CITI003\",\"CITI003\",\"CITI003\",\"CITI003\",\"CITI003\",\"CITI003\",\"CITI003\",\"CITI003\",\"CITI003\",\"CITI003\",\"CITI003\",\"CITI003\",\"CITI004\",\"CITI004\",\"CITI004\",\"CITI004\",\"CITI004\",\"CITI004\",\"CITI004\",\"CITI004\",\"CITI004\",\"CITI004\",\"CITI004\",\"CITI004\",\"CITI004\",\"CITI004\",\"CITI004\",\"CITI004\",\"CITI004\",\"CITI004\",\"CITI004\",\"CITI004\",\"CITI004\",\"CITI004\",\"CITI004\",\"CITI004\",\"CITI005\",\"CITI005\",\"CITI005\",\"CITI005\",\"CITI005\",\"CITI005\",\"CITI005\",\"CITI005\",\"CITI005\",\"CITI005\",\"CITI005\",\"CITI005\",\"CITI005\",\"CITI005\",\"CITI005\",\"CITI005\",\"CITI005\",\"CITI005\",\"CITI005\",\"CITI005\",\"CITI005\",\"CITI005\",\"CITI005\",\"CITI005\",\"CITI006\",\"CITI006\",\"CITI006\",\"CITI006\",\"CITI006\",\"CITI006\",\"CITI006\",\"CITI006\",\"CITI006\",\"CITI006\",\"CITI006\",\"CITI006\",\"CITI006\",\"CITI006\",\"CITI006\",\"CITI006\",\"CITI006\",\"CITI006\",\"CITI006\",\"CITI006\",\"CITI006\",\"CITI006\",\"CITI006\",\"CITI006\",\"CITI007\",\"CITI007\",\"CITI007\",\"CITI007\",\"CITI007\",\"CITI007\",\"CITI007\",\"CITI007\",\"CITI007\",\"CITI007\",\"CITI007\",\"CITI007\",\"CITI007\",\"CITI007\",\"CITI007\",\"CITI007\",\"CITI007\",\"CITI007\",\"CITI007\",\"CITI007\",\"CITI007\",\"CITI007\",\"CITI007\",\"CITI007\",\"CITI008\",\"CITI008\",\"CITI008\",\"CITI008\",\"CITI008\",\"CITI008\",\"CITI008\",\"CITI008\",\"CITI008\",\"CITI008\",\"CITI008\",\"CITI008\",\"CITI008\",\"CITI008\",\"CITI008\",\"CITI008\",\"CITI008\",\"CITI008\",\"CITI008\",\"CITI008\",\"CITI008\",\"CITI008\",\"CITI008\",\"CITI008\",\"CITI009\",\"CITI009\",\"CITI009\",\"CITI009\",\"CITI009\",\"CITI009\",\"CITI009\",\"CITI009\",\"CITI009\",\"CITI009\",\"CITI009\",\"CITI009\",\"CITI009\",\"CITI009\",\"CITI009\",\"CITI009\",\"CITI009\",\"CITI009\",\"CITI009\",\"CITI009\",\"CITI009\",\"CITI009\",\"CITI009\",\"CITI009\",\"CITI010\",\"CITI010\",\"CITI010\",\"CITI010\",\"CITI010\",\"CITI010\",\"CITI010\",\"CITI010\",\"CITI010\",\"CITI010\",\"CITI010\",\"CITI010\",\"CITI010\",\"CITI010\",\"CITI010\",\"CITI010\",\"CITI010\",\"CITI010\",\"CITI010\",\"CITI010\",\"CITI010\",\"CITI010\",\"CITI010\",\"CITI010\",\"CITI011\",\"CITI011\",\"CITI011\",\"CITI011\",\"CITI011\",\"CITI011\",\"CITI011\",\"CITI011\",\"CITI011\",\"CITI011\",\"CITI011\",\"CITI011\",\"CITI011\",\"CITI011\",\"CITI011\",\"CITI011\",\"CITI011\",\"CITI011\",\"CITI011\",\"CITI011\",\"CITI011\",\"CITI011\",\"CITI011\",\"CITI011\",\"CITI012\",\"CITI012\",\"CITI012\",\"CITI012\",\"CITI012\",\"CITI012\",\"CITI012\",\"CITI012\",\"CITI012\",\"CITI012\",\"CITI012\",\"CITI012\",\"CITI012\",\"CITI012\",\"CITI012\",\"CITI012\",\"CITI012\",\"CITI012\",\"CITI012\",\"CITI012\",\"CITI012\",\"CITI012\",\"CITI012\",\"CITI012\",\"CITI013\",\"CITI013\",\"CITI013\",\"CITI013\",\"CITI013\",\"CITI013\",\"CITI013\",\"CITI013\",\"CITI013\",\"CITI013\",\"CITI013\",\"CITI013\",\"CITI013\",\"CITI013\",\"CITI013\",\"CITI013\",\"CITI013\",\"CITI013\",\"CITI013\",\"CITI013\",\"CITI013\",\"CITI013\",\"CITI013\",\"CITI013\",\"CITI014\",\"CITI014\",\"CITI014\",\"CITI014\",\"CITI014\",\"CITI014\",\"CITI014\",\"CITI014\",\"CITI014\",\"CITI014\",\"CITI014\",\"CITI014\",\"CITI014\",\"CITI014\",\"CITI014\",\"CITI014\",\"CITI014\",\"CITI014\",\"CITI014\",\"CITI014\",\"CITI014\",\"CITI014\",\"CITI014\",\"CITI014\",\"CITI015\",\"CITI015\",\"CITI015\",\"CITI015\",\"CITI015\",\"CITI015\",\"CITI015\",\"CITI015\",\"CITI015\",\"CITI015\",\"CITI015\",\"CITI015\",\"CITI015\",\"CITI015\",\"CITI015\",\"CITI015\",\"CITI015\",\"CITI015\",\"CITI015\",\"CITI015\",\"CITI015\",\"CITI015\",\"CITI015\",\"CITI015\",\"CITI016\",\"CITI016\",\"CITI016\",\"CITI016\",\"CITI016\",\"CITI016\",\"CITI016\",\"CITI016\",\"CITI016\",\"CITI016\",\"CITI016\",\"CITI016\",\"CITI016\",\"CITI016\",\"CITI016\",\"CITI016\",\"CITI016\",\"CITI016\",\"CITI016\",\"CITI016\",\"CITI016\",\"CITI016\",\"CITI016\",\"CITI016\",\"CITI017\",\"CITI017\",\"CITI017\",\"CITI017\",\"CITI017\",\"CITI017\",\"CITI017\",\"CITI017\",\"CITI017\",\"CITI017\",\"CITI017\",\"CITI017\",\"CITI017\",\"CITI017\",\"CITI017\",\"CITI017\",\"CITI017\",\"CITI017\",\"CITI017\",\"CITI017\",\"CITI017\",\"CITI017\",\"CITI017\",\"CITI017\",\"CITI018\",\"CITI018\",\"CITI018\",\"CITI018\",\"CITI018\",\"CITI018\",\"CITI018\",\"CITI018\",\"CITI018\",\"CITI018\",\"CITI018\",\"CITI018\",\"CITI018\",\"CITI018\",\"CITI018\",\"CITI018\",\"CITI018\",\"CITI018\",\"CITI018\",\"CITI018\",\"CITI018\",\"CITI018\",\"CITI018\",\"CITI018\",\"CITI019\",\"CITI019\",\"CITI019\",\"CITI019\",\"CITI019\",\"CITI019\",\"CITI019\",\"CITI019\",\"CITI019\",\"CITI019\",\"CITI019\",\"CITI019\",\"CITI019\",\"CITI019\",\"CITI019\",\"CITI019\",\"CITI019\",\"CITI019\",\"CITI019\",\"CITI019\",\"CITI019\",\"CITI019\",\"CITI019\",\"CITI019\",\"CITI020\",\"CITI020\",\"CITI020\",\"CITI020\",\"CITI020\",\"CITI020\",\"CITI020\",\"CITI020\",\"CITI020\",\"CITI020\",\"CITI020\",\"CITI020\",\"CITI020\",\"CITI020\",\"CITI020\",\"CITI020\",\"CITI020\",\"CITI020\",\"CITI020\",\"CITI020\",\"CITI020\",\"CITI020\",\"CITI020\",\"CITI020\",\"CITI021\",\"CITI021\",\"CITI021\",\"CITI021\",\"CITI021\",\"CITI021\",\"CITI021\",\"CITI021\",\"CITI021\",\"CITI021\",\"CITI021\",\"CITI021\",\"CITI021\",\"CITI021\",\"CITI021\",\"CITI021\",\"CITI021\",\"CITI021\",\"CITI021\",\"CITI021\",\"CITI021\",\"CITI021\",\"CITI021\",\"CITI021\",\"CITI022\",\"CITI022\",\"CITI022\",\"CITI022\",\"CITI022\",\"CITI022\",\"CITI022\",\"CITI022\",\"CITI022\",\"CITI022\",\"CITI022\",\"CITI022\",\"CITI022\",\"CITI022\",\"CITI022\",\"CITI022\",\"CITI022\",\"CITI022\",\"CITI022\",\"CITI022\",\"CITI022\",\"CITI022\",\"CITI022\",\"CITI022\",\"CITI023\",\"CITI023\",\"CITI023\",\"CITI023\",\"CITI023\",\"CITI023\",\"CITI023\",\"CITI023\",\"CITI023\",\"CITI023\",\"CITI023\",\"CITI023\",\"CITI023\",\"CITI023\",\"CITI023\",\"CITI023\",\"CITI023\",\"CITI023\",\"CITI023\",\"CITI023\",\"CITI023\",\"CITI023\",\"CITI023\",\"CITI023\",\"CITI024\",\"CITI024\",\"CITI024\",\"CITI024\",\"CITI024\",\"CITI024\",\"CITI024\",\"CITI024\",\"CITI024\",\"CITI024\",\"CITI024\",\"CITI024\",\"CITI024\",\"CITI024\",\"CITI024\",\"CITI024\",\"CITI024\",\"CITI024\",\"CITI024\",\"CITI024\",\"CITI024\",\"CITI024\",\"CITI024\",\"CITI024\",\"CITI025\",\"CITI025\",\"CITI025\",\"CITI025\",\"CITI025\",\"CITI025\",\"CITI025\",\"CITI025\",\"CITI025\",\"CITI025\",\"CITI025\",\"CITI025\",\"CITI025\",\"CITI025\",\"CITI025\",\"CITI025\",\"CITI025\",\"CITI025\",\"CITI025\",\"CITI025\",\"CITI025\",\"CITI025\",\"CITI025\",\"CITI025\",\"CRR001\",\"CRR001\",\"CRR001\",\"CRR001\",\"CRR001\",\"CRR001\",\"CRR001\",\"CRR001\",\"CRR001\",\"CRR001\",\"CRR001\",\"CRR001\",\"CRR001\",\"CRR001\",\"CRR001\",\"CRR001\",\"CRR001\",\"CRR001\",\"CRR001\",\"CRR001\",\"CRR001\",\"CRR001\",\"CRR001\",\"CRR001\",\"CRR002\",\"CRR002\",\"CRR002\",\"CRR002\",\"CRR002\",\"CRR002\",\"CRR002\",\"CRR002\",\"CRR002\",\"CRR002\",\"CRR002\",\"CRR002\",\"CRR002\",\"CRR002\",\"CRR002\",\"CRR002\",\"CRR002\",\"CRR002\",\"CRR002\",\"CRR002\",\"CRR002\",\"CRR002\",\"CRR002\",\"CRR002\",\"CRR003\",\"CRR003\",\"CRR003\",\"CRR003\",\"CRR003\",\"CRR003\",\"CRR003\",\"CRR003\",\"CRR003\",\"CRR003\",\"CRR003\",\"CRR003\",\"CRR003\",\"CRR003\",\"CRR003\",\"CRR003\",\"CRR003\",\"CRR003\",\"CRR003\",\"CRR003\",\"CRR003\",\"CRR003\",\"CRR003\",\"CRR003\",\"CRR004\",\"CRR004\",\"CRR004\",\"CRR004\",\"CRR004\",\"CRR004\",\"CRR004\",\"CRR004\",\"CRR004\",\"CRR004\",\"CRR004\",\"CRR004\",\"CRR004\",\"CRR004\",\"CRR004\",\"CRR004\",\"CRR004\",\"CRR004\",\"CRR004\",\"CRR004\",\"CRR004\",\"CRR004\",\"CRR004\",\"CRR004\",\"CRR005\",\"CRR005\",\"CRR005\",\"CRR005\",\"CRR005\",\"CRR005\",\"CRR005\",\"CRR005\",\"CRR005\",\"CRR005\",\"CRR005\",\"CRR005\",\"CRR005\",\"CRR005\",\"CRR005\",\"CRR005\",\"CRR005\",\"CRR005\",\"CRR005\",\"CRR005\",\"CRR005\",\"CRR005\",\"CRR005\",\"CRR005\",\"CRR006\",\"CRR006\",\"CRR006\",\"CRR006\",\"CRR006\",\"CRR006\",\"CRR006\",\"CRR006\",\"CRR006\",\"CRR006\",\"CRR006\",\"CRR006\",\"CRR006\",\"CRR006\",\"CRR006\",\"CRR006\",\"CRR006\",\"CRR006\",\"CRR006\",\"CRR006\",\"CRR006\",\"CRR006\",\"CRR006\",\"CRR006\",\"CRR007\",\"CRR007\",\"CRR007\",\"CRR007\",\"CRR007\",\"CRR007\",\"CRR007\",\"CRR007\",\"CRR007\",\"CRR007\",\"CRR007\",\"CRR007\",\"CRR007\",\"CRR007\",\"CRR007\",\"CRR007\",\"CRR007\",\"CRR007\",\"CRR007\",\"CRR007\",\"CRR007\",\"CRR007\",\"CRR007\",\"CRR007\",\"CRR008\",\"CRR008\",\"CRR008\",\"CRR008\",\"CRR008\",\"CRR008\",\"CRR008\",\"CRR008\",\"CRR008\",\"CRR008\",\"CRR008\",\"CRR008\",\"CRR008\",\"CRR008\",\"CRR008\",\"CRR008\",\"CRR008\",\"CRR008\",\"CRR008\",\"CRR008\",\"CRR008\",\"CRR008\",\"CRR008\",\"CRR008\",\"CRR009\",\"CRR009\",\"CRR009\",\"CRR009\",\"CRR009\",\"CRR009\",\"CRR009\",\"CRR009\",\"CRR009\",\"CRR009\",\"CRR009\",\"CRR009\",\"CRR009\",\"CRR009\",\"CRR009\",\"CRR009\",\"CRR009\",\"CRR009\",\"CRR009\",\"CRR009\",\"CRR009\",\"CRR009\",\"CRR009\",\"CRR009\",\"CRR010\",\"CRR010\",\"CRR010\",\"CRR010\",\"CRR010\",\"CRR010\",\"CRR010\",\"CRR010\",\"CRR010\",\"CRR010\",\"CRR010\",\"CRR010\",\"CRR010\",\"CRR010\",\"CRR010\",\"CRR010\",\"CRR010\",\"CRR010\",\"CRR010\",\"CRR010\",\"CRR010\",\"CRR010\",\"CRR010\",\"CRR010\",\"CRR011\",\"CRR011\",\"CRR011\",\"CRR011\",\"CRR011\",\"CRR011\",\"CRR011\",\"CRR011\",\"CRR011\",\"CRR011\",\"CRR011\",\"CRR011\",\"CRR011\",\"CRR011\",\"CRR011\",\"CRR011\",\"CRR011\",\"CRR011\",\"CRR011\",\"CRR011\",\"CRR011\",\"CRR011\",\"CRR011\",\"CRR011\",\"CRR012\",\"CRR012\",\"CRR012\",\"CRR012\",\"CRR012\",\"CRR012\",\"CRR012\",\"CRR012\",\"CRR012\",\"CRR012\",\"CRR012\",\"CRR012\",\"CRR012\",\"CRR012\",\"CRR012\",\"CRR012\",\"CRR012\",\"CRR012\",\"CRR012\",\"CRR012\",\"CRR012\",\"CRR012\",\"CRR012\",\"CRR012\",\"CRR013\",\"CRR013\",\"CRR013\",\"CRR013\",\"CRR013\",\"CRR013\",\"CRR013\",\"CRR013\",\"CRR013\",\"CRR013\",\"CRR013\",\"CRR013\",\"CRR013\",\"CRR013\",\"CRR013\",\"CRR013\",\"CRR013\",\"CRR013\",\"CRR013\",\"CRR013\",\"CRR013\",\"CRR013\",\"CRR013\",\"CRR013\",\"CRR014\",\"CRR014\",\"CRR014\",\"CRR014\",\"CRR014\",\"CRR014\",\"CRR014\",\"CRR014\",\"CRR014\",\"CRR014\",\"CRR014\",\"CRR014\",\"CRR014\",\"CRR014\",\"CRR014\",\"CRR014\",\"CRR014\",\"CRR014\",\"CRR014\",\"CRR014\",\"CRR014\",\"CRR014\",\"CRR014\",\"CRR014\",\"CRR015\",\"CRR015\",\"CRR015\",\"CRR015\",\"CRR015\",\"CRR015\",\"CRR015\",\"CRR015\",\"CRR015\",\"CRR015\",\"CRR015\",\"CRR015\",\"CRR015\",\"CRR015\",\"CRR015\",\"CRR015\",\"CRR015\",\"CRR015\",\"CRR015\",\"CRR015\",\"CRR015\",\"CRR015\",\"CRR015\",\"CRR015\",\"CRR016\",\"CRR016\",\"CRR016\",\"CRR016\",\"CRR016\",\"CRR016\",\"CRR016\",\"CRR016\",\"CRR016\",\"CRR016\",\"CRR016\",\"CRR016\",\"CRR016\",\"CRR016\",\"CRR016\",\"CRR016\",\"CRR016\",\"CRR016\",\"CRR016\",\"CRR016\",\"CRR016\",\"CRR016\",\"CRR016\",\"CRR016\",\"CRR017\",\"CRR017\",\"CRR017\",\"CRR017\",\"CRR017\",\"CRR017\",\"CRR017\",\"CRR017\",\"CRR017\",\"CRR017\",\"CRR017\",\"CRR017\",\"CRR017\",\"CRR017\",\"CRR017\",\"CRR017\",\"CRR017\",\"CRR017\",\"CRR017\",\"CRR017\",\"CRR017\",\"CRR017\",\"CRR017\",\"CRR017\",\"CRR018\",\"CRR018\",\"CRR018\",\"CRR018\",\"CRR018\",\"CRR018\",\"CRR018\",\"CRR018\",\"CRR018\",\"CRR018\",\"CRR018\",\"CRR018\",\"CRR018\",\"CRR018\",\"CRR018\",\"CRR018\",\"CRR018\",\"CRR018\",\"CRR018\",\"CRR018\",\"CRR018\",\"CRR018\",\"CRR018\",\"CRR018\",\"CRR019\",\"CRR019\",\"CRR019\",\"CRR019\",\"CRR019\",\"CRR019\",\"CRR019\",\"CRR019\",\"CRR019\",\"CRR019\",\"CRR019\",\"CRR019\",\"CRR019\",\"CRR019\",\"CRR019\",\"CRR019\",\"CRR019\",\"CRR019\",\"CRR019\",\"CRR019\",\"CRR019\",\"CRR019\",\"CRR019\",\"CRR019\",\"CRR020\",\"CRR020\",\"CRR020\",\"CRR020\",\"CRR020\",\"CRR020\",\"CRR020\",\"CRR020\",\"CRR020\",\"CRR020\",\"CRR020\",\"CRR020\",\"CRR020\",\"CRR020\",\"CRR020\",\"CRR020\",\"CRR020\",\"CRR020\",\"CRR020\",\"CRR020\",\"CRR020\",\"CRR020\",\"CRR020\",\"CRR020\",\"CRR021\",\"CRR021\",\"CRR021\",\"CRR021\",\"CRR021\",\"CRR021\",\"CRR021\",\"CRR021\",\"CRR021\",\"CRR021\",\"CRR021\",\"CRR021\",\"CRR021\",\"CRR021\",\"CRR021\",\"CRR021\",\"CRR021\",\"CRR021\",\"CRR021\",\"CRR021\",\"CRR021\",\"CRR021\",\"CRR021\",\"CRR021\",\"CRR022\",\"CRR022\",\"CRR022\",\"CRR022\",\"CRR022\",\"CRR022\",\"CRR022\",\"CRR022\",\"CRR022\",\"CRR022\",\"CRR022\",\"CRR022\",\"CRR022\",\"CRR022\",\"CRR022\",\"CRR022\",\"CRR022\",\"CRR022\",\"CRR022\",\"CRR022\",\"CRR022\",\"CRR022\",\"CRR022\",\"CRR022\",\"CRR023\",\"CRR023\",\"CRR023\",\"CRR023\",\"CRR023\",\"CRR023\",\"CRR023\",\"CRR023\",\"CRR023\",\"CRR023\",\"CRR023\",\"CRR023\",\"CRR023\",\"CRR023\",\"CRR023\",\"CRR023\",\"CRR023\",\"CRR023\",\"CRR023\",\"CRR023\",\"CRR023\",\"CRR023\",\"CRR023\",\"CRR023\",\"CRR024\",\"CRR024\",\"CRR024\",\"CRR024\",\"CRR024\",\"CRR024\",\"CRR024\",\"CRR024\",\"CRR024\",\"CRR024\",\"CRR024\",\"CRR024\",\"CRR024\",\"CRR024\",\"CRR024\",\"CRR024\",\"CRR024\",\"CRR024\",\"CRR024\",\"CRR024\",\"CRR024\",\"CRR024\",\"CRR024\",\"CRR024\",\"CRR025\",\"CRR025\",\"CRR025\",\"CRR025\",\"CRR025\",\"CRR025\",\"CRR025\",\"CRR025\",\"CRR025\",\"CRR025\",\"CRR025\",\"CRR025\",\"CRR025\",\"CRR025\",\"CRR025\",\"CRR025\",\"CRR025\",\"CRR025\",\"CRR025\",\"CRR025\",\"CRR025\",\"CRR025\",\"CRR025\",\"CRR025\",\"CRR026\",\"CRR026\",\"CRR026\",\"CRR026\",\"CRR026\",\"CRR026\",\"CRR026\",\"CRR026\",\"CRR026\",\"CRR026\",\"CRR026\",\"CRR026\",\"CRR026\",\"CRR026\",\"CRR026\",\"CRR026\",\"CRR026\",\"CRR026\",\"CRR026\",\"CRR026\",\"CRR026\",\"CRR026\",\"CRR026\",\"CRR026\",\"CRR027\",\"CRR027\",\"CRR027\",\"CRR027\",\"CRR027\",\"CRR027\",\"CRR027\",\"CRR027\",\"CRR027\",\"CRR027\",\"CRR027\",\"CRR027\",\"CRR027\",\"CRR027\",\"CRR027\",\"CRR027\",\"CRR027\",\"CRR027\",\"CRR027\",\"CRR027\",\"CRR027\",\"CRR027\",\"CRR027\",\"CRR027\",\"CRR028\",\"CRR028\",\"CRR028\",\"CRR028\",\"CRR028\",\"CRR028\",\"CRR028\",\"CRR028\",\"CRR028\",\"CRR028\",\"CRR028\",\"CRR028\",\"CRR028\",\"CRR028\",\"CRR028\",\"CRR028\",\"CRR028\",\"CRR028\",\"CRR028\",\"CRR028\",\"CRR028\",\"CRR028\",\"CRR028\",\"CRR028\",\"CRR029\",\"CRR029\",\"CRR029\",\"CRR029\",\"CRR029\",\"CRR029\",\"CRR029\",\"CRR029\",\"CRR029\",\"CRR029\",\"CRR029\",\"CRR029\",\"CRR029\",\"CRR029\",\"CRR029\",\"CRR029\",\"CRR029\",\"CRR029\",\"CRR029\",\"CRR029\",\"CRR029\",\"CRR029\",\"CRR029\",\"CRR029\",\"CRR030\",\"CRR030\",\"CRR030\",\"CRR030\",\"CRR030\",\"CRR030\",\"CRR030\",\"CRR030\",\"CRR030\",\"CRR030\",\"CRR030\",\"CRR030\",\"CRR030\",\"CRR030\",\"CRR030\",\"CRR030\",\"CRR030\",\"CRR030\",\"CRR030\",\"CRR030\",\"CRR030\",\"CRR030\",\"CRR030\",\"CRR030\",\"CRR031\",\"CRR031\",\"CRR031\",\"CRR031\",\"CRR031\",\"CRR031\",\"CRR031\",\"CRR031\",\"CRR031\",\"CRR031\",\"CRR031\",\"CRR031\",\"CRR031\",\"CRR031\",\"CRR031\",\"CRR031\",\"CRR031\",\"CRR031\",\"CRR031\",\"CRR031\",\"CRR031\",\"CRR031\",\"CRR031\",\"CRR031\",\"CRR032\",\"CRR032\",\"CRR032\",\"CRR032\",\"CRR032\",\"CRR032\",\"CRR032\",\"CRR032\",\"CRR032\",\"CRR032\",\"CRR032\",\"CRR032\",\"CRR032\",\"CRR032\",\"CRR032\",\"CRR032\",\"CRR032\",\"CRR032\",\"CRR032\",\"CRR032\",\"CRR032\",\"CRR032\",\"CRR032\",\"CRR032\",\"CRR033\",\"CRR033\",\"CRR033\",\"CRR033\",\"CRR033\",\"CRR033\",\"CRR033\",\"CRR033\",\"CRR033\",\"CRR033\",\"CRR033\",\"CRR033\",\"CRR033\",\"CRR033\",\"CRR033\",\"CRR033\",\"CRR033\",\"CRR033\",\"CRR033\",\"CRR033\",\"CRR033\",\"CRR033\",\"CRR033\",\"CRR033\",\"CRR034\",\"CRR034\",\"CRR034\",\"CRR034\",\"CRR034\",\"CRR034\",\"CRR034\",\"CRR034\",\"CRR034\",\"CRR034\",\"CRR034\",\"CRR034\",\"CRR034\",\"CRR034\",\"CRR034\",\"CRR034\",\"CRR034\",\"CRR034\",\"CRR034\",\"CRR034\",\"CRR034\",\"CRR034\",\"CRR034\",\"CRR034\",\"CRR035\",\"CRR035\",\"CRR035\",\"CRR035\",\"CRR035\",\"CRR035\",\"CRR035\",\"CRR035\",\"CRR035\",\"CRR035\",\"CRR035\",\"CRR035\",\"CRR035\",\"CRR035\",\"CRR035\",\"CRR035\",\"CRR035\",\"CRR035\",\"CRR035\",\"CRR035\",\"CRR035\",\"CRR035\",\"CRR035\",\"CRR035\",\"CRR037\",\"CRR037\",\"CRR037\",\"CRR037\",\"CRR037\",\"CRR037\",\"CRR037\",\"CRR037\",\"CRR037\",\"CRR037\",\"CRR037\",\"CRR037\",\"CRR037\",\"CRR037\",\"CRR037\",\"CRR037\",\"CRR037\",\"CRR037\",\"CRR037\",\"CRR037\",\"CRR037\",\"CRR037\",\"CRR037\",\"CRR037\",\"CRR038\",\"CRR038\",\"CRR038\",\"CRR038\",\"CRR038\",\"CRR038\",\"CRR038\",\"CRR038\",\"CRR038\",\"CRR038\",\"CRR038\",\"CRR038\",\"CRR038\",\"CRR038\",\"CRR038\",\"CRR038\",\"CRR038\",\"CRR038\",\"CRR038\",\"CRR038\",\"CRR038\",\"CRR038\",\"CRR038\",\"CRR038\",\"CRR039\",\"CRR039\",\"CRR039\",\"CRR039\",\"CRR039\",\"CRR039\",\"CRR039\",\"CRR039\",\"CRR039\",\"CRR039\",\"CRR039\",\"CRR039\",\"CRR039\",\"CRR039\",\"CRR039\",\"CRR039\",\"CRR039\",\"CRR039\",\"CRR039\",\"CRR039\",\"CRR039\",\"CRR039\",\"CRR039\",\"CRR039\",\"DDL0001\",\"DDL0001\",\"DDL0001\",\"DDL0001\",\"DDL0001\",\"DDL0001\",\"DDL0001\",\"DDL0001\",\"DDL0001\",\"DDL0001\",\"DDL0001\",\"DDL0001\",\"DDL0001\",\"DDL0001\",\"DDL0001\",\"DDL0001\",\"DDL0001\",\"DDL0001\",\"DDL0001\",\"DDL0001\",\"DDL0001\",\"DDL0001\",\"DDL0001\",\"DDL0001\",\"DDL0003\",\"DDL0003\",\"DDL0003\",\"DDL0003\",\"DDL0003\",\"DDL0003\",\"DDL0003\",\"DDL0003\",\"DDL0003\",\"DDL0003\",\"DDL0003\",\"DDL0003\",\"DDL0003\",\"DDL0003\",\"DDL0003\",\"DDL0003\",\"DDL0003\",\"DDL0003\",\"DDL0003\",\"DDL0003\",\"DDL0003\",\"DDL0003\",\"DDL0003\",\"DDL0003\",\"DDL002\",\"DDL002\",\"DDL002\",\"DDL002\",\"DDL002\",\"DDL002\",\"DDL002\",\"DDL002\",\"DDL002\",\"DDL002\",\"DDL002\",\"DDL002\",\"DDL002\",\"DDL002\",\"DDL002\",\"DDL002\",\"DDL002\",\"DDL002\",\"DDL002\",\"DDL002\",\"DDL002\",\"DDL002\",\"DDL002\",\"DDL002\",\"DMC0001\",\"DMC0001\",\"DMC0001\",\"DMC0001\",\"DMC0001\",\"DMC0001\",\"DMC0001\",\"DMC0001\",\"DMC0001\",\"DMC0001\",\"DMC0001\",\"DMC0001\",\"DMC0001\",\"DMC0001\",\"DMC0001\",\"DMC0001\",\"DMC0001\",\"DMC0001\",\"DMC0001\",\"DMC0001\",\"DMC0001\",\"DMC0001\",\"DMC0001\",\"DMC0001\",\"DMC0002\",\"DMC0002\",\"DMC0002\",\"DMC0002\",\"DMC0002\",\"DMC0002\",\"DMC0002\",\"DMC0002\",\"DMC0002\",\"DMC0002\",\"DMC0002\",\"DMC0002\",\"DMC0002\",\"DMC0002\",\"DMC0002\",\"DMC0002\",\"DMC0002\",\"DMC0002\",\"DMC0002\",\"DMC0002\",\"DMC0002\",\"DMC0002\",\"DMC0002\",\"DMC0002\",\"DMC0003\",\"DMC0003\",\"DMC0003\",\"DMC0003\",\"DMC0003\",\"DMC0003\",\"DMC0003\",\"DMC0003\",\"DMC0003\",\"DMC0003\",\"DMC0003\",\"DMC0003\",\"DMC0003\",\"DMC0003\",\"DMC0003\",\"DMC0003\",\"DMC0003\",\"DMC0003\",\"DMC0003\",\"DMC0003\",\"DMC0003\",\"DMC0003\",\"DMC0003\",\"DMC0003\",\"DMC0004\",\"DMC0004\",\"DMC0004\",\"DMC0004\",\"DMC0004\",\"DMC0004\",\"DMC0004\",\"DMC0004\",\"DMC0004\",\"DMC0004\",\"DMC0004\",\"DMC0004\",\"DMC0004\",\"DMC0004\",\"DMC0004\",\"DMC0004\",\"DMC0004\",\"DMC0004\",\"DMC0004\",\"DMC0004\",\"DMC0004\",\"DMC0004\",\"DMC0004\",\"DMC0004\",\"DMC0005\",\"DMC0005\",\"DMC0005\",\"DMC0005\",\"DMC0005\",\"DMC0005\",\"DMC0005\",\"DMC0005\",\"DMC0005\",\"DMC0005\",\"DMC0005\",\"DMC0005\",\"DMC0005\",\"DMC0005\",\"DMC0005\",\"DMC0005\",\"DMC0005\",\"DMC0005\",\"DMC0005\",\"DMC0005\",\"DMC0005\",\"DMC0005\",\"DMC0005\",\"DMC0005\",\"DMC0006\",\"DMC0006\",\"DMC0006\",\"DMC0006\",\"DMC0006\",\"DMC0006\",\"DMC0006\",\"DMC0006\",\"DMC0006\",\"DMC0006\",\"DMC0006\",\"DMC0006\",\"DMC0006\",\"DMC0006\",\"DMC0006\",\"DMC0006\",\"DMC0006\",\"DMC0006\",\"DMC0006\",\"DMC0006\",\"DMC0006\",\"DMC0006\",\"DMC0006\",\"DMC0006\",\"DMC0007\",\"DMC0007\",\"DMC0007\",\"DMC0007\",\"DMC0007\",\"DMC0007\",\"DMC0007\",\"DMC0007\",\"DMC0007\",\"DMC0007\",\"DMC0007\",\"DMC0007\",\"DMC0007\",\"DMC0007\",\"DMC0007\",\"DMC0007\",\"DMC0007\",\"DMC0007\",\"DMC0007\",\"DMC0007\",\"DMC0007\",\"DMC0007\",\"DMC0007\",\"DMC0007\",\"DMC0008\",\"DMC0008\",\"DMC0008\",\"DMC0008\",\"DMC0008\",\"DMC0008\",\"DMC0008\",\"DMC0008\",\"DMC0008\",\"DMC0008\",\"DMC0008\",\"DMC0008\",\"DMC0008\",\"DMC0008\",\"DMC0008\",\"DMC0008\",\"DMC0008\",\"DMC0008\",\"DMC0008\",\"DMC0008\",\"DMC0008\",\"DMC0008\",\"DMC0008\",\"DMC0008\",\"DMC0009\",\"DMC0009\",\"DMC0009\",\"DMC0009\",\"DMC0009\",\"DMC0009\",\"DMC0009\",\"DMC0009\",\"DMC0009\",\"DMC0009\",\"DMC0009\",\"DMC0009\",\"DMC0009\",\"DMC0009\",\"DMC0009\",\"DMC0009\",\"DMC0009\",\"DMC0009\",\"DMC0009\",\"DMC0009\",\"DMC0009\",\"DMC0009\",\"DMC0009\",\"DMC0009\",\"DMC0010\",\"DMC0010\",\"DMC0010\",\"DMC0010\",\"DMC0010\",\"DMC0010\",\"DMC0010\",\"DMC0010\",\"DMC0010\",\"DMC0010\",\"DMC0010\",\"DMC0010\",\"DMC0010\",\"DMC0010\",\"DMC0010\",\"DMC0010\",\"DMC0010\",\"DMC0010\",\"DMC0010\",\"DMC0010\",\"DMC0010\",\"DMC0010\",\"DMC0010\",\"DMC0010\",\"DMC0011\",\"DMC0011\",\"DMC0011\",\"DMC0011\",\"DMC0011\",\"DMC0011\",\"DMC0011\",\"DMC0011\",\"DMC0011\",\"DMC0011\",\"DMC0011\",\"DMC0011\",\"DMC0011\",\"DMC0011\",\"DMC0011\",\"DMC0011\",\"DMC0011\",\"DMC0011\",\"DMC0011\",\"DMC0011\",\"DMC0011\",\"DMC0011\",\"DMC0011\",\"DMC0011\",\"DMC0012\",\"DMC0012\",\"DMC0012\",\"DMC0012\",\"DMC0012\",\"DMC0012\",\"DMC0012\",\"DMC0012\",\"DMC0012\",\"DMC0012\",\"DMC0012\",\"DMC0012\",\"DMC0012\",\"DMC0012\",\"DMC0012\",\"DMC0012\",\"DMC0012\",\"DMC0012\",\"DMC0012\",\"DMC0012\",\"DMC0012\",\"DMC0012\",\"DMC0012\",\"DMC0012\",\"DMC0013\",\"DMC0013\",\"DMC0013\",\"DMC0013\",\"DMC0013\",\"DMC0013\",\"DMC0013\",\"DMC0013\",\"DMC0013\",\"DMC0013\",\"DMC0013\",\"DMC0013\",\"DMC0013\",\"DMC0013\",\"DMC0013\",\"DMC0013\",\"DMC0013\",\"DMC0013\",\"DMC0013\",\"DMC0013\",\"DMC0013\",\"DMC0013\",\"DMC0013\",\"DMC0013\",\"DMC0014\",\"DMC0014\",\"DMC0014\",\"DMC0014\",\"DMC0014\",\"DMC0014\",\"DMC0014\",\"DMC0014\",\"DMC0014\",\"DMC0014\",\"DMC0014\",\"DMC0014\",\"DMC0014\",\"DMC0014\",\"DMC0014\",\"DMC0014\",\"DMC0014\",\"DMC0014\",\"DMC0014\",\"DMC0014\",\"DMC0014\",\"DMC0014\",\"DMC0014\",\"DMC0014\",\"DMC0015\",\"DMC0015\",\"DMC0015\",\"DMC0015\",\"DMC0015\",\"DMC0015\",\"DMC0015\",\"DMC0015\",\"DMC0015\",\"DMC0015\",\"DMC0015\",\"DMC0015\",\"DMC0015\",\"DMC0015\",\"DMC0015\",\"DMC0015\",\"DMC0015\",\"DMC0015\",\"DMC0015\",\"DMC0015\",\"DMC0015\",\"DMC0015\",\"DMC0015\",\"DMC0015\",\"DMC0016\",\"DMC0016\",\"DMC0016\",\"DMC0016\",\"DMC0016\",\"DMC0016\",\"DMC0016\",\"DMC0016\",\"DMC0016\",\"DMC0016\",\"DMC0016\",\"DMC0016\",\"DMC0016\",\"DMC0016\",\"DMC0016\",\"DMC0016\",\"DMC0016\",\"DMC0016\",\"DMC0016\",\"DMC0016\",\"DMC0016\",\"DMC0016\",\"DMC0016\",\"DMC0016\",\"DMC0017\",\"DMC0017\",\"DMC0017\",\"DMC0017\",\"DMC0017\",\"DMC0017\",\"DMC0017\",\"DMC0017\",\"DMC0017\",\"DMC0017\",\"DMC0017\",\"DMC0017\",\"DMC0017\",\"DMC0017\",\"DMC0017\",\"DMC0017\",\"DMC0017\",\"DMC0017\",\"DMC0017\",\"DMC0017\",\"DMC0017\",\"DMC0017\",\"DMC0017\",\"DMC0017\",\"DMC0018\",\"DMC0018\",\"DMC0018\",\"DMC0018\",\"DMC0018\",\"DMC0018\",\"DMC0018\",\"DMC0018\",\"DMC0018\",\"DMC0018\",\"DMC0018\",\"DMC0018\",\"DMC0018\",\"DMC0018\",\"DMC0018\",\"DMC0018\",\"DMC0018\",\"DMC0018\",\"DMC0018\",\"DMC0018\",\"DMC0018\",\"DMC0018\",\"DMC0018\",\"DMC0018\",\"DMC0019\",\"DMC0019\",\"DMC0019\",\"DMC0019\",\"DMC0019\",\"DMC0019\",\"DMC0019\",\"DMC0019\",\"DMC0019\",\"DMC0019\",\"DMC0019\",\"DMC0019\",\"DMC0019\",\"DMC0019\",\"DMC0019\",\"DMC0019\",\"DMC0019\",\"DMC0019\",\"DMC0019\",\"DMC0019\",\"DMC0019\",\"DMC0019\",\"DMC0019\",\"DMC0019\",\"DMC0020\",\"DMC0020\",\"DMC0020\",\"DMC0020\",\"DMC0020\",\"DMC0020\",\"DMC0020\",\"DMC0020\",\"DMC0020\",\"DMC0020\",\"DMC0020\",\"DMC0020\",\"DMC0020\",\"DMC0020\",\"DMC0020\",\"DMC0020\",\"DMC0020\",\"DMC0020\",\"DMC0020\",\"DMC0020\",\"DMC0020\",\"DMC0020\",\"DMC0020\",\"DMC0020\",\"DMC0021\",\"DMC0021\",\"DMC0021\",\"DMC0021\",\"DMC0021\",\"DMC0021\",\"DMC0021\",\"DMC0021\",\"DMC0021\",\"DMC0021\",\"DMC0021\",\"DMC0021\",\"DMC0021\",\"DMC0021\",\"DMC0021\",\"DMC0021\",\"DMC0021\",\"DMC0021\",\"DMC0021\",\"DMC0021\",\"DMC0021\",\"DMC0021\",\"DMC0021\",\"DMC0021\",\"DMC0022\",\"DMC0022\",\"DMC0022\",\"DMC0022\",\"DMC0022\",\"DMC0022\",\"DMC0022\",\"DMC0022\",\"DMC0022\",\"DMC0022\",\"DMC0022\",\"DMC0022\",\"DMC0022\",\"DMC0022\",\"DMC0022\",\"DMC0022\",\"DMC0022\",\"DMC0022\",\"DMC0022\",\"DMC0022\",\"DMC0022\",\"DMC0022\",\"DMC0022\",\"DMC0022\",\"DMC0023\",\"DMC0023\",\"DMC0023\",\"DMC0023\",\"DMC0023\",\"DMC0023\",\"DMC0023\",\"DMC0023\",\"DMC0023\",\"DMC0023\",\"DMC0023\",\"DMC0023\",\"DMC0023\",\"DMC0023\",\"DMC0023\",\"DMC0023\",\"DMC0023\",\"DMC0023\",\"DMC0023\",\"DMC0023\",\"DMC0023\",\"DMC0023\",\"DMC0023\",\"DMC0023\",\"DMC0024\",\"DMC0024\",\"DMC0024\",\"DMC0024\",\"DMC0024\",\"DMC0024\",\"DMC0024\",\"DMC0024\",\"DMC0024\",\"DMC0024\",\"DMC0024\",\"DMC0024\",\"DMC0024\",\"DMC0024\",\"DMC0024\",\"DMC0024\",\"DMC0024\",\"DMC0024\",\"DMC0024\",\"DMC0024\",\"DMC0024\",\"DMC0024\",\"DMC0024\",\"DMC0024\",\"DMC0031\",\"DMC0031\",\"DMC0031\",\"DMC0031\",\"DMC0031\",\"DMC0031\",\"DMC0031\",\"DMC0031\",\"DMC0031\",\"DMC0031\",\"DMC0031\",\"DMC0031\",\"DMC0031\",\"DMC0031\",\"DMC0031\",\"DMC0031\",\"DMC0031\",\"DMC0031\",\"DMC0031\",\"DMC0031\",\"DMC0031\",\"DMC0031\",\"DMC0031\",\"DMC0031\",\"DMC0032\",\"DMC0032\",\"DMC0032\",\"DMC0032\",\"DMC0032\",\"DMC0032\",\"DMC0032\",\"DMC0032\",\"DMC0032\",\"DMC0032\",\"DMC0032\",\"DMC0032\",\"DMC0032\",\"DMC0032\",\"DMC0032\",\"DMC0032\",\"DMC0032\",\"DMC0032\",\"DMC0032\",\"DMC0032\",\"DMC0032\",\"DMC0032\",\"DMC0032\",\"DMC0032\",\"DMC0033\",\"DMC0033\",\"DMC0033\",\"DMC0033\",\"DMC0033\",\"DMC0033\",\"DMC0033\",\"DMC0033\",\"DMC0033\",\"DMC0033\",\"DMC0033\",\"DMC0033\",\"DMC0033\",\"DMC0033\",\"DMC0033\",\"DMC0033\",\"DMC0033\",\"DMC0033\",\"DMC0033\",\"DMC0033\",\"DMC0033\",\"DMC0033\",\"DMC0033\",\"DMC0033\",\"DMC0034\",\"DMC0034\",\"DMC0034\",\"DMC0034\",\"DMC0034\",\"DMC0034\",\"DMC0034\",\"DMC0034\",\"DMC0034\",\"DMC0034\",\"DMC0034\",\"DMC0034\",\"DMC0034\",\"DMC0034\",\"DMC0034\",\"DMC0034\",\"DMC0034\",\"DMC0034\",\"DMC0034\",\"DMC0034\",\"DMC0034\",\"DMC0034\",\"DMC0034\",\"DMC0034\",\"DMC025\",\"DMC025\",\"DMC025\",\"DMC025\",\"DMC025\",\"DMC025\",\"DMC025\",\"DMC025\",\"DMC025\",\"DMC025\",\"DMC025\",\"DMC025\",\"DMC025\",\"DMC025\",\"DMC025\",\"DMC025\",\"DMC025\",\"DMC025\",\"DMC025\",\"DMC025\",\"DMC025\",\"DMC025\",\"DMC025\",\"DMC025\",\"DMC026\",\"DMC026\",\"DMC026\",\"DMC026\",\"DMC026\",\"DMC026\",\"DMC026\",\"DMC026\",\"DMC026\",\"DMC026\",\"DMC026\",\"DMC026\",\"DMC026\",\"DMC026\",\"DMC026\",\"DMC026\",\"DMC026\",\"DMC026\",\"DMC026\",\"DMC026\",\"DMC026\",\"DMC026\",\"DMC026\",\"DMC026\",\"DMC027\",\"DMC027\",\"DMC027\",\"DMC027\",\"DMC027\",\"DMC027\",\"DMC027\",\"DMC027\",\"DMC027\",\"DMC027\",\"DMC027\",\"DMC027\",\"DMC027\",\"DMC027\",\"DMC027\",\"DMC027\",\"DMC027\",\"DMC027\",\"DMC027\",\"DMC027\",\"DMC027\",\"DMC027\",\"DMC027\",\"DMC027\",\"DMC028\",\"DMC028\",\"DMC028\",\"DMC028\",\"DMC028\",\"DMC028\",\"DMC028\",\"DMC028\",\"DMC028\",\"DMC028\",\"DMC028\",\"DMC028\",\"DMC028\",\"DMC028\",\"DMC028\",\"DMC028\",\"DMC028\",\"DMC028\",\"DMC028\",\"DMC028\",\"DMC028\",\"DMC028\",\"DMC028\",\"DMC028\",\"DMC029\",\"DMC029\",\"DMC029\",\"DMC029\",\"DMC029\",\"DMC029\",\"DMC029\",\"DMC029\",\"DMC029\",\"DMC029\",\"DMC029\",\"DMC029\",\"DMC029\",\"DMC029\",\"DMC029\",\"DMC029\",\"DMC029\",\"DMC029\",\"DMC029\",\"DMC029\",\"DMC029\",\"DMC029\",\"DMC029\",\"DMC029\",\"DMC030\",\"DMC030\",\"DMC030\",\"DMC030\",\"DMC030\",\"DMC030\",\"DMC030\",\"DMC030\",\"DMC030\",\"DMC030\",\"DMC030\",\"DMC030\",\"DMC030\",\"DMC030\",\"DMC030\",\"DMC030\",\"DMC030\",\"DMC030\",\"DMC030\",\"DMC030\",\"DMC030\",\"DMC030\",\"DMC030\",\"DMC030\",\"INC001\",\"INC001\",\"INC001\",\"INC001\",\"INC001\",\"INC001\",\"INC001\",\"INC001\",\"INC001\",\"INC001\",\"INC001\",\"INC001\",\"INC001\",\"INC001\",\"INC001\",\"INC001\",\"INC001\",\"INC001\",\"INC001\",\"INC001\",\"INC001\",\"INC001\",\"INC001\",\"INC001\",\"INC002\",\"INC002\",\"INC002\",\"INC002\",\"INC002\",\"INC002\",\"INC002\",\"INC002\",\"INC002\",\"INC002\",\"INC002\",\"INC002\",\"INC002\",\"INC002\",\"INC002\",\"INC002\",\"INC002\",\"INC002\",\"INC002\",\"INC002\",\"INC002\",\"INC002\",\"INC002\",\"INC002\",\"INC003\",\"INC003\",\"INC003\",\"INC003\",\"INC003\",\"INC003\",\"INC003\",\"INC003\",\"INC003\",\"INC003\",\"INC003\",\"INC003\",\"INC003\",\"INC003\",\"INC003\",\"INC003\",\"INC003\",\"INC003\",\"INC003\",\"INC003\",\"INC003\",\"INC003\",\"INC003\",\"INC003\",\"INC004\",\"INC004\",\"INC004\",\"INC004\",\"INC004\",\"INC004\",\"INC004\",\"INC004\",\"INC004\",\"INC004\",\"INC004\",\"INC004\",\"INC004\",\"INC004\",\"INC004\",\"INC004\",\"INC004\",\"INC004\",\"INC004\",\"INC004\",\"INC004\",\"INC004\",\"INC004\",\"INC004\",\"INC005\",\"INC005\",\"INC005\",\"INC005\",\"INC005\",\"INC005\",\"INC005\",\"INC005\",\"INC005\",\"INC005\",\"INC005\",\"INC005\",\"INC005\",\"INC005\",\"INC005\",\"INC005\",\"INC005\",\"INC005\",\"INC005\",\"INC005\",\"INC005\",\"INC005\",\"INC005\",\"INC005\",\"INC006\",\"INC006\",\"INC006\",\"INC006\",\"INC006\",\"INC006\",\"INC006\",\"INC006\",\"INC006\",\"INC006\",\"INC006\",\"INC006\",\"INC006\",\"INC006\",\"INC006\",\"INC006\",\"INC006\",\"INC006\",\"INC006\",\"INC006\",\"INC006\",\"INC006\",\"INC006\",\"INC006\",\"INC007\",\"INC007\",\"INC007\",\"INC007\",\"INC007\",\"INC007\",\"INC007\",\"INC007\",\"INC007\",\"INC007\",\"INC007\",\"INC007\",\"INC007\",\"INC007\",\"INC007\",\"INC007\",\"INC007\",\"INC007\",\"INC007\",\"INC007\",\"INC007\",\"INC007\",\"INC007\",\"INC007\",\"INC008\",\"INC008\",\"INC008\",\"INC008\",\"INC008\",\"INC008\",\"INC008\",\"INC008\",\"INC008\",\"INC008\",\"INC008\",\"INC008\",\"INC008\",\"INC008\",\"INC008\",\"INC008\",\"INC008\",\"INC008\",\"INC008\",\"INC008\",\"INC008\",\"INC008\",\"INC008\",\"INC008\",\"INC009\",\"INC009\",\"INC009\",\"INC009\",\"INC009\",\"INC009\",\"INC009\",\"INC009\",\"INC009\",\"INC009\",\"INC009\",\"INC009\",\"INC009\",\"INC009\",\"INC009\",\"INC009\",\"INC009\",\"INC009\",\"INC009\",\"INC009\",\"INC009\",\"INC009\",\"INC009\",\"INC009\",\"INC010\",\"INC010\",\"INC010\",\"INC010\",\"INC010\",\"INC010\",\"INC010\",\"INC010\",\"INC010\",\"INC010\",\"INC010\",\"INC010\",\"INC010\",\"INC010\",\"INC010\",\"INC010\",\"INC010\",\"INC010\",\"INC010\",\"INC010\",\"INC010\",\"INC010\",\"INC010\",\"INC010\",\"INC011\",\"INC011\",\"INC011\",\"INC011\",\"INC011\",\"INC011\",\"INC011\",\"INC011\",\"INC011\",\"INC011\",\"INC011\",\"INC011\",\"INC011\",\"INC011\",\"INC011\",\"INC011\",\"INC011\",\"INC011\",\"INC011\",\"INC011\",\"INC011\",\"INC011\",\"INC011\",\"INC011\",\"INC012\",\"INC012\",\"INC012\",\"INC012\",\"INC012\",\"INC012\",\"INC012\",\"INC012\",\"INC012\",\"INC012\",\"INC012\",\"INC012\",\"INC012\",\"INC012\",\"INC012\",\"INC012\",\"INC012\",\"INC012\",\"INC012\",\"INC012\",\"INC012\",\"INC012\",\"INC012\",\"INC012\",\"INC013\",\"INC013\",\"INC013\",\"INC013\",\"INC013\",\"INC013\",\"INC013\",\"INC013\",\"INC013\",\"INC013\",\"INC013\",\"INC013\",\"INC013\",\"INC013\",\"INC013\",\"INC013\",\"INC013\",\"INC013\",\"INC013\",\"INC013\",\"INC013\",\"INC013\",\"INC013\",\"INC013\",\"INC014\",\"INC014\",\"INC014\",\"INC014\",\"INC014\",\"INC014\",\"INC014\",\"INC014\",\"INC014\",\"INC014\",\"INC014\",\"INC014\",\"INC014\",\"INC014\",\"INC014\",\"INC014\",\"INC014\",\"INC014\",\"INC014\",\"INC014\",\"INC014\",\"INC014\",\"INC014\",\"INC014\",\"INC015\",\"INC015\",\"INC015\",\"INC015\",\"INC015\",\"INC015\",\"INC015\",\"INC015\",\"INC015\",\"INC015\",\"INC015\",\"INC015\",\"INC015\",\"INC015\",\"INC015\",\"INC015\",\"INC015\",\"INC015\",\"INC015\",\"INC015\",\"INC015\",\"INC015\",\"INC015\",\"INC015\",\"RIS003\",\"RIS003\",\"RIS003\",\"RIS003\",\"RIS003\",\"RIS003\",\"RIS003\",\"RIS003\",\"RIS003\",\"RIS003\",\"RIS003\",\"RIS003\",\"RIS003\",\"RIS003\",\"RIS003\",\"RIS003\",\"RIS003\",\"RIS003\",\"RIS003\",\"RIS003\",\"RIS003\",\"RIS003\",\"RIS003\",\"RIS003\",\"RIS004\",\"RIS004\",\"RIS004\",\"RIS004\",\"RIS004\",\"RIS004\",\"RIS004\",\"RIS004\",\"RIS004\",\"RIS004\",\"RIS004\",\"RIS004\",\"RIS004\",\"RIS004\",\"RIS004\",\"RIS004\",\"RIS004\",\"RIS004\",\"RIS004\",\"RIS004\",\"RIS004\",\"RIS004\",\"RIS004\",\"RIS004\",\"RIS005\",\"RIS005\",\"RIS005\",\"RIS005\",\"RIS005\",\"RIS005\",\"RIS005\",\"RIS005\",\"RIS005\",\"RIS005\",\"RIS005\",\"RIS005\",\"RIS005\",\"RIS005\",\"RIS005\",\"RIS005\",\"RIS005\",\"RIS005\",\"RIS005\",\"RIS005\",\"RIS005\",\"RIS005\",\"RIS005\",\"RIS005\",\"RIS006\",\"RIS006\",\"RIS006\",\"RIS006\",\"RIS006\",\"RIS006\",\"RIS006\",\"RIS006\",\"RIS006\",\"RIS006\",\"RIS006\",\"RIS006\",\"RIS006\",\"RIS006\",\"RIS006\",\"RIS006\",\"RIS006\",\"RIS006\",\"RIS006\",\"RIS006\",\"RIS006\",\"RIS006\",\"RIS006\",\"RIS006\",\"RIS01\",\"RIS01\",\"RIS01\",\"RIS01\",\"RIS01\",\"RIS01\",\"RIS01\",\"RIS01\",\"RIS01\",\"RIS01\",\"RIS01\",\"RIS01\",\"RIS01\",\"RIS01\",\"RIS01\",\"RIS01\",\"RIS01\",\"RIS01\",\"RIS01\",\"RIS01\",\"RIS01\",\"RIS01\",\"RIS01\",\"RIS01\",\"RIS010\",\"RIS010\",\"RIS010\",\"RIS010\",\"RIS010\",\"RIS010\",\"RIS010\",\"RIS010\",\"RIS010\",\"RIS010\",\"RIS010\",\"RIS010\",\"RIS010\",\"RIS010\",\"RIS010\",\"RIS010\",\"RIS010\",\"RIS010\",\"RIS010\",\"RIS010\",\"RIS010\",\"RIS010\",\"RIS010\",\"RIS010\",\"RIS016\",\"RIS016\",\"RIS016\",\"RIS016\",\"RIS016\",\"RIS016\",\"RIS016\",\"RIS016\",\"RIS016\",\"RIS016\",\"RIS016\",\"RIS016\",\"RIS016\",\"RIS016\",\"RIS016\",\"RIS016\",\"RIS016\",\"RIS016\",\"RIS016\",\"RIS016\",\"RIS016\",\"RIS016\",\"RIS016\",\"RIS016\",\"RIS02\",\"RIS02\",\"RIS02\",\"RIS02\",\"RIS02\",\"RIS02\",\"RIS02\",\"RIS02\",\"RIS02\",\"RIS02\",\"RIS02\",\"RIS02\",\"RIS02\",\"RIS02\",\"RIS02\",\"RIS02\",\"RIS02\",\"RIS02\",\"RIS02\",\"RIS02\",\"RIS02\",\"RIS02\",\"RIS02\",\"RIS02\",\"RIS027\",\"RIS027\",\"RIS027\",\"RIS027\",\"RIS027\",\"RIS027\",\"RIS027\",\"RIS027\",\"RIS027\",\"RIS027\",\"RIS027\",\"RIS027\",\"RIS027\",\"RIS027\",\"RIS027\",\"RIS027\",\"RIS027\",\"RIS027\",\"RIS027\",\"RIS027\",\"RIS027\",\"RIS027\",\"RIS027\",\"RIS027\",\"RIS028\",\"RIS028\",\"RIS028\",\"RIS028\",\"RIS028\",\"RIS028\",\"RIS028\",\"RIS028\",\"RIS028\",\"RIS028\",\"RIS028\",\"RIS028\",\"RIS028\",\"RIS028\",\"RIS028\",\"RIS028\",\"RIS028\",\"RIS028\",\"RIS028\",\"RIS028\",\"RIS028\",\"RIS028\",\"RIS028\",\"RIS028\",\"RIS029\",\"RIS029\",\"RIS029\",\"RIS029\",\"RIS029\",\"RIS029\",\"RIS029\",\"RIS029\",\"RIS029\",\"RIS029\",\"RIS029\",\"RIS029\",\"RIS029\",\"RIS029\",\"RIS029\",\"RIS029\",\"RIS029\",\"RIS029\",\"RIS029\",\"RIS029\",\"RIS029\",\"RIS029\",\"RIS029\",\"RIS029\",\"RIS030\",\"RIS030\",\"RIS030\",\"RIS030\",\"RIS030\",\"RIS030\",\"RIS030\",\"RIS030\",\"RIS030\",\"RIS030\",\"RIS030\",\"RIS030\",\"RIS030\",\"RIS030\",\"RIS030\",\"RIS030\",\"RIS030\",\"RIS030\",\"RIS030\",\"RIS030\",\"RIS030\",\"RIS030\",\"RIS030\",\"RIS030\",\"RIS031\",\"RIS031\",\"RIS031\",\"RIS031\",\"RIS031\",\"RIS031\",\"RIS031\",\"RIS031\",\"RIS031\",\"RIS031\",\"RIS031\",\"RIS031\",\"RIS031\",\"RIS031\",\"RIS031\",\"RIS031\",\"RIS031\",\"RIS031\",\"RIS031\",\"RIS031\",\"RIS031\",\"RIS031\",\"RIS031\",\"RIS031\",\"RIS032\",\"RIS032\",\"RIS032\",\"RIS032\",\"RIS032\",\"RIS032\",\"RIS032\",\"RIS032\",\"RIS032\",\"RIS032\",\"RIS032\",\"RIS032\",\"RIS032\",\"RIS032\",\"RIS032\",\"RIS032\",\"RIS032\",\"RIS032\",\"RIS032\",\"RIS032\",\"RIS032\",\"RIS032\",\"RIS032\",\"RIS032\",\"RIS033\",\"RIS033\",\"RIS033\",\"RIS033\",\"RIS033\",\"RIS033\",\"RIS033\",\"RIS033\",\"RIS033\",\"RIS033\",\"RIS033\",\"RIS033\",\"RIS033\",\"RIS033\",\"RIS033\",\"RIS033\",\"RIS033\",\"RIS033\",\"RIS033\",\"RIS033\",\"RIS033\",\"RIS033\",\"RIS033\",\"RIS033\",\"RIS034\",\"RIS034\",\"RIS034\",\"RIS034\",\"RIS034\",\"RIS034\",\"RIS034\",\"RIS034\",\"RIS034\",\"RIS034\",\"RIS034\",\"RIS034\",\"RIS034\",\"RIS034\",\"RIS034\",\"RIS034\",\"RIS034\",\"RIS034\",\"RIS034\",\"RIS034\",\"RIS034\",\"RIS034\",\"RIS034\",\"RIS034\",\"RIS035\",\"RIS035\",\"RIS035\",\"RIS035\",\"RIS035\",\"RIS035\",\"RIS035\",\"RIS035\",\"RIS035\",\"RIS035\",\"RIS035\",\"RIS035\",\"RIS035\",\"RIS035\",\"RIS035\",\"RIS035\",\"RIS035\",\"RIS035\",\"RIS035\",\"RIS035\",\"RIS035\",\"RIS035\",\"RIS035\",\"RIS035\",\"RIS07\",\"RIS07\",\"RIS07\",\"RIS07\",\"RIS07\",\"RIS07\",\"RIS07\",\"RIS07\",\"RIS07\",\"RIS07\",\"RIS07\",\"RIS07\",\"RIS07\",\"RIS07\",\"RIS07\",\"RIS07\",\"RIS07\",\"RIS07\",\"RIS07\",\"RIS07\",\"RIS07\",\"RIS07\",\"RIS07\",\"RIS07\",\"RIS08\",\"RIS08\",\"RIS08\",\"RIS08\",\"RIS08\",\"RIS08\",\"RIS08\",\"RIS08\",\"RIS08\",\"RIS08\",\"RIS08\",\"RIS08\",\"RIS08\",\"RIS08\",\"RIS08\",\"RIS08\",\"RIS08\",\"RIS08\",\"RIS08\",\"RIS08\",\"RIS08\",\"RIS08\",\"RIS08\",\"RIS08\",\"RIS09\",\"RIS09\",\"RIS09\",\"RIS09\",\"RIS09\",\"RIS09\",\"RIS09\",\"RIS09\",\"RIS09\",\"RIS09\",\"RIS09\",\"RIS09\",\"RIS09\",\"RIS09\",\"RIS09\",\"RIS09\",\"RIS09\",\"RIS09\",\"RIS09\",\"RIS09\",\"RIS09\",\"RIS09\",\"RIS09\",\"RIS09\",\"RIS11\",\"RIS11\",\"RIS11\",\"RIS11\",\"RIS11\",\"RIS11\",\"RIS11\",\"RIS11\",\"RIS11\",\"RIS11\",\"RIS11\",\"RIS11\",\"RIS11\",\"RIS11\",\"RIS11\",\"RIS11\",\"RIS11\",\"RIS11\",\"RIS11\",\"RIS11\",\"RIS11\",\"RIS11\",\"RIS11\",\"RIS11\",\"RIS12\",\"RIS12\",\"RIS12\",\"RIS12\",\"RIS12\",\"RIS12\",\"RIS12\",\"RIS12\",\"RIS12\",\"RIS12\",\"RIS12\",\"RIS12\",\"RIS12\",\"RIS12\",\"RIS12\",\"RIS12\",\"RIS12\",\"RIS12\",\"RIS12\",\"RIS12\",\"RIS12\",\"RIS12\",\"RIS12\",\"RIS12\",\"RIS13\",\"RIS13\",\"RIS13\",\"RIS13\",\"RIS13\",\"RIS13\",\"RIS13\",\"RIS13\",\"RIS13\",\"RIS13\",\"RIS13\",\"RIS13\",\"RIS13\",\"RIS13\",\"RIS13\",\"RIS13\",\"RIS13\",\"RIS13\",\"RIS13\",\"RIS13\",\"RIS13\",\"RIS13\",\"RIS13\",\"RIS13\",\"RIS14\",\"RIS14\",\"RIS14\",\"RIS14\",\"RIS14\",\"RIS14\",\"RIS14\",\"RIS14\",\"RIS14\",\"RIS14\",\"RIS14\",\"RIS14\",\"RIS14\",\"RIS14\",\"RIS14\",\"RIS14\",\"RIS14\",\"RIS14\",\"RIS14\",\"RIS14\",\"RIS14\",\"RIS14\",\"RIS14\",\"RIS14\",\"RIS15\",\"RIS15\",\"RIS15\",\"RIS15\",\"RIS15\",\"RIS15\",\"RIS15\",\"RIS15\",\"RIS15\",\"RIS15\",\"RIS15\",\"RIS15\",\"RIS15\",\"RIS15\",\"RIS15\",\"RIS15\",\"RIS15\",\"RIS15\",\"RIS15\",\"RIS15\",\"RIS15\",\"RIS15\",\"RIS15\",\"RIS15\",\"RIS17\",\"RIS17\",\"RIS17\",\"RIS17\",\"RIS17\",\"RIS17\",\"RIS17\",\"RIS17\",\"RIS17\",\"RIS17\",\"RIS17\",\"RIS17\",\"RIS17\",\"RIS17\",\"RIS17\",\"RIS17\",\"RIS17\",\"RIS17\",\"RIS17\",\"RIS17\",\"RIS17\",\"RIS17\",\"RIS17\",\"RIS17\",\"RIS18\",\"RIS18\",\"RIS18\",\"RIS18\",\"RIS18\",\"RIS18\",\"RIS18\",\"RIS18\",\"RIS18\",\"RIS18\",\"RIS18\",\"RIS18\",\"RIS18\",\"RIS18\",\"RIS18\",\"RIS18\",\"RIS18\",\"RIS18\",\"RIS18\",\"RIS18\",\"RIS18\",\"RIS18\",\"RIS18\",\"RIS18\",\"RIS19\",\"RIS19\",\"RIS19\",\"RIS19\",\"RIS19\",\"RIS19\",\"RIS19\",\"RIS19\",\"RIS19\",\"RIS19\",\"RIS19\",\"RIS19\",\"RIS19\",\"RIS19\",\"RIS19\",\"RIS19\",\"RIS19\",\"RIS19\",\"RIS19\",\"RIS19\",\"RIS19\",\"RIS19\",\"RIS19\",\"RIS19\",\"RIS20\",\"RIS20\",\"RIS20\",\"RIS20\",\"RIS20\",\"RIS20\",\"RIS20\",\"RIS20\",\"RIS20\",\"RIS20\",\"RIS20\",\"RIS20\",\"RIS20\",\"RIS20\",\"RIS20\",\"RIS20\",\"RIS20\",\"RIS20\",\"RIS20\",\"RIS20\",\"RIS20\",\"RIS20\",\"RIS20\",\"RIS20\",\"RIS21\",\"RIS21\",\"RIS21\",\"RIS21\",\"RIS21\",\"RIS21\",\"RIS21\",\"RIS21\",\"RIS21\",\"RIS21\",\"RIS21\",\"RIS21\",\"RIS21\",\"RIS21\",\"RIS21\",\"RIS21\",\"RIS21\",\"RIS21\",\"RIS21\",\"RIS21\",\"RIS21\",\"RIS21\",\"RIS21\",\"RIS21\",\"RIS22\",\"RIS22\",\"RIS22\",\"RIS22\",\"RIS22\",\"RIS22\",\"RIS22\",\"RIS22\",\"RIS22\",\"RIS22\",\"RIS22\",\"RIS22\",\"RIS22\",\"RIS22\",\"RIS22\",\"RIS22\",\"RIS22\",\"RIS22\",\"RIS22\",\"RIS22\",\"RIS22\",\"RIS22\",\"RIS22\",\"RIS22\",\"RIS23\",\"RIS23\",\"RIS23\",\"RIS23\",\"RIS23\",\"RIS23\",\"RIS23\",\"RIS23\",\"RIS23\",\"RIS23\",\"RIS23\",\"RIS23\",\"RIS23\",\"RIS23\",\"RIS23\",\"RIS23\",\"RIS23\",\"RIS23\",\"RIS23\",\"RIS23\",\"RIS23\",\"RIS23\",\"RIS23\",\"RIS23\",\"RIS24\",\"RIS24\",\"RIS24\",\"RIS24\",\"RIS24\",\"RIS24\",\"RIS24\",\"RIS24\",\"RIS24\",\"RIS24\",\"RIS24\",\"RIS24\",\"RIS24\",\"RIS24\",\"RIS24\",\"RIS24\",\"RIS24\",\"RIS24\",\"RIS24\",\"RIS24\",\"RIS24\",\"RIS24\",\"RIS24\",\"RIS24\",\"RIS25\",\"RIS25\",\"RIS25\",\"RIS25\",\"RIS25\",\"RIS25\",\"RIS25\",\"RIS25\",\"RIS25\",\"RIS25\",\"RIS25\",\"RIS25\",\"RIS25\",\"RIS25\",\"RIS25\",\"RIS25\",\"RIS25\",\"RIS25\",\"RIS25\",\"RIS25\",\"RIS25\",\"RIS25\",\"RIS25\",\"RIS25\",\"RIS26\",\"RIS26\",\"RIS26\",\"RIS26\",\"RIS26\",\"RIS26\",\"RIS26\",\"RIS26\",\"RIS26\",\"RIS26\",\"RIS26\",\"RIS26\",\"RIS26\",\"RIS26\",\"RIS26\",\"RIS26\",\"RIS26\",\"RIS26\",\"RIS26\",\"RIS26\",\"RIS26\",\"RIS26\",\"RIS26\",\"RIS26\",\"TC20001\",\"TC20001\",\"TC20001\",\"TC20001\",\"TC20001\",\"TC20001\",\"TC20001\",\"TC20001\",\"TC20001\",\"TC20001\",\"TC20001\",\"TC20001\",\"TC20001\",\"TC20001\",\"TC20001\",\"TC20001\",\"TC20001\",\"TC20001\",\"TC20001\",\"TC20001\",\"TC20001\",\"TC20001\",\"TC20001\",\"TC20001\",\"TC202\",\"TC202\",\"TC202\",\"TC202\",\"TC202\",\"TC202\",\"TC202\",\"TC202\",\"TC202\",\"TC202\",\"TC202\",\"TC202\",\"TC202\",\"TC202\",\"TC202\",\"TC202\",\"TC202\",\"TC202\",\"TC202\",\"TC202\",\"TC202\",\"TC202\",\"TC202\",\"TC202\",\"TC203\",\"TC203\",\"TC203\",\"TC203\",\"TC203\",\"TC203\",\"TC203\",\"TC203\",\"TC203\",\"TC203\",\"TC203\",\"TC203\",\"TC203\",\"TC203\",\"TC203\",\"TC203\",\"TC203\",\"TC203\",\"TC203\",\"TC203\",\"TC203\",\"TC203\",\"TC203\",\"TC203\",\"TC204\",\"TC204\",\"TC204\",\"TC204\",\"TC204\",\"TC204\",\"TC204\",\"TC204\",\"TC204\",\"TC204\",\"TC204\",\"TC204\",\"TC204\",\"TC204\",\"TC204\",\"TC204\",\"TC204\",\"TC204\",\"TC204\",\"TC204\",\"TC204\",\"TC204\",\"TC204\",\"TC204\",\"TC205\",\"TC205\",\"TC205\",\"TC205\",\"TC205\",\"TC205\",\"TC205\",\"TC205\",\"TC205\",\"TC205\",\"TC205\",\"TC205\",\"TC205\",\"TC205\",\"TC205\",\"TC205\",\"TC205\",\"TC205\",\"TC205\",\"TC205\",\"TC205\",\"TC205\",\"TC205\",\"TC205\",\"TC206\",\"TC206\",\"TC206\",\"TC206\",\"TC206\",\"TC206\",\"TC206\",\"TC206\",\"TC206\",\"TC206\",\"TC206\",\"TC206\",\"TC206\",\"TC206\",\"TC206\",\"TC206\",\"TC206\",\"TC206\",\"TC206\",\"TC206\",\"TC206\",\"TC206\",\"TC206\",\"TC206\",\"TC207\",\"TC207\",\"TC207\",\"TC207\",\"TC207\",\"TC207\",\"TC207\",\"TC207\",\"TC207\",\"TC207\",\"TC207\",\"TC207\",\"TC207\",\"TC207\",\"TC207\",\"TC207\",\"TC207\",\"TC207\",\"TC207\",\"TC207\",\"TC207\",\"TC207\",\"TC207\",\"TC207\",\"TC208\",\"TC208\",\"TC208\",\"TC208\",\"TC208\",\"TC208\",\"TC208\",\"TC208\",\"TC208\",\"TC208\",\"TC208\",\"TC208\",\"TC208\",\"TC208\",\"TC208\",\"TC208\",\"TC208\",\"TC208\",\"TC208\",\"TC208\",\"TC208\",\"TC208\",\"TC208\",\"TC208\",\"TC209\",\"TC209\",\"TC209\",\"TC209\",\"TC209\",\"TC209\",\"TC209\",\"TC209\",\"TC209\",\"TC209\",\"TC209\",\"TC209\",\"TC209\",\"TC209\",\"TC209\",\"TC209\",\"TC209\",\"TC209\",\"TC209\",\"TC209\",\"TC209\",\"TC209\",\"TC209\",\"TC209\",\"TC210\",\"TC210\",\"TC210\",\"TC210\",\"TC210\",\"TC210\",\"TC210\",\"TC210\",\"TC210\",\"TC210\",\"TC210\",\"TC210\",\"TC210\",\"TC210\",\"TC210\",\"TC210\",\"TC210\",\"TC210\",\"TC210\",\"TC210\",\"TC210\",\"TC210\",\"TC210\",\"TC210\",\"TC211\",\"TC211\",\"TC211\",\"TC211\",\"TC211\",\"TC211\",\"TC211\",\"TC211\",\"TC211\",\"TC211\",\"TC211\",\"TC211\",\"TC211\",\"TC211\",\"TC211\",\"TC211\",\"TC211\",\"TC211\",\"TC211\",\"TC211\",\"TC211\",\"TC211\",\"TC211\",\"TC211\",\"TC212\",\"TC212\",\"TC212\",\"TC212\",\"TC212\",\"TC212\",\"TC212\",\"TC212\",\"TC212\",\"TC212\",\"TC212\",\"TC212\",\"TC212\",\"TC212\",\"TC212\",\"TC212\",\"TC212\",\"TC212\",\"TC212\",\"TC212\",\"TC212\",\"TC212\",\"TC212\",\"TC212\",\"TL20003\",\"TL20003\",\"TL20003\",\"TL20003\",\"TL20003\",\"TL20003\",\"TL20003\",\"TL20003\",\"TL20003\",\"TL20003\",\"TL20003\",\"TL20003\",\"TL20003\",\"TL20003\",\"TL20003\",\"TL20003\",\"TL20003\",\"TL20003\",\"TL20003\",\"TL20003\",\"TL20003\",\"TL20003\",\"TL20003\",\"TL20003\",\"TL20004\",\"TL20004\",\"TL20004\",\"TL20004\",\"TL20004\",\"TL20004\",\"TL20004\",\"TL20004\",\"TL20004\",\"TL20004\",\"TL20004\",\"TL20004\",\"TL20004\",\"TL20004\",\"TL20004\",\"TL20004\",\"TL20004\",\"TL20004\",\"TL20004\",\"TL20004\",\"TL20004\",\"TL20004\",\"TL20004\",\"TL20004\",\"TL20005\",\"TL20005\",\"TL20005\",\"TL20005\",\"TL20005\",\"TL20005\",\"TL20005\",\"TL20005\",\"TL20005\",\"TL20005\",\"TL20005\",\"TL20005\",\"TL20005\",\"TL20005\",\"TL20005\",\"TL20005\",\"TL20005\",\"TL20005\",\"TL20005\",\"TL20005\",\"TL20005\",\"TL20005\",\"TL20005\",\"TL20005\",\"TL20006\",\"TL20006\",\"TL20006\",\"TL20006\",\"TL20006\",\"TL20006\",\"TL20006\",\"TL20006\",\"TL20006\",\"TL20006\",\"TL20006\",\"TL20006\",\"TL20006\",\"TL20006\",\"TL20006\",\"TL20006\",\"TL20006\",\"TL20006\",\"TL20006\",\"TL20006\",\"TL20006\",\"TL20006\",\"TL20006\",\"TL20006\",\"TL2001\",\"TL2001\",\"TL2001\",\"TL2001\",\"TL2001\",\"TL2001\",\"TL2001\",\"TL2001\",\"TL2001\",\"TL2001\",\"TL2001\",\"TL2001\",\"TL2001\",\"TL2001\",\"TL2001\",\"TL2001\",\"TL2001\",\"TL2001\",\"TL2001\",\"TL2001\",\"TL2001\",\"TL2001\",\"TL2001\",\"TL2001\",\"TL2002\",\"TL2002\",\"TL2002\",\"TL2002\",\"TL2002\",\"TL2002\",\"TL2002\",\"TL2002\",\"TL2002\",\"TL2002\",\"TL2002\",\"TL2002\",\"TL2002\",\"TL2002\",\"TL2002\",\"TL2002\",\"TL2002\",\"TL2002\",\"TL2002\",\"TL2002\",\"TL2002\",\"TL2002\",\"TL2002\",\"TL2002\",\"TC30001\",\"TC30001\",\"TC30001\",\"TC30001\",\"TC30001\",\"TC30001\",\"TC30001\",\"TC30001\",\"TC30001\",\"TC30001\",\"TC30001\",\"TC30001\",\"TC30001\",\"TC30001\",\"TC30001\",\"TC30001\",\"TC30001\",\"TC30001\",\"TC30001\",\"TC30001\",\"TC30001\",\"TC30001\",\"TC30001\",\"TC30001\",\"TC30002\",\"TC30002\",\"TC30002\",\"TC30002\",\"TC30002\",\"TC30002\",\"TC30002\",\"TC30002\",\"TC30002\",\"TC30002\",\"TC30002\",\"TC30002\",\"TC30002\",\"TC30002\",\"TC30002\",\"TC30002\",\"TC30002\",\"TC30002\",\"TC30002\",\"TC30002\",\"TC30002\",\"TC30002\",\"TC30002\",\"TC30002\",\"TC30003\",\"TC30003\",\"TC30003\",\"TC30003\",\"TC30003\",\"TC30003\",\"TC30003\",\"TC30003\",\"TC30003\",\"TC30003\",\"TC30003\",\"TC30003\",\"TC30003\",\"TC30003\",\"TC30003\",\"TC30003\",\"TC30003\",\"TC30003\",\"TC30003\",\"TC30003\",\"TC30003\",\"TC30003\",\"TC30003\",\"TC30003\",\"TC30004\",\"TC30004\",\"TC30004\",\"TC30004\",\"TC30004\",\"TC30004\",\"TC30004\",\"TC30004\",\"TC30004\",\"TC30004\",\"TC30004\",\"TC30004\",\"TC30004\",\"TC30004\",\"TC30004\",\"TC30004\",\"TC30004\",\"TC30004\",\"TC30004\",\"TC30004\",\"TC30004\",\"TC30004\",\"TC30004\",\"TC30004\",\"TC30005\",\"TC30005\",\"TC30005\",\"TC30005\",\"TC30005\",\"TC30005\",\"TC30005\",\"TC30005\",\"TC30005\",\"TC30005\",\"TC30005\",\"TC30005\",\"TC30005\",\"TC30005\",\"TC30005\",\"TC30005\",\"TC30005\",\"TC30005\",\"TC30005\",\"TC30005\",\"TC30005\",\"TC30005\",\"TC30005\",\"TC30005\",\"TL30001\",\"TL30001\",\"TL30001\",\"TL30001\",\"TL30001\",\"TL30001\",\"TL30001\",\"TL30001\",\"TL30001\",\"TL30001\",\"TL30001\",\"TL30001\",\"TL30001\",\"TL30001\",\"TL30001\",\"TL30001\",\"TL30001\",\"TL30001\",\"TL30001\",\"TL30001\",\"TL30001\",\"TL30001\",\"TL30001\",\"TL30001\",\"TL30002\",\"TL30002\",\"TL30002\",\"TL30002\",\"TL30002\",\"TL30002\",\"TL30002\",\"TL30002\",\"TL30002\",\"TL30002\",\"TL30002\",\"TL30002\",\"TL30002\",\"TL30002\",\"TL30002\",\"TL30002\",\"TL30002\",\"TL30002\",\"TL30002\",\"TL30002\",\"TL30002\",\"TL30002\",\"TL30002\",\"TL30002\",\"TC4001\",\"TC4001\",\"TC4001\",\"TC4001\",\"TC4001\",\"TC4001\",\"TC4001\",\"TC4001\",\"TC4001\",\"TC4001\",\"TC4001\",\"TC4001\",\"TC4001\",\"TC4001\",\"TC4001\",\"TC4001\",\"TC4001\",\"TC4001\",\"TC4001\",\"TC4001\",\"TC4001\",\"TC4001\",\"TC4001\",\"TC4001\",\"TC4002\",\"TC4002\",\"TC4002\",\"TC4002\",\"TC4002\",\"TC4002\",\"TC4002\",\"TC4002\",\"TC4002\",\"TC4002\",\"TC4002\",\"TC4002\",\"TC4002\",\"TC4002\",\"TC4002\",\"TC4002\",\"TC4002\",\"TC4002\",\"TC4002\",\"TC4002\",\"TC4002\",\"TC4002\",\"TC4002\",\"TC4002\",\"TC4003\",\"TC4003\",\"TC4003\",\"TC4003\",\"TC4003\",\"TC4003\",\"TC4003\",\"TC4003\",\"TC4003\",\"TC4003\",\"TC4003\",\"TC4003\",\"TC4003\",\"TC4003\",\"TC4003\",\"TC4003\",\"TC4003\",\"TC4003\",\"TC4003\",\"TC4003\",\"TC4003\",\"TC4003\",\"TC4003\",\"TC4003\",\"TL4001\",\"TL4001\",\"TL4001\",\"TL4001\",\"TL4001\",\"TL4001\",\"TL4001\",\"TL4001\",\"TL4001\",\"TL4001\",\"TL4001\",\"TL4001\",\"TL4001\",\"TL4001\",\"TL4001\",\"TL4001\",\"TL4001\",\"TL4001\",\"TL4001\",\"TL4001\",\"TL4001\",\"TL4001\",\"TL4001\",\"TL4001\",\"TL4002\",\"TL4002\",\"TL4002\",\"TL4002\",\"TL4002\",\"TL4002\",\"TL4002\",\"TL4002\",\"TL4002\",\"TL4002\",\"TL4002\",\"TL4002\",\"TL4002\",\"TL4002\",\"TL4002\",\"TL4002\",\"TL4002\",\"TL4002\",\"TL4002\",\"TL4002\",\"TL4002\",\"TL4002\",\"TL4002\",\"TL4002\",\"TL4003\",\"TL4003\",\"TL4003\",\"TL4003\",\"TL4003\",\"TL4003\",\"TL4003\",\"TL4003\",\"TL4003\",\"TL4003\",\"TL4003\",\"TL4003\",\"TL4003\",\"TL4003\",\"TL4003\",\"TL4003\",\"TL4003\",\"TL4003\",\"TL4003\",\"TL4003\",\"TL4003\",\"TL4003\",\"TL4003\",\"TL4003\",\"TL4004\",\"TL4004\",\"TL4004\",\"TL4004\",\"TL4004\",\"TL4004\",\"TL4004\",\"TL4004\",\"TL4004\",\"TL4004\",\"TL4004\",\"TL4004\",\"TL4004\",\"TL4004\",\"TL4004\",\"TL4004\",\"TL4004\",\"TL4004\",\"TL4004\",\"TL4004\",\"TL4004\",\"TL4004\",\"TL4004\",\"TL4004\",\"TC5001\",\"TC5001\",\"TC5001\",\"TC5001\",\"TC5001\",\"TC5001\",\"TC5001\",\"TC5001\",\"TC5001\",\"TC5001\",\"TC5001\",\"TC5001\",\"TC5001\",\"TC5001\",\"TC5001\",\"TC5001\",\"TC5001\",\"TC5001\",\"TC5001\",\"TC5001\",\"TC5001\",\"TC5001\",\"TC5001\",\"TC5001\",\"TC5002\",\"TC5002\",\"TC5002\",\"TC5002\",\"TC5002\",\"TC5002\",\"TC5002\",\"TC5002\",\"TC5002\",\"TC5002\",\"TC5002\",\"TC5002\",\"TC5002\",\"TC5002\",\"TC5002\",\"TC5002\",\"TC5002\",\"TC5002\",\"TC5002\",\"TC5002\",\"TC5002\",\"TC5002\",\"TC5002\",\"TC5002\",\"TL5001\",\"TL5001\",\"TL5001\",\"TL5001\",\"TL5001\",\"TL5001\",\"TL5001\",\"TL5001\",\"TL5001\",\"TL5001\",\"TL5001\",\"TL5001\",\"TL5001\",\"TL5001\",\"TL5001\",\"TL5001\",\"TL5001\",\"TL5001\",\"TL5001\",\"TL5001\",\"TL5001\",\"TL5001\",\"TL5001\",\"TL5001\",\"TL5002\",\"TL5002\",\"TL5002\",\"TL5002\",\"TL5002\",\"TL5002\",\"TL5002\",\"TL5002\",\"TL5002\",\"TL5002\",\"TL5002\",\"TL5002\",\"TL5002\",\"TL5002\",\"TL5002\",\"TL5002\",\"TL5002\",\"TL5002\",\"TL5002\",\"TL5002\",\"TL5002\",\"TL5002\",\"TL5002\",\"TL5002\",\"TC601\",\"TC601\",\"TC601\",\"TC601\",\"TC601\",\"TC601\",\"TC601\",\"TC601\",\"TC601\",\"TC601\",\"TC601\",\"TC601\",\"TC601\",\"TC601\",\"TC601\",\"TC601\",\"TC601\",\"TC601\",\"TC601\",\"TC601\",\"TC601\",\"TC601\",\"TC601\",\"TC601\",\"TL6001\",\"TL6001\",\"TL6001\",\"TL6001\",\"TL6001\",\"TL6001\",\"TL6001\",\"TL6001\",\"TL6001\",\"TL6001\",\"TL6001\",\"TL6001\",\"TL6001\",\"TL6001\",\"TL6001\",\"TL6001\",\"TL6001\",\"TL6001\",\"TL6001\",\"TL6001\",\"TL6001\",\"TL6001\",\"TL6001\",\"TL6001\",\"TL6002\",\"TL6002\",\"TL6002\",\"TL6002\",\"TL6002\",\"TL6002\",\"TL6002\",\"TL6002\",\"TL6002\",\"TL6002\",\"TL6002\",\"TL6002\",\"TL6002\",\"TL6002\",\"TL6002\",\"TL6002\",\"TL6002\",\"TL6002\",\"TL6002\",\"TL6002\",\"TL6002\",\"TL6002\",\"TL6002\",\"TL6002\",\"TC701\",\"TC701\",\"TC701\",\"TC701\",\"TC701\",\"TC701\",\"TC701\",\"TC701\",\"TC701\",\"TC701\",\"TC701\",\"TC701\",\"TC701\",\"TC701\",\"TC701\",\"TC701\",\"TC701\",\"TC701\",\"TC701\",\"TC701\",\"TC701\",\"TC701\",\"TC701\",\"TC701\",\"TL7001\",\"TL7001\",\"TL7001\",\"TL7001\",\"TL7001\",\"TL7001\",\"TL7001\",\"TL7001\",\"TL7001\",\"TL7001\",\"TL7001\",\"TL7001\",\"TL7001\",\"TL7001\",\"TL7001\",\"TL7001\",\"TL7001\",\"TL7001\",\"TL7001\",\"TL7001\",\"TL7001\",\"TL7001\",\"TL7001\",\"TL7001\",\"TL702\",\"TL702\",\"TL702\",\"TL702\",\"TL702\",\"TL702\",\"TL702\",\"TL702\",\"TL702\",\"TL702\",\"TL702\",\"TL702\",\"TL702\",\"TL702\",\"TL702\",\"TL702\",\"TL702\",\"TL702\",\"TL702\",\"TL702\",\"TL702\",\"TL702\",\"TL702\",\"TL702\",\"TC8001\",\"TC8001\",\"TC8001\",\"TC8001\",\"TC8001\",\"TC8001\",\"TC8001\",\"TC8001\",\"TC8001\",\"TC8001\",\"TC8001\",\"TC8001\",\"TC8001\",\"TC8001\",\"TC8001\",\"TC8001\",\"TC8001\",\"TC8001\",\"TC8001\",\"TC8001\",\"TC8001\",\"TC8001\",\"TC8001\",\"TC8001\",\"TL801\",\"TL801\",\"TL801\",\"TL801\",\"TL801\",\"TL801\",\"TL801\",\"TL801\",\"TL801\",\"TL801\",\"TL801\",\"TL801\",\"TL801\",\"TL801\",\"TL801\",\"TL801\",\"TL801\",\"TL801\",\"TL801\",\"TL801\",\"TL801\",\"TL801\",\"TL801\",\"TL801\",\"TL802\",\"TL802\",\"TL802\",\"TL802\",\"TL802\",\"TL802\",\"TL802\",\"TL802\",\"TL802\",\"TL802\",\"TL802\",\"TL802\",\"TL802\",\"TL802\",\"TL802\",\"TL802\",\"TL802\",\"TL802\",\"TL802\",\"TL802\",\"TL802\",\"TL802\",\"TL802\",\"TL802\",\"TC901\",\"TC901\",\"TC901\",\"TC901\",\"TC901\",\"TC901\",\"TC901\",\"TC901\",\"TC901\",\"TC901\",\"TC901\",\"TC901\",\"TC901\",\"TC901\",\"TC901\",\"TC901\",\"TC901\",\"TC901\",\"TC901\",\"TC901\",\"TC901\",\"TC901\",\"TC901\",\"TC901\",\"TL90003\",\"TL90003\",\"TL90003\",\"TL90003\",\"TL90003\",\"TL90003\",\"TL90003\",\"TL90003\",\"TL90003\",\"TL90003\",\"TL90003\",\"TL90003\",\"TL90003\",\"TL90003\",\"TL90003\",\"TL90003\",\"TL90003\",\"TL90003\",\"TL90003\",\"TL90003\",\"TL90003\",\"TL90003\",\"TL90003\",\"TL90003\",\"TL901\",\"TL901\",\"TL901\",\"TL901\",\"TL901\",\"TL901\",\"TL901\",\"TL901\",\"TL901\",\"TL901\",\"TL901\",\"TL901\",\"TL901\",\"TL901\",\"TL901\",\"TL901\",\"TL901\",\"TL901\",\"TL901\",\"TL901\",\"TL901\",\"TL901\",\"TL901\",\"TL901\",\"TL902\",\"TL902\",\"TL902\",\"TL902\",\"TL902\",\"TL902\",\"TL902\",\"TL902\",\"TL902\",\"TL902\",\"TL902\",\"TL902\",\"TL902\",\"TL902\",\"TL902\",\"TL902\",\"TL902\",\"TL902\",\"TL902\",\"TL902\",\"TL902\",\"TL902\",\"TL902\",\"TL902\"],\"hour\":[0,1,2,3,4,5,6,7,8,9,10,11,12,13,14,15,16,17,18,19,20,21,22,23,0,1,2,3,4,5,6,7,8,9,10,11,12,13,14,15,16,17,18,19,20,21,22,23,0,1,2,3,4,5,6,7,8,9,10,11,12,13,14,15,16,17,18,19,20,21,22,23,0,1,2,3,4,5,6,7,8,9,10,11,12,13,14,15,16,17,18,19,20,21,22,23,0,1,2,3,4,5,6,7,8,9,10,11,12,13,14,15,16,17,18,19,20,21,22,23,0,1,2,3,4,5,6,7,8,9,10,11,12,13,14,15,16,17,18,19,20,21,22,23,0,1,2,3,4,5,6,7,8,9,10,11,12,13,14,15,16,17,18,19,20,21,22,23,0,1,2,3,4,5,6,7,8,9,10,11,12,13,14,15,16,17,18,19,20,21,22,23,0,1,2,3,4,5,6,7,8,9,10,11,12,13,14,15,16,17,18,19,20,21,22,23,0,1,2,3,4,5,6,7,8,9,10,11,12,13,14,15,16,17,18,19,20,21,22,23,0,1,2,3,4,5,6,7,8,9,10,11,12,13,14,15,16,17,18,19,20,21,22,23,0,1,2,3,4,5,6,7,8,9,10,11,12,13,14,15,16,17,18,19,20,21,22,23,0,1,2,3,4,5,6,7,8,9,10,11,12,13,14,15,16,17,18,19,20,21,22,23,0,1,2,3,4,5,6,7,8,9,10,11,12,13,14,15,16,17,18,19,20,21,22,23,0,1,2,3,4,5,6,7,8,9,10,11,12,13,14,15,16,17,18,19,20,21,22,23,0,1,2,3,4,5,6,7,8,9,10,11,12,13,14,15,16,17,18,19,20,21,22,23,0,1,2,3,4,5,6,7,8,9,10,11,12,13,14,15,16,17,18,19,20,21,22,23,0,1,2,3,4,5,6,7,8,9,10,11,12,13,14,15,16,17,18,19,20,21,22,23,0,1,2,3,4,5,6,7,8,9,10,11,12,13,14,15,16,17,18,19,20,21,22,23,0,1,2,3,4,5,6,7,8,9,10,11,12,13,14,15,16,17,18,19,20,21,22,23,0,1,2,3,4,5,6,7,8,9,10,11,12,13,14,15,16,17,18,19,20,21,22,23,0,1,2,3,4,5,6,7,8,9,10,11,12,13,14,15,16,17,18,19,20,21,22,23,0,1,2,3,4,5,6,7,8,9,10,11,12,13,14,15,16,17,18,19,20,21,22,23,0,1,2,3,4,5,6,7,8,9,10,11,12,13,14,15,16,17,18,19,20,21,22,23,0,1,2,3,4,5,6,7,8,9,10,11,12,13,14,15,16,17,18,19,20,21,22,23,0,1,2,3,4,5,6,7,8,9,10,11,12,13,14,15,16,17,18,19,20,21,22,23,0,1,2,3,4,5,6,7,8,9,10,11,12,13,14,15,16,17,18,19,20,21,22,23,0,1,2,3,4,5,6,7,8,9,10,11,12,13,14,15,16,17,18,19,20,21,22,23,0,1,2,3,4,5,6,7,8,9,10,11,12,13,14,15,16,17,18,19,20,21,22,23,0,1,2,3,4,5,6,7,8,9,10,11,12,13,14,15,16,17,18,19,20,21,22,23,0,1,2,3,4,5,6,7,8,9,10,11,12,13,14,15,16,17,18,19,20,21,22,23,0,1,2,3,4,5,6,7,8,9,10,11,12,13,14,15,16,17,18,19,20,21,22,23,0,1,2,3,4,5,6,7,8,9,10,11,12,13,14,15,16,17,18,19,20,21,22,23,0,1,2,3,4,5,6,7,8,9,10,11,12,13,14,15,16,17,18,19,20,21,22,23,0,1,2,3,4,5,6,7,8,9,10,11,12,13,14,15,16,17,18,19,20,21,22,23,0,1,2,3,4,5,6,7,8,9,10,11,12,13,14,15,16,17,18,19,20,21,22,23,0,1,2,3,4,5,6,7,8,9,10,11,12,13,14,15,16,17,18,19,20,21,22,23,0,1,2,3,4,5,6,7,8,9,10,11,12,13,14,15,16,17,18,19,20,21,22,23,0,1,2,3,4,5,6,7,8,9,10,11,12,13,14,15,16,17,18,19,20,21,22,23,0,1,2,3,4,5,6,7,8,9,10,11,12,13,14,15,16,17,18,19,20,21,22,23,0,1,2,3,4,5,6,7,8,9,10,11,12,13,14,15,16,17,18,19,20,21,22,23,0,1,2,3,4,5,6,7,8,9,10,11,12,13,14,15,16,17,18,19,20,21,22,23,0,1,2,3,4,5,6,7,8,9,10,11,12,13,14,15,16,17,18,19,20,21,22,23,0,1,2,3,4,5,6,7,8,9,10,11,12,13,14,15,16,17,18,19,20,21,22,23,0,1,2,3,4,5,6,7,8,9,10,11,12,13,14,15,16,17,18,19,20,21,22,23,0,1,2,3,4,5,6,7,8,9,10,11,12,13,14,15,16,17,18,19,20,21,22,23,0,1,2,3,4,5,6,7,8,9,10,11,12,13,14,15,16,17,18,19,20,21,22,23,0,1,2,3,4,5,6,7,8,9,10,11,12,13,14,15,16,17,18,19,20,21,22,23,0,1,2,3,4,5,6,7,8,9,10,11,12,13,14,15,16,17,18,19,20,21,22,23,0,1,2,3,4,5,6,7,8,9,10,11,12,13,14,15,16,17,18,19,20,21,22,23,0,1,2,3,4,5,6,7,8,9,10,11,12,13,14,15,16,17,18,19,20,21,22,23,0,1,2,3,4,5,6,7,8,9,10,11,12,13,14,15,16,17,18,19,20,21,22,23,0,1,2,3,4,5,6,7,8,9,10,11,12,13,14,15,16,17,18,19,20,21,22,23,0,1,2,3,4,5,6,7,8,9,10,11,12,13,14,15,16,17,18,19,20,21,22,23,0,1,2,3,4,5,6,7,8,9,10,11,12,13,14,15,16,17,18,19,20,21,22,23,0,1,2,3,4,5,6,7,8,9,10,11,12,13,14,15,16,17,18,19,20,21,22,23,0,1,2,3,4,5,6,7,8,9,10,11,12,13,14,15,16,17,18,19,20,21,22,23,0,1,2,3,4,5,6,7,8,9,10,11,12,13,14,15,16,17,18,19,20,21,22,23,0,1,2,3,4,5,6,7,8,9,10,11,12,13,14,15,16,17,18,19,20,21,22,23,0,1,2,3,4,5,6,7,8,9,10,11,12,13,14,15,16,17,18,19,20,21,22,23,0,1,2,3,4,5,6,7,8,9,10,11,12,13,14,15,16,17,18,19,20,21,22,23,0,1,2,3,4,5,6,7,8,9,10,11,12,13,14,15,16,17,18,19,20,21,22,23,0,1,2,3,4,5,6,7,8,9,10,11,12,13,14,15,16,17,18,19,20,21,22,23,0,1,2,3,4,5,6,7,8,9,10,11,12,13,14,15,16,17,18,19,20,21,22,23,0,1,2,3,4,5,6,7,8,9,10,11,12,13,14,15,16,17,18,19,20,21,22,23,0,1,2,3,4,5,6,7,8,9,10,11,12,13,14,15,16,17,18,19,20,21,22,23,0,1,2,3,4,5,6,7,8,9,10,11,12,13,14,15,16,17,18,19,20,21,22,23,0,1,2,3,4,5,6,7,8,9,10,11,12,13,14,15,16,17,18,19,20,21,22,23,0,1,2,3,4,5,6,7,8,9,10,11,12,13,14,15,16,17,18,19,20,21,22,23,0,1,2,3,4,5,6,7,8,9,10,11,12,13,14,15,16,17,18,19,20,21,22,23,0,1,2,3,4,5,6,7,8,9,10,11,12,13,14,15,16,17,18,19,20,21,22,23,0,1,2,3,4,5,6,7,8,9,10,11,12,13,14,15,16,17,18,19,20,21,22,23,0,1,2,3,4,5,6,7,8,9,10,11,12,13,14,15,16,17,18,19,20,21,22,23,0,1,2,3,4,5,6,7,8,9,10,11,12,13,14,15,16,17,18,19,20,21,22,23,0,1,2,3,4,5,6,7,8,9,10,11,12,13,14,15,16,17,18,19,20,21,22,23,0,1,2,3,4,5,6,7,8,9,10,11,12,13,14,15,16,17,18,19,20,21,22,23,0,1,2,3,4,5,6,7,8,9,10,11,12,13,14,15,16,17,18,19,20,21,22,23,0,1,2,3,4,5,6,7,8,9,10,11,12,13,14,15,16,17,18,19,20,21,22,23,0,1,2,3,4,5,6,7,8,9,10,11,12,13,14,15,16,17,18,19,20,21,22,23,0,1,2,3,4,5,6,7,8,9,10,11,12,13,14,15,16,17,18,19,20,21,22,23,0,1,2,3,4,5,6,7,8,9,10,11,12,13,14,15,16,17,18,19,20,21,22,23,0,1,2,3,4,5,6,7,8,9,10,11,12,13,14,15,16,17,18,19,20,21,22,23,0,1,2,3,4,5,6,7,8,9,10,11,12,13,14,15,16,17,18,19,20,21,22,23,0,1,2,3,4,5,6,7,8,9,10,11,12,13,14,15,16,17,18,19,20,21,22,23,0,1,2,3,4,5,6,7,8,9,10,11,12,13,14,15,16,17,18,19,20,21,22,23,0,1,2,3,4,5,6,7,8,9,10,11,12,13,14,15,16,17,18,19,20,21,22,23,0,1,2,3,4,5,6,7,8,9,10,11,12,13,14,15,16,17,18,19,20,21,22,23,0,1,2,3,4,5,6,7,8,9,10,11,12,13,14,15,16,17,18,19,20,21,22,23,0,1,2,3,4,5,6,7,8,9,10,11,12,13,14,15,16,17,18,19,20,21,22,23,0,1,2,3,4,5,6,7,8,9,10,11,12,13,14,15,16,17,18,19,20,21,22,23,0,1,2,3,4,5,6,7,8,9,10,11,12,13,14,15,16,17,18,19,20,21,22,23,0,1,2,3,4,5,6,7,8,9,10,11,12,13,14,15,16,17,18,19,20,21,22,23,0,1,2,3,4,5,6,7,8,9,10,11,12,13,14,15,16,17,18,19,20,21,22,23,0,1,2,3,4,5,6,7,8,9,10,11,12,13,14,15,16,17,18,19,20,21,22,23,0,1,2,3,4,5,6,7,8,9,10,11,12,13,14,15,16,17,18,19,20,21,22,23,0,1,2,3,4,5,6,7,8,9,10,11,12,13,14,15,16,17,18,19,20,21,22,23,0,1,2,3,4,5,6,7,8,9,10,11,12,13,14,15,16,17,18,19,20,21,22,23,0,1,2,3,4,5,6,7,8,9,10,11,12,13,14,15,16,17,18,19,20,21,22,23,0,1,2,3,4,5,6,7,8,9,10,11,12,13,14,15,16,17,18,19,20,21,22,23,0,1,2,3,4,5,6,7,8,9,10,11,12,13,14,15,16,17,18,19,20,21,22,23,0,1,2,3,4,5,6,7,8,9,10,11,12,13,14,15,16,17,18,19,20,21,22,23,0,1,2,3,4,5,6,7,8,9,10,11,12,13,14,15,16,17,18,19,20,21,22,23,0,1,2,3,4,5,6,7,8,9,10,11,12,13,14,15,16,17,18,19,20,21,22,23,0,1,2,3,4,5,6,7,8,9,10,11,12,13,14,15,16,17,18,19,20,21,22,23,0,1,2,3,4,5,6,7,8,9,10,11,12,13,14,15,16,17,18,19,20,21,22,23,0,1,2,3,4,5,6,7,8,9,10,11,12,13,14,15,16,17,18,19,20,21,22,23,0,1,2,3,4,5,6,7,8,9,10,11,12,13,14,15,16,17,18,19,20,21,22,23,0,1,2,3,4,5,6,7,8,9,10,11,12,13,14,15,16,17,18,19,20,21,22,23,0,1,2,3,4,5,6,7,8,9,10,11,12,13,14,15,16,17,18,19,20,21,22,23,0,1,2,3,4,5,6,7,8,9,10,11,12,13,14,15,16,17,18,19,20,21,22,23,0,1,2,3,4,5,6,7,8,9,10,11,12,13,14,15,16,17,18,19,20,21,22,23,0,1,2,3,4,5,6,7,8,9,10,11,12,13,14,15,16,17,18,19,20,21,22,23,0,1,2,3,4,5,6,7,8,9,10,11,12,13,14,15,16,17,18,19,20,21,22,23,0,1,2,3,4,5,6,7,8,9,10,11,12,13,14,15,16,17,18,19,20,21,22,23,0,1,2,3,4,5,6,7,8,9,10,11,12,13,14,15,16,17,18,19,20,21,22,23,0,1,2,3,4,5,6,7,8,9,10,11,12,13,14,15,16,17,18,19,20,21,22,23,0,1,2,3,4,5,6,7,8,9,10,11,12,13,14,15,16,17,18,19,20,21,22,23,0,1,2,3,4,5,6,7,8,9,10,11,12,13,14,15,16,17,18,19,20,21,22,23,0,1,2,3,4,5,6,7,8,9,10,11,12,13,14,15,16,17,18,19,20,21,22,23,0,1,2,3,4,5,6,7,8,9,10,11,12,13,14,15,16,17,18,19,20,21,22,23,0,1,2,3,4,5,6,7,8,9,10,11,12,13,14,15,16,17,18,19,20,21,22,23,0,1,2,3,4,5,6,7,8,9,10,11,12,13,14,15,16,17,18,19,20,21,22,23,0,1,2,3,4,5,6,7,8,9,10,11,12,13,14,15,16,17,18,19,20,21,22,23,0,1,2,3,4,5,6,7,8,9,10,11,12,13,14,15,16,17,18,19,20,21,22,23,0,1,2,3,4,5,6,7,8,9,10,11,12,13,14,15,16,17,18,19,20,21,22,23,0,1,2,3,4,5,6,7,8,9,10,11,12,13,14,15,16,17,18,19,20,21,22,23,0,1,2,3,4,5,6,7,8,9,10,11,12,13,14,15,16,17,18,19,20,21,22,23,0,1,2,3,4,5,6,7,8,9,10,11,12,13,14,15,16,17,18,19,20,21,22,23,0,1,2,3,4,5,6,7,8,9,10,11,12,13,14,15,16,17,18,19,20,21,22,23,0,1,2,3,4,5,6,7,8,9,10,11,12,13,14,15,16,17,18,19,20,21,22,23,0,1,2,3,4,5,6,7,8,9,10,11,12,13,14,15,16,17,18,19,20,21,22,23,0,1,2,3,4,5,6,7,8,9,10,11,12,13,14,15,16,17,18,19,20,21,22,23,0,1,2,3,4,5,6,7,8,9,10,11,12,13,14,15,16,17,18,19,20,21,22,23,0,1,2,3,4,5,6,7,8,9,10,11,12,13,14,15,16,17,18,19,20,21,22,23,0,1,2,3,4,5,6,7,8,9,10,11,12,13,14,15,16,17,18,19,20,21,22,23,0,1,2,3,4,5,6,7,8,9,10,11,12,13,14,15,16,17,18,19,20,21,22,23,0,1,2,3,4,5,6,7,8,9,10,11,12,13,14,15,16,17,18,19,20,21,22,23,0,1,2,3,4,5,6,7,8,9,10,11,12,13,14,15,16,17,18,19,20,21,22,23,0,1,2,3,4,5,6,7,8,9,10,11,12,13,14,15,16,17,18,19,20,21,22,23,0,1,2,3,4,5,6,7,8,9,10,11,12,13,14,15,16,17,18,19,20,21,22,23,0,1,2,3,4,5,6,7,8,9,10,11,12,13,14,15,16,17,18,19,20,21,22,23,0,1,2,3,4,5,6,7,8,9,10,11,12,13,14,15,16,17,18,19,20,21,22,23,0,1,2,3,4,5,6,7,8,9,10,11,12,13,14,15,16,17,18,19,20,21,22,23,0,1,2,3,4,5,6,7,8,9,10,11,12,13,14,15,16,17,18,19,20,21,22,23,0,1,2,3,4,5,6,7,8,9,10,11,12,13,14,15,16,17,18,19,20,21,22,23,0,1,2,3,4,5,6,7,8,9,10,11,12,13,14,15,16,17,18,19,20,21,22,23,0,1,2,3,4,5,6,7,8,9,10,11,12,13,14,15,16,17,18,19,20,21,22,23,0,1,2,3,4,5,6,7,8,9,10,11,12,13,14,15,16,17,18,19,20,21,22,23,0,1,2,3,4,5,6,7,8,9,10,11,12,13,14,15,16,17,18,19,20,21,22,23,0,1,2,3,4,5,6,7,8,9,10,11,12,13,14,15,16,17,18,19,20,21,22,23,0,1,2,3,4,5,6,7,8,9,10,11,12,13,14,15,16,17,18,19,20,21,22,23,0,1,2,3,4,5,6,7,8,9,10,11,12,13,14,15,16,17,18,19,20,21,22,23,0,1,2,3,4,5,6,7,8,9,10,11,12,13,14,15,16,17,18,19,20,21,22,23,0,1,2,3,4,5,6,7,8,9,10,11,12,13,14,15,16,17,18,19,20,21,22,23,0,1,2,3,4,5,6,7,8,9,10,11,12,13,14,15,16,17,18,19,20,21,22,23,0,1,2,3,4,5,6,7,8,9,10,11,12,13,14,15,16,17,18,19,20,21,22,23,0,1,2,3,4,5,6,7,8,9,10,11,12,13,14,15,16,17,18,19,20,21,22,23,0,1,2,3,4,5,6,7,8,9,10,11,12,13,14,15,16,17,18,19,20,21,22,23,0,1,2,3,4,5,6,7,8,9,10,11,12,13,14,15,16,17,18,19,20,21,22,23,0,1,2,3,4,5,6,7,8,9,10,11,12,13,14,15,16,17,18,19,20,21,22,23,0,1,2,3,4,5,6,7,8,9,10,11,12,13,14,15,16,17,18,19,20,21,22,23,0,1,2,3,4,5,6,7,8,9,10,11,12,13,14,15,16,17,18,19,20,21,22,23,0,1,2,3,4,5,6,7,8,9,10,11,12,13,14,15,16,17,18,19,20,21,22,23,0,1,2,3,4,5,6,7,8,9,10,11,12,13,14,15,16,17,18,19,20,21,22,23,0,1,2,3,4,5,6,7,8,9,10,11,12,13,14,15,16,17,18,19,20,21,22,23,0,1,2,3,4,5,6,7,8,9,10,11,12,13,14,15,16,17,18,19,20,21,22,23,0,1,2,3,4,5,6,7,8,9,10,11,12,13,14,15,16,17,18,19,20,21,22,23,0,1,2,3,4,5,6,7,8,9,10,11,12,13,14,15,16,17,18,19,20,21,22,23,0,1,2,3,4,5,6,7,8,9,10,11,12,13,14,15,16,17,18,19,20,21,22,23,0,1,2,3,4,5,6,7,8,9,10,11,12,13,14,15,16,17,18,19,20,21,22,23,0,1,2,3,4,5,6,7,8,9,10,11,12,13,14,15,16,17,18,19,20,21,22,23,0,1,2,3,4,5,6,7,8,9,10,11,12,13,14,15,16,17,18,19,20,21,22,23,0,1,2,3,4,5,6,7,8,9,10,11,12,13,14,15,16,17,18,19,20,21,22,23,0,1,2,3,4,5,6,7,8,9,10,11,12,13,14,15,16,17,18,19,20,21,22,23,0,1,2,3,4,5,6,7,8,9,10,11,12,13,14,15,16,17,18,19,20,21,22,23,0,1,2,3,4,5,6,7,8,9,10,11,12,13,14,15,16,17,18,19,20,21,22,23,0,1,2,3,4,5,6,7,8,9,10,11,12,13,14,15,16,17,18,19,20,21,22,23,0,1,2,3,4,5,6,7,8,9,10,11,12,13,14,15,16,17,18,19,20,21,22,23,0,1,2,3,4,5,6,7,8,9,10,11,12,13,14,15,16,17,18,19,20,21,22,23,0,1,2,3,4,5,6,7,8,9,10,11,12,13,14,15,16,17,18,19,20,21,22,23,0,1,2,3,4,5,6,7,8,9,10,11,12,13,14,15,16,17,18,19,20,21,22,23,0,1,2,3,4,5,6,7,8,9,10,11,12,13,14,15,16,17,18,19,20,21,22,23,0,1,2,3,4,5,6,7,8,9,10,11,12,13,14,15,16,17,18,19,20,21,22,23,0,1,2,3,4,5,6,7,8,9,10,11,12,13,14,15,16,17,18,19,20,21,22,23,0,1,2,3,4,5,6,7,8,9,10,11,12,13,14,15,16,17,18,19,20,21,22,23,0,1,2,3,4,5,6,7,8,9,10,11,12,13,14,15,16,17,18,19,20,21,22,23,0,1,2,3,4,5,6,7,8,9,10,11,12,13,14,15,16,17,18,19,20,21,22,23,0,1,2,3,4,5,6,7,8,9,10,11,12,13,14,15,16,17,18,19,20,21,22,23,0,1,2,3,4,5,6,7,8,9,10,11,12,13,14,15,16,17,18,19,20,21,22,23,0,1,2,3,4,5,6,7,8,9,10,11,12,13,14,15,16,17,18,19,20,21,22,23,0,1,2,3,4,5,6,7,8,9,10,11,12,13,14,15,16,17,18,19,20,21,22,23,0,1,2,3,4,5,6,7,8,9,10,11,12,13,14,15,16,17,18,19,20,21,22,23,0,1,2,3,4,5,6,7,8,9,10,11,12,13,14,15,16,17,18,19,20,21,22,23,0,1,2,3,4,5,6,7,8,9,10,11,12,13,14,15,16,17,18,19,20,21,22,23,0,1,2,3,4,5,6,7,8,9,10,11,12,13,14,15,16,17,18,19,20,21,22,23,0,1,2,3,4,5,6,7,8,9,10,11,12,13,14,15,16,17,18,19,20,21,22,23,0,1,2,3,4,5,6,7,8,9,10,11,12,13,14,15,16,17,18,19,20,21,22,23,0,1,2,3,4,5,6,7,8,9,10,11,12,13,14,15,16,17,18,19,20,21,22,23,0,1,2,3,4,5,6,7,8,9,10,11,12,13,14,15,16,17,18,19,20,21,22,23,0,1,2,3,4,5,6,7,8,9,10,11,12,13,14,15,16,17,18,19,20,21,22,23,0,1,2,3,4,5,6,7,8,9,10,11,12,13,14,15,16,17,18,19,20,21,22,23],\"index\":[0,1,2,3,4,5,6,7,8,9,10,11,12,13,14,15,16,17,18,19,20,21,22,23,24,25,26,27,28,29,30,31,32,33,34,35,36,37,38,39,40,41,42,43,44,45,46,47,48,49,50,51,52,53,54,55,56,57,58,59,60,61,62,63,64,65,66,67,68,69,70,71,72,73,74,75,76,77,78,79,80,81,82,83,84,85,86,87,88,89,90,91,92,93,94,95,96,97,98,99,100,101,102,103,104,105,106,107,108,109,110,111,112,113,114,115,116,117,118,119,120,121,122,123,124,125,126,127,128,129,130,131,132,133,134,135,136,137,138,139,140,141,142,143,144,145,146,147,148,149,150,151,152,153,154,155,156,157,158,159,160,161,162,163,164,165,166,167,168,169,170,171,172,173,174,175,176,177,178,179,180,181,182,183,184,185,186,187,188,189,190,191,192,193,194,195,196,197,198,199,200,201,202,203,204,205,206,207,208,209,210,211,212,213,214,215,216,217,218,219,220,221,222,223,224,225,226,227,228,229,230,231,232,233,234,235,236,237,238,239,240,241,242,243,244,245,246,247,248,249,250,251,252,253,254,255,256,257,258,259,260,261,262,263,264,265,266,267,268,269,270,271,272,273,274,275,276,277,278,279,280,281,282,283,284,285,286,287,288,289,290,291,292,293,294,295,296,297,298,299,300,301,302,303,304,305,306,307,308,309,310,311,312,313,314,315,316,317,318,319,320,321,322,323,324,325,326,327,328,329,330,331,332,333,334,335,336,337,338,339,340,341,342,343,344,345,346,347,348,349,350,351,352,353,354,355,356,357,358,359,360,361,362,363,364,365,366,367,368,369,370,371,372,373,374,375,376,377,378,379,380,381,382,383,384,385,386,387,388,389,390,391,392,393,394,395,396,397,398,399,400,401,402,403,404,405,406,407,408,409,410,411,412,413,414,415,416,417,418,419,420,421,422,423,424,425,426,427,428,429,430,431,432,433,434,435,436,437,438,439,440,441,442,443,444,445,446,447,448,449,450,451,452,453,454,455,456,457,458,459,460,461,462,463,464,465,466,467,468,469,470,471,472,473,474,475,476,477,478,479,480,481,482,483,484,485,486,487,488,489,490,491,492,493,494,495,496,497,498,499,500,501,502,503,504,505,506,507,508,509,510,511,512,513,514,515,516,517,518,519,520,521,522,523,524,525,526,527,528,529,530,531,532,533,534,535,536,537,538,539,540,541,542,543,544,545,546,547,548,549,550,551,552,553,554,555,556,557,558,559,560,561,562,563,564,565,566,567,568,569,570,571,572,573,574,575,576,577,578,579,580,581,582,583,584,585,586,587,588,589,590,591,592,593,594,595,596,597,598,599,600,601,602,603,604,605,606,607,608,609,610,611,612,613,614,615,616,617,618,619,620,621,622,623,624,625,626,627,628,629,630,631,632,633,634,635,636,637,638,639,640,641,642,643,644,645,646,647,648,649,650,651,652,653,654,655,656,657,658,659,660,661,662,663,664,665,666,667,668,669,670,671,672,673,674,675,676,677,678,679,680,681,682,683,684,685,686,687,688,689,690,691,692,693,694,695,696,697,698,699,700,701,702,703,704,705,706,707,708,709,710,711,712,713,714,715,716,717,718,719,720,721,722,723,724,725,726,727,728,729,730,731,732,733,734,735,736,737,738,739,740,741,742,743,744,745,746,747,748,749,750,751,752,753,754,755,756,757,758,759,760,761,762,763,764,765,766,767,768,769,770,771,772,773,774,775,776,777,778,779,780,781,782,783,784,785,786,787,788,789,790,791,792,793,794,795,796,797,798,799,800,801,802,803,804,805,806,807,808,809,810,811,812,813,814,815,816,817,818,819,820,821,822,823,824,825,826,827,828,829,830,831,832,833,834,835,836,837,838,839,840,841,842,843,844,845,846,847,848,849,850,851,852,853,854,855,856,857,858,859,860,861,862,863,864,865,866,867,868,869,870,871,872,873,874,875,876,877,878,879,880,881,882,883,884,885,886,887,888,889,890,891,892,893,894,895,896,897,898,899,900,901,902,903,904,905,906,907,908,909,910,911,912,913,914,915,916,917,918,919,920,921,922,923,924,925,926,927,928,929,930,931,932,933,934,935,936,937,938,939,940,941,942,943,944,945,946,947,948,949,950,951,952,953,954,955,956,957,958,959,960,961,962,963,964,965,966,967,968,969,970,971,972,973,974,975,976,977,978,979,980,981,982,983,984,985,986,987,988,989,990,991,992,993,994,995,996,997,998,999,1000,1001,1002,1003,1004,1005,1006,1007,1008,1009,1010,1011,1012,1013,1014,1015,1016,1017,1018,1019,1020,1021,1022,1023,1024,1025,1026,1027,1028,1029,1030,1031,1032,1033,1034,1035,1036,1037,1038,1039,1040,1041,1042,1043,1044,1045,1046,1047,1048,1049,1050,1051,1052,1053,1054,1055,1056,1057,1058,1059,1060,1061,1062,1063,1064,1065,1066,1067,1068,1069,1070,1071,1072,1073,1074,1075,1076,1077,1078,1079,1080,1081,1082,1083,1084,1085,1086,1087,1088,1089,1090,1091,1092,1093,1094,1095,1096,1097,1098,1099,1100,1101,1102,1103,1104,1105,1106,1107,1108,1109,1110,1111,1112,1113,1114,1115,1116,1117,1118,1119,1120,1121,1122,1123,1124,1125,1126,1127,1128,1129,1130,1131,1132,1133,1134,1135,1136,1137,1138,1139,1140,1141,1142,1143,1144,1145,1146,1147,1148,1149,1150,1151,1152,1153,1154,1155,1156,1157,1158,1159,1160,1161,1162,1163,1164,1165,1166,1167,1168,1169,1170,1171,1172,1173,1174,1175,1176,1177,1178,1179,1180,1181,1182,1183,1184,1185,1186,1187,1188,1189,1190,1191,1192,1193,1194,1195,1196,1197,1198,1199,1200,1201,1202,1203,1204,1205,1206,1207,1208,1209,1210,1211,1212,1213,1214,1215,1216,1217,1218,1219,1220,1221,1222,1223,1224,1225,1226,1227,1228,1229,1230,1231,1232,1233,1234,1235,1236,1237,1238,1239,1240,1241,1242,1243,1244,1245,1246,1247,1248,1249,1250,1251,1252,1253,1254,1255,1256,1257,1258,1259,1260,1261,1262,1263,1264,1265,1266,1267,1268,1269,1270,1271,1272,1273,1274,1275,1276,1277,1278,1279,1280,1281,1282,1283,1284,1285,1286,1287,1288,1289,1290,1291,1292,1293,1294,1295,1296,1297,1298,1299,1300,1301,1302,1303,1304,1305,1306,1307,1308,1309,1310,1311,1312,1313,1314,1315,1316,1317,1318,1319,1320,1321,1322,1323,1324,1325,1326,1327,1328,1329,1330,1331,1332,1333,1334,1335,1336,1337,1338,1339,1340,1341,1342,1343,1344,1345,1346,1347,1348,1349,1350,1351,1352,1353,1354,1355,1356,1357,1358,1359,1360,1361,1362,1363,1364,1365,1366,1367,1368,1369,1370,1371,1372,1373,1374,1375,1376,1377,1378,1379,1380,1381,1382,1383,1384,1385,1386,1387,1388,1389,1390,1391,1392,1393,1394,1395,1396,1397,1398,1399,1400,1401,1402,1403,1404,1405,1406,1407,1408,1409,1410,1411,1412,1413,1414,1415,1416,1417,1418,1419,1420,1421,1422,1423,1424,1425,1426,1427,1428,1429,1430,1431,1432,1433,1434,1435,1436,1437,1438,1439,1440,1441,1442,1443,1444,1445,1446,1447,1448,1449,1450,1451,1452,1453,1454,1455,1456,1457,1458,1459,1460,1461,1462,1463,1464,1465,1466,1467,1468,1469,1470,1471,1472,1473,1474,1475,1476,1477,1478,1479,1480,1481,1482,1483,1484,1485,1486,1487,1488,1489,1490,1491,1492,1493,1494,1495,1496,1497,1498,1499,1500,1501,1502,1503,1504,1505,1506,1507,1508,1509,1510,1511,1512,1513,1514,1515,1516,1517,1518,1519,1520,1521,1522,1523,1524,1525,1526,1527,1528,1529,1530,1531,1532,1533,1534,1535,1536,1537,1538,1539,1540,1541,1542,1543,1544,1545,1546,1547,1548,1549,1550,1551,1552,1553,1554,1555,1556,1557,1558,1559,1560,1561,1562,1563,1564,1565,1566,1567,1568,1569,1570,1571,1572,1573,1574,1575,1576,1577,1578,1579,1580,1581,1582,1583,1584,1585,1586,1587,1588,1589,1590,1591,1592,1593,1594,1595,1596,1597,1598,1599,1600,1601,1602,1603,1604,1605,1606,1607,1608,1609,1610,1611,1612,1613,1614,1615,1616,1617,1618,1619,1620,1621,1622,1623,1624,1625,1626,1627,1628,1629,1630,1631,1632,1633,1634,1635,1636,1637,1638,1639,1640,1641,1642,1643,1644,1645,1646,1647,1648,1649,1650,1651,1652,1653,1654,1655,1656,1657,1658,1659,1660,1661,1662,1663,1664,1665,1666,1667,1668,1669,1670,1671,1672,1673,1674,1675,1676,1677,1678,1679,1680,1681,1682,1683,1684,1685,1686,1687,1688,1689,1690,1691,1692,1693,1694,1695,1696,1697,1698,1699,1700,1701,1702,1703,1704,1705,1706,1707,1708,1709,1710,1711,1712,1713,1714,1715,1716,1717,1718,1719,1720,1721,1722,1723,1724,1725,1726,1727,1728,1729,1730,1731,1732,1733,1734,1735,1736,1737,1738,1739,1740,1741,1742,1743,1744,1745,1746,1747,1748,1749,1750,1751,1752,1753,1754,1755,1756,1757,1758,1759,1760,1761,1762,1763,1764,1765,1766,1767,1768,1769,1770,1771,1772,1773,1774,1775,1776,1777,1778,1779,1780,1781,1782,1783,1784,1785,1786,1787,1788,1789,1790,1791,1792,1793,1794,1795,1796,1797,1798,1799,1800,1801,1802,1803,1804,1805,1806,1807,1808,1809,1810,1811,1812,1813,1814,1815,1816,1817,1818,1819,1820,1821,1822,1823,1824,1825,1826,1827,1828,1829,1830,1831,1832,1833,1834,1835,1836,1837,1838,1839,1840,1841,1842,1843,1844,1845,1846,1847,1848,1849,1850,1851,1852,1853,1854,1855,1856,1857,1858,1859,1860,1861,1862,1863,1864,1865,1866,1867,1868,1869,1870,1871,1872,1873,1874,1875,1876,1877,1878,1879,1880,1881,1882,1883,1884,1885,1886,1887,1888,1889,1890,1891,1892,1893,1894,1895,1896,1897,1898,1899,1900,1901,1902,1903,1904,1905,1906,1907,1908,1909,1910,1911,1912,1913,1914,1915,1916,1917,1918,1919,1920,1921,1922,1923,1924,1925,1926,1927,1928,1929,1930,1931,1932,1933,1934,1935,1936,1937,1938,1939,1940,1941,1942,1943,1944,1945,1946,1947,1948,1949,1950,1951,1952,1953,1954,1955,1956,1957,1958,1959,1960,1961,1962,1963,1964,1965,1966,1967,1968,1969,1970,1971,1972,1973,1974,1975,1976,1977,1978,1979,1980,1981,1982,1983,1984,1985,1986,1987,1988,1989,1990,1991,1992,1993,1994,1995,1996,1997,1998,1999,2000,2001,2002,2003,2004,2005,2006,2007,2008,2009,2010,2011,2012,2013,2014,2015,2016,2017,2018,2019,2020,2021,2022,2023,2024,2025,2026,2027,2028,2029,2030,2031,2032,2033,2034,2035,2036,2037,2038,2039,2040,2041,2042,2043,2044,2045,2046,2047,2048,2049,2050,2051,2052,2053,2054,2055,2056,2057,2058,2059,2060,2061,2062,2063,2064,2065,2066,2067,2068,2069,2070,2071,2072,2073,2074,2075,2076,2077,2078,2079,2080,2081,2082,2083,2084,2085,2086,2087,2088,2089,2090,2091,2092,2093,2094,2095,2096,2097,2098,2099,2100,2101,2102,2103,2104,2105,2106,2107,2108,2109,2110,2111,2112,2113,2114,2115,2116,2117,2118,2119,2120,2121,2122,2123,2124,2125,2126,2127,2128,2129,2130,2131,2132,2133,2134,2135,2136,2137,2138,2139,2140,2141,2142,2143,2144,2145,2146,2147,2148,2149,2150,2151,2152,2153,2154,2155,2156,2157,2158,2159,2160,2161,2162,2163,2164,2165,2166,2167,2168,2169,2170,2171,2172,2173,2174,2175,2176,2177,2178,2179,2180,2181,2182,2183,2184,2185,2186,2187,2188,2189,2190,2191,2192,2193,2194,2195,2196,2197,2198,2199,2200,2201,2202,2203,2204,2205,2206,2207,2208,2209,2210,2211,2212,2213,2214,2215,2216,2217,2218,2219,2220,2221,2222,2223,2224,2225,2226,2227,2228,2229,2230,2231,2232,2233,2234,2235,2236,2237,2238,2239,2240,2241,2242,2243,2244,2245,2246,2247,2248,2249,2250,2251,2252,2253,2254,2255,2256,2257,2258,2259,2260,2261,2262,2263,2264,2265,2266,2267,2268,2269,2270,2271,2272,2273,2274,2275,2276,2277,2278,2279,2280,2281,2282,2283,2284,2285,2286,2287,2288,2289,2290,2291,2292,2293,2294,2295,2296,2297,2298,2299,2300,2301,2302,2303,2304,2305,2306,2307,2308,2309,2310,2311,2312,2313,2314,2315,2316,2317,2318,2319,2320,2321,2322,2323,2324,2325,2326,2327,2328,2329,2330,2331,2332,2333,2334,2335,2336,2337,2338,2339,2340,2341,2342,2343,2344,2345,2346,2347,2348,2349,2350,2351,2352,2353,2354,2355,2356,2357,2358,2359,2360,2361,2362,2363,2364,2365,2366,2367,2368,2369,2370,2371,2372,2373,2374,2375,2376,2377,2378,2379,2380,2381,2382,2383,2384,2385,2386,2387,2388,2389,2390,2391,2392,2393,2394,2395,2396,2397,2398,2399,2400,2401,2402,2403,2404,2405,2406,2407,2408,2409,2410,2411,2412,2413,2414,2415,2416,2417,2418,2419,2420,2421,2422,2423,2424,2425,2426,2427,2428,2429,2430,2431,2432,2433,2434,2435,2436,2437,2438,2439,2440,2441,2442,2443,2444,2445,2446,2447,2448,2449,2450,2451,2452,2453,2454,2455,2456,2457,2458,2459,2460,2461,2462,2463,2464,2465,2466,2467,2468,2469,2470,2471,2472,2473,2474,2475,2476,2477,2478,2479,2480,2481,2482,2483,2484,2485,2486,2487,2488,2489,2490,2491,2492,2493,2494,2495,2496,2497,2498,2499,2500,2501,2502,2503,2504,2505,2506,2507,2508,2509,2510,2511,2512,2513,2514,2515,2516,2517,2518,2519,2520,2521,2522,2523,2524,2525,2526,2527,2528,2529,2530,2531,2532,2533,2534,2535,2536,2537,2538,2539,2540,2541,2542,2543,2544,2545,2546,2547,2548,2549,2550,2551,2552,2553,2554,2555,2556,2557,2558,2559,2560,2561,2562,2563,2564,2565,2566,2567,2568,2569,2570,2571,2572,2573,2574,2575,2576,2577,2578,2579,2580,2581,2582,2583,2584,2585,2586,2587,2588,2589,2590,2591,2592,2593,2594,2595,2596,2597,2598,2599,2600,2601,2602,2603,2604,2605,2606,2607,2608,2609,2610,2611,2612,2613,2614,2615,2616,2617,2618,2619,2620,2621,2622,2623,2624,2625,2626,2627,2628,2629,2630,2631,2632,2633,2634,2635,2636,2637,2638,2639,2640,2641,2642,2643,2644,2645,2646,2647,2648,2649,2650,2651,2652,2653,2654,2655,2656,2657,2658,2659,2660,2661,2662,2663,2664,2665,2666,2667,2668,2669,2670,2671,2672,2673,2674,2675,2676,2677,2678,2679,2680,2681,2682,2683,2684,2685,2686,2687,2688,2689,2690,2691,2692,2693,2694,2695,2696,2697,2698,2699,2700,2701,2702,2703,2704,2705,2706,2707,2708,2709,2710,2711,2712,2713,2714,2715,2716,2717,2718,2719,2720,2721,2722,2723,2724,2725,2726,2727,2728,2729,2730,2731,2732,2733,2734,2735,2736,2737,2738,2739,2740,2741,2742,2743,2744,2745,2746,2747,2748,2749,2750,2751,2752,2753,2754,2755,2756,2757,2758,2759,2760,2761,2762,2763,2764,2765,2766,2767,2768,2769,2770,2771,2772,2773,2774,2775,2776,2777,2778,2779,2780,2781,2782,2783,2784,2785,2786,2787,2788,2789,2790,2791,2792,2793,2794,2795,2796,2797,2798,2799,2800,2801,2802,2803,2804,2805,2806,2807,2808,2809,2810,2811,2812,2813,2814,2815,2816,2817,2818,2819,2820,2821,2822,2823,2824,2825,2826,2827,2828,2829,2830,2831,2832,2833,2834,2835,2836,2837,2838,2839,2840,2841,2842,2843,2844,2845,2846,2847,2848,2849,2850,2851,2852,2853,2854,2855,2856,2857,2858,2859,2860,2861,2862,2863,2864,2865,2866,2867,2868,2869,2870,2871,2872,2873,2874,2875,2876,2877,2878,2879,2880,2881,2882,2883,2884,2885,2886,2887,2888,2889,2890,2891,2892,2893,2894,2895,2896,2897,2898,2899,2900,2901,2902,2903,2904,2905,2906,2907,2908,2909,2910,2911,2912,2913,2914,2915,2916,2917,2918,2919,2920,2921,2922,2923,2924,2925,2926,2927,2928,2929,2930,2931,2932,2933,2934,2935,2936,2937,2938,2939,2940,2941,2942,2943,2944,2945,2946,2947,2948,2949,2950,2951,2952,2953,2954,2955,2956,2957,2958,2959,2960,2961,2962,2963,2964,2965,2966,2967,2968,2969,2970,2971,2972,2973,2974,2975,2976,2977,2978,2979,2980,2981,2982,2983,2984,2985,2986,2987,2988,2989,2990,2991,2992,2993,2994,2995,2996,2997,2998,2999,3000,3001,3002,3003,3004,3005,3006,3007,3008,3009,3010,3011,3012,3013,3014,3015,3016,3017,3018,3019,3020,3021,3022,3023,3024,3025,3026,3027,3028,3029,3030,3031,3032,3033,3034,3035,3036,3037,3038,3039,3040,3041,3042,3043,3044,3045,3046,3047,3048,3049,3050,3051,3052,3053,3054,3055,3056,3057,3058,3059,3060,3061,3062,3063,3064,3065,3066,3067,3068,3069,3070,3071,3072,3073,3074,3075,3076,3077,3078,3079,3080,3081,3082,3083,3084,3085,3086,3087,3088,3089,3090,3091,3092,3093,3094,3095,3096,3097,3098,3099,3100,3101,3102,3103,3104,3105,3106,3107,3108,3109,3110,3111,3112,3113,3114,3115,3116,3117,3118,3119,3120,3121,3122,3123,3124,3125,3126,3127,3128,3129,3130,3131,3132,3133,3134,3135,3136,3137,3138,3139,3140,3141,3142,3143,3144,3145,3146,3147,3148,3149,3150,3151,3152,3153,3154,3155,3156,3157,3158,3159,3160,3161,3162,3163,3164,3165,3166,3167,3168,3169,3170,3171,3172,3173,3174,3175,3176,3177,3178,3179,3180,3181,3182,3183,3184,3185,3186,3187,3188,3189,3190,3191,3192,3193,3194,3195,3196,3197,3198,3199,3200,3201,3202,3203,3204,3205,3206,3207,3208,3209,3210,3211,3212,3213,3214,3215,3216,3217,3218,3219,3220,3221,3222,3223,3224,3225,3226,3227,3228,3229,3230,3231,3232,3233,3234,3235,3236,3237,3238,3239,3240,3241,3242,3243,3244,3245,3246,3247,3248,3249,3250,3251,3252,3253,3254,3255,3256,3257,3258,3259,3260,3261,3262,3263,3264,3265,3266,3267,3268,3269,3270,3271,3272,3273,3274,3275,3276,3277,3278,3279,3280,3281,3282,3283,3284,3285,3286,3287,3288,3289,3290,3291,3292,3293,3294,3295,3296,3297,3298,3299,3300,3301,3302,3303,3304,3305,3306,3307,3308,3309,3310,3311,3312,3313,3314,3315,3316,3317,3318,3319,3320,3321,3322,3323,3324,3325,3326,3327,3328,3329,3330,3331,3332,3333,3334,3335,3336,3337,3338,3339,3340,3341,3342,3343,3344,3345,3346,3347,3348,3349,3350,3351,3352,3353,3354,3355,3356,3357,3358,3359,3360,3361,3362,3363,3364,3365,3366,3367,3368,3369,3370,3371,3372,3373,3374,3375,3376,3377,3378,3379,3380,3381,3382,3383,3384,3385,3386,3387,3388,3389,3390,3391,3392,3393,3394,3395,3396,3397,3398,3399,3400,3401,3402,3403,3404,3405,3406,3407,3408,3409,3410,3411,3412,3413,3414,3415,3416,3417,3418,3419,3420,3421,3422,3423,3424,3425,3426,3427,3428,3429,3430,3431,3432,3433,3434,3435,3436,3437,3438,3439,3440,3441,3442,3443,3444,3445,3446,3447,3448,3449,3450,3451,3452,3453,3454,3455,3456,3457,3458,3459,3460,3461,3462,3463,3464,3465,3466,3467,3468,3469,3470,3471,3472,3473,3474,3475,3476,3477,3478,3479,3480,3481,3482,3483,3484,3485,3486,3487,3488,3489,3490,3491,3492,3493,3494,3495,3496,3497,3498,3499,3500,3501,3502,3503,3504,3505,3506,3507,3508,3509,3510,3511,3512,3513,3514,3515,3516,3517,3518,3519,3520,3521,3522,3523,3524,3525,3526,3527,3528,3529,3530,3531,3532,3533,3534,3535,3536,3537,3538,3539,3540,3541,3542,3543,3544,3545,3546,3547,3548,3549,3550,3551,3552,3553,3554,3555,3556,3557,3558,3559,3560,3561,3562,3563,3564,3565,3566,3567,3568,3569,3570,3571,3572,3573,3574,3575,3576,3577,3578,3579,3580,3581,3582,3583,3584,3585,3586,3587,3588,3589,3590,3591,3592,3593,3594,3595,3596,3597,3598,3599,3600,3601,3602,3603,3604,3605,3606,3607,3608,3609,3610,3611,3612,3613,3614,3615,3616,3617,3618,3619,3620,3621,3622,3623,3624,3625,3626,3627,3628,3629,3630,3631,3632,3633,3634,3635,3636,3637,3638,3639,3640,3641,3642,3643,3644,3645,3646,3647,3648,3649,3650,3651,3652,3653,3654,3655,3656,3657,3658,3659,3660,3661,3662,3663,3664,3665,3666,3667,3668,3669,3670,3671,3672,3673,3674,3675,3676,3677,3678,3679,3680,3681,3682,3683,3684,3685,3686,3687,3688,3689,3690,3691,3692,3693,3694,3695,3696,3697,3698,3699,3700,3701,3702,3703,3704,3705,3706,3707,3708,3709,3710,3711,3712,3713,3714,3715,3716,3717,3718,3719,3720,3721,3722,3723,3724,3725,3726,3727,3728,3729,3730,3731,3732,3733,3734,3735,3736,3737,3738,3739,3740,3741,3742,3743,3744,3745,3746,3747,3748,3749,3750,3751,3752,3753,3754,3755,3756,3757,3758,3759,3760,3761,3762,3763,3764,3765,3766,3767,3768,3769,3770,3771,3772,3773,3774,3775,3776,3777,3778,3779,3780,3781,3782,3783,3784,3785,3786,3787,3788,3789,3790,3791,3792,3793,3794,3795,3796,3797,3798,3799,3800,3801,3802,3803,3804,3805,3806,3807,3808,3809,3810,3811,3812,3813,3814,3815,3816,3817,3818,3819,3820,3821,3822,3823,3824,3825,3826,3827,3828,3829,3830,3831,3832,3833,3834,3835,3836,3837,3838,3839,3840,3841,3842,3843,3844,3845,3846,3847,3848,3849,3850,3851,3852,3853,3854,3855,3856,3857,3858,3859,3860,3861,3862,3863,3864,3865,3866,3867,3868,3869,3870,3871,3872,3873,3874,3875,3876,3877,3878,3879,3880,3881,3882,3883,3884,3885,3886,3887,3888,3889,3890,3891,3892,3893,3894,3895,3896,3897,3898,3899,3900,3901,3902,3903,3904,3905,3906,3907,3908,3909,3910,3911,3912,3913,3914,3915,3916,3917,3918,3919,3920,3921,3922,3923,3924,3925,3926,3927,3928,3929,3930,3931,3932,3933,3934,3935,3936,3937,3938,3939,3940,3941,3942,3943,3944,3945,3946,3947,3948,3949,3950,3951,3952,3953,3954,3955,3956,3957,3958,3959,3960,3961,3962,3963,3964,3965,3966,3967,3968,3969,3970,3971,3972,3973,3974,3975,3976,3977,3978,3979,3980,3981,3982,3983,3984,3985,3986,3987,3988,3989,3990,3991,3992,3993,3994,3995,3996,3997,3998,3999,4000,4001,4002,4003,4004,4005,4006,4007,4008,4009,4010,4011,4012,4013,4014,4015,4016,4017,4018,4019,4020,4021,4022,4023,4024,4025,4026,4027,4028,4029,4030,4031,4032,4033,4034,4035,4036,4037,4038,4039,4040,4041,4042,4043,4044,4045,4046,4047,4048,4049,4050,4051,4052,4053,4054,4055,4056,4057,4058,4059,4060,4061,4062,4063,4064,4065,4066,4067,4068,4069,4070,4071,4072,4073,4074,4075,4076,4077,4078,4079,4080,4081,4082,4083,4084,4085,4086,4087,4088,4089,4090,4091,4092,4093,4094,4095,4096,4097,4098,4099,4100,4101,4102,4103,4104,4105,4106,4107,4108,4109,4110,4111,4112,4113,4114,4115,4116,4117,4118,4119,4120,4121,4122,4123,4124,4125,4126,4127,4128,4129,4130,4131,4132,4133,4134,4135,4136,4137,4138,4139,4140,4141,4142,4143,4144,4145,4146,4147,4148,4149,4150,4151,4152,4153,4154,4155,4156,4157,4158,4159,4160,4161,4162,4163,4164,4165,4166,4167,4168,4169,4170,4171,4172,4173,4174,4175,4176,4177,4178,4179,4180,4181,4182,4183,4184,4185,4186,4187,4188,4189,4190,4191,4192,4193,4194,4195,4196,4197,4198,4199,4200,4201,4202,4203,4204,4205,4206,4207,4208,4209,4210,4211,4212,4213,4214,4215,4216,4217,4218,4219,4220,4221,4222,4223,4224,4225,4226,4227,4228,4229,4230,4231,4232,4233,4234,4235,4236,4237,4238,4239,4240,4241,4242,4243,4244,4245,4246,4247,4248,4249,4250,4251,4252,4253,4254,4255,4256,4257,4258,4259,4260,4261,4262,4263,4264,4265,4266,4267,4268,4269,4270,4271,4272,4273,4274,4275,4276,4277,4278,4279,4280,4281,4282,4283,4284,4285,4286,4287,4288,4289,4290,4291,4292,4293,4294,4295,4296,4297,4298,4299,4300,4301,4302,4303,4304,4305,4306,4307,4308,4309,4310,4311,4312,4313,4314,4315,4316,4317,4318,4319,4320,4321,4322,4323,4324,4325,4326,4327,4328,4329,4330,4331,4332,4333,4334,4335,4336,4337,4338,4339,4340,4341,4342,4343,4344,4345,4346,4347,4348,4349,4350,4351,4352,4353,4354,4355,4356,4357,4358,4359,4360,4361,4362,4363,4364,4365,4366,4367,4368,4369,4370,4371,4372,4373,4374,4375,4376,4377,4378,4379,4380,4381,4382,4383,4384,4385,4386,4387,4388,4389,4390,4391,4392,4393,4394,4395,4396,4397,4398,4399,4400,4401,4402,4403,4404,4405,4406,4407,4408,4409,4410,4411,4412,4413,4414,4415,4416,4417,4418,4419,4420,4421,4422,4423,4424,4425,4426,4427,4428,4429,4430,4431,4432,4433,4434,4435,4436,4437,4438,4439,4440,4441,4442,4443,4444,4445,4446,4447,4448,4449,4450,4451,4452,4453,4454,4455,4456,4457,4458,4459,4460,4461,4462,4463,4464,4465,4466,4467,4468,4469,4470,4471,4472,4473,4474,4475,4476,4477,4478,4479,4480,4481,4482,4483,4484,4485,4486,4487,4488,4489,4490,4491,4492,4493,4494,4495,4496,4497,4498,4499,4500,4501,4502,4503,4504,4505,4506,4507,4508,4509,4510,4511,4512,4513,4514,4515,4516,4517,4518,4519,4520,4521,4522,4523,4524,4525,4526,4527,4528,4529,4530,4531,4532,4533,4534,4535,4536,4537,4538,4539,4540,4541,4542,4543,4544,4545,4546,4547,4548,4549,4550,4551,4552,4553,4554,4555,4556,4557,4558,4559,4560,4561,4562,4563,4564,4565,4566,4567,4568,4569,4570,4571,4572,4573,4574,4575,4576,4577,4578,4579,4580,4581,4582,4583,4584,4585,4586,4587,4588,4589,4590,4591,4592,4593,4594,4595,4596,4597,4598,4599,4600,4601,4602,4603,4604,4605,4606,4607,4608,4609,4610,4611,4612,4613,4614,4615,4616,4617,4618,4619,4620,4621,4622,4623,4624,4625,4626,4627,4628,4629,4630,4631,4632,4633,4634,4635,4636,4637,4638,4639,4640,4641,4642,4643,4644,4645,4646,4647,4648,4649,4650,4651,4652,4653,4654,4655,4656,4657,4658,4659,4660,4661,4662,4663,4664,4665,4666,4667,4668,4669,4670,4671,4672,4673,4674,4675,4676,4677,4678,4679,4680,4681,4682,4683,4684,4685,4686,4687,4688,4689,4690,4691,4692,4693,4694,4695,4696,4697,4698,4699,4700,4701,4702,4703,4704,4705,4706,4707,4708,4709,4710,4711,4712,4713,4714,4715,4716,4717,4718,4719,4720,4721,4722,4723,4724,4725,4726,4727,4728,4729,4730,4731,4732,4733,4734,4735,4736,4737,4738,4739,4740,4741,4742,4743,4744,4745,4746,4747,4748,4749,4750,4751,4752,4753,4754,4755,4756,4757,4758,4759,4760,4761,4762,4763,4764,4765,4766,4767,4768,4769,4770,4771,4772,4773,4774,4775,4776,4777,4778,4779,4780,4781,4782,4783,4784,4785,4786,4787,4788,4789,4790,4791,4792,4793,4794,4795,4796,4797,4798,4799,4800,4801,4802,4803,4804,4805,4806,4807,4808,4809,4810,4811,4812,4813,4814,4815,4816,4817,4818,4819,4820,4821,4822,4823],\"means\":{\"__ndarray__\":\"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\",\"dtype\":\"float64\",\"shape\":[4824]},\"x_vals\":[0,0,0,0,0,0,0,0,0,0,0,0,0,0,0,0,0,0,0,0,0,0,0,0,24,24,24,24,24,24,24,24,24,24,24,24,24,24,24,24,24,24,24,24,24,24,24,24,48,48,48,48,48,48,48,48,48,48,48,48,48,48,48,48,48,48,48,48,48,48,48,48,72,72,72,72,72,72,72,72,72,72,72,72,72,72,72,72,72,72,72,72,72,72,72,72,96,96,96,96,96,96,96,96,96,96,96,96,96,96,96,96,96,96,96,96,96,96,96,96,120,120,120,120,120,120,120,120,120,120,120,120,120,120,120,120,120,120,120,120,120,120,120,120,144,144,144,144,144,144,144,144,144,144,144,144,144,144,144,144,144,144,144,144,144,144,144,144,168,168,168,168,168,168,168,168,168,168,168,168,168,168,168,168,168,168,168,168,168,168,168,168,192,192,192,192,192,192,192,192,192,192,192,192,192,192,192,192,192,192,192,192,192,192,192,192,216,216,216,216,216,216,216,216,216,216,216,216,216,216,216,216,216,216,216,216,216,216,216,216,240,240,240,240,240,240,240,240,240,240,240,240,240,240,240,240,240,240,240,240,240,240,240,240,264,264,264,264,264,264,264,264,264,264,264,264,264,264,264,264,264,264,264,264,264,264,264,264,288,288,288,288,288,288,288,288,288,288,288,288,288,288,288,288,288,288,288,288,288,288,288,288,312,312,312,312,312,312,312,312,312,312,312,312,312,312,312,312,312,312,312,312,312,312,312,312,336,336,336,336,336,336,336,336,336,336,336,336,336,336,336,336,336,336,336,336,336,336,336,336,360,360,360,360,360,360,360,360,360,360,360,360,360,360,360,360,360,360,360,360,360,360,360,360,384,384,384,384,384,384,384,384,384,384,384,384,384,384,384,384,384,384,384,384,384,384,384,384,408,408,408,408,408,408,408,408,408,408,408,408,408,408,408,408,408,408,408,408,408,408,408,408,432,432,432,432,432,432,432,432,432,432,432,432,432,432,432,432,432,432,432,432,432,432,432,432,456,456,456,456,456,456,456,456,456,456,456,456,456,456,456,456,456,456,456,456,456,456,456,456,480,480,480,480,480,480,480,480,480,480,480,480,480,480,480,480,480,480,480,480,480,480,480,480,504,504,504,504,504,504,504,504,504,504,504,504,504,504,504,504,504,504,504,504,504,504,504,504,528,528,528,528,528,528,528,528,528,528,528,528,528,528,528,528,528,528,528,528,528,528,528,528,552,552,552,552,552,552,552,552,552,552,552,552,552,552,552,552,552,552,552,552,552,552,552,552,576,576,576,576,576,576,576,576,576,576,576,576,576,576,576,576,576,576,576,576,576,576,576,576,600,600,600,600,600,600,600,600,600,600,600,600,600,600,600,600,600,600,600,600,600,600,600,600,624,624,624,624,624,624,624,624,624,624,624,624,624,624,624,624,624,624,624,624,624,624,624,624,648,648,648,648,648,648,648,648,648,648,648,648,648,648,648,648,648,648,648,648,648,648,648,648,672,672,672,672,672,672,672,672,672,672,672,672,672,672,672,672,672,672,672,672,672,672,672,672,696,696,696,696,696,696,696,696,696,696,696,696,696,696,696,696,696,696,696,696,696,696,696,696,720,720,720,720,720,720,720,720,720,720,720,720,720,720,720,720,720,720,720,720,720,720,720,720,744,744,744,744,744,744,744,744,744,744,744,744,744,744,744,744,744,744,744,744,744,744,744,744,768,768,768,768,768,768,768,768,768,768,768,768,768,768,768,768,768,768,768,768,768,768,768,768,792,792,792,792,792,792,792,792,792,792,792,792,792,792,792,792,792,792,792,792,792,792,792,792,816,816,816,816,816,816,816,816,816,816,816,816,816,816,816,816,816,816,816,816,816,816,816,816,840,840,840,840,840,840,840,840,840,840,840,840,840,840,840,840,840,840,840,840,840,840,840,840,864,864,864,864,864,864,864,864,864,864,864,864,864,864,864,864,864,864,864,864,864,864,864,864,888,888,888,888,888,888,888,888,888,888,888,888,888,888,888,888,888,888,888,888,888,888,888,888,912,912,912,912,912,912,912,912,912,912,912,912,912,912,912,912,912,912,912,912,912,912,912,912,936,936,936,936,936,936,936,936,936,936,936,936,936,936,936,936,936,936,936,936,936,936,936,936,960,960,960,960,960,960,960,960,960,960,960,960,960,960,960,960,960,960,960,960,960,960,960,960,984,984,984,984,984,984,984,984,984,984,984,984,984,984,984,984,984,984,984,984,984,984,984,984,1008,1008,1008,1008,1008,1008,1008,1008,1008,1008,1008,1008,1008,1008,1008,1008,1008,1008,1008,1008,1008,1008,1008,1008,1032,1032,1032,1032,1032,1032,1032,1032,1032,1032,1032,1032,1032,1032,1032,1032,1032,1032,1032,1032,1032,1032,1032,1032,1056,1056,1056,1056,1056,1056,1056,1056,1056,1056,1056,1056,1056,1056,1056,1056,1056,1056,1056,1056,1056,1056,1056,1056,1080,1080,1080,1080,1080,1080,1080,1080,1080,1080,1080,1080,1080,1080,1080,1080,1080,1080,1080,1080,1080,1080,1080,1080,1104,1104,1104,1104,1104,1104,1104,1104,1104,1104,1104,1104,1104,1104,1104,1104,1104,1104,1104,1104,1104,1104,1104,1104,1128,1128,1128,1128,1128,1128,1128,1128,1128,1128,1128,1128,1128,1128,1128,1128,1128,1128,1128,1128,1128,1128,1128,1128,1152,1152,1152,1152,1152,1152,1152,1152,1152,1152,1152,1152,1152,1152,1152,1152,1152,1152,1152,1152,1152,1152,1152,1152,1176,1176,1176,1176,1176,1176,1176,1176,1176,1176,1176,1176,1176,1176,1176,1176,1176,1176,1176,1176,1176,1176,1176,1176,1200,1200,1200,1200,1200,1200,1200,1200,1200,1200,1200,1200,1200,1200,1200,1200,1200,1200,1200,1200,1200,1200,1200,1200,1224,1224,1224,1224,1224,1224,1224,1224,1224,1224,1224,1224,1224,1224,1224,1224,1224,1224,1224,1224,1224,1224,1224,1224,1248,1248,1248,1248,1248,1248,1248,1248,1248,1248,1248,1248,1248,1248,1248,1248,1248,1248,1248,1248,1248,1248,1248,1248,1272,1272,1272,1272,1272,1272,1272,1272,1272,1272,1272,1272,1272,1272,1272,1272,1272,1272,1272,1272,1272,1272,1272,1272,1296,1296,1296,1296,1296,1296,1296,1296,1296,1296,1296,1296,1296,1296,1296,1296,1296,1296,1296,1296,1296,1296,1296,1296,1320,1320,1320,1320,1320,1320,1320,1320,1320,1320,1320,1320,1320,1320,1320,1320,1320,1320,1320,1320,1320,1320,1320,1320,1344,1344,1344,1344,1344,1344,1344,1344,1344,1344,1344,1344,1344,1344,1344,1344,1344,1344,1344,1344,1344,1344,1344,1344,1368,1368,1368,1368,1368,1368,1368,1368,1368,1368,1368,1368,1368,1368,1368,1368,1368,1368,1368,1368,1368,1368,1368,1368,1392,1392,1392,1392,1392,1392,1392,1392,1392,1392,1392,1392,1392,1392,1392,1392,1392,1392,1392,1392,1392,1392,1392,1392,1416,1416,1416,1416,1416,1416,1416,1416,1416,1416,1416,1416,1416,1416,1416,1416,1416,1416,1416,1416,1416,1416,1416,1416,1440,1440,1440,1440,1440,1440,1440,1440,1440,1440,1440,1440,1440,1440,1440,1440,1440,1440,1440,1440,1440,1440,1440,1440,1464,1464,1464,1464,1464,1464,1464,1464,1464,1464,1464,1464,1464,1464,1464,1464,1464,1464,1464,1464,1464,1464,1464,1464,1488,1488,1488,1488,1488,1488,1488,1488,1488,1488,1488,1488,1488,1488,1488,1488,1488,1488,1488,1488,1488,1488,1488,1488,1512,1512,1512,1512,1512,1512,1512,1512,1512,1512,1512,1512,1512,1512,1512,1512,1512,1512,1512,1512,1512,1512,1512,1512,1536,1536,1536,1536,1536,1536,1536,1536,1536,1536,1536,1536,1536,1536,1536,1536,1536,1536,1536,1536,1536,1536,1536,1536,1560,1560,1560,1560,1560,1560,1560,1560,1560,1560,1560,1560,1560,1560,1560,1560,1560,1560,1560,1560,1560,1560,1560,1560,1584,1584,1584,1584,1584,1584,1584,1584,1584,1584,1584,1584,1584,1584,1584,1584,1584,1584,1584,1584,1584,1584,1584,1584,1608,1608,1608,1608,1608,1608,1608,1608,1608,1608,1608,1608,1608,1608,1608,1608,1608,1608,1608,1608,1608,1608,1608,1608,1632,1632,1632,1632,1632,1632,1632,1632,1632,1632,1632,1632,1632,1632,1632,1632,1632,1632,1632,1632,1632,1632,1632,1632,1656,1656,1656,1656,1656,1656,1656,1656,1656,1656,1656,1656,1656,1656,1656,1656,1656,1656,1656,1656,1656,1656,1656,1656,1680,1680,1680,1680,1680,1680,1680,1680,1680,1680,1680,1680,1680,1680,1680,1680,1680,1680,1680,1680,1680,1680,1680,1680,1704,1704,1704,1704,1704,1704,1704,1704,1704,1704,1704,1704,1704,1704,1704,1704,1704,1704,1704,1704,1704,1704,1704,1704,1728,1728,1728,1728,1728,1728,1728,1728,1728,1728,1728,1728,1728,1728,1728,1728,1728,1728,1728,1728,1728,1728,1728,1728,1752,1752,1752,1752,1752,1752,1752,1752,1752,1752,1752,1752,1752,1752,1752,1752,1752,1752,1752,1752,1752,1752,1752,1752,1776,1776,1776,1776,1776,1776,1776,1776,1776,1776,1776,1776,1776,1776,1776,1776,1776,1776,1776,1776,1776,1776,1776,1776,1800,1800,1800,1800,1800,1800,1800,1800,1800,1800,1800,1800,1800,1800,1800,1800,1800,1800,1800,1800,1800,1800,1800,1800,1824,1824,1824,1824,1824,1824,1824,1824,1824,1824,1824,1824,1824,1824,1824,1824,1824,1824,1824,1824,1824,1824,1824,1824,1848,1848,1848,1848,1848,1848,1848,1848,1848,1848,1848,1848,1848,1848,1848,1848,1848,1848,1848,1848,1848,1848,1848,1848,1872,1872,1872,1872,1872,1872,1872,1872,1872,1872,1872,1872,1872,1872,1872,1872,1872,1872,1872,1872,1872,1872,1872,1872,1896,1896,1896,1896,1896,1896,1896,1896,1896,1896,1896,1896,1896,1896,1896,1896,1896,1896,1896,1896,1896,1896,1896,1896,1920,1920,1920,1920,1920,1920,1920,1920,1920,1920,1920,1920,1920,1920,1920,1920,1920,1920,1920,1920,1920,1920,1920,1920,1944,1944,1944,1944,1944,1944,1944,1944,1944,1944,1944,1944,1944,1944,1944,1944,1944,1944,1944,1944,1944,1944,1944,1944,1968,1968,1968,1968,1968,1968,1968,1968,1968,1968,1968,1968,1968,1968,1968,1968,1968,1968,1968,1968,1968,1968,1968,1968,1992,1992,1992,1992,1992,1992,1992,1992,1992,1992,1992,1992,1992,1992,1992,1992,1992,1992,1992,1992,1992,1992,1992,1992,2016,2016,2016,2016,2016,2016,2016,2016,2016,2016,2016,2016,2016,2016,2016,2016,2016,2016,2016,2016,2016,2016,2016,2016,2040,2040,2040,2040,2040,2040,2040,2040,2040,2040,2040,2040,2040,2040,2040,2040,2040,2040,2040,2040,2040,2040,2040,2040,2064,2064,2064,2064,2064,2064,2064,2064,2064,2064,2064,2064,2064,2064,2064,2064,2064,2064,2064,2064,2064,2064,2064,2064,2088,2088,2088,2088,2088,2088,2088,2088,2088,2088,2088,2088,2088,2088,2088,2088,2088,2088,2088,2088,2088,2088,2088,2088,2112,2112,2112,2112,2112,2112,2112,2112,2112,2112,2112,2112,2112,2112,2112,2112,2112,2112,2112,2112,2112,2112,2112,2112,2136,2136,2136,2136,2136,2136,2136,2136,2136,2136,2136,2136,2136,2136,2136,2136,2136,2136,2136,2136,2136,2136,2136,2136,2160,2160,2160,2160,2160,2160,2160,2160,2160,2160,2160,2160,2160,2160,2160,2160,2160,2160,2160,2160,2160,2160,2160,2160,2184,2184,2184,2184,2184,2184,2184,2184,2184,2184,2184,2184,2184,2184,2184,2184,2184,2184,2184,2184,2184,2184,2184,2184,2208,2208,2208,2208,2208,2208,2208,2208,2208,2208,2208,2208,2208,2208,2208,2208,2208,2208,2208,2208,2208,2208,2208,2208,2232,2232,2232,2232,2232,2232,2232,2232,2232,2232,2232,2232,2232,2232,2232,2232,2232,2232,2232,2232,2232,2232,2232,2232,2256,2256,2256,2256,2256,2256,2256,2256,2256,2256,2256,2256,2256,2256,2256,2256,2256,2256,2256,2256,2256,2256,2256,2256,2280,2280,2280,2280,2280,2280,2280,2280,2280,2280,2280,2280,2280,2280,2280,2280,2280,2280,2280,2280,2280,2280,2280,2280,2304,2304,2304,2304,2304,2304,2304,2304,2304,2304,2304,2304,2304,2304,2304,2304,2304,2304,2304,2304,2304,2304,2304,2304,2328,2328,2328,2328,2328,2328,2328,2328,2328,2328,2328,2328,2328,2328,2328,2328,2328,2328,2328,2328,2328,2328,2328,2328,2352,2352,2352,2352,2352,2352,2352,2352,2352,2352,2352,2352,2352,2352,2352,2352,2352,2352,2352,2352,2352,2352,2352,2352,2376,2376,2376,2376,2376,2376,2376,2376,2376,2376,2376,2376,2376,2376,2376,2376,2376,2376,2376,2376,2376,2376,2376,2376,2400,2400,2400,2400,2400,2400,2400,2400,2400,2400,2400,2400,2400,2400,2400,2400,2400,2400,2400,2400,2400,2400,2400,2400,2424,2424,2424,2424,2424,2424,2424,2424,2424,2424,2424,2424,2424,2424,2424,2424,2424,2424,2424,2424,2424,2424,2424,2424,2448,2448,2448,2448,2448,2448,2448,2448,2448,2448,2448,2448,2448,2448,2448,2448,2448,2448,2448,2448,2448,2448,2448,2448,2472,2472,2472,2472,2472,2472,2472,2472,2472,2472,2472,2472,2472,2472,2472,2472,2472,2472,2472,2472,2472,2472,2472,2472,2496,2496,2496,2496,2496,2496,2496,2496,2496,2496,2496,2496,2496,2496,2496,2496,2496,2496,2496,2496,2496,2496,2496,2496,2520,2520,2520,2520,2520,2520,2520,2520,2520,2520,2520,2520,2520,2520,2520,2520,2520,2520,2520,2520,2520,2520,2520,2520,2544,2544,2544,2544,2544,2544,2544,2544,2544,2544,2544,2544,2544,2544,2544,2544,2544,2544,2544,2544,2544,2544,2544,2544,2568,2568,2568,2568,2568,2568,2568,2568,2568,2568,2568,2568,2568,2568,2568,2568,2568,2568,2568,2568,2568,2568,2568,2568,2592,2592,2592,2592,2592,2592,2592,2592,2592,2592,2592,2592,2592,2592,2592,2592,2592,2592,2592,2592,2592,2592,2592,2592,2616,2616,2616,2616,2616,2616,2616,2616,2616,2616,2616,2616,2616,2616,2616,2616,2616,2616,2616,2616,2616,2616,2616,2616,2640,2640,2640,2640,2640,2640,2640,2640,2640,2640,2640,2640,2640,2640,2640,2640,2640,2640,2640,2640,2640,2640,2640,2640,2664,2664,2664,2664,2664,2664,2664,2664,2664,2664,2664,2664,2664,2664,2664,2664,2664,2664,2664,2664,2664,2664,2664,2664,2688,2688,2688,2688,2688,2688,2688,2688,2688,2688,2688,2688,2688,2688,2688,2688,2688,2688,2688,2688,2688,2688,2688,2688,2712,2712,2712,2712,2712,2712,2712,2712,2712,2712,2712,2712,2712,2712,2712,2712,2712,2712,2712,2712,2712,2712,2712,2712,2736,2736,2736,2736,2736,2736,2736,2736,2736,2736,2736,2736,2736,2736,2736,2736,2736,2736,2736,2736,2736,2736,2736,2736,2760,2760,2760,2760,2760,2760,2760,2760,2760,2760,2760,2760,2760,2760,2760,2760,2760,2760,2760,2760,2760,2760,2760,2760,2784,2784,2784,2784,2784,2784,2784,2784,2784,2784,2784,2784,2784,2784,2784,2784,2784,2784,2784,2784,2784,2784,2784,2784,2808,2808,2808,2808,2808,2808,2808,2808,2808,2808,2808,2808,2808,2808,2808,2808,2808,2808,2808,2808,2808,2808,2808,2808,2832,2832,2832,2832,2832,2832,2832,2832,2832,2832,2832,2832,2832,2832,2832,2832,2832,2832,2832,2832,2832,2832,2832,2832,2856,2856,2856,2856,2856,2856,2856,2856,2856,2856,2856,2856,2856,2856,2856,2856,2856,2856,2856,2856,2856,2856,2856,2856,2880,2880,2880,2880,2880,2880,2880,2880,2880,2880,2880,2880,2880,2880,2880,2880,2880,2880,2880,2880,2880,2880,2880,2880,2904,2904,2904,2904,2904,2904,2904,2904,2904,2904,2904,2904,2904,2904,2904,2904,2904,2904,2904,2904,2904,2904,2904,2904,2928,2928,2928,2928,2928,2928,2928,2928,2928,2928,2928,2928,2928,2928,2928,2928,2928,2928,2928,2928,2928,2928,2928,2928,2952,2952,2952,2952,2952,2952,2952,2952,2952,2952,2952,2952,2952,2952,2952,2952,2952,2952,2952,2952,2952,2952,2952,2952,2976,2976,2976,2976,2976,2976,2976,2976,2976,2976,2976,2976,2976,2976,2976,2976,2976,2976,2976,2976,2976,2976,2976,2976,3000,3000,3000,3000,3000,3000,3000,3000,3000,3000,3000,3000,3000,3000,3000,3000,3000,3000,3000,3000,3000,3000,3000,3000,3024,3024,3024,3024,3024,3024,3024,3024,3024,3024,3024,3024,3024,3024,3024,3024,3024,3024,3024,3024,3024,3024,3024,3024,3048,3048,3048,3048,3048,3048,3048,3048,3048,3048,3048,3048,3048,3048,3048,3048,3048,3048,3048,3048,3048,3048,3048,3048,3072,3072,3072,3072,3072,3072,3072,3072,3072,3072,3072,3072,3072,3072,3072,3072,3072,3072,3072,3072,3072,3072,3072,3072,3096,3096,3096,3096,3096,3096,3096,3096,3096,3096,3096,3096,3096,3096,3096,3096,3096,3096,3096,3096,3096,3096,3096,3096,3120,3120,3120,3120,3120,3120,3120,3120,3120,3120,3120,3120,3120,3120,3120,3120,3120,3120,3120,3120,3120,3120,3120,3120,3144,3144,3144,3144,3144,3144,3144,3144,3144,3144,3144,3144,3144,3144,3144,3144,3144,3144,3144,3144,3144,3144,3144,3144,3168,3168,3168,3168,3168,3168,3168,3168,3168,3168,3168,3168,3168,3168,3168,3168,3168,3168,3168,3168,3168,3168,3168,3168,3192,3192,3192,3192,3192,3192,3192,3192,3192,3192,3192,3192,3192,3192,3192,3192,3192,3192,3192,3192,3192,3192,3192,3192,3216,3216,3216,3216,3216,3216,3216,3216,3216,3216,3216,3216,3216,3216,3216,3216,3216,3216,3216,3216,3216,3216,3216,3216,3240,3240,3240,3240,3240,3240,3240,3240,3240,3240,3240,3240,3240,3240,3240,3240,3240,3240,3240,3240,3240,3240,3240,3240,3264,3264,3264,3264,3264,3264,3264,3264,3264,3264,3264,3264,3264,3264,3264,3264,3264,3264,3264,3264,3264,3264,3264,3264,3288,3288,3288,3288,3288,3288,3288,3288,3288,3288,3288,3288,3288,3288,3288,3288,3288,3288,3288,3288,3288,3288,3288,3288,3312,3312,3312,3312,3312,3312,3312,3312,3312,3312,3312,3312,3312,3312,3312,3312,3312,3312,3312,3312,3312,3312,3312,3312,3336,3336,3336,3336,3336,3336,3336,3336,3336,3336,3336,3336,3336,3336,3336,3336,3336,3336,3336,3336,3336,3336,3336,3336,3360,3360,3360,3360,3360,3360,3360,3360,3360,3360,3360,3360,3360,3360,3360,3360,3360,3360,3360,3360,3360,3360,3360,3360,3384,3384,3384,3384,3384,3384,3384,3384,3384,3384,3384,3384,3384,3384,3384,3384,3384,3384,3384,3384,3384,3384,3384,3384,3408,3408,3408,3408,3408,3408,3408,3408,3408,3408,3408,3408,3408,3408,3408,3408,3408,3408,3408,3408,3408,3408,3408,3408,3432,3432,3432,3432,3432,3432,3432,3432,3432,3432,3432,3432,3432,3432,3432,3432,3432,3432,3432,3432,3432,3432,3432,3432,3456,3456,3456,3456,3456,3456,3456,3456,3456,3456,3456,3456,3456,3456,3456,3456,3456,3456,3456,3456,3456,3456,3456,3456,3480,3480,3480,3480,3480,3480,3480,3480,3480,3480,3480,3480,3480,3480,3480,3480,3480,3480,3480,3480,3480,3480,3480,3480,3504,3504,3504,3504,3504,3504,3504,3504,3504,3504,3504,3504,3504,3504,3504,3504,3504,3504,3504,3504,3504,3504,3504,3504,3528,3528,3528,3528,3528,3528,3528,3528,3528,3528,3528,3528,3528,3528,3528,3528,3528,3528,3528,3528,3528,3528,3528,3528,3552,3552,3552,3552,3552,3552,3552,3552,3552,3552,3552,3552,3552,3552,3552,3552,3552,3552,3552,3552,3552,3552,3552,3552,3576,3576,3576,3576,3576,3576,3576,3576,3576,3576,3576,3576,3576,3576,3576,3576,3576,3576,3576,3576,3576,3576,3576,3576,3600,3600,3600,3600,3600,3600,3600,3600,3600,3600,3600,3600,3600,3600,3600,3600,3600,3600,3600,3600,3600,3600,3600,3600,3624,3624,3624,3624,3624,3624,3624,3624,3624,3624,3624,3624,3624,3624,3624,3624,3624,3624,3624,3624,3624,3624,3624,3624,3648,3648,3648,3648,3648,3648,3648,3648,3648,3648,3648,3648,3648,3648,3648,3648,3648,3648,3648,3648,3648,3648,3648,3648,3672,3672,3672,3672,3672,3672,3672,3672,3672,3672,3672,3672,3672,3672,3672,3672,3672,3672,3672,3672,3672,3672,3672,3672,3696,3696,3696,3696,3696,3696,3696,3696,3696,3696,3696,3696,3696,3696,3696,3696,3696,3696,3696,3696,3696,3696,3696,3696,3720,3720,3720,3720,3720,3720,3720,3720,3720,3720,3720,3720,3720,3720,3720,3720,3720,3720,3720,3720,3720,3720,3720,3720,3744,3744,3744,3744,3744,3744,3744,3744,3744,3744,3744,3744,3744,3744,3744,3744,3744,3744,3744,3744,3744,3744,3744,3744,3768,3768,3768,3768,3768,3768,3768,3768,3768,3768,3768,3768,3768,3768,3768,3768,3768,3768,3768,3768,3768,3768,3768,3768,3792,3792,3792,3792,3792,3792,3792,3792,3792,3792,3792,3792,3792,3792,3792,3792,3792,3792,3792,3792,3792,3792,3792,3792,3816,3816,3816,3816,3816,3816,3816,3816,3816,3816,3816,3816,3816,3816,3816,3816,3816,3816,3816,3816,3816,3816,3816,3816,3840,3840,3840,3840,3840,3840,3840,3840,3840,3840,3840,3840,3840,3840,3840,3840,3840,3840,3840,3840,3840,3840,3840,3840,3864,3864,3864,3864,3864,3864,3864,3864,3864,3864,3864,3864,3864,3864,3864,3864,3864,3864,3864,3864,3864,3864,3864,3864,3888,3888,3888,3888,3888,3888,3888,3888,3888,3888,3888,3888,3888,3888,3888,3888,3888,3888,3888,3888,3888,3888,3888,3888,3912,3912,3912,3912,3912,3912,3912,3912,3912,3912,3912,3912,3912,3912,3912,3912,3912,3912,3912,3912,3912,3912,3912,3912,3936,3936,3936,3936,3936,3936,3936,3936,3936,3936,3936,3936,3936,3936,3936,3936,3936,3936,3936,3936,3936,3936,3936,3936,3960,3960,3960,3960,3960,3960,3960,3960,3960,3960,3960,3960,3960,3960,3960,3960,3960,3960,3960,3960,3960,3960,3960,3960,3984,3984,3984,3984,3984,3984,3984,3984,3984,3984,3984,3984,3984,3984,3984,3984,3984,3984,3984,3984,3984,3984,3984,3984,4008,4008,4008,4008,4008,4008,4008,4008,4008,4008,4008,4008,4008,4008,4008,4008,4008,4008,4008,4008,4008,4008,4008,4008,4032,4032,4032,4032,4032,4032,4032,4032,4032,4032,4032,4032,4032,4032,4032,4032,4032,4032,4032,4032,4032,4032,4032,4032,4056,4056,4056,4056,4056,4056,4056,4056,4056,4056,4056,4056,4056,4056,4056,4056,4056,4056,4056,4056,4056,4056,4056,4056,4080,4080,4080,4080,4080,4080,4080,4080,4080,4080,4080,4080,4080,4080,4080,4080,4080,4080,4080,4080,4080,4080,4080,4080,4104,4104,4104,4104,4104,4104,4104,4104,4104,4104,4104,4104,4104,4104,4104,4104,4104,4104,4104,4104,4104,4104,4104,4104,4128,4128,4128,4128,4128,4128,4128,4128,4128,4128,4128,4128,4128,4128,4128,4128,4128,4128,4128,4128,4128,4128,4128,4128,4152,4152,4152,4152,4152,4152,4152,4152,4152,4152,4152,4152,4152,4152,4152,4152,4152,4152,4152,4152,4152,4152,4152,4152,4176,4176,4176,4176,4176,4176,4176,4176,4176,4176,4176,4176,4176,4176,4176,4176,4176,4176,4176,4176,4176,4176,4176,4176,4200,4200,4200,4200,4200,4200,4200,4200,4200,4200,4200,4200,4200,4200,4200,4200,4200,4200,4200,4200,4200,4200,4200,4200,4224,4224,4224,4224,4224,4224,4224,4224,4224,4224,4224,4224,4224,4224,4224,4224,4224,4224,4224,4224,4224,4224,4224,4224,4248,4248,4248,4248,4248,4248,4248,4248,4248,4248,4248,4248,4248,4248,4248,4248,4248,4248,4248,4248,4248,4248,4248,4248,4272,4272,4272,4272,4272,4272,4272,4272,4272,4272,4272,4272,4272,4272,4272,4272,4272,4272,4272,4272,4272,4272,4272,4272,4296,4296,4296,4296,4296,4296,4296,4296,4296,4296,4296,4296,4296,4296,4296,4296,4296,4296,4296,4296,4296,4296,4296,4296,4320,4320,4320,4320,4320,4320,4320,4320,4320,4320,4320,4320,4320,4320,4320,4320,4320,4320,4320,4320,4320,4320,4320,4320,4344,4344,4344,4344,4344,4344,4344,4344,4344,4344,4344,4344,4344,4344,4344,4344,4344,4344,4344,4344,4344,4344,4344,4344,4368,4368,4368,4368,4368,4368,4368,4368,4368,4368,4368,4368,4368,4368,4368,4368,4368,4368,4368,4368,4368,4368,4368,4368,4392,4392,4392,4392,4392,4392,4392,4392,4392,4392,4392,4392,4392,4392,4392,4392,4392,4392,4392,4392,4392,4392,4392,4392,4416,4416,4416,4416,4416,4416,4416,4416,4416,4416,4416,4416,4416,4416,4416,4416,4416,4416,4416,4416,4416,4416,4416,4416,4440,4440,4440,4440,4440,4440,4440,4440,4440,4440,4440,4440,4440,4440,4440,4440,4440,4440,4440,4440,4440,4440,4440,4440,4464,4464,4464,4464,4464,4464,4464,4464,4464,4464,4464,4464,4464,4464,4464,4464,4464,4464,4464,4464,4464,4464,4464,4464,4488,4488,4488,4488,4488,4488,4488,4488,4488,4488,4488,4488,4488,4488,4488,4488,4488,4488,4488,4488,4488,4488,4488,4488,4512,4512,4512,4512,4512,4512,4512,4512,4512,4512,4512,4512,4512,4512,4512,4512,4512,4512,4512,4512,4512,4512,4512,4512,4536,4536,4536,4536,4536,4536,4536,4536,4536,4536,4536,4536,4536,4536,4536,4536,4536,4536,4536,4536,4536,4536,4536,4536,4560,4560,4560,4560,4560,4560,4560,4560,4560,4560,4560,4560,4560,4560,4560,4560,4560,4560,4560,4560,4560,4560,4560,4560,4584,4584,4584,4584,4584,4584,4584,4584,4584,4584,4584,4584,4584,4584,4584,4584,4584,4584,4584,4584,4584,4584,4584,4584,4608,4608,4608,4608,4608,4608,4608,4608,4608,4608,4608,4608,4608,4608,4608,4608,4608,4608,4608,4608,4608,4608,4608,4608,4632,4632,4632,4632,4632,4632,4632,4632,4632,4632,4632,4632,4632,4632,4632,4632,4632,4632,4632,4632,4632,4632,4632,4632,4656,4656,4656,4656,4656,4656,4656,4656,4656,4656,4656,4656,4656,4656,4656,4656,4656,4656,4656,4656,4656,4656,4656,4656,4680,4680,4680,4680,4680,4680,4680,4680,4680,4680,4680,4680,4680,4680,4680,4680,4680,4680,4680,4680,4680,4680,4680,4680,4704,4704,4704,4704,4704,4704,4704,4704,4704,4704,4704,4704,4704,4704,4704,4704,4704,4704,4704,4704,4704,4704,4704,4704,4728,4728,4728,4728,4728,4728,4728,4728,4728,4728,4728,4728,4728,4728,4728,4728,4728,4728,4728,4728,4728,4728,4728,4728,4752,4752,4752,4752,4752,4752,4752,4752,4752,4752,4752,4752,4752,4752,4752,4752,4752,4752,4752,4752,4752,4752,4752,4752,4776,4776,4776,4776,4776,4776,4776,4776,4776,4776,4776,4776,4776,4776,4776,4776,4776,4776,4776,4776,4776,4776,4776,4776,4800,4800,4800,4800,4800,4800,4800,4800,4800,4800,4800,4800,4800,4800,4800,4800,4800,4800,4800,4800,4800,4800,4800,4800]}},\"id\":\"bb3d6be3-8471-4a4e-a015-5f9692dd74de\",\"type\":\"ColumnDataSource\"},{\"attributes\":{},\"id\":\"6745c54f-b6f5-4f79-ab1f-4da8d5c3c65f\",\"type\":\"PanTool\"},{\"attributes\":{\"bottom_units\":\"screen\",\"fill_alpha\":{\"value\":0.5},\"fill_color\":{\"value\":\"lightgrey\"},\"left_units\":\"screen\",\"level\":\"overlay\",\"line_alpha\":{\"value\":1.0},\"line_color\":{\"value\":\"black\"},\"line_dash\":[4,4],\"line_width\":{\"value\":2},\"plot\":null,\"render_mode\":\"css\",\"right_units\":\"screen\",\"top_units\":\"screen\"},\"id\":\"bcabcfa4-b52e-4ae5-b765-9451027fe07d\",\"type\":\"BoxAnnotation\"},{\"attributes\":{\"data_source\":{\"id\":\"bb3d6be3-8471-4a4e-a015-5f9692dd74de\",\"type\":\"ColumnDataSource\"},\"glyph\":{\"id\":\"8bb5069c-5e89-4e46-912b-4834499c7f75\",\"type\":\"Rect\"},\"hover_glyph\":null,\"muted_glyph\":null,\"nonselection_glyph\":{\"id\":\"ff56c615-51f5-4186-919b-e40ea615ba05\",\"type\":\"Rect\"},\"selection_glyph\":null,\"view\":{\"id\":\"e1354fa2-0300-4bca-9286-4884a8915f6f\",\"type\":\"CDSView\"}},\"id\":\"cdc5cbdc-41a9-43ee-a459-d0c0a06230da\",\"type\":\"GlyphRenderer\"},{\"attributes\":{\"overlay\":{\"id\":\"15c71778-a529-4217-b2fe-d246d82376c2\",\"type\":\"BoxAnnotation\"}},\"id\":\"6687429f-871c-4654-bf29-05f049e11f43\",\"type\":\"BoxZoomTool\"},{\"attributes\":{\"callback\":null,\"overlay\":{\"id\":\"bcabcfa4-b52e-4ae5-b765-9451027fe07d\",\"type\":\"BoxAnnotation\"},\"renderers\":[{\"id\":\"cdc5cbdc-41a9-43ee-a459-d0c0a06230da\",\"type\":\"GlyphRenderer\"}]},\"id\":\"b408067a-7168-49a1-b13a-9a1414fdf64d\",\"type\":\"BoxSelectTool\"}],\"root_ids\":[\"f684b2d0-7465-4224-8762-2dc800d94043\"]},\"title\":\"Bokeh Application\",\"version\":\"0.12.10\"}};\n",
       "    var render_items = [{\"docid\":\"574cbe07-a8c1-4a78-ad41-0a899fc21a70\",\"elementid\":\"beb5d261-7bae-4a67-9323-cbe30b582ad0\",\"modelid\":\"f684b2d0-7465-4224-8762-2dc800d94043\"}];\n",
       "\n",
       "    root.Bokeh.embed.embed_items(docs_json, render_items);\n",
       "  }\n",
       "\n",
       "  if (root.Bokeh !== undefined) {\n",
       "    embed_document(root);\n",
       "  } else {\n",
       "    var attempts = 0;\n",
       "    var timer = setInterval(function(root) {\n",
       "      if (root.Bokeh !== undefined) {\n",
       "        embed_document(root);\n",
       "        clearInterval(timer);\n",
       "      }\n",
       "      attempts++;\n",
       "      if (attempts > 100) {\n",
       "        console.log(\"Bokeh: ERROR: Unable to embed document because BokehJS library is missing\")\n",
       "        clearInterval(timer);\n",
       "      }\n",
       "    }, 10, root)\n",
       "  }\n",
       "})(window);"
      ],
      "application/vnd.bokehjs_exec.v0+json": ""
     },
     "metadata": {
      "application/vnd.bokehjs_exec.v0+json": {
       "id": "f684b2d0-7465-4224-8762-2dc800d94043"
      }
     },
     "output_type": "display_data"
    }
   ],
   "source": [
    "# mainGraph.scatter(\"x_vals\",\"hour\",radius=5,color=\"blue\",alpha=.4,source=source)\n",
    "mainGraph.rect(x=\"x_vals\", y=\"hour\", \n",
    "               width=24, height=1,\n",
    "               source=source,\n",
    "               fill_color={'field': 'means', 'transform': mapper},\n",
    "              line_color=None)\n",
    "# output_file(\"./AvgPercentUtil.html\", title='Library Usage: Average Percent Utilization per Hour')\n",
    "color_bar = ColorBar(color_mapper=mapper, major_label_text_font_size=\"10pt\",\n",
    "                     ticker=BasicTicker(desired_num_ticks=len(colors)),\n",
    "                     formatter=PrintfTickFormatter(format=\"%d%%\"),\n",
    "                     label_standoff=10, border_line_color=None, location=(0, 0))\n",
    "mainGraph.add_layout(color_bar, 'right')\n",
    "show(mainGraph)"
   ]
  },
  {
   "cell_type": "markdown",
   "metadata": {},
   "source": [
    "Below, manually adding the output from the graph above so that it will preview in GitHub correctly."
   ]
  },
  {
   "cell_type": "code",
   "execution_count": 26,
   "metadata": {
    "collapsed": true
   },
   "outputs": [],
   "source": [
    "from IPython.display import Image"
   ]
  },
  {
   "cell_type": "markdown",
   "metadata": {},
   "source": [
    "![title](./avgPercentUtil.png)"
   ]
  }
 ],
 "metadata": {
  "kernelspec": {
   "display_name": "Python 2",
   "language": "python",
   "name": "python2"
  },
  "language_info": {
   "codemirror_mode": {
    "name": "ipython",
    "version": 2
   },
   "file_extension": ".py",
   "mimetype": "text/x-python",
   "name": "python",
   "nbconvert_exporter": "python",
   "pygments_lexer": "ipython2",
   "version": "2.7.13"
  }
 },
 "nbformat": 4,
 "nbformat_minor": 2
}
