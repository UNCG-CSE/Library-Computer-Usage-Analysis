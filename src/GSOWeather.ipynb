{
 "cells": [
  {
   "cell_type": "markdown",
   "metadata": {},
   "source": [
    "Weather Data"
   ]
  },
  {
   "cell_type": "code",
   "execution_count": null,
   "metadata": {
    "collapsed": true
   },
   "outputs": [],
   "source": [
    "import numpy as np\n",
    "import pandas as pd"
   ]
  },
  {
   "cell_type": "code",
   "execution_count": null,
   "metadata": {
    "collapsed": true
   },
   "outputs": [],
   "source": [
    "#Defining variables. hourlyColumns may be altered later, but this is what we are using for now"
   ]
  },
  {
   "cell_type": "code",
   "execution_count": null,
   "metadata": {
    "collapsed": true
   },
   "outputs": [],
   "source": [
    "hourlyColumns = ['DATE',\n",
    "'REPORTTPYE',\n",
    "'HOURLYSKYCONDITIONS',\n",
    "'HOURLYVISIBILITY',\n",
    "'HOURLYPRSENTWEATHERTYPE',\n",
    "'HOURLYWETBULBTEMPF',\n",
    "'HOURLYDRYBULBTEMPF',\n",
    "'HOURLYDewPointTempF',\n",
    "'HOURLYRelativeHumidity',\n",
    "'HOURLYWindSpeed',\n",
    "'HOURLYWindDirection',\n",
    "'HOURLYWindGustSpeed',\n",
    "'HOURLYStationPressure',\n",
    "'HOURLYPressureTendency',\n",
    "'HOURLYPressureChange',\n",
    "'HOURLYSeaLevelPressure',\n",
    "'HOURLYPrecip',\n",
    "'HOURLYAltimeterSetting']"
   ]
  },
  {
   "cell_type": "code",
   "execution_count": null,
   "metadata": {
    "collapsed": true
   },
   "outputs": [],
   "source": [
    "#Defining functions - all together so we can see them and know what we have to work with\n",
    "# without scrolling through entire program"
   ]
  },
  {
   "cell_type": "code",
   "execution_count": null,
   "metadata": {
    "collapsed": true
   },
   "outputs": [],
   "source": [
    "def getAllWeatherData():\n",
    "    return pd.read_csv(r'../data/1052640.csv',low_memory=False)"
   ]
  },
  {
   "cell_type": "code",
   "execution_count": null,
   "metadata": {
    "collapsed": true
   },
   "outputs": [],
   "source": [
    "def getHourlyWeatherData():\n",

    "    return pd.read_csv(r'../data/1052640.csv',usecols = hourlyColumns, low_memory = False)\n"

   ]
  },
  {
   "cell_type": "code",
   "execution_count": null,
   "metadata": {
    "collapsed": true
   },
   "outputs": [],
   "source": [
    "def displayWeatherData(array):\n",
    "    print array.columns.values\n"

   ]
  },
  {
   "cell_type": "code",
   "execution_count": null,
   "metadata": {
    "collapsed": true
   },
   "outputs": [],
   "source": [
    "#delaring variables from the functions - don't need to know exactly what is in them to use them\n",
    "gsoDataAll = getAllWeatherData()\n",
    "gsoDataHours = getHourlyWeatherData()"
   ]
  },
  {
   "cell_type": "code",
   "execution_count": null,
   "metadata": {},
   "outputs": [],
   "source": [
    "#How to use the display method\n",
    "displayWeatherData(gsoDataAll)\n",
    "displayWeatherData(gsoDataHours)"
   ]
  },
  {
   "cell_type": "markdown",
   "metadata": {},
   "source": [
    "This is just a smaller subset of the columns. Daily and Monthly rollups were ignored. Fahrenheit temps used instead of Celcius."
   ]
  },
  {
   "cell_type": "code",
   "execution_count": null,
   "metadata": {
    "collapsed": true
   },
   "outputs": [],
   "source": [

    "\n",
    "gsoData = getHourlyWeatherData()"
   ]
  },
  {
   "cell_type": "markdown",
   "metadata": {},
   "source": [
    "Verifying the columns."
   ]
  },
  {
   "cell_type": "code",
   "execution_count": null,
   "metadata": {},
   "outputs": [],
   "source": [
    "\n",
    "gsoData.info()"
   ]
  },
  {
   "cell_type": "markdown",
   "metadata": {},
   "source": [
    "The spelling here is frustrating."
   ]
  },
  {
   "cell_type": "code",
   "execution_count": null,
   "metadata": {
    "collapsed": true,
    "scrolled": false
   },
   "outputs": [],
   "source": [
    "\n",
    "gsoData.rename(columns = {'REPORTTPYE':'REPORTTYPE'}, inplace=True)"
   ]
  },
  {
   "cell_type": "markdown",
   "metadata": {},
   "source": [
    "These seem to be start of day values:"
   ]
  },
  {
   "cell_type": "code",
   "execution_count": null,
   "metadata": {},
   "outputs": [],
   "source": [

    "\n",
    "gsoData[gsoData.REPORTTYPE == 'SOD']\n",
    "    "
   ]
  },
  {
   "cell_type": "markdown",
   "metadata": {},
   "source": [
    "Dropping **S**tart **O**f **D**ay"
   ]
  },
  {
   "cell_type": "code",
   "execution_count": null,
   "metadata": {
    "collapsed": true
   },
   "outputs": [],
   "source": [
    "gsoDataHourly = gsoData[gsoData.REPORTTYPE != 'SOD']"
   ]
  },
  {
   "cell_type": "code",
   "execution_count": null,
   "metadata": {},
   "outputs": [],
   "source": [
    "gsoDataHourly.REPORTTYPE.unique()"
   ]
  },
  {
   "cell_type": "code",
   "execution_count": null,
   "metadata": {
    "collapsed": true
   },
   "outputs": [],
   "source": [
    "gsoDataHourly.set_index(gsoDataHourly['DATE'].apply(pd.to_datetime),inplace=True)"
   ]
  },
  {
   "cell_type": "code",
   "execution_count": null,
   "metadata": {
    "collapsed": true
   },
   "outputs": [],
   "source": [
    "gsoDataHourly = gsoDataHourly.drop('DATE',axis=1)"
   ]
  },
  {
   "cell_type": "code",
   "execution_count": null,
   "metadata": {},
   "outputs": [],
   "source": [
    "gsoDataHourly.info()"
   ]
  },
  {
   "cell_type": "markdown",
   "metadata": {},
   "source": [
    "### Issues with invalid data in a float column:\n",
    "Here's some testing for invalid information in the `HOURLYDRYBULBTEMPF` to see how it behaves. First, let's look at `HOURLYDRYBULBTEMPF`."
   ]
  },
  {
   "cell_type": "code",
   "execution_count": 57,
   "metadata": {
    "scrolled": true
   },
   "outputs": [
    {
     "data": {
      "text/plain": [
       "DATE\n",
       "2017-01-01 00:54:00    44\n",
       "2017-01-01 01:54:00    44\n",
       "2017-01-01 02:54:00    44\n",
       "2017-01-01 03:54:00    45\n",
       "2017-01-01 04:54:00    41\n",
       "2017-01-01 05:54:00    41\n",
       "2017-01-01 06:52:00    41\n",
       "2017-01-01 06:54:00    41\n",
       "2017-01-01 07:13:00    41\n",
       "2017-01-01 07:52:00    41\n",
       "2017-01-01 07:54:00    41\n",
       "2017-01-01 08:54:00    42\n",
       "2017-01-01 09:54:00    44\n",
       "2017-01-01 10:34:00    45\n",
       "2017-01-01 10:54:00    46\n",
       "2017-01-01 11:54:00    48\n",
       "2017-01-01 12:35:00    48\n",
       "2017-01-01 12:54:00    49\n",
       "2017-01-01 13:31:00    48\n",
       "2017-01-01 13:34:00    48\n",
       "2017-01-01 13:54:00    48\n",
       "2017-01-01 13:58:00    48\n",
       "2017-01-01 14:23:00    47\n",
       "2017-01-01 14:52:00    48\n",
       "2017-01-01 14:54:00    48\n",
       "2017-01-01 15:04:00    48\n",
       "2017-01-01 15:45:00    48\n",
       "2017-01-01 15:54:00    48\n",
       "2017-01-01 16:35:00    48\n",
       "2017-01-01 16:54:00    48\n",
       "                       ..\n",
       "2017-08-21 23:54:00    73\n",
       "2017-08-22 00:54:00    72\n",
       "2017-08-22 01:00:00    72\n",
       "2017-08-22 01:54:00    71\n",
       "2017-08-22 02:54:00    72\n",
       "2017-08-22 03:54:00    70\n",
       "2017-08-22 04:00:00    70\n",
       "2017-08-22 04:54:00    69\n",
       "2017-08-22 05:54:00    69\n",
       "2017-08-22 06:54:00    73\n",
       "2017-08-22 07:00:00    73\n",
       "2017-08-22 07:54:00    77\n",
       "2017-08-22 08:54:00    81\n",
       "2017-08-22 09:54:00    85\n",
       "2017-08-22 10:00:00    85\n",
       "2017-08-22 10:54:00    86\n",
       "2017-08-22 11:54:00    89\n",
       "2017-08-22 12:54:00    89\n",
       "2017-08-22 13:00:00    89\n",
       "2017-08-22 13:54:00    90\n",
       "2017-08-22 14:54:00    91\n",
       "2017-08-22 15:54:00    91\n",
       "2017-08-22 16:00:00    91\n",
       "2017-08-22 16:54:00    91\n",
       "2017-08-22 18:54:00    85\n",
       "2017-08-22 19:54:00    83\n",
       "2017-08-22 20:54:00    80\n",
       "2017-08-22 21:54:00    79\n",
       "2017-08-22 22:54:00    78\n",
       "2017-08-22 23:54:00    76\n",
       "Name: HOURLYDRYBULBTEMPF, Length: 8677, dtype: object"
      ]
     },
     "execution_count": 57,
     "metadata": {},
     "output_type": "execute_result"
    }
   ],
   "source": [
    "gsoDataHourly.HOURLYDRYBULBTEMPF"
   ]
  },
  {
   "cell_type": "markdown",
   "metadata": {},
   "source": [
    "It appears that there are 8677 rows, but they're objects. We can convert these to numeric."
   ]
  },
  {
   "cell_type": "code",
   "execution_count": 58,
   "metadata": {},
   "outputs": [
    {
     "ename": "ValueError",
     "evalue": "Unable to parse string \"65s\" at position 0",
     "output_type": "error",
     "traceback": [
      "\u001b[0;31m---------------------------------------------------------------------------\u001b[0m",
      "\u001b[0;31mValueError\u001b[0m                                Traceback (most recent call last)",
      "\u001b[0;32m<ipython-input-58-58b150664d8a>\u001b[0m in \u001b[0;36m<module>\u001b[0;34m()\u001b[0m\n\u001b[0;32m----> 1\u001b[0;31m \u001b[0mgsoDataHourly\u001b[0m\u001b[0;34m.\u001b[0m\u001b[0mHOURLYDRYBULBTEMPF\u001b[0m\u001b[0;34m.\u001b[0m\u001b[0mapply\u001b[0m\u001b[0;34m(\u001b[0m\u001b[0mpd\u001b[0m\u001b[0;34m.\u001b[0m\u001b[0mto_numeric\u001b[0m\u001b[0;34m)\u001b[0m \u001b[0;31m#gives an error, as some of them are not numbers.\u001b[0m\u001b[0;34m\u001b[0m\u001b[0m\n\u001b[0m",
      "\u001b[0;32m/Users/brown/Envs/CSC693/lib/python2.7/site-packages/pandas/core/series.pyc\u001b[0m in \u001b[0;36mapply\u001b[0;34m(self, func, convert_dtype, args, **kwds)\u001b[0m\n\u001b[1;32m   2353\u001b[0m             \u001b[0;32melse\u001b[0m\u001b[0;34m:\u001b[0m\u001b[0;34m\u001b[0m\u001b[0m\n\u001b[1;32m   2354\u001b[0m                 \u001b[0mvalues\u001b[0m \u001b[0;34m=\u001b[0m \u001b[0mself\u001b[0m\u001b[0;34m.\u001b[0m\u001b[0masobject\u001b[0m\u001b[0;34m\u001b[0m\u001b[0m\n\u001b[0;32m-> 2355\u001b[0;31m                 \u001b[0mmapped\u001b[0m \u001b[0;34m=\u001b[0m \u001b[0mlib\u001b[0m\u001b[0;34m.\u001b[0m\u001b[0mmap_infer\u001b[0m\u001b[0;34m(\u001b[0m\u001b[0mvalues\u001b[0m\u001b[0;34m,\u001b[0m \u001b[0mf\u001b[0m\u001b[0;34m,\u001b[0m \u001b[0mconvert\u001b[0m\u001b[0;34m=\u001b[0m\u001b[0mconvert_dtype\u001b[0m\u001b[0;34m)\u001b[0m\u001b[0;34m\u001b[0m\u001b[0m\n\u001b[0m\u001b[1;32m   2356\u001b[0m \u001b[0;34m\u001b[0m\u001b[0m\n\u001b[1;32m   2357\u001b[0m         \u001b[0;32mif\u001b[0m \u001b[0mlen\u001b[0m\u001b[0;34m(\u001b[0m\u001b[0mmapped\u001b[0m\u001b[0;34m)\u001b[0m \u001b[0;32mand\u001b[0m \u001b[0misinstance\u001b[0m\u001b[0;34m(\u001b[0m\u001b[0mmapped\u001b[0m\u001b[0;34m[\u001b[0m\u001b[0;36m0\u001b[0m\u001b[0;34m]\u001b[0m\u001b[0;34m,\u001b[0m \u001b[0mSeries\u001b[0m\u001b[0;34m)\u001b[0m\u001b[0;34m:\u001b[0m\u001b[0;34m\u001b[0m\u001b[0m\n",
      "\u001b[0;32mpandas/_libs/src/inference.pyx\u001b[0m in \u001b[0;36mpandas._libs.lib.map_infer (pandas/_libs/lib.c:66645)\u001b[0;34m()\u001b[0m\n",
      "\u001b[0;32m/Users/brown/Envs/CSC693/lib/python2.7/site-packages/pandas/core/tools/numeric.pyc\u001b[0m in \u001b[0;36mto_numeric\u001b[0;34m(arg, errors, downcast)\u001b[0m\n\u001b[1;32m    124\u001b[0m             \u001b[0mcoerce_numeric\u001b[0m \u001b[0;34m=\u001b[0m \u001b[0mFalse\u001b[0m \u001b[0;32mif\u001b[0m \u001b[0merrors\u001b[0m \u001b[0;32min\u001b[0m \u001b[0;34m(\u001b[0m\u001b[0;34m'ignore'\u001b[0m\u001b[0;34m,\u001b[0m \u001b[0;34m'raise'\u001b[0m\u001b[0;34m)\u001b[0m \u001b[0;32melse\u001b[0m \u001b[0mTrue\u001b[0m\u001b[0;34m\u001b[0m\u001b[0m\n\u001b[1;32m    125\u001b[0m             values = lib.maybe_convert_numeric(values, set(),\n\u001b[0;32m--> 126\u001b[0;31m                                                coerce_numeric=coerce_numeric)\n\u001b[0m\u001b[1;32m    127\u001b[0m \u001b[0;34m\u001b[0m\u001b[0m\n\u001b[1;32m    128\u001b[0m     \u001b[0;32mexcept\u001b[0m \u001b[0mException\u001b[0m\u001b[0;34m:\u001b[0m\u001b[0;34m\u001b[0m\u001b[0m\n",
      "\u001b[0;32mpandas/_libs/src/inference.pyx\u001b[0m in \u001b[0;36mpandas._libs.lib.maybe_convert_numeric (pandas/_libs/lib.c:56638)\u001b[0;34m()\u001b[0m\n",
      "\u001b[0;31mValueError\u001b[0m: Unable to parse string \"65s\" at position 0"
     ]
    }
   ],
   "source": [
    "gsoDataHourly.HOURLYDRYBULBTEMPF.apply(pd.to_numeric) #gives an error, as some of them are not numbers."
   ]
  },
  {
   "cell_type": "markdown",
   "metadata": {},
   "source": [
    "Using `apply(pd.to_numeric,errors='coerce')` converts the non-numeric data to NaN."
   ]
  },
  {
   "cell_type": "code",
   "execution_count": 59,
   "metadata": {},
   "outputs": [],
   "source": [
    "dryBulbAsFloat = gsoDataHourly.HOURLYDRYBULBTEMPF.apply(pd.to_numeric,errors='coerce')"
   ]
  },
  {
   "cell_type": "markdown",
   "metadata": {},
   "source": [
    "These are the values that are np.NaN."
   ]
  },
  {
   "cell_type": "code",
   "execution_count": 60,
   "metadata": {},
   "outputs": [
    {
     "data": {
      "text/plain": [
       "DATE\n",
       "2017-05-19 15:37:00   NaN\n",
       "2017-05-19 15:54:00   NaN\n",
       "2017-05-19 16:00:00   NaN\n",
       "2017-05-19 16:30:00   NaN\n",
       "2017-07-23 17:01:00   NaN\n",
       "2017-07-23 17:45:00   NaN\n",
       "2017-07-23 17:54:00   NaN\n",
       "Name: HOURLYDRYBULBTEMPF, dtype: float64"
      ]
     },
     "execution_count": 60,
     "metadata": {},
     "output_type": "execute_result"
    }
   ],
   "source": [
    "dryBulbAsFloat[dryBulbAsFloat.isnull()]"
   ]
  },
  {
   "cell_type": "markdown",
   "metadata": {},
   "source": [
    "Using the list above as a boolean mask on the `gsoDataHourly` DataFrame, we can see which values have been converted:"
   ]
  },
  {
   "cell_type": "code",
   "execution_count": 61,
   "metadata": {},
   "outputs": [
    {
     "data": {
      "text/plain": [
       "DATE\n",
       "2017-05-19 15:37:00    65s\n",
       "2017-05-19 15:54:00    66s\n",
       "2017-05-19 16:00:00    66s\n",
       "2017-05-19 16:30:00    66s\n",
       "2017-07-23 17:01:00    71s\n",
       "2017-07-23 17:45:00    71s\n",
       "2017-07-23 17:54:00    71s\n",
       "Name: HOURLYDRYBULBTEMPF, dtype: object"
      ]
     },
     "execution_count": 61,
     "metadata": {},
     "output_type": "execute_result"
    }
   ],
   "source": [
    "gsoDataHourly.HOURLYDRYBULBTEMPF[dryBulbAsFloat.isnull()]"
   ]
  },
  {
   "cell_type": "markdown",
   "metadata": {},
   "source": [
    "It appears that all of the invalid data in this chart is on two days. Looking at a range on 5/19/17 that encapsulates all of the data for that day for a more complete picture:"
   ]
  },
  {
   "cell_type": "code",
   "execution_count": 62,
   "metadata": {},
   "outputs": [
    {
     "data": {
      "text/plain": [
       "DATE\n",
       "2017-05-19 15:23:00     73\n",
       "2017-05-19 15:37:00    65s\n",
       "2017-05-19 15:54:00    66s\n",
       "2017-05-19 16:00:00    66s\n",
       "2017-05-19 16:30:00    66s\n",
       "2017-05-19 16:54:00     68\n",
       "Name: HOURLYDRYBULBTEMPF, dtype: object"
      ]
     },
     "execution_count": 62,
     "metadata": {},
     "output_type": "execute_result"
    }
   ],
   "source": [
    "gsoDataHourly[(gsoDataHourly.index > pd.to_datetime(\"2017-05-19 15:00:00\")) &\\\n",
    "              (gsoDataHourly.index < pd.to_datetime(\"2017-05-19 17:00:00\"))].loc[:,'HOURLYDRYBULBTEMPF']"
   ]
  },
  {
   "cell_type": "markdown",
   "metadata": {},
   "source": [
    "In this case the four values with an 's' in them would be converted to 'NaN'. Using `.ffill()` afterward would convert them to 73. If the temperatures are basically only the real part of the number, then we're talking about a 7 or 8 degree swing."
   ]
  },
  {
   "cell_type": "markdown",
   "metadata": {},
   "source": [
    "Doing the same for 7/23/17:"
   ]
  },
  {
   "cell_type": "code",
   "execution_count": 63,
   "metadata": {},
   "outputs": [
    {
     "data": {
      "text/plain": [
       "DATE\n",
       "2017-07-23 16:30:00     74\n",
       "2017-07-23 16:43:00     73\n",
       "2017-07-23 16:48:00     72\n",
       "2017-07-23 16:54:00     72\n",
       "2017-07-23 17:01:00    71s\n",
       "2017-07-23 17:45:00    71s\n",
       "2017-07-23 17:54:00    71s\n",
       "2017-07-23 18:54:00     73\n",
       "Name: HOURLYDRYBULBTEMPF, dtype: object"
      ]
     },
     "execution_count": 63,
     "metadata": {},
     "output_type": "execute_result"
    }
   ],
   "source": [
    "gsoDataHourly[(gsoDataHourly.index > pd.to_datetime(\"2017-07-23 16:00:00\")) &\\\n",
    "              (gsoDataHourly.index < pd.to_datetime(\"2017-07-23 19:00:00\"))].loc[:,'HOURLYDRYBULBTEMPF']"
   ]
  },
  {
   "cell_type": "markdown",
   "metadata": {},
   "source": [
    "Here, `.ffill()` would be perhaps less worrisome. Converting a 71s to a 72 would be less damaging to the data, but it's still changing data none the less."
   ]
  },
  {
   "cell_type": "markdown",
   "metadata": {},
   "source": [
    "ehhh... just for the heck of it..."
   ]
  },
  {
   "cell_type": "code",
   "execution_count": null,
   "metadata": {
    "collapsed": true
   },
   "outputs": [],
   "source": [
    "import matplotlib.pyplot as plt\n",
    "%matplotlib inline"
   ]
  },
  {
   "cell_type": "code",
   "execution_count": null,
   "metadata": {},
   "outputs": [],
   "source": [
    "dateTime = gsoDataHourly.index.values\n",
    "tempWetBulbInF = gsoDataHourly.loc[:,'HOURLYWETBULBTEMPF'].values\n",
    "tempDryBulbInF = pd.to_numeric(gsoDataHourly.loc[:,'HOURLYDRYBULBTEMPF'].values,errors='coerce')\n",
    "\n",
    "\n",
    "\n",
    "temp_chart = plt.figure(figsize=(16,8))\n",
    "temp1 = plt.plot(dateTime, tempWetBulbInF, label= 'Wet Bulb (F)')\n",
    "temp2 = plt.plot(dateTime, tempDryBulbInF, label= 'Dry Bulb (F)')\n",
    "\n",
    "plt.title('HourlyBulbTemp in degrees F')\n",
    "\n",
    "plt.ylabel('Temp')\n",
    "plt.xlabel('time')\n",
    "plt.legend(loc=0);"
   ]
  }
 ],
 "metadata": {
  "kernelspec": {
   "display_name": "Python 2",
   "language": "python",
   "name": "python2"
  },
  "language_info": {
   "codemirror_mode": {
    "name": "ipython",
    "version": 2
   },
   "file_extension": ".py",
   "mimetype": "text/x-python",
   "name": "python",
   "nbconvert_exporter": "python",
   "pygments_lexer": "ipython2",
   "version": "2.7.13"
  }
 },
 "nbformat": 4,
 "nbformat_minor": 2
}
