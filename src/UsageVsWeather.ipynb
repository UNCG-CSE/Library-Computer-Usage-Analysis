{
 "cells": [
  {
   "cell_type": "code",
   "execution_count": null,
   "metadata": {
    "collapsed": false
   },
   "outputs": [],
   "source": [
    "import numpy as np\n",
    "import pandas as pd\n",
    "import matplotlib.pyplot as plt\n",
    "import LibDataImport\n",
    "import weather"
   ]
  },
  {
   "cell_type": "code",
   "execution_count": null,
   "metadata": {
    "collapsed": false
   },
   "outputs": [],
   "source": [
    "# Load utilization summary data into a DataFrame, one column per computer.\n",
    "machineStates = pd.read_csv(r'../data/SPR2017.csv')\n",
    "machineStates['datestamp'] = machineStates['datestamp'].apply(pd.to_datetime)\n",
    "utilization = LibDataImport.machineStatesToPercentUtilization(machineStates)"
   ]
  },
  {
   "cell_type": "code",
   "execution_count": null,
   "metadata": {
    "collapsed": false
   },
   "outputs": [],
   "source": [
    "utilization.info()"
   ]
  },
  {
   "cell_type": "code",
   "execution_count": null,
   "metadata": {
    "collapsed": false
   },
   "outputs": [],
   "source": [
    "# Make this notebook useful for something.\n",
    "%matplotlib inline"
   ]
  },
  {
   "cell_type": "code",
   "execution_count": null,
   "metadata": {
    "collapsed": false
   },
   "outputs": [],
   "source": [
    "# Resample the utilization data to daily and monthly periods for cases where we don't care about intra-day trends.\n",
    "daily = utilization.resample('D').mean()\n",
    "monthly = utilization.resample('M').mean()\n",
    "hourlyAggregate = utilization.apply('mean', axis=1)\n",
    "dailyAggregate = daily.apply('mean', axis=1)\n",
    "monthlyAggregate = monthly.apply('mean', axis=1)\n",
    "\n",
    "# There seems to be a pretty clear weekly trend here, though...\n",
    "dailyAggregate.plot()"
   ]
  },
  {
   "cell_type": "code",
   "execution_count": null,
   "metadata": {
    "collapsed": false
   },
   "outputs": [],
   "source": [
    "# Pull in weather data.\n",
    "gsoWeather = weather.parseWeatherData('../data/1052640.csv')\n",
    "gsoWeather.index"
   ]
  },
  {
   "cell_type": "code",
   "execution_count": null,
   "metadata": {
    "collapsed": false
   },
   "outputs": [],
   "source": [
    "# Our library data only contains records from 2017-01-01 thru 2017-05-31.\n",
    "# Trim the weather data down to the same date range.\n",
    "gsoWeather = gsoWeather[gsoWeather.index <= '2017-05-31']\n",
    "gsoWeather.index"
   ]
  },
  {
   "cell_type": "code",
   "execution_count": null,
   "metadata": {
    "collapsed": false
   },
   "outputs": [],
   "source": [
    "# Now, we really only need some of these columns.\n",
    "gsoHourlyWeather = weather.hourlyWeatherOnly(gsoWeather)\n",
    "\n",
    "# Initially, let's just focus on temperature, wind-speed, and precipitation.\n",
    "columnsOfInterest = [ 'HOURLYWETBULBTEMPF'\n",
    "                    , 'HOURLYDRYBULBTEMPF'\n",
    "                    , 'HOURLYWindSpeed'\n",
    "                    , 'HOURLYWindGustSpeed'\n",
    "                    , 'HOURLYPrecip' ]\n",
    "gsoWeatherCore = gsoHourlyWeather[columnsOfInterest]\n",
    "\n",
    "# Clean up incorrect values.\n",
    "gsoWeatherCore = gsoWeatherCore.replace(to_replace='[^0-9.-]', value='', regex=True)\n",
    "gsoWeatherCore = gsoWeatherCore.replace(to_replace='', value='0').apply(np.float64)"
   ]
  },
  {
   "cell_type": "code",
   "execution_count": null,
   "metadata": {
    "collapsed": false
   },
   "outputs": [],
   "source": [
    "# Now if we resample this to daily or monthly aggregate values, some columns\n",
    "# need to have their values averaged, and others need to be summed.\n",
    "\n",
    "def aggregateMatrix(df, period=None):\n",
    "    needAverage = df[columnsOfInterest[:-1]]\n",
    "    needSum = df['HOURLYPrecip']\n",
    "    if period!=None:\n",
    "        needAverage = needAverage.resample(period)\n",
    "        needSum = needSum.resample(period)\n",
    "    periodAverage = needAverage.mean()\n",
    "    periodSum = needSum.sum()\n",
    "    return periodAverage.join(periodSum, how='inner')\n",
    "\n",
    "# Now re-join these...\n",
    "dailyWeather = aggregateMatrix(gsoWeatherCore, 'D')\n",
    "monthlyWeather = aggregateMatrix(gsoWeatherCore, 'M')\n",
    "\n",
    "# And finally join with library data.  This gives us individual computer usage, as well as a subset of\n",
    "# the weather data, in hourly, daily, and monthly periods.\n",
    "matrixHourly = pd.DataFrame(hourlyAggregate, columns=['Utilization(%)']).join(gsoWeatherCore, how='inner')\n",
    "matrixDaily = pd.DataFrame(dailyAggregate, columns=['Utilization(%)']).join(dailyWeather, how='inner')\n",
    "matrixMonthly = pd.DataFrame(monthlyAggregate, columns=['Utilization(%)']).join(monthlyWeather, how='inner')"
   ]
  },
  {
   "cell_type": "code",
   "execution_count": null,
   "metadata": {
    "collapsed": false
   },
   "outputs": [],
   "source": [
    "# It might be interesting to look at this data by each day of the week, too.\n",
    "daysOfWeek = [ 'Monday'\n",
    "             , 'Tuesday'\n",
    "             , 'Wednesday'\n",
    "             , 'Thursday'\n",
    "             , 'Friday'\n",
    "             , 'Saturday'\n",
    "             , 'Sunday' ]\n",
    "\n",
    "matrixDaily['Day of week'] = [daysOfWeek[d] for d in matrixDaily.index.dayofweek]"
   ]
  },
  {
   "cell_type": "code",
   "execution_count": null,
   "metadata": {
    "collapsed": false
   },
   "outputs": [],
   "source": [
    "# Summary by day of week...\n",
    "matrixDaily.groupby(by='Day of week').mean()"
   ]
  },
  {
   "cell_type": "code",
   "execution_count": null,
   "metadata": {
    "collapsed": false
   },
   "outputs": [],
   "source": [
    "# There is a weak positive correlation between the temperature and aggregate computer usage.\n",
    "matrixHourly[['Utilization(%)','HOURLYDRYBULBTEMPF']].corr()"
   ]
  },
  {
   "cell_type": "code",
   "execution_count": null,
   "metadata": {
    "collapsed": false
   },
   "outputs": [],
   "source": [
    "from pandas.plotting import scatter_matrix\n",
    "\n",
    "# It seems that there is a pretty clear upper bound on usage that scales linearly with outside temperature.\n",
    "scatter_matrix(matrixHourly[['Utilization(%)','HOURLYDRYBULBTEMPF']], alpha=0.4, figsize=(16,16), diagonal='kde')"
   ]
  },
  {
   "cell_type": "code",
   "execution_count": null,
   "metadata": {
    "collapsed": false
   },
   "outputs": [],
   "source": [
    "# However it seems that temperature has little impact on the amount of use any given computer receives.\n",
    "\n",
    "merged = gsoWeatherCore[['HOURLYDRYBULBTEMPF']].join(utilization, how='inner')\n",
    "merged.info()\n",
    "\n",
    "# Remove RRK001 because it seems to always be on, which is unlikely to be due to student use.\n",
    "computerUsage = merged.drop(['HOURLYDRYBULBTEMPF', 'RRK001'], axis=1)\n",
    "temps = merged['HOURLYDRYBULBTEMPF']\n",
    "\n",
    "fig = plt.figure(figsize=(16,16))\n",
    "temps = np.hstack([temps] * len(computerUsage.columns))\n",
    "usage = np.hstack([x.values for (_,x) in computerUsage.iteritems()])\n",
    "hb = plt.hexbin(usage, temps, bins='log')\n",
    "cb = fig.colorbar(hb)\n",
    "cb.set_label('log(N)')"
   ]
  }
 ],
 "metadata": {
  "kernelspec": {
   "display_name": "Python 2",
   "language": "python",
   "name": "python2"
  },
  "language_info": {
   "codemirror_mode": {
    "name": "ipython",
    "version": 2
   },
   "file_extension": ".py",
   "mimetype": "text/x-python",
   "name": "python",
   "nbconvert_exporter": "python",
   "pygments_lexer": "ipython2",
   "version": "2.7.13"
  }
 },
 "nbformat": 4,
 "nbformat_minor": 2
}
