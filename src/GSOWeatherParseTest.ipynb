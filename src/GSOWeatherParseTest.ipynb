{
 "cells": [
  {
   "cell_type": "markdown",
   "metadata": {},
   "source": [
    "# GSOWeatherParseTest\n",
    "\n",
    "## Objectives:\n",
    "### Test the Metar package\n",
    "### Decode the Metar codes\n",
    "#### Have csv file completely decoded for REPORTTYPE, HOURLYSKYCONDITIONS, and HOURLYPRESENTWEATHERTTYPE\n"
   ]
  },
  {
   "cell_type": "code",
   "execution_count": null,
   "metadata": {
    "collapsed": true
   },
   "outputs": [],
   "source": [
    "import numpy as np\n",
    "import pandas as pd\n",
    "import re\n",
    "from metar import Metar"
   ]
  },
  {
   "cell_type": "code",
   "execution_count": null,
   "metadata": {},
   "outputs": [],
   "source": [
    "####THIS IS A TEST SAMPLE LOOKING AT WHAT PYTHON_METAR CAN DO####\n",
    "\n",
    "# A sample METAR report\n",
    "code = \"METAR KEWR 111851Z VRB03G19KT 2SM R04R/3000VP6000FT TSRA BR FEW015 BKN040CB BKN065 OVC200 22/22 A2987 RMK AO2 PK WND 29028/1817 WSHFT 1812 TSB05RAB22 SLP114 FRQ LTGICCCCG TS OHD AND NW-N-E MOV NE P0013 T02270215\"\n",
    "\n",
    "print(\"-----------------------------------------------------------------------\")\n",
    "print(\"METAR: \",code)\n",
    "print(\"-----------------------------------------------------------------------\")\n",
    "\n",
    "# Initialize a Metar object with the coded report\n",
    "obs = Metar.Metar(code)\n",
    "\n",
    "# Print the individual data\n",
    "\n",
    "# The 'station_id' attribute is a string.\n",
    "print(\"station: %s\" % obs.station_id)\n",
    "\n",
    "if obs.type:\n",
    "  print(\"type: %s\" % obs.report_type())\n",
    "\n",
    "# The 'time' attribute is a datetime object\n",
    "if obs.time:\n",
    "  print(\"time: %s\" % obs.time.ctime())\n",
    "\n",
    "# The 'temp' and 'dewpt' attributes are temperature objects\n",
    "if obs.temp:\n",
    "  print(\"temperature: %s\" % obs.temp.string(\"C\"))\n",
    "\n",
    "if obs.dewpt:\n",
    "  print(\"dew point: %s\" % obs.dewpt.string(\"C\"))\n",
    "\n",
    "# The wind() method returns a string describing wind observations\n",
    "# which may include speed, direction, variability and gusts.\n",
    "if obs.wind_speed:\n",
    "  print(\"wind: %s\" % obs.wind())\n",
    "\n",
    "# The peak_wind() method returns a string describing the peak wind \n",
    "# speed and direction.\n",
    "if obs.wind_speed_peak:\n",
    "  print(\"wind: %s\" % obs.peak_wind())\n",
    "\n",
    "# The visibility() method summarizes the visibility observation.\n",
    "if obs.vis:\n",
    "  print(\"visibility: %s\" % obs.visibility())\n",
    "\n",
    "# The runway_visual_range() method summarizes the runway visibility\n",
    "# observations.\n",
    "if obs.runway:\n",
    "  print(\"visual range: %s\" % obs.runway_visual_range())\n",
    "\n",
    "# The 'press' attribute is a pressure object.\n",
    "if obs.press:\n",
    "  print(\"pressure: %s\" % obs.press.string(\"mb\"))\n",
    "\n",
    "# The 'precip_1hr' attribute is a precipitation object.\n",
    "if obs.precip_1hr:\n",
    "  print(\"precipitation: %s\" % obs.precip_1hr.string(\"in\"))\n",
    "\n",
    "# The present_weather() method summarizes the weather description (rain, etc.)\n",
    "print(\"weather: %s\" % obs.present_weather())\n",
    "\n",
    "# The sky_conditions() method summarizes the cloud-cover observations.\n",
    "print(\"sky: %s\" % obs.sky_conditions(\"\\n     \"))\n",
    "\n",
    "# The remarks() method describes the remark groups that were parsed, but \n",
    "# are not available directly as Metar attributes.  The precipitation, \n",
    "# min/max temperature and peak wind remarks, for instance, are stored as\n",
    "# attributes and won't be listed here.\n",
    "if obs._remarks:\n",
    "  print(\"remarks:\")\n",
    "  print(\"- \"+obs.remarks(\"\\n- \"))\n",
    "\n",
    "print(\"-----------------------------------------------------------------------\\n\")\n",
    "\n"
   ]
  },
  {
   "cell_type": "code",
   "execution_count": null,
   "metadata": {},
   "outputs": [],
   "source": [
    "df=pd.read_csv(r'../data/1052640.csv')"
   ]
  },
  {
   "cell_type": "code",
   "execution_count": null,
   "metadata": {},
   "outputs": [],
   "source": [
    "top = df.head(5)\n",
    "top"
   ]
  },
  {
   "cell_type": "code",
   "execution_count": null,
   "metadata": {},
   "outputs": [],
   "source": [
    "#df1 = df.loc[0]['HOURLYSKYCONDITIONS']\n",
    "#df1\n",
    "\n",
    "df21 = top.loc[4]['HOURLYPRSENTWEATHERTYPE']\n",
    "df21"
   ]
  },
  {
   "cell_type": "code",
   "execution_count": null,
   "metadata": {},
   "outputs": [],
   "source": [
    "#reformat the object to remove colon, digits{2}, whitespace\n",
    "#df20 = re.sub(r'\\:\\d{2}\\s', '', df1)\n",
    "#df20\n",
    "\n",
    "#reformat the object to remove colon, digits{2}, vertical bar\n",
    "df21 = re.sub(r'\\:\\d{2}\\s\\|', ' ', df21)\n",
    "df21 = re.sub(r'\\s+$', '', df21)\n",
    "df21"
   ]
  },
  {
   "cell_type": "markdown",
   "metadata": {},
   "source": [
    "### Looking into the integers following the weather and sky codes; \n",
    "#### Wether codes are not parsing when integers are included\n",
    "#### Sky codes parse correctly until there is a code followed by more than 4 integers"
   ]
  },
  {
   "cell_type": "code",
   "execution_count": null,
   "metadata": {},
   "outputs": [],
   "source": [
    "df = pd.DataFrame({'weathertype':['-RA RA','MI|PR|BC|DR|BL|SH|TS|FZ','DZ|RA|SN|SG|IC|PL|GR|GS|UP|/'], 'J1': ['BR|FG|FU|VA|DU|SA|HZ|PY','PO|SQ|FC|SS|DS|NSW|/+','3'], 'J2':[1,4,5]})\n",
    "dfing = df.loc[0]['weathertype']\n",
    "#run object in the metar function\n",
    "obs = Metar.Metar(dfing)\n",
    "\n",
    "#print obs.string()\n",
    "obs.present_weather()"
   ]
  },
  {
   "cell_type": "code",
   "execution_count": null,
   "metadata": {
    "collapsed": true
   },
   "outputs": [],
   "source": [
    "def getSkyConditions(x):\n",
    "    obs = Metar.Metar(x)\n",
    "    return obs.sky_conditions()"
   ]
  },
  {
   "cell_type": "code",
   "execution_count": null,
   "metadata": {
    "collapsed": true
   },
   "outputs": [],
   "source": [
    "def getWeatherConditions(x):\n",
    "    obs = Metar.Metar(x)\n",
    "    return obs.present_weather()"
   ]
  },
  {
   "cell_type": "markdown",
   "metadata": {},
   "source": [
    "#### Remove chars : _ and 2 integers following SKYCONDITIONS code; looking at LCD shows these 2 digits signify the SKYCONDITIONS code it follows"
   ]
  },
  {
   "cell_type": "code",
   "execution_count": null,
   "metadata": {},
   "outputs": [],
   "source": [
    "top['HOURLYSKYCONDITIONS'] = top['HOURLYSKYCONDITIONS'].str.replace(r'\\:\\d{2}\\s', '')\n",
    "top"
   ]
  },
  {
   "cell_type": "markdown",
   "metadata": {},
   "source": [
    "#### Translate code"
   ]
  },
  {
   "cell_type": "code",
   "execution_count": null,
   "metadata": {},
   "outputs": [],
   "source": [
    "top['HOURLYSKYCONDITIONS'] = top['HOURLYSKYCONDITIONS'].apply(getSkyConditions)\n",
    "top"
   ]
  },
  {
   "cell_type": "markdown",
   "metadata": {},
   "source": [
    "###### not working yet believe has something to do with NaN values - working on this"
   ]
  },
  {
   "cell_type": "code",
   "execution_count": null,
   "metadata": {
    "collapsed": true
   },
   "outputs": [],
   "source": [
    "#parseColumn = top['HOURLYPRSENTWEATHERTYPE'].str.replace(r'\\:\\d{2}\\s\\|', ' ')\n",
    "#top['HOURLYPRSENTWEATHERTYPE'] = parseColumn.str.replace(r'\\s+$', '')\n",
    "#top\n",
    "#top['HOURLYPRSENTWEATHERTYPE'] = top['HOURLYPRSENTWEATHERTYPE'].apply(getWeatherConditions)\n",
    "#top"
   ]
  },
  {
   "cell_type": "code",
   "execution_count": null,
   "metadata": {},
   "outputs": [],
   "source": [
    "df0 = top.loc[4]['HOURLYPRSENTWEATHERTYPE']\n",
    "df0"
   ]
  },
  {
   "cell_type": "code",
   "execution_count": null,
   "metadata": {
    "collapsed": true
   },
   "outputs": [],
   "source": [
    "#df[(df['REPORTTPYE'] == 'FM-15')]\n",
    "#df.REPORTTPYE.unique()\n",
    "#Make REPORTTYPE just string , this makes it very easy to read and understand now\n",
    "#df.REPORTTYPE.replace(['FM-12', 'FM-15', 'FM-16', 'SY-MT'], ['SYNOP Report FLS', 'METAR Aviation Routine', 'SPECI Aviation SWR', 'Synoptic and METAR MR'], inplace=True)"
   ]
  }
 ],
 "metadata": {
  "kernelspec": {
   "display_name": "Python 2",
   "language": "python",
   "name": "python2"
  },
  "language_info": {
   "codemirror_mode": {
    "name": "ipython",
    "version": 2
   },
   "file_extension": ".py",
   "mimetype": "text/x-python",
   "name": "python",
   "nbconvert_exporter": "python",
   "pygments_lexer": "ipython2",
   "version": "2.7.9"
  }
 },
 "nbformat": 4,
 "nbformat_minor": 2
}
