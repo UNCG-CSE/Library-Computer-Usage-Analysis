{
 "cells": [
  {
   "cell_type": "markdown",
   "metadata": {},
   "source": [
    "# GSOWeatherParseTest\n",
    "\n",
    "## Objectives:\n",
    "### Test the Metar package\n",
    "### Decode the Metar codes\n",
    "#### Have csv file completely decoded for REPORTTYPE, HOURLYSKYCONDITIONS, and HOURLYPRESENTWEATHERTTYPE\n"
   ]
  },
  {
   "cell_type": "code",
   "execution_count": null,
   "metadata": {
    "collapsed": true
   },
   "outputs": [],
   "source": [
    "import numpy as np\n",
    "import pandas as pd\n",
    "import re\n",
    "from metar import Metar"
   ]
  },
  {
   "cell_type": "code",
   "execution_count": null,
   "metadata": {},
   "outputs": [],
   "source": [
    "####THIS IS A TEST SAMPLE LOOKING AT WHAT PYTHON_METAR CAN DO####\n",
    "\n",
    "# A sample METAR report\n",
    "code = \"METAR KEWR 111851Z VRB03G19KT 2SM R04R/3000VP6000FT TSRA BR FEW015 BKN040CB BKN065 OVC200 22/22 A2987 RMK AO2 PK WND 29028/1817 WSHFT 1812 TSB05RAB22 SLP114 FRQ LTGICCCCG TS OHD AND NW-N-E MOV NE P0013 T02270215\"\n",
    "\n",
    "print(\"-----------------------------------------------------------------------\")\n",
    "print(\"METAR: \",code)\n",
    "print(\"-----------------------------------------------------------------------\")\n",
    "\n",
    "# Initialize a Metar object with the coded report\n",
    "obs = Metar.Metar(code)\n",
    "\n",
    "# Print the individual data\n",
    "\n",
    "# The 'station_id' attribute is a string.\n",
    "print(\"station: %s\" % obs.station_id)\n",
    "\n",
    "if obs.type:\n",
    "  print(\"type: %s\" % obs.report_type())\n",
    "\n",
    "# The 'time' attribute is a datetime object\n",
    "if obs.time:\n",
    "  print(\"time: %s\" % obs.time.ctime())\n",
    "\n",
    "# The 'temp' and 'dewpt' attributes are temperature objects\n",
    "if obs.temp:\n",
    "  print(\"temperature: %s\" % obs.temp.string(\"C\"))\n",
    "\n",
    "if obs.dewpt:\n",
    "  print(\"dew point: %s\" % obs.dewpt.string(\"C\"))\n",
    "\n",
    "# The wind() method returns a string describing wind observations\n",
    "# which may include speed, direction, variability and gusts.\n",
    "if obs.wind_speed:\n",
    "  print(\"wind: %s\" % obs.wind())\n",
    "\n",
    "# The peak_wind() method returns a string describing the peak wind \n",
    "# speed and direction.\n",
    "if obs.wind_speed_peak:\n",
    "  print(\"wind: %s\" % obs.peak_wind())\n",
    "\n",
    "# The visibility() method summarizes the visibility observation.\n",
    "if obs.vis:\n",
    "  print(\"visibility: %s\" % obs.visibility())\n",
    "\n",
    "# The runway_visual_range() method summarizes the runway visibility\n",
    "# observations.\n",
    "if obs.runway:\n",
    "  print(\"visual range: %s\" % obs.runway_visual_range())\n",
    "\n",
    "# The 'press' attribute is a pressure object.\n",
    "if obs.press:\n",
    "  print(\"pressure: %s\" % obs.press.string(\"mb\"))\n",
    "\n",
    "# The 'precip_1hr' attribute is a precipitation object.\n",
    "if obs.precip_1hr:\n",
    "  print(\"precipitation: %s\" % obs.precip_1hr.string(\"in\"))\n",
    "\n",
    "# The present_weather() method summarizes the weather description (rain, etc.)\n",
    "print(\"weather: %s\" % obs.present_weather())\n",
    "\n",
    "# The sky_conditions() method summarizes the cloud-cover observations.\n",
    "print(\"sky: %s\" % obs.sky_conditions(\"\\n     \"))\n",
    "\n",
    "# The remarks() method describes the remark groups that were parsed, but \n",
    "# are not available directly as Metar attributes.  The precipitation, \n",
    "# min/max temperature and peak wind remarks, for instance, are stored as\n",
    "# attributes and won't be listed here.\n",
    "if obs._remarks:\n",
    "  print(\"remarks:\")\n",
    "  print(\"- \"+obs.remarks(\"\\n- \"))\n",
    "\n",
    "print(\"-----------------------------------------------------------------------\\n\")\n",
    "\n"
   ]
  },
  {
   "cell_type": "code",
   "execution_count": null,
   "metadata": {},
   "outputs": [],
   "source": [
    "code = \"METAR KEWR 111851Z VRB03G19KT 2SM R04R/3000VP6000FT TSRA BR FEW015 BKN040CB BKN065 OVC200 22/22 A2987 RMK AO2 PK WND 29028/1817 WSHFT 1812 TSB05RAB22 SLP114 FRQ LTGICCCCG TS OHD AND NW-N-E MOV NE P0013 T02270215\"\n",
    "obs = Metar.Metar(code)\n",
    "\n",
    "# The present_weather() method summarizes the weather description (rain, etc.)\n",
    "print(\"weather: %s\" % obs.present_weather())\n",
    "# The sky_conditions() method summarizes the cloud-cover observations.\n",
    "print(\"sky: %s\" % obs.sky_conditions(\"\\n     \"))"
   ]
  },
  {
   "cell_type": "code",
   "execution_count": null,
   "metadata": {
    "collapsed": true
   },
   "outputs": [],
   "source": [
    "df=pd.read_csv(r'../data/1052640.csv')"
   ]
  },
  {
   "cell_type": "code",
   "execution_count": null,
   "metadata": {},
   "outputs": [],
   "source": [
    "df1 = df.loc[0]['HOURLYSKYCONDITIONS']\n",
    "df1"
   ]
  },
  {
   "cell_type": "code",
   "execution_count": null,
   "metadata": {},
   "outputs": [],
   "source": [
    "#reformat the object to remove whitespace and colon\n",
    "df20 = re.sub(r'(\\d)\\s+(\\d)', r'\\1\\2', df1)\n",
    "df20 = re.sub(r'\\:', '', df20)\n",
    "df20"
   ]
  },
  {
   "cell_type": "code",
   "execution_count": null,
   "metadata": {},
   "outputs": [],
   "source": [
    "#run object in the metar function\n",
    "obs = Metar.Metar(df20)\n",
    "print obs.string()"
   ]
  },
  {
   "cell_type": "code",
   "execution_count": null,
   "metadata": {},
   "outputs": [],
   "source": [
    "top = df.head(5)\n",
    "top"
   ]
  },
  {
   "cell_type": "code",
   "execution_count": null,
   "metadata": {},
   "outputs": [],
   "source": [
    "#top['HOURLYSKYCONDITIONS'] = re.sub(r'(\\d)\\s+(\\d)', r'\\1\\2', top['HOURLYSKYCONDITIONS'])\n",
    "#top['HOURLYSKYCONDITIONS'] = re.sub('\\:', '', top['HOURLYSKYCONDITIONS'])\n",
    "#top['HOURLYSKYCONDITIONS'] = top['HOURLYSKYCONDITIONS'].map(lambda x: x.sub(r'(\\d)\\s+(\\d)', r'\\1\\2').sub('\\:', ''))\n",
    "\n",
    "new = top['HOURLYSKYCONDITIONS'].str.replace(r'\\:', '')\n",
    "top['HOURLYSKYCONDITIONS'] = new.str.replace(r'(\\d)\\s+(\\d)', r'\\1\\2')\n",
    "top"
   ]
  },
  {
   "cell_type": "code",
   "execution_count": null,
   "metadata": {
    "collapsed": true
   },
   "outputs": [],
   "source": []
  },
  {
   "cell_type": "code",
   "execution_count": null,
   "metadata": {
    "collapsed": true
   },
   "outputs": [],
   "source": [
    "#df[(df['REPORTTPYE'] == 'FM-15')]\n",
    "#df.REPORTTPYE.unique()"
   ]
  },
  {
   "cell_type": "code",
   "execution_count": null,
   "metadata": {
    "collapsed": true
   },
   "outputs": [],
   "source": [
    "#Make REPORTTYPE just integer, this may help later on during if we have to do normalization and analysis with reporttype\n",
    "#df.REPORTTPYE.replace(['FM-12', 'FM-15', 'FM-16', 'SOD', 'SY-MT'], [12, 15, 16, 1, 2], inplace=True)\n",
    "#df\n",
    "#Make REPORTTYPE just string , this makes it very easy to read and understand now\n",
    "#df.REPORTTPYE.replace(['FM-12', 'FM-15', 'FM-16', 'SOD', 'SY-MT'], ['SYNOP Report FLS', 'METAR Aviation routine', 'SPECI Aviation SWR', 'Summary of day report', 'Synoptic and METAR MR'], inplace=True)\n",
    "#df"
   ]
  }
 ],
 "metadata": {
  "kernelspec": {
   "display_name": "Python 2",
   "language": "python",
   "name": "python2"
  },
  "language_info": {
   "codemirror_mode": {
    "name": "ipython",
    "version": 2
   },
   "file_extension": ".py",
   "mimetype": "text/x-python",
   "name": "python",
   "nbconvert_exporter": "python",
   "pygments_lexer": "ipython2",
   "version": "2.7.9"
  }
 },
 "nbformat": 4,
 "nbformat_minor": 2
}
