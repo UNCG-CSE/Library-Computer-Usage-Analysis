{
 "cells": [
  {
   "cell_type": "markdown",
   "metadata": {},
   "source": [
    "#  This notebook looks at the correlation between windows and computer usage, and between dual monitors and computer usage, for the semester of spring 2016 through fall 2017."
   ]
  },
  {
   "cell_type": "code",
   "execution_count": 2,
   "metadata": {
    "collapsed": true
   },
   "outputs": [],
   "source": [
    "# Imports\n",
    "import cPickle\n",
    "import os.path\n",
    "import pandas as pd\n",
    "from scipy.stats import stats"
   ]
  },
  {
   "cell_type": "code",
   "execution_count": 5,
   "metadata": {},
   "outputs": [],
   "source": [
    "# Load utilization summary data into a dataframe\n",
    "pkl = open(os.path.join('..', 'data', 'LibData.pkl'),'rb')\n",
    "utilization = cPickle.load(pkl)\n",
    "pkl.close()"
   ]
  },
  {
   "cell_type": "markdown",
   "metadata": {
    "collapsed": true
   },
   "source": [
    "### The utilization data is stored as a percentage of any given hour in use. So if an entry lists 0.68, that means the computer was in use for 68% of a given hour. "
   ]
  },
  {
   "cell_type": "code",
   "execution_count": 6,
   "metadata": {
    "collapsed": true
   },
   "outputs": [],
   "source": [
    "# get the divisions of each semester as a series\n",
    "\n",
    "Spr2016 = pd.Timestamp('2016-01-01 00:00:00')\n",
    "Fall2016 = pd.Timestamp('2016-07-01 00:00:00')\n",
    "Spr2017 = pd.Timestamp('2017-01-01 00:00:00')\n",
    "Fall2017 = pd.Timestamp('2017-07-01 00:00:00')\n",
    "Spr2018 = pd.Timestamp('2018-01-01 00:00:00')\n",
    "\n",
    "spring2016 = utilization.truncate(before = Spr2016, after = Fall2016)\n",
    "fall2016 = utilization.truncate(before = Fall2016, after = Spr2017)\n",
    "\n",
    "spring2017 = utilization.truncate(before = Spr2017, after = Fall2017)\n",
    "fall2017 = utilization.truncate(before = Fall2017, after = Spr2018)"
   ]
  },
  {
   "cell_type": "markdown",
   "metadata": {},
   "source": [
    "### We are using the means (averages) of the percentages of computer use, rather than the median, because nighttime hours (all with 0 use) make the median permanently 0, and we cannot run comparisons on that."
   ]
  },
  {
   "cell_type": "code",
   "execution_count": 7,
   "metadata": {},
   "outputs": [
    {
     "data": {
      "text/html": [
       "<div>\n",
       "<style>\n",
       "    .dataframe thead tr:only-child th {\n",
       "        text-align: right;\n",
       "    }\n",
       "\n",
       "    .dataframe thead th {\n",
       "        text-align: left;\n",
       "    }\n",
       "\n",
       "    .dataframe tbody tr th {\n",
       "        vertical-align: top;\n",
       "    }\n",
       "</style>\n",
       "<table border=\"1\" class=\"dataframe\">\n",
       "  <thead>\n",
       "    <tr style=\"text-align: right;\">\n",
       "      <th></th>\n",
       "      <th>f16</th>\n",
       "      <th>f17</th>\n",
       "      <th>s16</th>\n",
       "      <th>s17</th>\n",
       "    </tr>\n",
       "  </thead>\n",
       "  <tbody>\n",
       "    <tr>\n",
       "      <th>BL001</th>\n",
       "      <td>0.359840</td>\n",
       "      <td>0.033467</td>\n",
       "      <td>0.044504</td>\n",
       "      <td>0.043709</td>\n",
       "    </tr>\n",
       "    <tr>\n",
       "      <th>BL002</th>\n",
       "      <td>0.072940</td>\n",
       "      <td>0.043494</td>\n",
       "      <td>0.071121</td>\n",
       "      <td>0.092427</td>\n",
       "    </tr>\n",
       "    <tr>\n",
       "      <th>CITI001</th>\n",
       "      <td>0.117084</td>\n",
       "      <td>0.049552</td>\n",
       "      <td>0.053626</td>\n",
       "      <td>0.051997</td>\n",
       "    </tr>\n",
       "    <tr>\n",
       "      <th>CITI002</th>\n",
       "      <td>0.246369</td>\n",
       "      <td>0.042365</td>\n",
       "      <td>0.065337</td>\n",
       "      <td>0.046405</td>\n",
       "    </tr>\n",
       "    <tr>\n",
       "      <th>CITI003</th>\n",
       "      <td>0.241809</td>\n",
       "      <td>0.039901</td>\n",
       "      <td>0.054258</td>\n",
       "      <td>0.037921</td>\n",
       "    </tr>\n",
       "  </tbody>\n",
       "</table>\n",
       "</div>"
      ],
      "text/plain": [
       "              f16       f17       s16       s17\n",
       "BL001    0.359840  0.033467  0.044504  0.043709\n",
       "BL002    0.072940  0.043494  0.071121  0.092427\n",
       "CITI001  0.117084  0.049552  0.053626  0.051997\n",
       "CITI002  0.246369  0.042365  0.065337  0.046405\n",
       "CITI003  0.241809  0.039901  0.054258  0.037921"
      ]
     },
     "execution_count": 7,
     "metadata": {},
     "output_type": "execute_result"
    }
   ],
   "source": [
    "# Now find the mean of each and put them into a dataframe for easier viewing\n",
    "\n",
    "s16 = spring2016.mean(axis = 0)\n",
    "f16 = fall2016.mean(axis = 0)\n",
    "s17 = spring2017.mean(axis = 0)\n",
    "f17 = fall2017.mean(axis =0)\n",
    "\n",
    "SemesterMeans = pd.DataFrame({'s16': s16, 'f16': f16,\n",
    "                              's17': s17,'f17': f17})\n",
    "\n",
    "SemesterMeans.head()"
   ]
  },
  {
   "cell_type": "markdown",
   "metadata": {},
   "source": [
    "## Null Hypothsis: Computers with >1 monitor have the same average usage percentages as those with 1 or less since Spring 2016. We'll use a 5% confidence to reject (p-value <= |0.05|)\n",
    "\n",
    "* ** We'll run this test on all semesters since spring 2016 since that is when most of the dual monitors seem to have been added. "
   ]
  },
  {
   "cell_type": "code",
   "execution_count": 10,
   "metadata": {},
   "outputs": [],
   "source": [
    "# Get the attributes \n",
    "attributes = pd.read_csv(os.path.join('..', 'data', 'computerAttributes.csv'))\n",
    "attributes.index = attributes['computerName']\n",
    "\n",
    "#Keep only the machines that require a logon\n",
    "machinesOfInterest = [x for x in attributes.index\n",
    "                        if attributes.loc[x]['requiresLogon']== True]\n"
   ]
  },
  {
   "cell_type": "code",
   "execution_count": 11,
   "metadata": {
    "collapsed": true
   },
   "outputs": [],
   "source": [
    "# Assemble usage stats\n",
    "s16Util = SemesterMeans.s16[machinesOfInterest]\n",
    "s17Util = SemesterMeans.s17[machinesOfInterest]\n",
    "f16Util = SemesterMeans.f16[machinesOfInterest]\n",
    "f17Util = SemesterMeans.f17[machinesOfInterest]\n",
    "\n"
   ]
  },
  {
   "cell_type": "code",
   "execution_count": 12,
   "metadata": {
    "collapsed": true
   },
   "outputs": [],
   "source": [
    "# Split into dual monitors and Single monitors\n",
    "spr16DualUsage = s16Util[[x for x in machinesOfInterest\n",
    "                         if attributes.loc[x]['numMonitors']>1]]\n",
    "\n",
    "spr16SingUsage = s16Util[[x for x in machinesOfInterest\n",
    "                         if attributes.loc[x]['numMonitors']==1]]\n",
    "\n",
    "\n",
    "spr17DualUsage = s17Util[[x for x in machinesOfInterest\n",
    "                         if attributes.loc[x]['numMonitors']>1]]\n",
    "spr17SingUsage = s17Util[[x for x in machinesOfInterest\n",
    "                         if attributes.loc[x]['numMonitors']==1]]\n",
    "\n",
    "f16DualUsage = f16Util[[x for x in machinesOfInterest\n",
    "                         if attributes.loc[x]['numMonitors']>1]]\n",
    "f16SingUsage = f16Util[[x for x in machinesOfInterest\n",
    "                         if attributes.loc[x]['numMonitors']==1]]\n",
    "\n",
    "f17DualUsage = f17Util[[x for x in machinesOfInterest\n",
    "                         if attributes.loc[x]['numMonitors']>1]]\n",
    "f17SingUsage = f17Util[[x for x in machinesOfInterest\n",
    "                        if attributes.loc[x]['numMonitors']==1]]"
   ]
  },
  {
   "cell_type": "code",
   "execution_count": 13,
   "metadata": {},
   "outputs": [
    {
     "name": "stdout",
     "output_type": "stream",
     "text": [
      "Spring16: \n",
      "Ttest_indResult(statistic=2.0766947104500439, pvalue=0.038738410483323521)\n",
      "\n",
      " Spring17:\n",
      "Ttest_indResult(statistic=5.0033608030267382, pvalue=9.9473296541892113e-07)\n",
      "\n",
      "Fall16: \n",
      "Ttest_indResult(statistic=2.1022847929803099, pvalue=0.036418087078301423)\n",
      "\n",
      "Fall17: \n",
      "Ttest_indResult(statistic=2.5600373693375338, pvalue=0.010989362194974371)\n"
     ]
    }
   ],
   "source": [
    "s16Results = stats.ttest_ind(spr16DualUsage, spr16SingUsage)\n",
    "s17Results = stats.ttest_ind(spr17DualUsage, spr17SingUsage)\n",
    "f16Results = stats.ttest_ind(f16DualUsage, f16SingUsage)\n",
    "f17Results = stats.ttest_ind(f17DualUsage, f17SingUsage)\n",
    "\n",
    "\n",
    "print (\"Spring16: \")\n",
    "print s16Results\n",
    "print(\"\\n Spring17:\")\n",
    "print s17Results\n",
    "print(\"\\nFall16: \")\n",
    "print f16Results\n",
    "print(\"\\nFall17: \")\n",
    "print f17Results\n"
   ]
  },
  {
   "cell_type": "markdown",
   "metadata": {},
   "source": [
    "# We can reject the null hypothesis for all semesters! Each of these p-values are less than 0.05. Thus we know that the computers with dual monitors are NOT used the same way. In fact, they are used more."
   ]
  },
  {
   "cell_type": "markdown",
   "metadata": {
    "collapsed": true
   },
   "source": [
    "# Now let's run the same test for the attribute 'adjacentWindow'. That is, we assume as our null hypothesis that windows have no affect on the percentage of computer use. If we get p-values lower than 0.05, we can reject the null hypothesis."
   ]
  },
  {
   "cell_type": "code",
   "execution_count": 14,
   "metadata": {
    "collapsed": true
   },
   "outputs": [],
   "source": [
    "# Split into window/no window\n",
    "s16Window = s16Util[[x for x in machinesOfInterest\n",
    "                         if attributes.loc[x]['adjacentWindow']== True]]\n",
    "\n",
    "s16NoWindow = s16Util[[x for x in machinesOfInterest\n",
    "                         if attributes.loc[x]['adjacentWindow']==False]]\n",
    "\n",
    "\n",
    "s17Window = s17Util[[x for x in machinesOfInterest\n",
    "                         if attributes.loc[x]['adjacentWindow']== True]]\n",
    "\n",
    "s17NoWindow = s17Util[[x for x in machinesOfInterest\n",
    "                         if attributes.loc[x]['adjacentWindow']==False]]\n",
    "                        \n",
    "f16Window = f16Util[[x for x in machinesOfInterest\n",
    "                         if attributes.loc[x]['adjacentWindow']== True]]\n",
    "\n",
    "f16NoWindow = f16Util[[x for x in machinesOfInterest\n",
    "                         if attributes.loc[x]['adjacentWindow']==False]]\n",
    "\n",
    "f17Window = f17Util[[x for x in machinesOfInterest\n",
    "                         if attributes.loc[x]['adjacentWindow']== True]]\n",
    "\n",
    "f17NoWindow = f17Util[[x for x in machinesOfInterest\n",
    "                         if attributes.loc[x]['adjacentWindow']==False]]"
   ]
  },
  {
   "cell_type": "code",
   "execution_count": 15,
   "metadata": {},
   "outputs": [
    {
     "name": "stdout",
     "output_type": "stream",
     "text": [
      "Spring16: \n",
      "Ttest_indResult(statistic=-2.643069825031886, pvalue=0.0086752333508418444)\n",
      "\n",
      " Spring17:\n",
      "Ttest_indResult(statistic=-1.8609377355596997, pvalue=0.063793571814633673)\n",
      "\n",
      "Fall16: \n",
      "Ttest_indResult(statistic=-1.7815654216925538, pvalue=0.075896242969613795)\n",
      "\n",
      "Fall17: \n",
      "Ttest_indResult(statistic=-1.8238717642417666, pvalue=0.069229772721319402)\n"
     ]
    }
   ],
   "source": [
    "s16Results = stats.ttest_ind(s16Window, s16NoWindow)\n",
    "s17Results = stats.ttest_ind(s17Window, s17NoWindow)\n",
    "f16Results = stats.ttest_ind(f16Window, f16NoWindow)\n",
    "f17Results = stats.ttest_ind(f17Window, f17NoWindow)\n",
    "\n",
    "\n",
    "print (\"Spring16: \")\n",
    "print s16Results\n",
    "print(\"\\n Spring17:\")\n",
    "print s17Results\n",
    "print(\"\\nFall16: \")\n",
    "print f16Results\n",
    "print(\"\\nFall17: \")\n",
    "print f17Results\n"
   ]
  },
  {
   "cell_type": "markdown",
   "metadata": {},
   "source": [
    "# The p-values for all but spring2016 from these four semesters indicate that the window has no effect on overall use of a computer, so we fail to reject the null hypotheis. Window proximity appears to have no significant affect on computer use."
   ]
  }
 ],
 "metadata": {
  "kernelspec": {
   "display_name": "Python 2",
   "language": "python",
   "name": "python2"
  },
  "language_info": {
   "codemirror_mode": {
    "name": "ipython",
    "version": 2
   },
   "file_extension": ".py",
   "mimetype": "text/x-python",
   "name": "python",
   "nbconvert_exporter": "python",
   "pygments_lexer": "ipython2",
   "version": "2.7.13"
  }
 },
 "nbformat": 4,
 "nbformat_minor": 2
}
