{
 "cells": [
  {
   "cell_type": "markdown",
   "metadata": {},
   "source": [
    "# Library Gate Counts\n",
    "#### This working with visualization and processing with the library gate counts."
   ]
  },
  {
   "cell_type": "code",
   "execution_count": 41,
   "metadata": {
    "collapsed": true
   },
   "outputs": [],
   "source": [
    "import pandas as pd\n",
    "import numpy as np"
   ]
  },
  {
   "cell_type": "code",
   "execution_count": 42,
   "metadata": {},
   "outputs": [],
   "source": [
    "gateCounts = pd.read_csv(r'../data/LibraryGateCounts.csv')\n",
    "gateCounts['Date'] = gateCounts['Date'].apply(pd.to_datetime)"
   ]
  },
  {
   "cell_type": "code",
   "execution_count": 43,
   "metadata": {},
   "outputs": [
    {
     "data": {
      "text/html": [
       "<div>\n",
       "<style>\n",
       "    .dataframe thead tr:only-child th {\n",
       "        text-align: right;\n",
       "    }\n",
       "\n",
       "    .dataframe thead th {\n",
       "        text-align: left;\n",
       "    }\n",
       "\n",
       "    .dataframe tbody tr th {\n",
       "        vertical-align: top;\n",
       "    }\n",
       "</style>\n",
       "<table border=\"1\" class=\"dataframe\">\n",
       "  <thead>\n",
       "    <tr style=\"text-align: right;\">\n",
       "      <th></th>\n",
       "      <th>Date</th>\n",
       "      <th>CLG-OPEN</th>\n",
       "      <th>CLG-CLOSE</th>\n",
       "      <th>CON-OPEN</th>\n",
       "      <th>CON-CLOSE</th>\n",
       "      <th>Patrons</th>\n",
       "    </tr>\n",
       "  </thead>\n",
       "  <tbody>\n",
       "    <tr>\n",
       "      <th>0</th>\n",
       "      <td>2017-01-01</td>\n",
       "      <td>NaN</td>\n",
       "      <td>NaN</td>\n",
       "      <td>NaN</td>\n",
       "      <td>NaN</td>\n",
       "      <td>NaN</td>\n",
       "    </tr>\n",
       "    <tr>\n",
       "      <th>1</th>\n",
       "      <td>2017-01-02</td>\n",
       "      <td>NaN</td>\n",
       "      <td>NaN</td>\n",
       "      <td>NaN</td>\n",
       "      <td>NaN</td>\n",
       "      <td>NaN</td>\n",
       "    </tr>\n",
       "    <tr>\n",
       "      <th>2</th>\n",
       "      <td>2017-01-03</td>\n",
       "      <td>1710647.0</td>\n",
       "      <td>1710872.0</td>\n",
       "      <td>3337038.0</td>\n",
       "      <td>3337880.0</td>\n",
       "      <td>533.5</td>\n",
       "    </tr>\n",
       "    <tr>\n",
       "      <th>3</th>\n",
       "      <td>2017-01-04</td>\n",
       "      <td>1710872.0</td>\n",
       "      <td>1711067.0</td>\n",
       "      <td>3337880.0</td>\n",
       "      <td>3338632.0</td>\n",
       "      <td>473.5</td>\n",
       "    </tr>\n",
       "    <tr>\n",
       "      <th>4</th>\n",
       "      <td>2017-01-05</td>\n",
       "      <td>1711067.0</td>\n",
       "      <td>1711258.0</td>\n",
       "      <td>3338632.0</td>\n",
       "      <td>3339526.0</td>\n",
       "      <td>542.5</td>\n",
       "    </tr>\n",
       "  </tbody>\n",
       "</table>\n",
       "</div>"
      ],
      "text/plain": [
       "        Date   CLG-OPEN  CLG-CLOSE   CON-OPEN  CON-CLOSE  Patrons\n",
       "0 2017-01-01        NaN        NaN        NaN        NaN      NaN\n",
       "1 2017-01-02        NaN        NaN        NaN        NaN      NaN\n",
       "2 2017-01-03  1710647.0  1710872.0  3337038.0  3337880.0    533.5\n",
       "3 2017-01-04  1710872.0  1711067.0  3337880.0  3338632.0    473.5\n",
       "4 2017-01-05  1711067.0  1711258.0  3338632.0  3339526.0    542.5"
      ]
     },
     "execution_count": 43,
     "metadata": {},
     "output_type": "execute_result"
    }
   ],
   "source": [
    "gateCounts['Patrons'] =\\\n",
    "((gateCounts['CLG-CLOSE'] - gateCounts['CLG-OPEN']) + (gateCounts['CON-CLOSE'] - gateCounts['CON-OPEN']))/2\n",
    "gateCounts.head()"
   ]
  },
  {
   "cell_type": "code",
   "execution_count": 70,
   "metadata": {},
   "outputs": [
    {
     "ename": "AttributeError",
     "evalue": "'Timestamp' object has no attribute 'info'",
     "output_type": "error",
     "traceback": [
      "\u001b[1;31m---------------------------------------------------------------------------\u001b[0m",
      "\u001b[1;31mAttributeError\u001b[0m                            Traceback (most recent call last)",
      "\u001b[1;32m<ipython-input-70-e83acf5d3695>\u001b[0m in \u001b[0;36m<module>\u001b[1;34m()\u001b[0m\n\u001b[1;32m----> 1\u001b[1;33m \u001b[0mgateCounts\u001b[0m\u001b[1;33m.\u001b[0m\u001b[0miloc\u001b[0m\u001b[1;33m[\u001b[0m\u001b[1;36m1\u001b[0m\u001b[1;33m,\u001b[0m\u001b[1;36m0\u001b[0m\u001b[1;33m]\u001b[0m\u001b[1;33m.\u001b[0m\u001b[0minfo\u001b[0m\u001b[1;33m(\u001b[0m\u001b[1;33m)\u001b[0m\u001b[1;33m\u001b[0m\u001b[0m\n\u001b[0m",
      "\u001b[1;31mAttributeError\u001b[0m: 'Timestamp' object has no attribute 'info'"
     ]
    }
   ],
   "source": [
    "gateCounts.iloc[1,0]"
   ]
  },
  {
   "cell_type": "code",
   "execution_count": 44,
   "metadata": {
    "collapsed": true
   },
   "outputs": [],
   "source": [
    "import matplotlib.pyplot as plt\n",
    "%matplotlib inline"
   ]
  },
  {
   "cell_type": "markdown",
   "metadata": {},
   "source": [
    "manually mapping colors to days"
   ]
  },
  {
   "cell_type": "code",
   "execution_count": 46,
   "metadata": {},
   "outputs": [],
   "source": [
    "dayColors = [\n",
    "    'red',\n",
    "    'orange',\n",
    "    'yellow',\n",
    "    'green',\n",
    "    'blue',\n",
    "    'indigo',\n",
    "    'violet'\n",
    "    ]\n",
    "#Rotating the colors to get the rainbow to appear correctly.\n",
    "dayColors = dayColors[5:]+ dayColors[:5]"
   ]
  },
  {
   "cell_type": "code",
   "execution_count": 67,
   "metadata": {},
   "outputs": [
    {
     "data": {
      "text/plain": [
       "<matplotlib.legend.Legend at 0xa363a20>"
      ]
     },
     "execution_count": 67,
     "metadata": {},
     "output_type": "execute_result"
    },
    {
     "data": {
      "image/png": "[encoded data removed]",
      "text/plain": [
       "<matplotlib.figure.Figure at 0xb5a9198>"
      ]
     },
     "metadata": {},
     "output_type": "display_data"
    }
   ],
   "source": [
    "plt.figure(figsize=(16,8))\n",
    "plt.grid(b=True)\n",
    "plt.xticks(gateCounts.index.values[::7], gateCounts.Date.dt.strftime(\"%Y-%m-%d\")[::7], rotation=90)\n",
    "plt.scatter(gateCounts.index.values[::7],gateCounts['Patrons'][::7].values)\n",
    "for i in range(7):\n",
    "    plt.scatter(gateCounts.index.values[i::7],gateCounts['Patrons'][i::7].values,c=dayColors[i],label=gateCounts.iloc[i,0].weekday());\n",
    "plt.legend()"
   ]
  }
 ],
 "metadata": {
  "kernelspec": {
   "display_name": "Python 2",
   "language": "python",
   "name": "python2"
  },
  "language_info": {
   "codemirror_mode": {
    "name": "ipython",
    "version": 2
   },
   "file_extension": ".py",
   "mimetype": "text/x-python",
   "name": "python",
   "nbconvert_exporter": "python",
   "pygments_lexer": "ipython2",
   "version": "2.7.13"
  }
 },
 "nbformat": 4,
 "nbformat_minor": 2
}
