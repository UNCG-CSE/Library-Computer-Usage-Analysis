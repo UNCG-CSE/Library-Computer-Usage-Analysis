{
 "cells": [
  {
   "cell_type": "markdown",
   "metadata": {},
   "source": [
    "# LibraryData\n",
    "\n",
    "## Objectives:\n",
    "### Convert timestamps to minutes per hour\n",
    "### Display computer id with total minutes used per hour, total log-ons in same hour"
   ]
  },
  {
   "cell_type": "markdown",
   "metadata": {},
   "source": [
    "The following attempts to take non-uniform timestamps and do the following:\n",
    "* resample those timestamps into minutes\n",
    "* forward-fill the states\n",
    "* resample the minutes into hours, summing the minutes\n",
    "\n",
    "The function `.resample()` changed in pandas 0.18.1, so this was a learning process."
   ]
  },
  {
   "cell_type": "code",
   "execution_count": null,
   "metadata": {
    "collapsed": false
   },
   "outputs": [],
   "source": [
    "import numpy as np\n",
    "import pandas as pd\n",
    "import library_data\n",
    "print \"This should be '0.20.1':\"\n",
    "print \"pandas:         \" + str(pd.__version__)\n",
    "print \"This should be '1.12.1':\"\n",
    "print \"numpy:          \" + str(np.__version__)"
   ]
  },
  {
   "cell_type": "markdown",
   "metadata": {},
   "source": [
    "importing the data from the Library data sample."
   ]
  },
  {
   "cell_type": "code",
   "execution_count": null,
   "metadata": {
    "collapsed": true
   },
   "outputs": [],
   "source": [
    "useData = library_data.parseLibraryData(r'../data/170830_StateData.csv')"
   ]
  },
  {
   "cell_type": "code",
   "execution_count": null,
   "metadata": {
    "collapsed": false
   },
   "outputs": [],
   "source": [
    "useData.head()"
   ]
  },
  {
   "cell_type": "markdown",
   "metadata": {},
   "source": [
    "This is an interesting exercise demonstrating that there are occurrences that evaluated to having occurred at the exact same millisecond."
   ]
  },
  {
   "cell_type": "code",
   "execution_count": null,
   "metadata": {
    "collapsed": false
   },
   "outputs": [],
   "source": [
    "useData[pd.to_datetime(useData.dateStamp).duplicated(keep=False)]"
   ]
  },
  {
   "cell_type": "markdown",
   "metadata": {},
   "source": [
    "Verifying the status of the columns. 'dataStamp' should be a datetime64 field."
   ]
  },
  {
   "cell_type": "code",
   "execution_count": null,
   "metadata": {
    "collapsed": false
   },
   "outputs": [],
   "source": [
    "useData.info()"
   ]
  },
  {
   "cell_type": "markdown",
   "metadata": {},
   "source": [
    "Testing functionality with a single computer. Working with iterating across the DataFrame later."
   ]
  },
  {
   "cell_type": "code",
   "execution_count": null,
   "metadata": {
    "collapsed": true
   },
   "outputs": [],
   "source": [
    "fullMatrix = library_data.toHourlyUsage(useData)"
   ]
  },
  {
   "cell_type": "code",
   "execution_count": null,
   "metadata": {
    "collapsed": false
   },
   "outputs": [],
   "source": [
    "fullMatrix"
   ]
  },
  {
   "cell_type": "markdown",
   "metadata": {},
   "source": [
    "By changing the value in the variable testComputer, the information in the raw imported data can be compared to its column in the matrix as a whole."
   ]
  },
  {
   "cell_type": "code",
   "execution_count": null,
   "metadata": {
    "collapsed": false
   },
   "outputs": [],
   "source": [
    "testComputer = 'INC004' ## INC004 is the most dramatic thus far.\n",
    "print \"---------- Raw imported data ----------\"\n",
    "print useData[useData['computerName']==testComputer]\n",
    "print \"\\n------- Formatted Data min/hour -------\"\n",
    "print fullMatrix.loc[:,testComputer]"
   ]
  }
 ],
 "metadata": {
  "kernelspec": {
   "display_name": "Python 2",
   "language": "python",
   "name": "python2"
  },
  "language_info": {
   "codemirror_mode": {
    "name": "ipython",
    "version": 2
   },
   "file_extension": ".py",
   "mimetype": "text/x-python",
   "name": "python",
   "nbconvert_exporter": "python",
   "pygments_lexer": "ipython2",
   "version": "2.7.13"
  }
 },
 "nbformat": 4,
 "nbformat_minor": 2
}
