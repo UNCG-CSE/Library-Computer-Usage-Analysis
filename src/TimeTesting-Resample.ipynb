{
 "cells": [
  {
   "cell_type": "markdown",
   "metadata": {},
   "source": [
    "# Time Testing using Resample\n",
    "#### This is a test of a semester's worth of data via resample."
   ]
  },
  {
   "cell_type": "code",
   "execution_count": 1,
   "metadata": {},
   "outputs": [],
   "source": [
    "import pandas as pd\n",
    "import numpy as np"
   ]
  },
  {
   "cell_type": "code",
   "execution_count": 2,
   "metadata": {},
   "outputs": [],
   "source": [
    "semesterData = pd.read_csv(r'../data/SPR2017.csv')"
   ]
  },
  {
   "cell_type": "code",
   "execution_count": 4,
   "metadata": {
    "collapsed": true
   },
   "outputs": [],
   "source": [
    "semesterData.datestamp = semesterData.datestamp.apply(pd.to_datetime)"
   ]
  },
  {
   "cell_type": "code",
   "execution_count": 6,
   "metadata": {
    "collapsed": true
   },
   "outputs": [],
   "source": [
    "fullMatrix = semesterData.pivot(index='datestamp',columns='machineName',values='state').sort_index()"
   ]
  },
  {
   "cell_type": "code",
   "execution_count": 7,
   "metadata": {},
   "outputs": [],
   "source": [
    "def inUseConvert(state):\n",
    "    offStates = ['available','restarted','offline']\n",
    "    if state == 'in-use':\n",
    "        return 1\n",
    "    elif state in offStates:\n",
    "        return 0\n",
    "    else:\n",
    "        return np.nan"
   ]
  },
  {
   "cell_type": "code",
   "execution_count": 8,
   "metadata": {},
   "outputs": [],
   "source": [
    "fullMatrixInts = fullMatrix.applymap(inUseConvert)"
   ]
  },
  {
   "cell_type": "code",
   "execution_count": 9,
   "metadata": {},
   "outputs": [],
   "source": [
    "fullMatrixHours = fullMatrixInts.ffill().resample('min').ffill().resample('H').sum()"
   ]
  },
  {
   "cell_type": "code",
   "execution_count": 12,
   "metadata": {},
   "outputs": [
    {
     "name": "stdout",
     "output_type": "stream",
     "text": [
      "<class 'pandas.core.frame.DataFrame'>\n",
      "DatetimeIndex: 3618 entries, 2017-01-01 06:00:00 to 2017-05-31 23:00:00\n",
      "Freq: H\n",
      "Columns: 275 entries, BL001 to TL902\n",
      "dtypes: float64(275)\n",
      "memory usage: 7.6 MB\n"
     ]
    }
   ],
   "source": [
    "fullMatrixHours.info()"
   ]
  }
 ],
 "metadata": {
  "kernelspec": {
   "display_name": "Python 2",
   "language": "python",
   "name": "python2"
  },
  "language_info": {
   "codemirror_mode": {
    "name": "ipython",
    "version": 2
   },
   "file_extension": ".py",
   "mimetype": "text/x-python",
   "name": "python",
   "nbconvert_exporter": "python",
   "pygments_lexer": "ipython2",
   "version": "2.7.13"
  }
 },
 "nbformat": 4,
 "nbformat_minor": 2
}
