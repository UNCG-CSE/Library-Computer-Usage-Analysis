{
 "cells": [
  {
   "cell_type": "markdown",
   "metadata": {},
   "source": [
    "# Time Testing using Resample\n",
    "#### This is a test of a semester's worth of data via resample."
   ]
  },
  {
   "cell_type": "code",
   "execution_count": null,
   "metadata": {
    "collapsed": true
   },
   "outputs": [],
   "source": [
    "import pandas as pd\n",
    "import numpy as np"
   ]
  },
  {
   "cell_type": "code",
   "execution_count": null,
   "metadata": {
    "collapsed": true
   },
   "outputs": [],
   "source": [
    "semesterData = pd.read_csv(r'../data/SPR2017.csv')"
   ]
  },
  {
   "cell_type": "code",
   "execution_count": null,
   "metadata": {
    "collapsed": false
   },
   "outputs": [],
   "source": [
    "semesterData.datestamp = semesterData.datestamp.apply(pd.to_datetime)\n",
    "semesterData.info()"
   ]
  },
  {
   "cell_type": "code",
   "execution_count": null,
   "metadata": {
    "collapsed": true
   },
   "outputs": [],
   "source": [
    "from timeit import default_timer as timer\n",
    "\n",
    "start = timer()\n",
    "fullMatrix = semesterData.pivot(index='datestamp',columns='machineName',values='state').sort_index()"
   ]
  },
  {
   "cell_type": "code",
   "execution_count": null,
   "metadata": {
    "collapsed": true
   },
   "outputs": [],
   "source": [
    "def inUseConvert(state):\n",
    "    offStates = ['available','restarted','offline']\n",
    "    if state == 'in-use':\n",
    "        return 1\n",
    "    elif state in offStates:\n",
    "        return 0\n",
    "    else:\n",
    "        return np.nan"
   ]
  },
  {
   "cell_type": "code",
   "execution_count": null,
   "metadata": {
    "collapsed": true
   },
   "outputs": [],
   "source": [
    "fullMatrixInts = fullMatrix.applymap(inUseConvert)"
   ]
  },
  {
   "cell_type": "code",
   "execution_count": null,
   "metadata": {
    "collapsed": false
   },
   "outputs": [],
   "source": [
    "fullMatrixHours = fullMatrixInts.ffill().resample('min').ffill().resample('H').sum()\n",
    "end = timer()\n",
    "print(end - start) "
   ]
  },
  {
   "cell_type": "code",
   "execution_count": null,
   "metadata": {
    "collapsed": false
   },
   "outputs": [],
   "source": [
    "fullMatrixHours.info()"
   ]
  },
  {
   "cell_type": "code",
   "execution_count": null,
   "metadata": {
    "collapsed": false
   },
   "outputs": [],
   "source": [
    "semesterData.head()"
   ]
  },
  {
   "cell_type": "code",
   "execution_count": null,
   "metadata": {
    "collapsed": false
   },
   "outputs": [],
   "source": [
    "fullMatrixHours"
   ]
  },
  {
   "cell_type": "code",
   "execution_count": null,
   "metadata": {
    "collapsed": false
   },
   "outputs": [],
   "source": [
    "import LibDataImport\n",
    "\n",
    "start = timer()\n",
    "# assume that @semesterData is sorted by datestamp.\n",
    "utilization = LibDataImport.machineStatesToPercentUtilization(semesterData)\n",
    "end = timer()\n",
    "print(end - start)"
   ]
  },
  {
   "cell_type": "code",
   "execution_count": null,
   "metadata": {
    "collapsed": false
   },
   "outputs": [],
   "source": [
    "utilization"
   ]
  },
  {
   "cell_type": "markdown",
   "metadata": {},
   "source": [
    "`fullMatrixHours` has more rows than `utilization`.  This is due to the fact that\n",
    "the earliest timestamp in `semesterData` is at `2017-01-01 06:30:28.323`.  However, no\n",
    "logon events appear in `semesterData` before `2017-01-01 20:18:20.860`."
   ]
  },
  {
   "cell_type": "code",
   "execution_count": null,
   "metadata": {
    "collapsed": false
   },
   "outputs": [],
   "source": [
    "print(fullMatrixHours.shape)\n",
    "print(utilization.shape)"
   ]
  },
  {
   "cell_type": "code",
   "execution_count": null,
   "metadata": {
    "collapsed": false
   },
   "outputs": [],
   "source": [
    "sortedData = semesterData.sort_values(by='datestamp')\n",
    "print(\"First event:\")\n",
    "print(sortedData.iloc[0])\n",
    "print(\"\\n\")\n",
    "print(\"First in-use event:\")\n",
    "print(sortedData[sortedData['state']=='in-use'].iloc[0])"
   ]
  },
  {
   "cell_type": "markdown",
   "metadata": {},
   "source": [
    "Since these first few rows aren't useful to us, we'll just discard them to make direct\n",
    "comparisons easier.  We also replace `NaN`s with zeros, since the lack of usage data\n",
    "in this context can be effectively interpreted as no usage."
   ]
  },
  {
   "cell_type": "code",
   "execution_count": null,
   "metadata": {
    "collapsed": false
   },
   "outputs": [],
   "source": [
    "fullMatrixHoursZeroed = fullMatrixHours.fillna(0).iloc[14:]"
   ]
  },
  {
   "cell_type": "markdown",
   "metadata": {},
   "source": [
    "Compute the difference between the two matrices.  Drop all columns and rows where the difference\n",
    "between all values is less than two minutes."
   ]
  },
  {
   "cell_type": "code",
   "execution_count": null,
   "metadata": {
    "collapsed": false
   },
   "outputs": [],
   "source": [
    "diff = fullMatrixHoursZeroed - (utilization * 60)\n",
    "diff[diff.abs() > 2].dropna(how='all').dropna(axis=1, how='all')"
   ]
  },
  {
   "cell_type": "markdown",
   "metadata": {},
   "source": [
    "## A few highlighted discrepancies"
   ]
  },
  {
   "cell_type": "markdown",
   "metadata": {},
   "source": [
    "### Example 1: last machine event is a login event"
   ]
  },
  {
   "cell_type": "code",
   "execution_count": null,
   "metadata": {
    "collapsed": false
   },
   "outputs": [],
   "source": [
    "fullMatrixHoursZeroed['DDL002'].tail(20)"
   ]
  },
  {
   "cell_type": "code",
   "execution_count": null,
   "metadata": {
    "collapsed": false
   },
   "outputs": [],
   "source": [
    "utilization['DDL002'].tail(20)"
   ]
  },
  {
   "cell_type": "markdown",
   "metadata": {},
   "source": [
    "There are only 83 records for this machine, and the last one is 'in-use'.\n",
    "This results in `fullMatrixHours` showing `DDL002` as continuously in-use after\n",
    "`2017-02-22 09:36:13.040`."
   ]
  },
  {
   "cell_type": "code",
   "execution_count": null,
   "metadata": {
    "collapsed": false
   },
   "outputs": [],
   "source": [
    "temp = sortedData[sortedData['machineName']=='DDL002']\n",
    "print(temp.shape)\n",
    "print(temp.tail())"
   ]
  },
  {
   "cell_type": "markdown",
   "metadata": {},
   "source": [
    "### Example 2: incorrect usage calculation"
   ]
  },
  {
   "cell_type": "code",
   "execution_count": null,
   "metadata": {
    "collapsed": false
   },
   "outputs": [],
   "source": [
    "fullMatrixHoursZeroed['DDL0001'].loc['2017-02-22 12:00:00']"
   ]
  },
  {
   "cell_type": "code",
   "execution_count": null,
   "metadata": {
    "collapsed": false
   },
   "outputs": [],
   "source": [
    "utilization['DDL0001'].loc['2017-02-22 12:00:00'] * 60"
   ]
  },
  {
   "cell_type": "markdown",
   "metadata": {},
   "source": [
    "Looking specifically at events between `12:00:00` and `13:00:00` on `2017-02-22`:"
   ]
  },
  {
   "cell_type": "code",
   "execution_count": null,
   "metadata": {
    "collapsed": false
   },
   "outputs": [],
   "source": [
    "temp = sortedData[(sortedData['machineName']=='DDL0001') & (sortedData['datestamp']>='2017-02-22 12:00:00') & (sortedData['datestamp']<'2017-02-22 13:00:00')]\n",
    "print(temp)"
   ]
  },
  {
   "cell_type": "markdown",
   "metadata": {},
   "source": [
    "Manually summing the intervals between `in-use` and other states:"
   ]
  },
  {
   "cell_type": "code",
   "execution_count": null,
   "metadata": {
    "collapsed": false
   },
   "outputs": [],
   "source": [
    "temp2 = temp['datestamp']\n",
    "temp3 = [ (268809, 268810)\n",
    "        , (268813, 268814)\n",
    "        , (268815, 268816)\n",
    "        , (268819, 268820)\n",
    "        , (268823, 268824) ]\n",
    "\n",
    "import functools\n",
    "total = functools.reduce(lambda x, y: x+y, [temp2.loc[end]-temp2.loc[start] for (start,end) in temp3])\n",
    "print(total)\n",
    "\n",
    "# Now as decimal number of minutes:\n",
    "print((total / pd.Timedelta(1, unit='h')) * 60)"
   ]
  }
 ],
 "metadata": {
  "kernelspec": {
   "display_name": "Python 2",
   "language": "python",
   "name": "python2"
  },
  "language_info": {
   "codemirror_mode": {
    "name": "ipython",
    "version": 2
   },
   "file_extension": ".py",
   "mimetype": "text/x-python",
   "name": "python",
   "nbconvert_exporter": "python",
   "pygments_lexer": "ipython2",
   "version": "2.7.13"
  }
 },
 "nbformat": 4,
 "nbformat_minor": 2
}
